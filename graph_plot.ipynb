{
 "cells": [
  {
   "cell_type": "code",
   "execution_count": 1,
   "metadata": {
    "collapsed": true
   },
   "outputs": [],
   "source": [
    "%matplotlib inline"
   ]
  },
  {
   "cell_type": "code",
   "execution_count": 2,
   "metadata": {
    "collapsed": false
   },
   "outputs": [],
   "source": [
    "import matplotlib\n",
    "from matplotlib import pyplot as plt"
   ]
  },
  {
   "cell_type": "code",
   "execution_count": 3,
   "metadata": {
    "collapsed": true
   },
   "outputs": [],
   "source": [
    "graph = {\n",
    "    0: [1, 8, 4], \n",
    "    1: [0, 2, 5], \n",
    "    2: [1, 3, 47], \n",
    "    3: [2, 4, 20], \n",
    "    4: [0, 37, 3], \n",
    "    5: [15, 6, 1], \n",
    "    6: [5, 13, 7], \n",
    "    7: [8, 6, 12], \n",
    "    8: [0, 7, 23], \n",
    "    9: [29, 10, 53], \n",
    "    10: [9, 56, 11], \n",
    "    11: [10, 43, 36], \n",
    "    12: [46, 7, 40], \n",
    "    13: [19, 45, 6], \n",
    "    14: [15, 47, 49], \n",
    "    15: [19, 5, 14], \n",
    "    16: [57, 51, 17], \n",
    "    17: [16, 48, 18], \n",
    "    18: [58, 50, 17], \n",
    "    19: [15, 32, 13], \n",
    "    20: [21, 3, 39], \n",
    "    21: [22, 20, 31], \n",
    "    22: [21, 57, 47], \n",
    "    23: [8, 46, 27], \n",
    "    24: [52, 25, 46], \n",
    "    25: [35, 26, 24], \n",
    "    26: [25, 54, 27], \n",
    "    27: [37, 23, 26], \n",
    "    28: [34, 29, 41], \n",
    "    29: [28, 59, 9], \n",
    "    30: [39, 42, 31], \n",
    "    31: [21, 30, 51], \n",
    "    32: [50, 33, 19], \n",
    "    33: [32, 58, 34], \n",
    "    34: [33, 28, 45], \n",
    "    35: [25, 53, 36], \n",
    "    36: [11, 55, 35], \n",
    "    37: [38, 4, 27], \n",
    "    38: [37, 54, 39], \n",
    "    39: [38, 30, 20], \n",
    "    40: [41, 12, 45], \n",
    "    41: [40, 28, 52], \n",
    "    42: [30, 55, 43], \n",
    "    43: [11, 44, 42], \n",
    "    44: [43, 48, 51], \n",
    "    45: [34, 40, 13], \n",
    "    46: [23, 12, 24], \n",
    "    47: [22, 14, 2], \n",
    "    48: [17, 44, 56], \n",
    "    49: [14, 57, 50], \n",
    "    50: [49, 18, 32], \n",
    "    51: [16, 31, 44], \n",
    "    52: [41, 53, 24], \n",
    "    53: [9, 35, 52], \n",
    "    54: [26, 55, 38], \n",
    "    55: [42, 54, 36], \n",
    "    56: [10, 59, 48], \n",
    "    57: [22, 16, 49], \n",
    "    58: [33, 18, 59], \n",
    "    59: [58, 56, 29]\n",
    "}"
   ]
  },
  {
   "cell_type": "code",
   "execution_count": 4,
   "metadata": {
    "collapsed": false
   },
   "outputs": [],
   "source": [
    "from itertools import chain\n",
    "edges = list(chain(*[[(a, b) for b in mems] for a, mems in graph.iteritems()]))"
   ]
  },
  {
   "cell_type": "code",
   "execution_count": 5,
   "metadata": {
    "collapsed": true
   },
   "outputs": [],
   "source": [
    "import numpy as np"
   ]
  },
  {
   "cell_type": "code",
   "execution_count": 35,
   "metadata": {
    "collapsed": true
   },
   "outputs": [],
   "source": [
    "def normalize(V):\n",
    "    norm = np.linalg.norm(V)\n",
    "    return V / norm if norm > 0 else V"
   ]
  },
  {
   "cell_type": "code",
   "execution_count": 61,
   "metadata": {
    "collapsed": true
   },
   "outputs": [],
   "source": [
    "def normalize_all(V):\n",
    "    normalizer = np.linalg.norm(V, axis=1)\n",
    "    normalizer[normalizer == 0] = 1\n",
    "    return V / np.expand_dims(normalizer, 1)"
   ]
  },
  {
   "cell_type": "code",
   "execution_count": 62,
   "metadata": {
    "collapsed": false
   },
   "outputs": [],
   "source": [
    "def generation(graph, vectors):\n",
    "    next_gen = {}\n",
    "    l = len(vectors)\n",
    "    for i in range(l):\n",
    "        neigbors = graph.get(i)\n",
    "        v = vectors[i, :]\n",
    "        n1 = vectors[neigbors[0], :]-v\n",
    "        n2 = vectors[neigbors[1], :]-v\n",
    "        n3 = vectors[neigbors[2], :]-v\n",
    "        #n1 = m2 - m1\n",
    "        #n2 = m3 - m3\n",
    "        #n3 = m1 - m3\n",
    "        next_vec = v# + normalize((np.cross(n1, n2) + np.cross(n2, n3) + np.cross(n3, n1)))/30\n",
    "        for j in range(l):\n",
    "            next_vec = next_vec + (vectors[j, :] - v) / 3\n",
    "        for j in neigbors:\n",
    "            next_vec = next_vec - (vectors[j, :] - v) / 10\n",
    "        next_gen[i] = next_vec\n",
    "    next_gen_mat = np.array([next_gen[i] for i in range(l)]).reshape((l,3))\n",
    "    next_gen_mat = normalize_all(next_gen_mat)\n",
    "    return next_gen_mat"
   ]
  },
  {
   "cell_type": "code",
   "execution_count": 70,
   "metadata": {
    "collapsed": true
   },
   "outputs": [],
   "source": [
    "vectors = np.random.normal(size=(len(graph), 3))\n",
    "normals = normalize_all(np.random.normal(size=(len(graph), 3))) / 4"
   ]
  },
  {
   "cell_type": "code",
   "execution_count": 72,
   "metadata": {
    "collapsed": false
   },
   "outputs": [
    {
     "data": {
      "image/png": "[encoded data removed]",
      "text/plain": [
       "<matplotlib.figure.Figure at 0x10a052d50>"
      ]
     },
     "metadata": {},
     "output_type": "display_data"
    }
   ],
   "source": [
    "from mpl_toolkits.mplot3d import Axes3D\n",
    "fig = plt.figure()\n",
    "ax = fig.add_subplot(111, projection='3d')\n",
    "cursor = vectors\n",
    "for i in range(100):\n",
    "    cursor = generation(graph, cursor)\n",
    "for (a, b) in edges:\n",
    "    plt.plot(cursor[[a,b],0],cursor[[a,b],1],cursor[[a,b],2])\n",
    "for i in range(normals.shape[0]):\n",
    "    src = cursor[i, :]\n",
    "    dest = cursor[i, :] + normals[i, :]\n",
    "    plt.plot([src[0], dest[0]],\n",
    "             [src[1], dest[1]],\n",
    "             [src[2], dest[2]])    "
   ]
  },
  {
   "cell_type": "code",
   "execution_count": 77,
   "metadata": {
    "collapsed": false
   },
   "outputs": [],
   "source": [
    "(S,V,D) = np.linalg.svd(cursor)\n"
   ]
  },
  {
   "cell_type": "code",
   "execution_count": 78,
   "metadata": {
    "collapsed": false
   },
   "outputs": [
    {
     "data": {
      "text/plain": [
       "array([  2.93160397e-04,   1.57581384e-04,   1.85223647e-05])"
      ]
     },
     "execution_count": 78,
     "metadata": {},
     "output_type": "execute_result"
    }
   ],
   "source": [
    "V"
   ]
  },
  {
   "cell_type": "code",
   "execution_count": 70,
   "metadata": {
    "collapsed": false
   },
   "outputs": [
    {
     "data": {
      "text/plain": [
       "array([ 0.01722233,  0.00925745,  0.00108814])"
      ]
     },
     "execution_count": 70,
     "metadata": {},
     "output_type": "execute_result"
    }
   ],
   "source": [
    "V"
   ]
  },
  {
   "cell_type": "code",
   "execution_count": 71,
   "metadata": {
    "collapsed": false
   },
   "outputs": [
    {
     "data": {
      "text/plain": [
       "array([-0.00796488, -0.01613419])"
      ]
     },
     "execution_count": 71,
     "metadata": {},
     "output_type": "execute_result"
    }
   ],
   "source": [
    "V[1:] - V[0:1]"
   ]
  },
  {
   "cell_type": "code",
   "execution_count": 82,
   "metadata": {
    "collapsed": false
   },
   "outputs": [
    {
     "data": {
      "text/plain": [
       "(array([[ 0.00940548,  0.10948352, -0.19474316, ..., -0.1560855 ,\n",
       "          0.09660519,  0.13353669],\n",
       "        [ 0.0780199 ,  0.14176645, -0.15432166, ..., -0.10673879,\n",
       "         -0.11235229, -0.0242868 ],\n",
       "        [ 0.05012586,  0.1964904 , -0.09422815, ...,  0.11610626,\n",
       "          0.17246868,  0.18270649],\n",
       "        ..., \n",
       "        [ 0.09008384,  0.16193877,  0.12514278, ...,  0.94678015,\n",
       "         -0.01858621, -0.0046614 ],\n",
       "        [ 0.14153943, -0.09014227,  0.14778685, ..., -0.02216641,\n",
       "          0.95277265, -0.03931332],\n",
       "        [ 0.06089461, -0.14425553,  0.15963136, ..., -0.00862363,\n",
       "         -0.04159376,  0.95826245]]),\n",
       " array([  2.93160397e-04,   1.57581384e-04,   1.85223647e-05]),\n",
       " array([[ 0.03015159, -0.99901884, -0.03243831],\n",
       "        [-0.6035868 , -0.04406578,  0.79607863],\n",
       "        [-0.79672697, -0.0044237 , -0.60432323]]))"
      ]
     },
     "execution_count": 82,
     "metadata": {},
     "output_type": "execute_result"
    }
   ],
   "source": [
    "(S, V, D)"
   ]
  },
  {
   "cell_type": "code",
   "execution_count": 87,
   "metadata": {
    "collapsed": false
   },
   "outputs": [
    {
     "data": {
      "text/plain": [
       "array([  3.10578747e-22,   2.25875453e-21,   1.80700362e-21])"
      ]
     },
     "execution_count": 87,
     "metadata": {},
     "output_type": "execute_result"
    }
   ],
   "source": [
    "cursor.mean(axis=0)"
   ]
  },
  {
   "cell_type": "code",
   "execution_count": 93,
   "metadata": {
    "collapsed": false
   },
   "outputs": [
    {
     "data": {
      "text/plain": [
       "<matplotlib.collections.PathCollection at 0x10e873a50>"
      ]
     },
     "execution_count": 93,
     "metadata": {},
     "output_type": "execute_result"
    },
    {
     "data": {
      "image/png": "[encoded data removed]",
      "text/plain": [
       "<matplotlib.figure.Figure at 0x10d1c8f50>"
      ]
     },
     "metadata": {},
     "output_type": "display_data"
    }
   ],
   "source": [
    "plt.scatter([0, 1, 2], (V*1000).tolist())"
   ]
  },
  {
   "cell_type": "code",
   "execution_count": 95,
   "metadata": {
    "collapsed": false
   },
   "outputs": [
    {
     "data": {
      "text/plain": [
       "(60, 60)"
      ]
     },
     "execution_count": 95,
     "metadata": {},
     "output_type": "execute_result"
    }
   ],
   "source": [
    "S.shape"
   ]
  },
  {
   "cell_type": "code",
   "execution_count": 96,
   "metadata": {
    "collapsed": false
   },
   "outputs": [
    {
     "data": {
      "text/plain": [
       "1.8522364711182939e-05"
      ]
     },
     "execution_count": 96,
     "metadata": {},
     "output_type": "execute_result"
    }
   ],
   "source": [
    "V[-1]"
   ]
  },
  {
   "cell_type": "code",
   "execution_count": 97,
   "metadata": {
    "collapsed": false
   },
   "outputs": [
    {
     "data": {
      "text/plain": [
       "0.00029316039671689229"
      ]
     },
     "execution_count": 97,
     "metadata": {},
     "output_type": "execute_result"
    }
   ],
   "source": [
    "V[0]"
   ]
  },
  {
   "cell_type": "code",
   "execution_count": 170,
   "metadata": {
    "collapsed": false
   },
   "outputs": [
    {
     "data": {
      "text/plain": [
       "array([[ 0.5,  1. ],\n",
       "       [ 1. ,  1.5]])"
      ]
     },
     "execution_count": 170,
     "metadata": {},
     "output_type": "execute_result"
    }
   ],
   "source": [
    "np.array([[1, 2], [2, 3]]) / np.array([[2], [2]], dtype=\"float\")"
   ]
  },
  {
   "cell_type": "code",
   "execution_count": 179,
   "metadata": {
    "collapsed": true
   },
   "outputs": [],
   "source": [
    "np.expand_dims?"
   ]
  },
  {
   "cell_type": "code",
   "execution_count": null,
   "metadata": {
    "collapsed": true
   },
   "outputs": [],
   "source": []
  }
 ],
 "metadata": {
  "kernelspec": {
   "display_name": "Python 2",
   "language": "python",
   "name": "python2"
  },
  "language_info": {
   "codemirror_mode": {
    "name": "ipython",
    "version": 2
   },
   "file_extension": ".py",
   "mimetype": "text/x-python",
   "name": "python",
   "nbconvert_exporter": "python",
   "pygments_lexer": "ipython2",
   "version": "2.7.10"
  }
 },
 "nbformat": 4,
 "nbformat_minor": 0
}
