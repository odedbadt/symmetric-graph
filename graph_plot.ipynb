{
 "cells": [
  {
   "cell_type": "code",
   "execution_count": 1,
   "metadata": {
    "collapsed": true
   },
   "outputs": [],
   "source": [
    "%matplotlib notebook"
   ]
  },
  {
   "cell_type": "code",
   "execution_count": 2,
   "metadata": {
    "collapsed": true
   },
   "outputs": [],
   "source": [
    "def tutte_barycentric_layout(graph, h):\n",
    "    import numpy as np\n",
    "    l = len(graph)\n",
    "    W = np.zeros(shape=(l, l), dtype='float')\n",
    "    F = np.array([[np.cos(j*2*np.pi / h), -np.sin(j*2*np.pi / h)] for j in range(h)])\n",
    "    for i, neighbors in graph.iteritems():\n",
    "        for j in graph.keys():\n",
    "            if i == j:\n",
    "                W[i, j] = len(neighbors)   \n",
    "            else:\n",
    "                W[i, j] = -1.0 if j in neighbors else 0.0\n",
    "    B = np.matmul(W,np.pad(F, (0, l-h), 'constant'))\n",
    "    return np.concatenate((F, np.linalg.solve(W[h:,h:], -B[h:,0:2])))"
   ]
  },
  {
   "cell_type": "code",
   "execution_count": 3,
   "metadata": {
    "collapsed": false
   },
   "outputs": [],
   "source": [
    "import matplotlib\n",
    "from matplotlib import pyplot as plt"
   ]
  },
  {
   "cell_type": "code",
   "execution_count": 5,
   "metadata": {
    "collapsed": true
   },
   "outputs": [],
   "source": [
    "graph = {\n",
    "    0: [1, 8, 4], \n",
    "    1: [0, 2, 5], \n",
    "    2: [1, 3, 47], \n",
    "    3: [2, 4, 20], \n",
    "    4: [0, 37, 3], \n",
    "    5: [15, 6, 1], \n",
    "    6: [5, 13, 7], \n",
    "    7: [8, 6, 12], \n",
    "    8: [0, 7, 23], \n",
    "    9: [29, 10, 53], \n",
    "    10: [9, 56, 11], \n",
    "    11: [10, 43, 36], \n",
    "    12: [46, 7, 40], \n",
    "    13: [19, 45, 6], \n",
    "    14: [15, 47, 49], \n",
    "    15: [19, 5, 14], \n",
    "    16: [57, 51, 17], \n",
    "    17: [16, 48, 18], \n",
    "    18: [58, 50, 17], \n",
    "    19: [15, 32, 13], \n",
    "    20: [21, 3, 39], \n",
    "    21: [22, 20, 31], \n",
    "    22: [21, 57, 47], \n",
    "    23: [8, 46, 27], \n",
    "    24: [52, 25, 46], \n",
    "    25: [35, 26, 24], \n",
    "    26: [25, 54, 27], \n",
    "    27: [37, 23, 26], \n",
    "    28: [34, 29, 41], \n",
    "    29: [28, 59, 9], \n",
    "    30: [39, 42, 31], \n",
    "    31: [21, 30, 51], \n",
    "    32: [50, 33, 19], \n",
    "    33: [32, 58, 34], \n",
    "    34: [33, 28, 45], \n",
    "    35: [25, 53, 36], \n",
    "    36: [11, 55, 35], \n",
    "    37: [38, 4, 27], \n",
    "    38: [37, 54, 39], \n",
    "    39: [38, 30, 20], \n",
    "    40: [41, 12, 45], \n",
    "    41: [40, 28, 52], \n",
    "    42: [30, 55, 43], \n",
    "    43: [11, 44, 42], \n",
    "    44: [43, 48, 51], \n",
    "    45: [34, 40, 13], \n",
    "    46: [23, 12, 24], \n",
    "    47: [22, 14, 2], \n",
    "    48: [17, 44, 56], \n",
    "    49: [14, 57, 50], \n",
    "    50: [49, 18, 32], \n",
    "    51: [16, 31, 44], \n",
    "    52: [41, 53, 24], \n",
    "    53: [9, 35, 52], \n",
    "    54: [26, 55, 38], \n",
    "    55: [42, 54, 36], \n",
    "    56: [10, 59, 48], \n",
    "    57: [22, 16, 49], \n",
    "    58: [33, 18, 59], \n",
    "    59: [58, 56, 29]\n",
    "}"
   ]
  },
  {
   "cell_type": "code",
   "execution_count": 6,
   "metadata": {
    "collapsed": false
   },
   "outputs": [],
   "source": [
    "P = tutte_barycentric_layout(graph, 5)"
   ]
  },
  {
   "cell_type": "code",
   "execution_count": 7,
   "metadata": {
    "collapsed": false
   },
   "outputs": [
    {
     "data": {
      "text/plain": [
       "(60, 2)"
      ]
     },
     "execution_count": 7,
     "metadata": {},
     "output_type": "execute_result"
    }
   ],
   "source": [
    "P.shape"
   ]
  },
  {
   "cell_type": "code",
   "execution_count": 8,
   "metadata": {
    "collapsed": false
   },
   "outputs": [],
   "source": [
    "from itertools import chain\n",
    "edges = list(chain(*[[(a, b) for b in mems] for a, mems in graph.iteritems()]))"
   ]
  },
  {
   "cell_type": "code",
   "execution_count": 9,
   "metadata": {
    "collapsed": true
   },
   "outputs": [],
   "source": [
    "import numpy as np"
   ]
  },
  {
   "cell_type": "code",
   "execution_count": 10,
   "metadata": {
    "collapsed": true
   },
   "outputs": [],
   "source": [
    "def normalize(V):\n",
    "    norm = np.linalg.norm(V)\n",
    "    return V / norm if norm > 0 else V"
   ]
  },
  {
   "cell_type": "code",
   "execution_count": 11,
   "metadata": {
    "collapsed": true
   },
   "outputs": [],
   "source": [
    "def normalize_all(V):\n",
    "    normalizer = np.linalg.norm(V, axis=1)\n",
    "    normalizer[normalizer == 0] = 1\n",
    "    return V / np.expand_dims(normalizer, 1)"
   ]
  },
  {
   "cell_type": "code",
   "execution_count": 12,
   "metadata": {
    "collapsed": false
   },
   "outputs": [],
   "source": [
    "def generation(graph, vectors):\n",
    "    next_gen = {}\n",
    "    l = len(vectors)\n",
    "    for i in range(l):\n",
    "        neigbors = graph.get(i)\n",
    "        v = vectors[i, :]\n",
    "        n1 = vectors[neigbors[0], :]-v\n",
    "        n2 = vectors[neigbors[1], :]-v\n",
    "        n3 = vectors[neigbors[2], :]-v\n",
    "        next_vec = v\n",
    "        for j in range(l):\n",
    "            next_vec = next_vec + (vectors[j, :] - v) / 3\n",
    "        for j in neigbors:\n",
    "            next_vec = next_vec - (vectors[j, :] - v) / 10\n",
    "        next_gen[i] = next_vec\n",
    "    next_gen_mat = np.array([next_gen[i] for i in range(l)]).reshape((l,3))\n",
    "    next_gen_mat = normalize_all(next_gen_mat)\n",
    "    return next_gen_mat"
   ]
  },
  {
   "cell_type": "code",
   "execution_count": 13,
   "metadata": {
    "collapsed": false
   },
   "outputs": [],
   "source": [
    "vectors = np.concatenate((P, np.expand_dims(np.sqrt(1 - (P[:, 0] * P[:, 0] + P[:, 1] * P[:, 1]) ), 1)), axis=1)\n",
    "normals = normalize_all(np.random.normal(size=(len(graph), 3))) / 4"
   ]
  },
  {
   "cell_type": "code",
   "execution_count": 14,
   "metadata": {
    "collapsed": false
   },
   "outputs": [
    {
     "data": {
      "application/javascript": [
       "/* Put everything inside the global mpl namespace */\n",
       "window.mpl = {};\n",
       "\n",
       "mpl.get_websocket_type = function() {\n",
       "    if (typeof(WebSocket) !== 'undefined') {\n",
       "        return WebSocket;\n",
       "    } else if (typeof(MozWebSocket) !== 'undefined') {\n",
       "        return MozWebSocket;\n",
       "    } else {\n",
       "        alert('Your browser does not have WebSocket support.' +\n",
       "              'Please try Chrome, Safari or Firefox ≥ 6. ' +\n",
       "              'Firefox 4 and 5 are also supported but you ' +\n",
       "              'have to enable WebSockets in about:config.');\n",
       "    };\n",
       "}\n",
       "\n",
       "mpl.figure = function(figure_id, websocket, ondownload, parent_element) {\n",
       "    this.id = figure_id;\n",
       "\n",
       "    this.ws = websocket;\n",
       "\n",
       "    this.supports_binary = (this.ws.binaryType != undefined);\n",
       "\n",
       "    if (!this.supports_binary) {\n",
       "        var warnings = document.getElementById(\"mpl-warnings\");\n",
       "        if (warnings) {\n",
       "            warnings.style.display = 'block';\n",
       "            warnings.textContent = (\n",
       "                \"This browser does not support binary websocket messages. \" +\n",
       "                    \"Performance may be slow.\");\n",
       "        }\n",
       "    }\n",
       "\n",
       "    this.imageObj = new Image();\n",
       "\n",
       "    this.context = undefined;\n",
       "    this.message = undefined;\n",
       "    this.canvas = undefined;\n",
       "    this.rubberband_canvas = undefined;\n",
       "    this.rubberband_context = undefined;\n",
       "    this.format_dropdown = undefined;\n",
       "\n",
       "    this.image_mode = 'full';\n",
       "\n",
       "    this.root = $('<div/>');\n",
       "    this._root_extra_style(this.root)\n",
       "    this.root.attr('style', 'display: inline-block');\n",
       "\n",
       "    $(parent_element).append(this.root);\n",
       "\n",
       "    this._init_header(this);\n",
       "    this._init_canvas(this);\n",
       "    this._init_toolbar(this);\n",
       "\n",
       "    var fig = this;\n",
       "\n",
       "    this.waiting = false;\n",
       "\n",
       "    this.ws.onopen =  function () {\n",
       "            fig.send_message(\"supports_binary\", {value: fig.supports_binary});\n",
       "            fig.send_message(\"send_image_mode\", {});\n",
       "            fig.send_message(\"refresh\", {});\n",
       "        }\n",
       "\n",
       "    this.imageObj.onload = function() {\n",
       "            if (fig.image_mode == 'full') {\n",
       "                // Full images could contain transparency (where diff images\n",
       "                // almost always do), so we need to clear the canvas so that\n",
       "                // there is no ghosting.\n",
       "                fig.context.clearRect(0, 0, fig.canvas.width, fig.canvas.height);\n",
       "            }\n",
       "            fig.context.drawImage(fig.imageObj, 0, 0);\n",
       "        };\n",
       "\n",
       "    this.imageObj.onunload = function() {\n",
       "        this.ws.close();\n",
       "    }\n",
       "\n",
       "    this.ws.onmessage = this._make_on_message_function(this);\n",
       "\n",
       "    this.ondownload = ondownload;\n",
       "}\n",
       "\n",
       "mpl.figure.prototype._init_header = function() {\n",
       "    var titlebar = $(\n",
       "        '<div class=\"ui-dialog-titlebar ui-widget-header ui-corner-all ' +\n",
       "        'ui-helper-clearfix\"/>');\n",
       "    var titletext = $(\n",
       "        '<div class=\"ui-dialog-title\" style=\"width: 100%; ' +\n",
       "        'text-align: center; padding: 3px;\"/>');\n",
       "    titlebar.append(titletext)\n",
       "    this.root.append(titlebar);\n",
       "    this.header = titletext[0];\n",
       "}\n",
       "\n",
       "\n",
       "\n",
       "mpl.figure.prototype._canvas_extra_style = function(canvas_div) {\n",
       "\n",
       "}\n",
       "\n",
       "\n",
       "mpl.figure.prototype._root_extra_style = function(canvas_div) {\n",
       "\n",
       "}\n",
       "\n",
       "mpl.figure.prototype._init_canvas = function() {\n",
       "    var fig = this;\n",
       "\n",
       "    var canvas_div = $('<div/>');\n",
       "\n",
       "    canvas_div.attr('style', 'position: relative; clear: both; outline: 0');\n",
       "\n",
       "    function canvas_keyboard_event(event) {\n",
       "        return fig.key_event(event, event['data']);\n",
       "    }\n",
       "\n",
       "    canvas_div.keydown('key_press', canvas_keyboard_event);\n",
       "    canvas_div.keyup('key_release', canvas_keyboard_event);\n",
       "    this.canvas_div = canvas_div\n",
       "    this._canvas_extra_style(canvas_div)\n",
       "    this.root.append(canvas_div);\n",
       "\n",
       "    var canvas = $('<canvas/>');\n",
       "    canvas.addClass('mpl-canvas');\n",
       "    canvas.attr('style', \"left: 0; top: 0; z-index: 0; outline: 0\")\n",
       "\n",
       "    this.canvas = canvas[0];\n",
       "    this.context = canvas[0].getContext(\"2d\");\n",
       "\n",
       "    var rubberband = $('<canvas/>');\n",
       "    rubberband.attr('style', \"position: absolute; left: 0; top: 0; z-index: 1;\")\n",
       "\n",
       "    var pass_mouse_events = true;\n",
       "\n",
       "    canvas_div.resizable({\n",
       "        start: function(event, ui) {\n",
       "            pass_mouse_events = false;\n",
       "        },\n",
       "        resize: function(event, ui) {\n",
       "            fig.request_resize(ui.size.width, ui.size.height);\n",
       "        },\n",
       "        stop: function(event, ui) {\n",
       "            pass_mouse_events = true;\n",
       "            fig.request_resize(ui.size.width, ui.size.height);\n",
       "        },\n",
       "    });\n",
       "\n",
       "    function mouse_event_fn(event) {\n",
       "        if (pass_mouse_events)\n",
       "            return fig.mouse_event(event, event['data']);\n",
       "    }\n",
       "\n",
       "    rubberband.mousedown('button_press', mouse_event_fn);\n",
       "    rubberband.mouseup('button_release', mouse_event_fn);\n",
       "    // Throttle sequential mouse events to 1 every 20ms.\n",
       "    rubberband.mousemove('motion_notify', mouse_event_fn);\n",
       "\n",
       "    rubberband.mouseenter('figure_enter', mouse_event_fn);\n",
       "    rubberband.mouseleave('figure_leave', mouse_event_fn);\n",
       "\n",
       "    canvas_div.on(\"wheel\", function (event) {\n",
       "        event = event.originalEvent;\n",
       "        event['data'] = 'scroll'\n",
       "        if (event.deltaY < 0) {\n",
       "            event.step = 1;\n",
       "        } else {\n",
       "            event.step = -1;\n",
       "        }\n",
       "        mouse_event_fn(event);\n",
       "    });\n",
       "\n",
       "    canvas_div.append(canvas);\n",
       "    canvas_div.append(rubberband);\n",
       "\n",
       "    this.rubberband = rubberband;\n",
       "    this.rubberband_canvas = rubberband[0];\n",
       "    this.rubberband_context = rubberband[0].getContext(\"2d\");\n",
       "    this.rubberband_context.strokeStyle = \"#000000\";\n",
       "\n",
       "    this._resize_canvas = function(width, height) {\n",
       "        // Keep the size of the canvas, canvas container, and rubber band\n",
       "        // canvas in synch.\n",
       "        canvas_div.css('width', width)\n",
       "        canvas_div.css('height', height)\n",
       "\n",
       "        canvas.attr('width', width);\n",
       "        canvas.attr('height', height);\n",
       "\n",
       "        rubberband.attr('width', width);\n",
       "        rubberband.attr('height', height);\n",
       "    }\n",
       "\n",
       "    // Set the figure to an initial 600x600px, this will subsequently be updated\n",
       "    // upon first draw.\n",
       "    this._resize_canvas(600, 600);\n",
       "\n",
       "    // Disable right mouse context menu.\n",
       "    $(this.rubberband_canvas).bind(\"contextmenu\",function(e){\n",
       "        return false;\n",
       "    });\n",
       "\n",
       "    function set_focus () {\n",
       "        canvas.focus();\n",
       "        canvas_div.focus();\n",
       "    }\n",
       "\n",
       "    window.setTimeout(set_focus, 100);\n",
       "}\n",
       "\n",
       "mpl.figure.prototype._init_toolbar = function() {\n",
       "    var fig = this;\n",
       "\n",
       "    var nav_element = $('<div/>')\n",
       "    nav_element.attr('style', 'width: 100%');\n",
       "    this.root.append(nav_element);\n",
       "\n",
       "    // Define a callback function for later on.\n",
       "    function toolbar_event(event) {\n",
       "        return fig.toolbar_button_onclick(event['data']);\n",
       "    }\n",
       "    function toolbar_mouse_event(event) {\n",
       "        return fig.toolbar_button_onmouseover(event['data']);\n",
       "    }\n",
       "\n",
       "    for(var toolbar_ind in mpl.toolbar_items) {\n",
       "        var name = mpl.toolbar_items[toolbar_ind][0];\n",
       "        var tooltip = mpl.toolbar_items[toolbar_ind][1];\n",
       "        var image = mpl.toolbar_items[toolbar_ind][2];\n",
       "        var method_name = mpl.toolbar_items[toolbar_ind][3];\n",
       "\n",
       "        if (!name) {\n",
       "            // put a spacer in here.\n",
       "            continue;\n",
       "        }\n",
       "        var button = $('<button/>');\n",
       "        button.addClass('ui-button ui-widget ui-state-default ui-corner-all ' +\n",
       "                        'ui-button-icon-only');\n",
       "        button.attr('role', 'button');\n",
       "        button.attr('aria-disabled', 'false');\n",
       "        button.click(method_name, toolbar_event);\n",
       "        button.mouseover(tooltip, toolbar_mouse_event);\n",
       "\n",
       "        var icon_img = $('<span/>');\n",
       "        icon_img.addClass('ui-button-icon-primary ui-icon');\n",
       "        icon_img.addClass(image);\n",
       "        icon_img.addClass('ui-corner-all');\n",
       "\n",
       "        var tooltip_span = $('<span/>');\n",
       "        tooltip_span.addClass('ui-button-text');\n",
       "        tooltip_span.html(tooltip);\n",
       "\n",
       "        button.append(icon_img);\n",
       "        button.append(tooltip_span);\n",
       "\n",
       "        nav_element.append(button);\n",
       "    }\n",
       "\n",
       "    var fmt_picker_span = $('<span/>');\n",
       "\n",
       "    var fmt_picker = $('<select/>');\n",
       "    fmt_picker.addClass('mpl-toolbar-option ui-widget ui-widget-content');\n",
       "    fmt_picker_span.append(fmt_picker);\n",
       "    nav_element.append(fmt_picker_span);\n",
       "    this.format_dropdown = fmt_picker[0];\n",
       "\n",
       "    for (var ind in mpl.extensions) {\n",
       "        var fmt = mpl.extensions[ind];\n",
       "        var option = $(\n",
       "            '<option/>', {selected: fmt === mpl.default_extension}).html(fmt);\n",
       "        fmt_picker.append(option)\n",
       "    }\n",
       "\n",
       "    // Add hover states to the ui-buttons\n",
       "    $( \".ui-button\" ).hover(\n",
       "        function() { $(this).addClass(\"ui-state-hover\");},\n",
       "        function() { $(this).removeClass(\"ui-state-hover\");}\n",
       "    );\n",
       "\n",
       "    var status_bar = $('<span class=\"mpl-message\"/>');\n",
       "    nav_element.append(status_bar);\n",
       "    this.message = status_bar[0];\n",
       "}\n",
       "\n",
       "mpl.figure.prototype.request_resize = function(x_pixels, y_pixels) {\n",
       "    // Request matplotlib to resize the figure. Matplotlib will then trigger a resize in the client,\n",
       "    // which will in turn request a refresh of the image.\n",
       "    this.send_message('resize', {'width': x_pixels, 'height': y_pixels});\n",
       "}\n",
       "\n",
       "mpl.figure.prototype.send_message = function(type, properties) {\n",
       "    properties['type'] = type;\n",
       "    properties['figure_id'] = this.id;\n",
       "    this.ws.send(JSON.stringify(properties));\n",
       "}\n",
       "\n",
       "mpl.figure.prototype.send_draw_message = function() {\n",
       "    if (!this.waiting) {\n",
       "        this.waiting = true;\n",
       "        this.ws.send(JSON.stringify({type: \"draw\", figure_id: this.id}));\n",
       "    }\n",
       "}\n",
       "\n",
       "\n",
       "mpl.figure.prototype.handle_save = function(fig, msg) {\n",
       "    var format_dropdown = fig.format_dropdown;\n",
       "    var format = format_dropdown.options[format_dropdown.selectedIndex].value;\n",
       "    fig.ondownload(fig, format);\n",
       "}\n",
       "\n",
       "\n",
       "mpl.figure.prototype.handle_resize = function(fig, msg) {\n",
       "    var size = msg['size'];\n",
       "    if (size[0] != fig.canvas.width || size[1] != fig.canvas.height) {\n",
       "        fig._resize_canvas(size[0], size[1]);\n",
       "        fig.send_message(\"refresh\", {});\n",
       "    };\n",
       "}\n",
       "\n",
       "mpl.figure.prototype.handle_rubberband = function(fig, msg) {\n",
       "    var x0 = msg['x0'];\n",
       "    var y0 = fig.canvas.height - msg['y0'];\n",
       "    var x1 = msg['x1'];\n",
       "    var y1 = fig.canvas.height - msg['y1'];\n",
       "    x0 = Math.floor(x0) + 0.5;\n",
       "    y0 = Math.floor(y0) + 0.5;\n",
       "    x1 = Math.floor(x1) + 0.5;\n",
       "    y1 = Math.floor(y1) + 0.5;\n",
       "    var min_x = Math.min(x0, x1);\n",
       "    var min_y = Math.min(y0, y1);\n",
       "    var width = Math.abs(x1 - x0);\n",
       "    var height = Math.abs(y1 - y0);\n",
       "\n",
       "    fig.rubberband_context.clearRect(\n",
       "        0, 0, fig.canvas.width, fig.canvas.height);\n",
       "\n",
       "    fig.rubberband_context.strokeRect(min_x, min_y, width, height);\n",
       "}\n",
       "\n",
       "mpl.figure.prototype.handle_figure_label = function(fig, msg) {\n",
       "    // Updates the figure title.\n",
       "    fig.header.textContent = msg['label'];\n",
       "}\n",
       "\n",
       "mpl.figure.prototype.handle_cursor = function(fig, msg) {\n",
       "    var cursor = msg['cursor'];\n",
       "    switch(cursor)\n",
       "    {\n",
       "    case 0:\n",
       "        cursor = 'pointer';\n",
       "        break;\n",
       "    case 1:\n",
       "        cursor = 'default';\n",
       "        break;\n",
       "    case 2:\n",
       "        cursor = 'crosshair';\n",
       "        break;\n",
       "    case 3:\n",
       "        cursor = 'move';\n",
       "        break;\n",
       "    }\n",
       "    fig.rubberband_canvas.style.cursor = cursor;\n",
       "}\n",
       "\n",
       "mpl.figure.prototype.handle_message = function(fig, msg) {\n",
       "    fig.message.textContent = msg['message'];\n",
       "}\n",
       "\n",
       "mpl.figure.prototype.handle_draw = function(fig, msg) {\n",
       "    // Request the server to send over a new figure.\n",
       "    fig.send_draw_message();\n",
       "}\n",
       "\n",
       "mpl.figure.prototype.handle_image_mode = function(fig, msg) {\n",
       "    fig.image_mode = msg['mode'];\n",
       "}\n",
       "\n",
       "mpl.figure.prototype.updated_canvas_event = function() {\n",
       "    // Called whenever the canvas gets updated.\n",
       "    this.send_message(\"ack\", {});\n",
       "}\n",
       "\n",
       "// A function to construct a web socket function for onmessage handling.\n",
       "// Called in the figure constructor.\n",
       "mpl.figure.prototype._make_on_message_function = function(fig) {\n",
       "    return function socket_on_message(evt) {\n",
       "        if (evt.data instanceof Blob) {\n",
       "            /* FIXME: We get \"Resource interpreted as Image but\n",
       "             * transferred with MIME type text/plain:\" errors on\n",
       "             * Chrome.  But how to set the MIME type?  It doesn't seem\n",
       "             * to be part of the websocket stream */\n",
       "            evt.data.type = \"image/png\";\n",
       "\n",
       "            /* Free the memory for the previous frames */\n",
       "            if (fig.imageObj.src) {\n",
       "                (window.URL || window.webkitURL).revokeObjectURL(\n",
       "                    fig.imageObj.src);\n",
       "            }\n",
       "\n",
       "            fig.imageObj.src = (window.URL || window.webkitURL).createObjectURL(\n",
       "                evt.data);\n",
       "            fig.updated_canvas_event();\n",
       "            fig.waiting = false;\n",
       "            return;\n",
       "        }\n",
       "        else if (typeof evt.data === 'string' && evt.data.slice(0, 21) == \"data:image/png;base64\") {\n",
       "            fig.imageObj.src = evt.data;\n",
       "            fig.updated_canvas_event();\n",
       "            fig.waiting = false;\n",
       "            return;\n",
       "        }\n",
       "\n",
       "        var msg = JSON.parse(evt.data);\n",
       "        var msg_type = msg['type'];\n",
       "\n",
       "        // Call the  \"handle_{type}\" callback, which takes\n",
       "        // the figure and JSON message as its only arguments.\n",
       "        try {\n",
       "            var callback = fig[\"handle_\" + msg_type];\n",
       "        } catch (e) {\n",
       "            console.log(\"No handler for the '\" + msg_type + \"' message type: \", msg);\n",
       "            return;\n",
       "        }\n",
       "\n",
       "        if (callback) {\n",
       "            try {\n",
       "                // console.log(\"Handling '\" + msg_type + \"' message: \", msg);\n",
       "                callback(fig, msg);\n",
       "            } catch (e) {\n",
       "                console.log(\"Exception inside the 'handler_\" + msg_type + \"' callback:\", e, e.stack, msg);\n",
       "            }\n",
       "        }\n",
       "    };\n",
       "}\n",
       "\n",
       "// from http://stackoverflow.com/questions/1114465/getting-mouse-location-in-canvas\n",
       "mpl.findpos = function(e) {\n",
       "    //this section is from http://www.quirksmode.org/js/events_properties.html\n",
       "    var targ;\n",
       "    if (!e)\n",
       "        e = window.event;\n",
       "    if (e.target)\n",
       "        targ = e.target;\n",
       "    else if (e.srcElement)\n",
       "        targ = e.srcElement;\n",
       "    if (targ.nodeType == 3) // defeat Safari bug\n",
       "        targ = targ.parentNode;\n",
       "\n",
       "    // jQuery normalizes the pageX and pageY\n",
       "    // pageX,Y are the mouse positions relative to the document\n",
       "    // offset() returns the position of the element relative to the document\n",
       "    var x = e.pageX - $(targ).offset().left;\n",
       "    var y = e.pageY - $(targ).offset().top;\n",
       "\n",
       "    return {\"x\": x, \"y\": y};\n",
       "};\n",
       "\n",
       "/*\n",
       " * return a copy of an object with only non-object keys\n",
       " * we need this to avoid circular references\n",
       " * http://stackoverflow.com/a/24161582/3208463\n",
       " */\n",
       "function simpleKeys (original) {\n",
       "  return Object.keys(original).reduce(function (obj, key) {\n",
       "    if (typeof original[key] !== 'object')\n",
       "        obj[key] = original[key]\n",
       "    return obj;\n",
       "  }, {});\n",
       "}\n",
       "\n",
       "mpl.figure.prototype.mouse_event = function(event, name) {\n",
       "    var canvas_pos = mpl.findpos(event)\n",
       "\n",
       "    if (name === 'button_press')\n",
       "    {\n",
       "        this.canvas.focus();\n",
       "        this.canvas_div.focus();\n",
       "    }\n",
       "\n",
       "    var x = canvas_pos.x;\n",
       "    var y = canvas_pos.y;\n",
       "\n",
       "    this.send_message(name, {x: x, y: y, button: event.button,\n",
       "                             step: event.step,\n",
       "                             guiEvent: simpleKeys(event)});\n",
       "\n",
       "    /* This prevents the web browser from automatically changing to\n",
       "     * the text insertion cursor when the button is pressed.  We want\n",
       "     * to control all of the cursor setting manually through the\n",
       "     * 'cursor' event from matplotlib */\n",
       "    event.preventDefault();\n",
       "    return false;\n",
       "}\n",
       "\n",
       "mpl.figure.prototype._key_event_extra = function(event, name) {\n",
       "    // Handle any extra behaviour associated with a key event\n",
       "}\n",
       "\n",
       "mpl.figure.prototype.key_event = function(event, name) {\n",
       "\n",
       "    // Prevent repeat events\n",
       "    if (name == 'key_press')\n",
       "    {\n",
       "        if (event.which === this._key)\n",
       "            return;\n",
       "        else\n",
       "            this._key = event.which;\n",
       "    }\n",
       "    if (name == 'key_release')\n",
       "        this._key = null;\n",
       "\n",
       "    var value = '';\n",
       "    if (event.ctrlKey && event.which != 17)\n",
       "        value += \"ctrl+\";\n",
       "    if (event.altKey && event.which != 18)\n",
       "        value += \"alt+\";\n",
       "    if (event.shiftKey && event.which != 16)\n",
       "        value += \"shift+\";\n",
       "\n",
       "    value += 'k';\n",
       "    value += event.which.toString();\n",
       "\n",
       "    this._key_event_extra(event, name);\n",
       "\n",
       "    this.send_message(name, {key: value,\n",
       "                             guiEvent: simpleKeys(event)});\n",
       "    return false;\n",
       "}\n",
       "\n",
       "mpl.figure.prototype.toolbar_button_onclick = function(name) {\n",
       "    if (name == 'download') {\n",
       "        this.handle_save(this, null);\n",
       "    } else {\n",
       "        this.send_message(\"toolbar_button\", {name: name});\n",
       "    }\n",
       "};\n",
       "\n",
       "mpl.figure.prototype.toolbar_button_onmouseover = function(tooltip) {\n",
       "    this.message.textContent = tooltip;\n",
       "};\n",
       "mpl.toolbar_items = [[\"Home\", \"Reset original view\", \"fa fa-home icon-home\", \"home\"], [\"Back\", \"Back to  previous view\", \"fa fa-arrow-left icon-arrow-left\", \"back\"], [\"Forward\", \"Forward to next view\", \"fa fa-arrow-right icon-arrow-right\", \"forward\"], [\"\", \"\", \"\", \"\"], [\"Pan\", \"Pan axes with left mouse, zoom with right\", \"fa fa-arrows icon-move\", \"pan\"], [\"Zoom\", \"Zoom to rectangle\", \"fa fa-square-o icon-check-empty\", \"zoom\"], [\"\", \"\", \"\", \"\"], [\"Download\", \"Download plot\", \"fa fa-floppy-o icon-save\", \"download\"]];\n",
       "\n",
       "mpl.extensions = [\"eps\", \"jpeg\", \"pdf\", \"png\", \"ps\", \"raw\", \"svg\", \"tif\"];\n",
       "\n",
       "mpl.default_extension = \"png\";var comm_websocket_adapter = function(comm) {\n",
       "    // Create a \"websocket\"-like object which calls the given IPython comm\n",
       "    // object with the appropriate methods. Currently this is a non binary\n",
       "    // socket, so there is still some room for performance tuning.\n",
       "    var ws = {};\n",
       "\n",
       "    ws.close = function() {\n",
       "        comm.close()\n",
       "    };\n",
       "    ws.send = function(m) {\n",
       "        //console.log('sending', m);\n",
       "        comm.send(m);\n",
       "    };\n",
       "    // Register the callback with on_msg.\n",
       "    comm.on_msg(function(msg) {\n",
       "        //console.log('receiving', msg['content']['data'], msg);\n",
       "        // Pass the mpl event to the overriden (by mpl) onmessage function.\n",
       "        ws.onmessage(msg['content']['data'])\n",
       "    });\n",
       "    return ws;\n",
       "}\n",
       "\n",
       "mpl.mpl_figure_comm = function(comm, msg) {\n",
       "    // This is the function which gets called when the mpl process\n",
       "    // starts-up an IPython Comm through the \"matplotlib\" channel.\n",
       "\n",
       "    var id = msg.content.data.id;\n",
       "    // Get hold of the div created by the display call when the Comm\n",
       "    // socket was opened in Python.\n",
       "    var element = $(\"#\" + id);\n",
       "    var ws_proxy = comm_websocket_adapter(comm)\n",
       "\n",
       "    function ondownload(figure, format) {\n",
       "        window.open(figure.imageObj.src);\n",
       "    }\n",
       "\n",
       "    var fig = new mpl.figure(id, ws_proxy,\n",
       "                           ondownload,\n",
       "                           element.get(0));\n",
       "\n",
       "    // Call onopen now - mpl needs it, as it is assuming we've passed it a real\n",
       "    // web socket which is closed, not our websocket->open comm proxy.\n",
       "    ws_proxy.onopen();\n",
       "\n",
       "    fig.parent_element = element.get(0);\n",
       "    fig.cell_info = mpl.find_output_cell(\"<div id='\" + id + \"'></div>\");\n",
       "    if (!fig.cell_info) {\n",
       "        console.error(\"Failed to find cell for figure\", id, fig);\n",
       "        return;\n",
       "    }\n",
       "\n",
       "    var output_index = fig.cell_info[2]\n",
       "    var cell = fig.cell_info[0];\n",
       "\n",
       "};\n",
       "\n",
       "mpl.figure.prototype.handle_close = function(fig, msg) {\n",
       "    fig.root.unbind('remove')\n",
       "\n",
       "    // Update the output cell to use the data from the current canvas.\n",
       "    fig.push_to_output();\n",
       "    var dataURL = fig.canvas.toDataURL();\n",
       "    // Re-enable the keyboard manager in IPython - without this line, in FF,\n",
       "    // the notebook keyboard shortcuts fail.\n",
       "    IPython.keyboard_manager.enable()\n",
       "    $(fig.parent_element).html('<img src=\"' + dataURL + '\">');\n",
       "    fig.close_ws(fig, msg);\n",
       "}\n",
       "\n",
       "mpl.figure.prototype.close_ws = function(fig, msg){\n",
       "    fig.send_message('closing', msg);\n",
       "    // fig.ws.close()\n",
       "}\n",
       "\n",
       "mpl.figure.prototype.push_to_output = function(remove_interactive) {\n",
       "    // Turn the data on the canvas into data in the output cell.\n",
       "    var dataURL = this.canvas.toDataURL();\n",
       "    this.cell_info[1]['text/html'] = '<img src=\"' + dataURL + '\">';\n",
       "}\n",
       "\n",
       "mpl.figure.prototype.updated_canvas_event = function() {\n",
       "    // Tell IPython that the notebook contents must change.\n",
       "    IPython.notebook.set_dirty(true);\n",
       "    this.send_message(\"ack\", {});\n",
       "    var fig = this;\n",
       "    // Wait a second, then push the new image to the DOM so\n",
       "    // that it is saved nicely (might be nice to debounce this).\n",
       "    setTimeout(function () { fig.push_to_output() }, 1000);\n",
       "}\n",
       "\n",
       "mpl.figure.prototype._init_toolbar = function() {\n",
       "    var fig = this;\n",
       "\n",
       "    var nav_element = $('<div/>')\n",
       "    nav_element.attr('style', 'width: 100%');\n",
       "    this.root.append(nav_element);\n",
       "\n",
       "    // Define a callback function for later on.\n",
       "    function toolbar_event(event) {\n",
       "        return fig.toolbar_button_onclick(event['data']);\n",
       "    }\n",
       "    function toolbar_mouse_event(event) {\n",
       "        return fig.toolbar_button_onmouseover(event['data']);\n",
       "    }\n",
       "\n",
       "    for(var toolbar_ind in mpl.toolbar_items){\n",
       "        var name = mpl.toolbar_items[toolbar_ind][0];\n",
       "        var tooltip = mpl.toolbar_items[toolbar_ind][1];\n",
       "        var image = mpl.toolbar_items[toolbar_ind][2];\n",
       "        var method_name = mpl.toolbar_items[toolbar_ind][3];\n",
       "\n",
       "        if (!name) { continue; };\n",
       "\n",
       "        var button = $('<button class=\"btn btn-default\" href=\"#\" title=\"' + name + '\"><i class=\"fa ' + image + ' fa-lg\"></i></button>');\n",
       "        button.click(method_name, toolbar_event);\n",
       "        button.mouseover(tooltip, toolbar_mouse_event);\n",
       "        nav_element.append(button);\n",
       "    }\n",
       "\n",
       "    // Add the status bar.\n",
       "    var status_bar = $('<span class=\"mpl-message\" style=\"text-align:right; float: right;\"/>');\n",
       "    nav_element.append(status_bar);\n",
       "    this.message = status_bar[0];\n",
       "\n",
       "    // Add the close button to the window.\n",
       "    var buttongrp = $('<div class=\"btn-group inline pull-right\"></div>');\n",
       "    var button = $('<button class=\"btn btn-mini btn-primary\" href=\"#\" title=\"Stop Interaction\"><i class=\"fa fa-power-off icon-remove icon-large\"></i></button>');\n",
       "    button.click(function (evt) { fig.handle_close(fig, {}); } );\n",
       "    button.mouseover('Stop Interaction', toolbar_mouse_event);\n",
       "    buttongrp.append(button);\n",
       "    var titlebar = this.root.find($('.ui-dialog-titlebar'));\n",
       "    titlebar.prepend(buttongrp);\n",
       "}\n",
       "\n",
       "mpl.figure.prototype._root_extra_style = function(el){\n",
       "    var fig = this\n",
       "    el.on(\"remove\", function(){\n",
       "\tfig.close_ws(fig, {});\n",
       "    });\n",
       "}\n",
       "\n",
       "mpl.figure.prototype._canvas_extra_style = function(el){\n",
       "    // this is important to make the div 'focusable\n",
       "    el.attr('tabindex', 0)\n",
       "    // reach out to IPython and tell the keyboard manager to turn it's self\n",
       "    // off when our div gets focus\n",
       "\n",
       "    // location in version 3\n",
       "    if (IPython.notebook.keyboard_manager) {\n",
       "        IPython.notebook.keyboard_manager.register_events(el);\n",
       "    }\n",
       "    else {\n",
       "        // location in version 2\n",
       "        IPython.keyboard_manager.register_events(el);\n",
       "    }\n",
       "\n",
       "}\n",
       "\n",
       "mpl.figure.prototype._key_event_extra = function(event, name) {\n",
       "    var manager = IPython.notebook.keyboard_manager;\n",
       "    if (!manager)\n",
       "        manager = IPython.keyboard_manager;\n",
       "\n",
       "    // Check for shift+enter\n",
       "    if (event.shiftKey && event.which == 13) {\n",
       "        this.canvas_div.blur();\n",
       "        event.shiftKey = false;\n",
       "        // Send a \"J\" for go to next cell\n",
       "        event.which = 74;\n",
       "        event.keyCode = 74;\n",
       "        manager.command_mode();\n",
       "        manager.handle_keydown(event);\n",
       "    }\n",
       "}\n",
       "\n",
       "mpl.figure.prototype.handle_save = function(fig, msg) {\n",
       "    fig.ondownload(fig, null);\n",
       "}\n",
       "\n",
       "\n",
       "mpl.find_output_cell = function(html_output) {\n",
       "    // Return the cell and output element which can be found *uniquely* in the notebook.\n",
       "    // Note - this is a bit hacky, but it is done because the \"notebook_saving.Notebook\"\n",
       "    // IPython event is triggered only after the cells have been serialised, which for\n",
       "    // our purposes (turning an active figure into a static one), is too late.\n",
       "    var cells = IPython.notebook.get_cells();\n",
       "    var ncells = cells.length;\n",
       "    for (var i=0; i<ncells; i++) {\n",
       "        var cell = cells[i];\n",
       "        if (cell.cell_type === 'code'){\n",
       "            for (var j=0; j<cell.output_area.outputs.length; j++) {\n",
       "                var data = cell.output_area.outputs[j];\n",
       "                if (data.data) {\n",
       "                    // IPython >= 3 moved mimebundle to data attribute of output\n",
       "                    data = data.data;\n",
       "                }\n",
       "                if (data['text/html'] == html_output) {\n",
       "                    return [cell, data, j];\n",
       "                }\n",
       "            }\n",
       "        }\n",
       "    }\n",
       "}\n",
       "\n",
       "// Register the function which deals with the matplotlib target/channel.\n",
       "// The kernel may be null if the page has been refreshed.\n",
       "if (IPython.notebook.kernel != null) {\n",
       "    IPython.notebook.kernel.comm_manager.register_target('matplotlib', mpl.mpl_figure_comm);\n",
       "}\n"
      ],
      "text/plain": [
       "<IPython.core.display.Javascript object>"
      ]
     },
     "metadata": {},
     "output_type": "display_data"
    },
    {
     "data": {
      "text/html": [
       "<img src=\"data:image/png;base64,iVBORw0KGgoAAAANSUhEUgAAAoAAAAHgCAYAAAA10dzkAAAgAElEQVR4XuxdB5QUVdb+pqe7JweGGSaSQcmK4IDgkhQFxVUEI6IYV1dX1zXrqouKorim37BmZTEhILIqYCAoIkkByZkBJsAwOXea/9zCNxRNp+qu6u7punXOHMK8evXed29VfXVjFPhgBBgBRoARYAQYAUaAEdAVAlG62i1vlhFgBBgBRoARYAQYAUYATABZCRgBRoARYAQYAUaAEdAZAkwAdSZw3i4jwAgwAowAI8AIMAJMAFkHGAFGgBFgBBgBRoAR0BkCTAB1JnDeLiPACDACjAAjwAgwAkwAWQcYAUaAEWAEGAFGgBHQGQJMAHUmcN4uI8AIMAKMACPACDACTABZBxgBRoARYAQYAUaAEdAZAkwAdSZw3i4jwAgwAowAI8AIMAJMAFkHGAFGgBFgBBgBRoAR0BkCTAB1JnDeLiPACDACjAAjwAgwAkwAWQcYAUaAEWAEGAFGgBHQGQJMAHUmcN4uI8AIMAKMACPACDACTABZBxgBRoARYAQYAUaAEdAZAkwAdSZw3i4jwAgwAowAI8AIMAJMAFkHGAFGgBFgBBgBRoAR0BkCTAB1JnDeLiPACDACjAAjwAgwAkwAWQcYAUaAEWAEGAFGgBHQGQJMAHUmcN4uI8AIMAKMACPACDACTABZBxgBRoARYAQYAUaAEdAZAkwAdSZw3i4jwAgwAowAI8AIMAJMAFkHGAFGgBFgBBgBRoAR0BkCTAB1JnDeLiPACDACjAAjwAgwAkwAWQcYAUaAEWAEGAFGgBHQGQJMAHUmcN4uI8AIMAKMACPACDACTABZBxgBRoARYAQYAUaAEdAZAkwAdSZw3i4jwAgwAowAI8AIMAJMAFkHGAFGgBFgBBgBRoAR0BkCTAB1JnDeLiPACDACjAAjwAgwAkwAWQcYAUaAEWAEGAFGgBHQGQJMAHUmcN4uI8AIMAKMACPACDACTABZBxgBRoARYAQYAUaAEdAZAkwAdSZw3i4jwAgwAowAI8AIMAJMAFkHGAFGgBFgBBgBRoAR0BkCTAB1JnDeLiPACDACjAAjwAgwAkwAWQcYAUaAEWAEGAFGgBHQGQJMAHUmcN4uI8AIMAKMACPACDACTABZBxgBRoARYAQYAUaAEdAZAkwAdSZw3i4jwAgwAowAI8AIMAJMAFkHGAFGgBFgBBgBRoAR0BkCTAB1JnDeLiPACDACjAAjwAgwAkwAWQcYAUaAEWAEGAFGgBHQGQJMAHUmcN4uI8AIMAKMACPACDACTABZBxgBRoARYAQYAUaAEdAZAkwAdSZw3i4jwAgwAowAI8AIMAJMAFkHGAFGgBFgBBgBRoAR0BkCTAB1JnDeLiPACDACjAAjwAgwAkwAA9SB5ubm5gCn4NMZAUaAEWAEGAFGIMgIREVF6ZoD6XrzaugaE0A1UOQ5GAFGgBFgBBiB4CLABDC4eEfc1ZgARpxIeUOMACPACDACOkCACaAOhKzlFpkAaokuz80IMAKMACPACGiDABNAbXDVzaxMAHUjat4oI8AIMAKMQAQhwAQwgoQZiq0wAQwF6nxNRoARYAQYAUYgMASYAAaGn+7PZgKoexVgABgBRoARYARaIQJMAFuh0MJpyUwAw0kavBZGgBFgBBgBRsA3BJgA+oYTj3KDABNAVg1GgBFgBBgBRqD1IcAEsPXJLKxWzAQwrMTBi2EEGAFGgBFgBHxCgAmgTzDxIHcIMAFk3WAEGIHWhAA1L6Ifq9UKg8EAo9EInTdEaE3i47WqiAATQBXB1ONUTAD1KHXeMyPQuhAgwmez2aQfIn52ux0OhwPR0dFISEhgEti6xMmrVQkBJoAqAanXaZgA6lXyvG9GIHwRIMJHJE+QPovFIhE/s9ksWf3I4ke/o7/HxMRIf9Lv2BIYvjLllamPABNA9THV1YxMAHUlbt4sIxCWCAi3rrDw0Z9k4aODSB39vrGxEYmJiS3rJ1JIFsDY2FjU19dLf09KSpLIIB+MgB4QYAKoBylruEcmgBqCy1MzAoyAWwRcuXUF4SPSJ37o/8ga2NDQgLi4OMnyJ1zANIZIH5FDIn5EBikmkOMCWfH0gAATQD1IWcM9MgHUEFyemhFgBFoQIMJHVj1y5QrXLv0fHcKt6+zCpfFE9ugcYREkckfWPvFv+h39m1zB9EP/T2NMJhO7hFn/IhoBJoARLV7tN8cEUHuM+QqMgF4RIDImT96Qu3UF6ZNjI2L/RPwf/ZvG0Q/NQwkfgiQS8SOiR7+rqamRSGBycrI0nTiPSCC7hPWqfZG/byaAkS9jTXfIBFBTeHlyRkBXCAgCR+RMWO3o/+QuXbmVT1gFBeEjgki/F1Y+InUi4aOpqUkigOIQBJCsflVVVRLpo7EUJ0ikT/xbuIR1JQjerC4QYAKoCzFrt0kmgNphyzMzApGOgCBw8uQNX926gvQRRkT0BOlzZbGj+SnpIz4+vgVS+jdZ+IgAVldXS1nANCf9P5FA+p1ILuG4wEjXRH3ujwmgPuWu2q6ZAKoGJU/ECOgCAXlcHlnhBMki65s3t65I3qBxgvS5OscZSHcEkEgf/RABFDGAZCmsq6uTEkYoKUTuEuZSMbpQUd1skgmgbkStzUaZAGqDK8/KCEQKAvKafKIIs69uXSJ89EPkUG7lU1qvzxsBJBcwET4ieHTQ+Nra2pZC0aKUDP0paglGinx4H/pFgAmgfmWvys6ZAKoCI0/CCEQMAvK4PHKnEplS4tYlwkfjifAJ0icv6eIPUEoJIF2DLJVkCaT1kEuY3MAiCYXcwyK+0J/18DmMQDggwAQwHKTQitfABLAVC4+XzgiohIBw6wqipSRb11+3rpKli6QS5xhA4QJ2tgCKuYmIUv1AqhNICSTkJhYuayKAXCpGiRR4bLghwAQw3CTSytbDBLCVCYyXywiogIArty5NK8qnOFvs5J06nN26ciufCktzOYWoHUhuXnGQdVIQwMrKSongEaFzddBYsgbSeEEiuVSMVtLieYOFABPAYCEdoddhAhihguVtMQIyBORuXWFN8xTHJ8ig6Lrh7NYl0udL8oZaQgiUANI6aA8UFyhKxcjjArlUjFqS4nmCiQATwGCiHYHXYgIYgULlLTECf8TAiVIrZAETNfYIHFFqxVVNPnmrNZGtK+L5lCZvqCUIdwSQXLpk9auoqGgp/eLpmkR6yRJI83GpGLWkw/OECgEmgKFCPkKuywQwQgTJ29A9AnK3rui+ISx5rlqteXPrCitfOABLBJbIrLMLWE4AqScwWfK8HbRvKhVTX18vuYNpDoETxwV6Q49/H04IMAEMJ2m0wrUwAWyFQuMlMwJ/xOuJVmuCIIlsXW81+YSVT56tG2y3rhIhuiOAVOePSB9ZAH0lgOK6ZAUklzBZEEWHEY4LVCIVHhtqBJgAhloCrfz6TABbuQB5+bpCgAiKsO4Jt66waAkS40+rtXAHUexVFHam9dL/CQJYXl6OlJQUqbSLkoMINJFAwlDeQo7m4FIxSpDksaFAgAlgKFCPoGsyAYwgYfJWIg4BV25d55p8RGKo1AkRGDrkJV3IbUqHvLeuq1Zr4Q6cVgSQ9k14kjuYrkEkmjKFuYVcuGsEr48QYALIehAQAkwAA4KPT2YEVEVAHpcnEh+81eQjiyDVuSOLlSjaTCRP3ls3VMkbaoHjiQCS1Y9cwP5YAOXrEy3kyKooYg2FS5hbyKklSZ5HTQSYAKqJpg7nYgKoQ6HzlsMKAblbV7Ra++PrXipZ4qomn9zK59zdIhI7XBA5I5xcuYAFAUxNTW3JbvZXwJ5ayAmXsL9z83mMgNoIMAFUG1GdzccEUGcC5+2GHAFRk09Y+JS2WqPxdMgLMJMFULiAQ75BDRZABJAOkbFLfyerIFnqyNpJFkA1CCDN66qFHLuENRAqTxkwAkwAA4ZQ3xMwAdS3/Hn3wUFAZOsSeSPi582tK2L/RNcNGi9q8pFrV16EmX5HMWx6I4BECqmMiyCAbdq0kaylahyEP5Fqiq3kFnJqIMpzaIEAE0AtUNXRnEwAdSRs3mrQEAjErevcak3E8rkjN3ongIQLtYJTkwAKRRGlYriFXNBuHb6QAgSYACoAi4eejAATQNYKRiBwBAJ16zq3WiPS5xz7526VTAC1I4CEuWghR3/nUjGB3ys8g3oIMAFUD0tdzsQEUJdi502rgIBIxBC9ddV06ypZnh4IILljiRC7igEkrKqqqjSxAAo5yEvFcAs5JdrJY7VEgAmglujqYG4mgDoQMm9RFQTkNflEti79nzxT17kIs3AFO7t15QkcgS5OLwSQYv3IFSsOkQQiCGBaWlqgUHo9X5SKoeQTkZHMpWK8wsYDNEKACaBGwOplWiaAepE071MpAsKtKxI3fMnWdSZ8wWi1pkcCSHsmEk4JGoQxWQCDQQBJh+SlYkTijfgQIILaGgttK703eHx4IMAEMDzk0GpXwQSw1YqOF64BAs5uXVH+w1NvXZHhS1Y+ebYuWfmCUZNP7wSQ9l9TUyO5gIN1iBZy9Cf1ICY5ixAAit8UMZzBWg9fR58IMAHUp9xV2zUTQNWg5IlaIQJK3bq0RedWa0QOBdmjP4NtAdIDAaRyLIStcAHLLYChIICkB6Q7tC5Rg5HWRh8BREapJiF3D2mFD4RWtmQmgK1MYOG2XCaA4SYRXo+WCAi3Lr2oKYbMV7cujaexztm6gvCpVX/On70LAkju0FCuw5+1+3qOJwIosnSDaQGUr5v0qK6uTkpQIdJXXV3d0paOuocE+4PAV0x5XOtHgAlg65dhSHfABDCk8PPFg4CA3GInesrSZb25dQXpo/NprKjHFwy3rhJY9EIACX8iVMIKK2IASU5EwMjqFqpDXiqG/k5kVMQFCpdwqNbG141cBJgARq5sg7IzJoBBgZkvEkQEhFuXCAIRPvo3HSJb01V9PWe3Lo2XE75wtuIwAQw9ART6Re5fshRTXCCRVW4hF8QbX4eXYgKoQ6GruWUmgGqiyXOFAgG5W1fU5JMXZqZ2Yc6uUXmrNeEGJpInSJ+81Voo9qTkmnolgCQ3ysIlkk8u4pSUFCWwaTKW1lJbWyvNTXon6hZyqRhN4Nb9pEwAda8CgQHABDAw/Pjs0CDgyq0rSJ6w1tEYCtAXpULEOfKafOHq1lWCqh4IIPU6Joua3AUcjgSQPkDIHU06R0SQ1kt/FxZC0lEuFaNEu3msJwSYALJ+BIQAE8CA4OOTg4SAPFuXXvz0I16qwlrnbOWjMUQAieSJ8aIAcyiydbWCSi8EkIgTyZIOUXonHC2AwhopSsWQ7tI65aViiBiGWyypVvrJ82qHABNA7bDVxcxMAHUh5la3SXduXdqIp+QNYd0TNfloPL1siTi0JreuEoERVsLqFKlZwGQBlBNAIWciVtSdg36Sk5OVwKbJWGd3tLyFHFkCaQ8iLpAIIOlmpMpME4B50hMQYALIChEQAkwAA4KPT1YRAdFFQ3TeoJe8s1vXudWaK7euvM0aWWNEtwYVlxpWU+mVAJLsiVSFEwF0txbRQo7ax1EbObn1mkvFhNXt1KoWwwSwVYkr/BbLBDD8ZKKXFbly64qMXXduXWfCJ2+1JrovCJKoB9eoIBJ6tAAKAkhufrK8hYMFkNZCcYCUBex8yFvIiZqNXCpGL087bfbJBFAbXHUzKxNA3Yg65BsVri95b13RPkuJW5fIobzzhjsXmh4sY3ohgKLQsogBFC5+IlKeSFewld7bWkjfaS+0frJM0364VEywpRQ512MCGDmyDMlOmACGBHbdXNSVW5c2L2rxOdfkk5NEebauIHxKeqwyAYwcNSPSRO5T0gM6wpUAUsiBIHfu0Ce9JKJIY4nAUqkYjguMHF0N5k6YAAYT7Qi8FhPACBRqCLckr78nsnW9uXXlrmA1W60JAkj12MK5kHOg4tID0fVEAH0hXYFi7Ov5lKxCVj5f4k7JVUylYigxhHRUWHNJVzku0FfE9T2OCaC+5R/w7pkABgyh7icQJTmEa9cXt644R1hyfHXrKgWbXrBMAJWiFn7jXRFAYWkLNwJIhFzU/vOGpLyFHMUNkkVcfDBxqRhv6PHvmQCyDgSEABPAgODT5clK3boEknOrNXrRyeP4tLLQMQGMDBUlOZILWLh/RfcWSvwgS5o3t2uwUCCiSrotLHq+XFdYcGkfZDnkFnK+oMZjCAEmgKwHASHABDAg+HRxsnDrypM3QuXWVQo4EQcquyFix5Se3xrGR6oLWB4PSlm+f7zwWgooiw8R0c3FV6ubljL1hwCK9VBcILmQSV8F2aU90scRuYm5XqCWkmudczMBbJ1yC5tVMwEMG1GE1UKExU701vXVrUuWGCKKNJ5eWKFutebsOgwrkFVaTCQRQHfxoKRXIgmE9Ep0diFrWU1NjUQKyRoYapJEHxy0FlHrT6mI5aViRByhKBUjXMJK5+TxkYsAE8DIlW1QdsYEMCgwh/1F5C9e4VITLx55xq58I/KafOKFLCd8Wrl1lYDJBFAJWsEfK6zL3j4cnF35Qt/I1Uq/I50l4kWkKZR6R2SUiJqw4PmDqGghR39SXCDti0vF+INk5J/DBDDyZazpDpkAagpv2E4eiFtXvKyFe0qQvnBsteZcPy5sBRLAwlpbtrNw3YoyP/Rvbz2anQkgET7SN7K0kYzpEPOK+noBQOr3qWoQQLEXSm4htzDth1vI+S2SiD6RCWBEi1f7zTEB1B7jcLmCs1tXWBU8FWH21GqtNTSzd+4hGy6yUHMd4U4A5R8bzlnfvvRodrU/ZwJIOkxk0Lm+npo4+zJXdXW1VNePftQ4KPZRfMQItzLdk6KPcCitnWrsj+cIDAEmgIHhp/uzmQBGrgq4cuvSi5NeIOSici7CTEi4a7Umt/K1JsSYAIZGWmqGB7iKcZQTQOe4O0GaRH29YMYFVlVVSUSUrq3WIUrF0D7IGsilYtRCtvXPwwSw9cswpDtgAhhS+FW9uDyeil6CIk5KuGpF8Dz9v7whvXDF+WOdUXUDGkxGBJBisugnUo9wsACKjw2hS0QAyTqlRniAOwJIVjD6kHGVeOFMmoJlKdOCAJLeykvFUFwgt5CL1LtZ2b6YACrDi0c7IcAEsHWrhLy+HpE+b9m6ZDmhcUSInFutiZd1MC0mWqNPcVS0LyaA6iMtL+ZNuiRqO6qtR/4QQEGaiBzK++6qj8KJM1ZWVkpFoLXQN8KhqalJKhVDyS/CzcylYrSWavjOzwQwfGXTKlbGBLBViKllka7cuuJlJ5IwnAmcPOheWAWde+tGEumTS5QJoHr6LbfyiULMzsW8tdAjbwTQU+IFnRvMuEAtCaCQpGghRyRT1D4UGfvkeg6WtVM9zeKZ/EWACaC/yPF5EgJMAMNbEeRuXVGTTzzsaeWuMm/dueNE0gZZAH3pVRreyPi2OiKAtG81Y7J8u3JwR2nR8USue3JrcbBrO5KlkaxeRHYEwRRlX8gF7EvmrXMyhRZElSReUVEhlW4hjLQ8RKkYkhHdy6TjwvrPLeS0RD685mYCGF7yaHWrYQIYfiJz5dYVLyzxdS9/gYlsXrLKOLt1hYVGnCdepnohgGT9EZ0Uwk/S6q1ILQIotzCTLokSLaJMi6vEIfV24XombwTQ18zbYMQFlpeXIyUlJSidZ0g2RIyJ3BI55lIxWmti+M3PBDD8ZNKqVsQEMPTikr90icS5St5w5dYV9ficX9T0snZXk8/VyzT0CGi3AiaAnrGVW/lEBxfSHblrVytrma9Sd/XRIuJYKQ7OVwL4h8dDShrRIi6QsCQLYLAIoMCP4gKpVIyrFnJkDWSXsK+a1vrGMQFsfTILqxUzAQy+ONy5dWkl3mryCSufyLJU+qJ2FU8VfASCd0UigISpWnXZgrdyZVdSYgGUx4TKPx7CtdSPKwJILmBar1ICKEigFnGBggCmpqYGnXTJW8gJV7kIFSGctHZJK9NWHq0WAkwA1UJSp/MwAQyO4MVLlx7UotWaIHzeWq0J0kfjA221Fg4lQ4KD+LGrkHWEDj0TQPHB4erjwZdCzMGUl6trEUmlWE552ILcAuhv6RW14wKJqFISSJs2bULSk5iuT5ZAuXWTiC49b8gqSbIOtTU31LoUaddnAhhpEg3yfpgAagO4K7cu/R8dnrJ1RQyfllmWSqxF2qATvFn1SgDlcaSkU2p8PARPaideSSsCSFehuSmJhO7JQPsIh5oAurJuilI9ZBUUsbBMAkOlyepflwmg+pjqakYmgOqIW56IQV/cIp5KWPncZevKX9T0d3o4a51lSVYCyp4k93GkH0QASTa030g+iNSTlVPok5qFmEONG5E0smSJkie0HrLeUdID/fhrART7Iv1QIy6Q1klrSUtLCzVkEj50n9NzR5BbLhUTcrGovgAmgKpDqq8JmQD6L+9A3LoigYOuLjIsRfKG/yvy7UzRW1QPcUGiOHYkEsBgFWL2Tau0G+WNAKpRe0+NeoH00UcJKeFAAIV1k9ZDB7mAiQhyqRjt9DQUMzMBDAXqEXRNJoC+C1PEUgkLn3DT0gxK3LpqtcjyfeUnjtRDf1yxYyKARCBE6zt/MQuH8+T1HZ1DBGiftMdItOoGgwDK9UV8IBGeStylJBNyJ1MMYLgcwrJJxI9c3JQVLLwVpCv0byV7DJd98TqOIcAEkDUhIASYAHqGT1hZRPKGt1Zr7ornyq18oX7g6qE7hpCqIOutkQAqKcQcyXGddO+RK9+dC5hKrwhyE9DD8I+TRVwg3bMids6XeUnXiDxSFnC4HKQXwg1MH35cKiZcJKPOOpgAqoOjbmdhAnii6IWVRXTdEAH08kxdZwIn4q5EAoconhuuZTX00h2DJNvaCKC3QszuarrRiz5SLYCuCCDJlaxXFAOoRfcNVxm13l4S4UgA5V1SRKkYei45t5DjUjHepBuev2cCGJ5yaTWr0jsBlJfIEGRBSbYukT55Tb7WUFZDL8WRBQEkucbHx4flPalWIeZIJ4Dk4pbLUJ4EogUBJGUh2dDHEt0vZGH01k6Q1kTjKd4uXA7nItmihRz9SS3ryMopXMKCBIbaQxEu2LWGdTABbA1SCuM16pEACosdEQN6YNMhYvi8Zeu6arXW2upr6aU0CsmVrB7O5CHUt6PcYiy6vgSaCKRHAkhZz2QF1Lr9mq/1Aum+op/k5ORQq1jL9V1lSAtiK9zq3EIubMSleCFMABVDxifIEdATAfz4448xbNgw6WtelESghyAROOeve3fdEkLZE1UtzdVLaZRwIYDBKMTMBFDb/ru+xAWGIwH0lCHtTGyF1ZM+grmFnFpPW23nYQKoLb4RP7ueCOCECRNw7733onfv3i2Zb8IdSg88eVkNf1uttQaFieTSKM74u4ofC4aMnAsxk1tN3rZP7f6skUwARTyuswtY1LIMVv9db3GBousGuVbD5fDmHncuhE16KkJg6JlIOssu4XCR5snrYAIYvrJpFSvTEwG87bbbMG7cOMkKKOJe6KEt/q71SzpcFCKSSqN4w9RVCRFv5/jze3mJFnlcqDwRSMsXaaQTQCLy8kxu0mE5AQxW/11PcYEUTkLrDCcCSO5xckl7qvkp2kPS2sk7QmM5LtCfp0Dwz2ECGHzMI+qKoSCAn332GV577TVs3LhRqsBPX/ieLCLkxrj99tvx9ddfS+MuvPBCvPrqq4qDre+//37J1XvgwAH07NkTU6ZMkb5u6YfiiVzF/0WUsP/YTGvLjA1EBloRQHnnF+e4UEH6tCR8zpgwAUz1+AwJRIdcnUsElDAnEirqBRIBFH141b6eP/ORjvpqHZUXwiZLq+idTf/PLeT8QT845zABDA7OEXuVUBDA7777TgrcprpUN910k1cCSISPSAsRR3ogXXHFFVIZg/nz53uUC33RrlmzBt9++y0WL14s/b1Lly4499xzMX78eAwePFj6Yne2LkSssP/YWDgmRmiFuas+sv5ey1MhZtHFJZikT76PSG7v5+qDRVgAiZzQByIVXw429s5xgcKbIK9X6K+uqXGeIIBKrKOENRFbcv86l4oRLmE11sZzqIMAE0B1cNTtLKEggALs5cuXY9SoUR4JIFnrOnXqhN9//x19+vSRTqW/n3766ZIlLy8vz63srrvuOslqOHr0aJx33nlSkdaSkhI88MADLefoiQyJTYcqLi4UNxnFbdGHBrm2lB5KCjErnVvt8ZFMAF2FLIQDASQZyuMCxUdAuBBAWps/5JjOo/qBdNB9Q/sSBfC5VIzad25g8zEBDAw/3Z8d7gRwwYIFuPLKK6WXuPwg18ucOXOkmD53B7k/KP5FtMf6/vvvpXNmzJjRcopWLsJwViw97VkpAXSX/R2uRb2FnumRAArXqz8kR837Ux4XSFaycIkBpPucysD405uY9kTPXCLaRGi5VIyaGqPeXEwA1cNSlzOFOwGcNWsW7rvvPhQXF58gn6ysLLzwwgu4+uqrfZbbhg0bMG3aNLz33nst5wiCQA+5YLuQfF64ygOVkiKVLx/U6bzJV61CzEHdlIuLRToBJDnSR584qOSKyAr2l+SoLTMqukzWdXlcoNrXUDKfGr2JCWfSLXkLOZKF6COsdja7kv3xWO4FHMVKEBgC4U4AA7EAOiNTWFiIyZMn48svv2z5lciA0yMB1MOeXcnXVSFmYeETbrzA7qrgn80EMC34oDtdkWLn6COS4uiU9hHWYvFqtaYTLeTEnrhUjBbS8m9OtgD6hxuf9QcC4U4AKc6vc+fOUsawPAawf//+KCgo8BgD6Cxk+prNz8/HihUrTiKAZE3Qy9esnkiv2CtZZUS2bmtr3efLwyocCKC13oqyLUdQubkI9btKYN1fhKjiYhiPHkDzS3Oxt7ILRo2Zj7YJHX3ZUssYV3Urw9ECKPrukruU5EH6JtqtKdqwSoPVbE3nqgYil4pRSVABTMMEMADw+FSp32VzsHGghwl9nVISyNixY6WAY/q6pAenKzfsRRddJI3/6KOPpCzgSZMmSe6fLwjvVFEAACAASURBVL74QvHSe/TogbVr155wXiSX0HAFkCBFkUx6nQsxEw7CytfaWvf5ouRaE8CawmqUbypB9bZiNO0pgv1AMaJLihBXXoTkmmK0bSpEhuOwtNRSQyaOxuahOikbjWk5sGdlonTMTGQO3A8bgP3W3jij2zSc2m6UL1uT2quRzspdwERuyC1J/0/PD8oCDvUh77sr4gLl7daCvT61O5PIS8WQ94BKxQgSyKVigi3dY9djAhga3CPmqqEggB9++CGuv/76FrJHDxEifkuXLpWsfb169cKiRYswdOhQCWcK8r7jjjvw1VdfSeOIEFIdQH96bhIBpHIwcqJJL096mHkqlhoxAv9jI5FGel2VaKGXEslUkAWRDBRpsqT9+EsA7RY7yraWonJLMep2FsO6vxg4VAhTaTESKovQpq4IGdZCJKEW9YjDEWMuyhNyUZeSA0tGDppzs2HqlIP4bllI7Z2Ntr3bwRRvcgnx6tXvoqHxbtTBhLbxVhQ0ZSA78w6c3fUuj9Z3ZwJIshb9ncOVAAoAnGPoghlnrFVnEtFCjj7YRRymeIbT/+nFkxIOzxEmgOEghVa8hlAQwFDCRS5gqh8oz9SjbDfK3qMfvRz+EoZwwUdJIWYiu5Fs7XRHAOtL63B0YzFqtpegYXfxMatdcSFiy4qQVF2Eto1FyHCUwAg7SqMyUBaTi6qkHDSk5cCWmQND+2zEdMlGUo9stOmbhZQOqYgyBBZ2vX//amzceBFszdGwZHRHZvRG1NnNcCSMx7k9pyMh5uRYPiJRdIjixMKDQFYocrOSLlOtu1AflIxCVknnvuLyGDoqqxIsEqhlZxLCXcQ80p6I9IlSMdxCLniayAQweFhH5JX0RgAvuOACTJ8+XbI0ioMelMIFHZFCdrGp1mj1FFY+eqHSC4j+LfrrCreuq5drpFk7HTYHKnaWoXxTMep2FcOyl8jdIcQcLUZCRTFSyWpnKUQKqtAEMw6T1S4uB7UpOWjKyEVzdjaMZLXrno2Unllo2ycTMckxQVP9mppSfP312UhJKUW7nNdRhOVorp2DpGgLjiAfQ055Du3T+resp7UQQPJU0IeGMwGkjRA5Ij2kP4MVF6h1ZxIRSkLhOUQCifiJDzORJRwsshs05Q2zCzEBDDOBtLbl6I0AUnFoagE3cODAFlGRq0S0g2tt8vN3vWT1pBdVOLu91SrE3JqsnY2VjZLVrnrbMaud7UARDEXFiD1aiMTqIqQ1FKGdvRhmWFEelYaj5lxUJuagLjULtnY5iO6YB3PnLCSemoO0vllI7ZoWsNXOXx3zdJ7dbsOcOeOQnb0SVuv9GDnyYazc+yoOlbyCjjFHsL+pA7q3fwADO06WYgBbgwWQCCBZJd15EoIdF0j3OF1Ty8LUND/Jh67lqoUcYcEuYS3uoGNzMgHUDltdzKw3AnjPPfdILeDGjBlzgoXBOcg80oVP1gEif+Hm9taiEHM4EMBmRzMq95RLiRS1O4pg2VcCx8EimI4US4kUqbWFSLcUIq25HFYYcTg655jVLjkHjW1z4MjJhrFjLuK6ZSOZrHZ9sxCXFteipq3RokuLX7ToISQkvIaSknMxYcIciSzsPLIUv+5+BHnGzSi1JCIm6WoM7/4oEuNTpP2S9VdYncgaTLqcknLsd6E8qPA8Wfe8fVQFKy6QdII+bEWcnpbYiJqDrlrIie4hWl5fr3MzAdSr5FXat94IILl/KV6IMonF4arMhErwhu004eL2DkYhZq3JkaXWgqO/l6BqWwnqdxXD9kf5k5jSIslq16a+CJm2QsSiCVVIQSlZ7RJyUN8mB5Z22YjKzYG5aw4SumcjrW822pzSFgajQZHuaL1HRYtROHj9+s9QWnorysrycPHFPyE+/lg8X3n9QSzddj/imxaBQg+rokdiaNdpSIlpL/2esoLJ1UgW/NZEAGntwYgLJJcz4UNxicE4hJub7mnRQo5LxWiLPBNAbfGN+Nn1RgDfffddqR/wnXfe2SJbV83mI13w9NIUpRuCvddgF2IO1N3tsNsx4+6F6NlUi8zCQzAepvInxUiuLUJ6YyEymo/ADgOOGLJRFpuDmj+sdvasHER3yEZs12wk98qWrHYJmcp7Evsin9ZMAGl/RUWbsWrVaERFNSM//1vk5PSV4uX2Fu7FknXfY+XGmWgs2o49G65DdfQIfDF7NDq1RUuf2nBIAikvL5eIqK/Z5q4Iky+y9nWMqEsoL5/j67n+jnPl5uZSMf6i6f08JoDeMeIRHhDQGwGkziLLli3D1KlTW1Chr3FRVkIvyuIcV6XlvoWVTyRvBLsQs78EsL7oEAp/fhcVcbPx5xs3Y2rfacg/UghrRjaQmwNTp2wpkaJNn2yk9cyAMdaoJYwe527NBPBo1VGs+H0FVq7/Ect/noXyo42oLo1BY6kFzXXNiEqMQmJWItq1b4f45NNwcNe/UHmgBy74WzVeusWCxBgoIl5aCIl0nFzARESVxLxpGRcor0uoxZ49zUnPU7JAirZ4NJZLxagvBSaA6mOqqxn1RgBXrlyJN998U6ojKA6KKSKLmJbB0uGmVK6K66q5RudCzBSL5Jyxq+b1PM2lpMwPWftKfvoKR0s+gLXjj4g+eAZ2HrkTNz91OUoP1cNsDKwMilZ7DncCWN9Yj5VbVmLVplXYvG0z9uzZg8MHDqO6uBqOKgcQA8RlxqFtblvEJ9Wie5dKdMwciduvfRXpieknZOmTbj3/ZQNmPJEMe4MBNz1YjkcnRCE5OSlkMa3+EkChD1rEBborS6OVDjrPS89VskISIZaXiiGsRPwxZwkHJg0mgIHhp/uz9UYAd+3ahbvvvhuffPJJi+zphUIkQQ+9ccWm1Y579FSIWfTXDdXD3peEl7pDBShc+S5qkj8DTE1IKJ2InAE3Ibl7D0x+vhE/fWfG/sXK4vKC+XAJBwJos9vw685fsXLjSmzcthG79+xGUUERKgsrYSu3AQYgJiMGbXLbIKdDDrp37Y5+p/bDkH5D0KdzH4m8CevZkiXPwGh8BkVFgzFu3FyYzTEt5VXofiVrsjk2ATe/VI3ZL6QisX0Tpj5ejRvPSWqpFxhM/GlNlAVMHUn81XO14wK9ZSUHAx96LpAlkMggkUAifvSsFeVwSOb+4hWM9Yf7NZgAhruEwnx9eiOA5Kah9nPfffddi2REPSu9EUB6KPsbIK6kEHOobwF3BNBhs6Hkx/+h9Mj7sHVagegD+UhPvRY5IybCYDa3LLvnRDu69bThf08Gr1aeUsz8dXMrvQ69uHcc3IEVG1dgw9YN2L5rOw7tP4TyQ+VoKm0C7ICxrREpOSnI7pCN7t26o1+PfsjvnY9+nfsh2hAtvfBFWz76OHBHALZtW4R9+65GVVVbnHfeUrRtmyctV/R0JkJBlvuDR5twy7+N+OX9FOSNqMI7T9owvE9yUIkFrYksboEQQNqbmnGBvmYlK9UBpePpWUFyovuQMpIJK5I5uYeJ8HOpGKWIHh/PBNB/7PjMY3EZQe8FHErgabvUao7awYlDEMBI7xYhx50SX+hHSYkIfwsxh1LedG3njOe6A/txaNXbqE35DIi2I+HoZcjNvxlJXbqftFSHoxlp3WLwzH9qcNt5+iGAhUcL8dPGn7Bu8zps3bkVB/YewNFDR1F/uB5oBAwpBiRlJSGzQya6du2Kvj36Ir9PPob0HYKE2GMdOtwV7FYSI1dauhdLl45ATEwD+vb9El26DJHmJqJEH2zydmdr9lgw+QEbCr5LxsDJ5fjkX7Fon36cyGuph4IApqWd3MlE6XXpPiNCT1Z62qOrwtK+zElJKdQu01tZGl/mUmMMPW9E9xDak+jlLD4IwmWdauw1WHMwAQwW0hF6Hb0RQBJjz549TyCA9H/hUCsumCrmS+KLqxItvlpvgrkXb9cikgC7HWWrvsHRox/A1vEXGAsGIz19CrKHjYfBQwvAFTutuGBwKvYeqEF6Yvi6gJVYAJttFtiKt8B6eDNsFbtgrdkHi6UQSzftwisLqrGtDGiubUZUfBTiM+OR0T4Dnbp0Qq9TeuHMPmfi7H5nIzMt84QPKOf6jWrqSVVVGb7++gJkZW1HXNwM5Off2EIAXXW7mPljA+6534DaglhccW81/nNnImJN2sZuijp4ZAFU6wgkLlDEJCrJSlZr3Z7mEa5y+ggQHVG4VIz/yDMB9B87PlOHFkASet++fbF8+fITAsaVvEAjQXHohUUvGOfEFy0KMYcSr9r9e3Hwl/+gvu1cqpuPxIrLkDvoZiR26uLTsu58qxGffxCH4pXhbSgX+mtorIS18HfYjm6DtXIXrPUHYLGVwBpVBktMFZoSG2FJcQDRgKkyCuaaWMQ0JcHkSMOeomh8uLQJiwtvwZP3dcQNV491i5GrmE95ko8SK583QYgknq+/vhUZGZ/j6NErccEFr0m6667dmd3uwIMfVuONacmIjmnGw9Oa8MD4eG+X8vv3WhBAWoyICyTrmJIQlUCTUvwGwocTKTaR9EPEBXILOR9AczOECaD/2PGZOiWAI0aMwDvvvIPMzONWDCWZopGgOCLzmVzAIqheuNbo4Sxe5p5itMIVB4fFguLlX+BoOVn7VsO4fwjapF2LvFGXwmBUVqpl4PVWJCY3Y9nLwXElusO02eGA/ege2Io3wVq2XbLaWRsPwuI4Akt0OSyxdbAkW2BLakaUBYipNMJcHwezJQUmpMNszoEpoRNMbbrD2K43jNl9YIg9uSYhubxfeWUtnnlmEK64YjWeffY0xMUdc33L9UTEcfkSyxeonsjvzZ9/fg0Wy8MoLu6NSZNWwGZrbiESrq5TVtWAG/7diMWvt0Xbvg14fUYzLh4YG+iSTjqf3JvkRdCiHqE/cYFqJKWoDtIfE4rkFFojYUauYFGrkIgrxwX6jjwTQN+x4pEuENCjC3jixIm47777pFhAcYRLZ4xgKKl4kVOMkTjkL3I1rTfB2I+4Rs2enShc9zbq2n4O2E1IqroSuWfdBGO7LGlITIzyGL70ftG48591eOxy9UmDWHezpR7Wok2wHt5yzCVbtx9WazEszUdgMVXDklCPplQbms2AsTYK5mozzA0JMNvbwGRoB3NMHhCbh5h2vRGTexqiM7ojyhCYu3rz5gO44YYoWK3ReOONGvTtmyfVcXMu5ROMDE5n6/zOncuxY8cENDYmYtiwH5CW1sFjCSeyov2+rxq3TDdh8+dtcOrF1fjoGRP65JlUU0+6l7RsSSePC6TkF28tHNWMSVQNpD8mkienyDOfhYVThKXTHlvjB6jaeHmajwlgMNGOwGvpkQDedtttGDduHIYNG9YiUYoTo5eZPyQh3NVC7q6TW/mICIp2WsF4kWuBk62xEcXL56CsaibsHdbBtH8Y0rOmIOvscS3WPn+LXu86bMeAU1Lw684qdM+M9mv59qpi2Io2wlq6DdaqPcesdtZiWA1ktatBU1ITrMkOoBkwVxlgro2FuSkZ5ua2MBuzYIrvCFNKNxjTe8BI5C4pw+U61AphkNdvbGhoxLRp2/Hf/w7F3XevxH33nQmj0T8c/ALvj5Oc90akoaLiEJYsOReJiRXo2HEWzjjjYo+XEFa0JVtt+PvUeJSsTsC5f63GzAdjkZYY+J60JoBic77GBWrlkg5EjnSuq9hEYQmUl4rhuEDfkGYC6BtOPMoNAnokgI8++ii6d++O8ePHt6CidWHkYCugt0LMtB5yvyiJKwr2Hjxdr2rnVhT99g7qM+YCljgk1V6JvCE3Ij73WJ9Y+eGvbKfObsT/PZWAo7/bT5qz2W6D/fB2WEs2w1qx85hLtukQrOSSNVaiKa4OlhQL7PGAoZFcsiaYG+JhtqbAFNUOZnMuTImdYGzTHaasvjBm9USUyX8ro78E0FMsn6jfuHTpdvz1r1nIyyvFO++koFOn46ETwdAJVwSQrhsTY8asWSORk7MW0dFTMWrUAx6XI7L9yV07c6UJ/3okFpYKI256pBb/vjEBxmj/E0VIx+iHsm61PnyJC9TSJR3I/tzFJoqOKKIgP32ICxIoWla21o/UQPDydi4TQG8I8e+9PRTDO7pdA/m98sorUnD1zTff3DI7fcEHUhdPg2UqmtKXF7n8AdoaS9/YGhpQtGw2ymtnwp63AaaC4cjIuQGZQ8fCEO3eiqOk6DXFwO3ZsBu5icW49l/JsFZb8c6UGbBai2ChRApzFSwJDbCk2NFsAkxVlEgRA3NjIsyONJiiM2GObQ9jcleYyGqX1RfRaR0Cdsl6UwYlBNDdx4EIA3D1oq2oqMGdd+7GkiV98cwzG3HttQO8LUm13zsXuaZ7lw6KX6XfLV58H1JT30Np6Thcdtlsj63YSO+JqBFeMbHxuH+mHe9PS0BcOyuemW7FLaP9SxSRl6NRbeMeJvIWFxgsi6TSvXqrl0jrJplSmRhRoopkRjopXMJKrxnJ45kARrJ0g7A3PVoAqQvIli1b8MADxy0G/tTFC4J43F5CjULMVJOLArB9bV4fqv1Wbd+Cog1vob7dPEQ1JiGp/irkDr0B8dm5IMJWXt+MIzUOHK6xo7yhGWX1DpQ12FFlcaCSfpqsqLHZUR8F1DnsaIxyoCHKjqZoO6zRDlhNdtjNdjhi7Oj03XqUvncnXn0ZmPHsSkwc8S4mnLlIcsmaTDkwJ3SEKbU7jBk9YczpC0N8aqhgOeG6ngiguxAAQfjIwuKrdWXWrN/w4IN9MWzYZrz6alekpWlv8XIu0eRMAGntmzdTdvBtKC3tjMsv/wVxcZ7XJWrSkaWpzmbG5KebsOzNZOSeXYt3novGyJ7Kkn6CTQBJ+J7iAoNpkVRyA/jimiaSKOoFylvI0XVIZ+nHV31VsrbWOJYJYGuUWhitWY8E8Pvvv8ecOXMwY8aMFkn4Uhcv1GJTuxBzuNc+vOG9H/B1YhyS6x2wIAH2mFjYYg2wmo8TNsTapZIm0mGNQlRjNAyN0TBaj/2YbdEw2w2IbTYgIcqI+CgDEg3RSDYakGQyINUUjTaxBrSJjUbF/O/x79dvxu1jb8VNrz+MHt3S8M3qSpx9inrJAlrpkHMWuz9WPl/XVlBwBDfdVIGCgky8/noRzj33eDKVr3MoGeeJABJRoA8Y+pApKPgVq1ePht0ejeHDlyMnx/O6RK9aOp9CITYdsuOah6zY9b9knDGpCh89EYPOGb5ljbsrR6Nkn/6OdRUXGApC6sv6fXVNy931IulFfPSSvLiF3DG0mQD6onU8xpMlSXcu4A0bNmDatGl47733WnARZVGc6+KFUnW0LsQcDv1j3eE7c+1a3NFoRVJBMwZGdUBKXDySTQa0iYlGaowBabEGpCcY0DbegHaJBmQlG5AY6zrzlV46RPA9tb2bP30+/vL0X/DktU/illdvwWuLm/DIbUko390Eg8H/2LBg6Q/JUnRSkCf6+GPl82XNVGfvhRfWYsaMszB58ipMm3Y6YmOVWc18uQ6NcSaAJE+yWpI85QTw2NhyzJ07CG3aFCEv7wP073+Zx8vIExBEYeI5qxvxt/ujULktDpfcXY13/xGP+BjPWdWivy2RlVAcwrJGxEh0SKH/oz2F06HENS1315M7WCTokcwECWytFQvUkgkTQLWQ1Ok8erQAFhYWYvLkyfjyyy9bpE4PFXqIhzopIpiFmJXEjQXz9nh71SrcY7FgfFkZPpQl6vi7Bm/u/c8e/wx/e/FvmHHrDFz33HXSZS56tAl7tkdj6+e+WYD8XVsg5zlb+WguQfiC5SZbv34/brrJhKioZrz7rh2nndYxkC25PNc5VMETAaQJCJdPP70ImZk/wGL5B8aOfdrjmkQCAlnShLWJQguenleP5x6JAzXL/MfUBjx+RbzbjwG6l2ieUH5AyuMCSf60nlARUneA++OaFu56QW5pbi4VcwxhJoCqP270NaEeCSA9hPLz87FixYoWYQuXQ7AJoLDyib6p9BAXhZjpIa4kPkup5pLbiq7hraaY0nkDGf/azz/jIYcDV5SX4+2LPZf28PU6ntz7H97/Ie77z334v7v/D1dMvaJlyk7nOzBstAUz7/U/M9fX9fk6zp2ukAzpJUly9LdvrK9rcDWuoaEJDz+8ER9/PAj3378ad999pqpWU08EsKamRtq3KCQsX9/ixY/BaHwOJSUjcNVV33hMDqHzhCtVWJsozqy+yYFbXqnH3OeTkdK9ES/PcOCKs07WCbJS0nglvbUDwdzduSIukPZCuISbBdBfV7mrpBcuFcMEMPx9M1rc5SrOqUcCSPA59wMOZlassNyQq04EtIeiEHO4Fb9+8ccf8XhUFCZXVuK1iy5STcvdEcD/3PEfPD7zcbz5zzdxyf2XtFzPYmtGel483l9QhQn52rg1fd2cJ12RW/nCoZPNt99uxe2356Jr1yK8/XY62rd3XbPQ172LcUQAiVgJdx+RXXIBEunzRADp/I0b56OgYBIqK7Nw6aWrkZiY7vHyzq5UkWxwsMyGSf9qwpqZKeg6thoznzFiQOfjuhEuBFBsrrq6Wnq2yMmsUty1GB+IpVRuqaUPdfrY0XupGLYAaqGlOppTzwRw9erVJ2STaZUUoWYWppqqSYHiosaWmvP6M9dzy5bhKaMRN1RV4aULL/RnCrfnuOp7/NL1L+GZuc/gg6c+wNg7T+x5+/lqC268JAVHD9bDbAzuN6a/FuFwIIAkgLKyKtx++z78/HMvPPfcFlx1Vf+AZemJABLRodgwTwXcS0q2Y+nSYTAarRg4cDE6d873uCYi3UQsifyJLFRxwk/bm3DDgw4cXJ6EP91UhY8ejUW75OiTYhED3nSAE4gsWoq5E67TcMicVYMoC0stfQCIuF5RKoZIoZ7iApkABnij6P10vRJAcgHPnz//BBeJmjFx3goxh8PD2N8OGWrfM0/98AOei43FrdXVeG7siWRMjWs5J/hMv3I6XvnmFcx6cRZG3TjqpEtMfr4RK743Y9+iwNqp+bp2edynvxbhcCGAYs/vv/8rHnnkdIwevREvvtgtoHIxgRJAWlNjYy1mzx6CjIzdaNPmVQwefINH8QiPAMmDSKBIsBEnvbukAQ88YER9kRnXPFSLZybZkRBndumK9lUP1BwnLKNEiAg/EQ8Y6pJPzkk7/u5ZZHAT2XMuFaOnFnJMAP3VID5PQkCvBPCCCy7A9OnT0blz5xZNCCQmTmkh5nBQP387ZKi59ke//RYvJyTgrro6PHneeWpO3TKXnAA+9ufH8N7y9/DZG59h6NVDXV6v50Q7uveyYcETynsH+7IBV9ndgcZ9BqK7vqzZnzHzf/gBf7kjAw21OehwVgwGDDJh7FlR+PNAM+LNvllWXYVmyF3AvlgAxdrpo2zOnEnIyPgCVVU34JJLXvdKAslKTtiSy9HZykiJIvd/WI83noiHKdGOR56sx32XaF8X0RdZyHHxVC/Ql7nUHOPNZa/kWrQvIpSuWsjppVQME0AlGsNjT0JArwTwuuuuw5QpUzBw4MAWTJS4RNUoxBxqdVTSIUOLtd6/cCH+k5yM+xsb8c9zztHiEtKc9IIg19OTE5/EZ6s/w7wP52HgJcflLr8wvdTTusbimTercdt56hFAV9ndasZ9hgsBJJL11uK38OLKF1GcVIyMqlx0Kn8MptTx2P6bGRWb4tFsMSCpZz269bdgaL4D44caMaBjtMvEEW8EsKqqSnIDKkl+WbJkBuz2x1BScgauumopjEbPcZ6iOwURQLqWs/W+st6Ba6ZV4/v/tEW7gXV4e0YUzu+nnu74c2O4woWeb2QpDmVcIK2LXLdq9Vwn/XAm6fK4QLIGRrJLmAmgP3cHn9OCgF4J4D333IPBgwdjzJgxLVh4c4kKK5/I2KV/05cm/YiA/HBw7fqq3r7Ux/N1LqXj/v7113gvJQUPW614cORIpacrGk/yumvEXfhm8zeY/+l8nDbmNLfn/7TDigvPSsX+gzVIS/DfBayFlc/TpkNNAMtryvHwJw9j3qF5aIptwhk4A8+MfwaDew4+Ydk2ezOWbrPhy5V2rFljQMGGWDTsjochzYLMfg3oM8CG0YOBCYOMyEiOllyXzj2rSW/pfiMS4Q8BpAVt3/4dtm27FHV1qbjwwlVo0ybXo07Ji0aTy9H5Pqd1FFQYcf0TwJY5KehzWTU+fsqEU7JDU0S8srJSslo6Z/g7l1QJ9vPK3boU3dAuBot9uWohJ7qHBHqNcDyfCWA4SqUVrUmvBJDcv6mpqZg0adIJBJBeOKKkhKeXuCB+wX6Aqqla3urjqXkt+Vx3fPUVZqakYGpzM+4eNkyryxyz/tnsuHXIrVi2axm+nPcleo303B3izrcaMefDOBT9rLw+ursPBHkxZq02GyoCuHrHajw872Gsc6yDucmMS3MvxbQrpyE9xXO2rRyH0mo7vlhjw3ermvH7OhMO/x4HR7kZsd3q0en0RvQ/3YJLh5lxTm8TjNFRUsmbQAkgXb+srAALFw5BfHwNeveej1NPPTke9ETrsMNtPJ2ciH6zvhF/uQ+oWBuPSzosx383DtW8F7SzXlVUVEjxzc6xizROJLnQ32lMMC1kntYV6L0hWsjRPETS6Rkd6aVimAAGqjU6P1+vBPDdd99FSUkJ7rzzzhYNIFcPWYvoq5keJvQjrHzBeIkHWxVD0f7u5i+/xGdpaXjGYMDtQ13H4KmFg81iw/X512PdgXWYPXc2+ozo47WH6IDrrUhOacbSl7yXfwmnD4RgEkBnN29WTRbuGnwXbht7m2pk4tf9NsxdYcPPa6Ow6zczarclAOZmpPWpx6n9mzBiEHD1iDhkxNa5tHT5qkM2mwWffDIcmZkbEBPzNIYPv9vjqe7i6eSWreoXl+PAkyX4wdIN+zP34Mq4J3D6ypWISQ5efGB5eTmSk5NdEkDaYCjiAumaRABTUlI06z/ual+RXCqGCaCvdzqPc4lAuBDAxx9/HO+88w4oeHnAgAF47bXX0Lt3b5drHjFiBH755RfJLJE6ugAAIABJREFUBSTS/5977jnceuutPkt5wYIFWLZsGf75z3+COoNkZ2dL5I/mCzQg3+dFhHigq/IoWi7pui++wBdt2+LfZjNuHnyia1Dt61rqLZg0cBK2H9mOr777Cm27t/Wpy0t6XyPufLQWj13uugB0KK18njAKBgEkN+8jnzyCuYfmenTzqilL0aEnyhSPr9bbsHClA7+ujUbRpjhYD8TB1L4BOf0aMXCQA2PPisal+TFe27a5Wt8XX9yC1NSZKCubiIkTZ3ndgjyejjwGRAANC3eh6N4dqC7LQt7oUmS+fxFKC3agdvRoOAwGpC5Zgnb9+nmdO9ABvhItGkdhL8GKCxTrIs+L1lZH5/7IgvSSxyaSSsUwAQz0btH5+eFAAGfMmIFXX30VCxcuRNeuXTF16lTMnDkTO3fudFlZf+TIkRg2bJg0zp/j0KFDEsFcvnw5tm7dih49euB///ufZB0i91K4tU/yZ4++nBPM/sdXzp2LbzIy8EpsLKbke67D5svaPZKh6gZcOeBKHKw6iK+Wf4XsHtknxZG5On9HsQ1n9kjFb7uq0K1dtDREbuUTVmHSE3kCRziEAWhJANfuXIsH5z7Y4uYdnzMeT1/1tCI3r78yddWikSz19BIvKI/CzO+r8cuGGGz71YTyTXF/JJg0SAkmfxoMTPyTCQM7UyKA96zjX5a8A8vclajd2xdnzL0e2fGpHpct4s6i1hzCkdvXoeJQJ2QPOITsmWNg6nq8CHZDeTk2DRmCrgcPovTNN9Hjmmv8hcOn85QSrWDFBZIsiSi3adPGqyXep416GUQfuKLsjOjwRNjQESmlYpgAqqEpOp4jHAhgly5d8I9//AN33HGHJAl60ZJF7sUXXzwhRk+IiQjgn/70JzzxxBM+S2737t148803sWjRImzbtg2nnXaaRPTI8ti/f3/phU7XpRepXgigeLlqvd8Jc+bg+/R0vJGUhKsHDPBZZv4MrCuvw4QBE1DRUIGvVn6FjC4ZLYkE8m4SruaeOrsR/zctAaUbbJIuOCf7hHMYgNoEULh5X/rlJRQlFkELN68v8nWlo/K2d/KYMkow+WGLBfN/smLVGgP2bzCjYVc8DG2syDytAf0G2jD6LAMuHxojFW8WB13j0BOHUPTvIjiMFnx7/XrM+HNnPJWdgrtPHe52mdbtJSicvBiHN3VEWqd9yHnnbCSc3d3l+GaHAysnTED+woX47S9/waCXX/Zl+36N8YdoBSMuUHRZIQIYrIP2RUlEkVoqhglgsDQpQq8TagJILl9yCZBLd9CgQS0on3/++ejbty+ef/75k5AnArh582YpmDkzMxMXX3yx5Mr11Ih93bp1eOONN6Ss33PPPVeac+zYsfjuu+9OeBGQOyTY/YBDpVqurCtqr+Wi2bPxY0YG3ktLw4TT3GffqnHdqsNVGD9wPCx2CxasXoC09mnStK5KicivJ2KEht9lRX0tsPz/rJKFItysfJ4wUosAunLzTrtkGob0GqKGiBTP4YoACgsgWQG9JRUcqbZj7ioLFv9sx8Z1RhzeGHsswaRrPTr1t+CyuAqMmFcIQ60dbS9vi25vdoPD3Iwpv36BOU1t0MteiG/yL0ZWXErL2u0lVSiZ8hUKl2UhpV0R8l7ui6bhHSSdcZd4IU5e//TT6PnEE/g1Px+Dv/8e0WbvsaZKQSOyQ0kpaWnH9N/XQ9wnwguido9wmpfIGD3vg3nQvuj+ILe9qOcYKaVimAAGU5Mi8FqhJoDkju3QoYNklTv11FNbEL7yyiulIOa33nrrJNRXrVoluW3pQbJp0yZQTT8695NPPvFZQvQA6NWrF9asWdNyjquSEz5P2AoHarlfenGP/fxzrEpPx6zMTFzUp4+mCJUfLMfFgy+GyWDCF+u+QErm8Rc2Xdi5m4SI5ROWPvp3t9FJuGxKHV6+OVbzGCW1wQiUAJKb96G5D2GtY62UzRtMN68nLFxZ5eUEkJIdlCYVrN1rwaLPatDnpQJkVjVhBxLxeHwP2Po50HOAFSPPisIVZ5txKGovrtjyK+oNCZiem4a/5uaj9Jb/4eC8BMTFV6HDk3lIuu1s6QODiCjFAhLJIIu6p7qE+xcvhmniRBxNTUXnlSuR3L69quoQiKXNOS5QVERQY4EkN9JTklcoDlHPMZJKxTABDIUmRdA1Q00A/bEAOsNPsXyjR4+W+ncqKTDas2fPEwigK6IQQaI+aSveLGP+7p3I37mzZ+O39HR8mpuLMT17+juVT+eV7i3FuCHj0CauDeb+OhcJaQknnUcEUCQNuYrlq2iIQtcOyVi0phJDuoemdptPm3UziF6sVPZCSUFkktM7376DF1a+ILl5M2sycdegu/DXC/4aNgRYbQJoq7Zh17W7ULmoEqYsE7q91w3moclYsK4JX620Y90aAwo3xh5LMMlrQPbp9bBd+CVOXdcdty6oRl51Dbr8LQ6pT5zXUtpF7nIV8XRUMJrIk7v40KqCAhQMGYK21dWwzZuHjqNHByL+E85Vw9LmXFdPjThXSsygH/qwD9UhSsXI+zy35lIxTABDpUkRct1QE0CC0VUMYE5ODl544QWXMYDO0P/444+SW5fIpJIvVnIxE3mUuzrIRUFzhLpnZrDUi4gRvazU2i+9DId/9hk2padjTvv2OLdHD0238sMH3+Cep69Dx7hEvP/aVLQZfCWi/ujsILfy0QuNDneFu19b3IRH/pqE8l1NPiUMaLopPyZXQgDDzc3rzQIoXHdinLAA0n3ra1kR0ssDjx5A8cvFiDJGocPUDsi5K8ftpXeVWPH5CguWrgYqvrLikX178cnYOiy6owzPdkzHbd3ObjnXOeZOJB9QCIGncBK7xYLVo0ah/6+/Yvtjj6H/Qw/5IfmTT1HL0uaKLAWyQJIj3YfkJg/l4crVLZ4VtC6KFVaD8AZjj0wAg4FyBF8jHAggxflRFvDXX38tkcGnnnpKygLesWPHSVnAR44cwfr166UkELpRt2zZIrV069SpEz7//HNFkqJyMlR6huIIxUExgGRFcVVAVdHkrWSwmoTXZrfj7NmzsSMtDfO7dMHw7q4D4tWAZteGXfj1/l+RsykNi/r/E9deXYbGDqVAM5BcnI4Ewxkwt78Ipl5/hjEmTkroIGLvTq7j/tmEvTuisfVzoxrLC/oc3gigw27D21++hzlbP8aaqPWSm/eSnEvw9JVPIyP1eMZq0Bfu5YKuMtWJ4JA1l2RJBNBbWZGjnx/F3jv2wl5tR/rV6ej6RlcYzMq6vMx6oBp3vNwG/Z5ahDWDjTjdcRBf5V+K9NhEKcHAOeaOSCF9XBGxEEWJ3W119Z134oy33sKasWMxZO7cgItGq2lpUzMukJ6tNJ+nWO1g6Z+rEjiCoJKFsrW0kGMCGCyNidDrhAMBJGj/9a9/SVm65Mal/ryiDuDBgwelWD3K3h06dCgOHDiAyy67TCoRQw/erKwsTJgwwWsSiCvx0Tz33nuvNL84Ao2lam1qQgRQvEwDWTuRv8GzZ2Nvaiq+OvVUDOnSJZDp3J57+MBhLHlgCTou7oiC4QUY+uxQ5HTJkXTB2lgP69YFsBz8H+ocv6E656g0T0pxO8ThdCR1m4D40ya0WAjlF+l0XjOGndeEmfe6rv+nyWZUmtRmacSBHetwpHA7jhzdg6Ky/SiqLUJhUykKm6tQZKxHYbwd1mggbl0PPHDFJPz9or+FjZvXEwyBEMC63+uwc9JONO5qRGJ+Ik755BTE5Prfo/elG2vx1MfJePydrZiavQFNhli80D4T13c8U/I+OCdduCpK7G6v2//7X7T7y1+wu0MH9Fu1CrEBJEqobWlTKy6QnjVkWaMP93A55CVwaG20V7E+IoHhbghgAhgumtRK1xEuBDAU8N12220YN26cVFNQHPTwpCKlSmKpQrF2ta6phsXTYrMh//PPcSAlBYt798aZHTuqtbyWeWqravHNo98g+5NsFPUsQo9pPXDKwFMk4kcPbtGPmf4U7ptmmwWNv89D7b4vUG1di5qco4hqjkJycQaSTAOR0HUCYvtcjKZmE9rlxeODr6pw6ZnqZ2UGAkZDTTmK925E8aGtKD6yG0UVBSisLUaRtQyFqEahuREl8Q7pEtn1BuRYYpGLZOSa05GTkIWcNh2Rk3kKsnJ7YE1lI/5210OIS0/Hko8/Rrd27QJZWlDOdVWsnCyAZM2l+9RVXTlbpQ07J+9E1XdVMOWa0P297kgZrk7iwcMX1OLDZUlYvKgOj5oXYKEtE2fYD2JWj1HokpnnEhNRNFpkoLoD7sjGjag85xwYHA4kfvcdsvwsmUQfsYSb2q7WQOMCRU0+CjkJp0NYa+lZQqSPLLZEBOlZonYmtNr7ZgKoNqI6m0/PBPCxxx5Dt27dMH78+Bapk/uEDiXJJK1ZZQK1eDZarRg4Zw6Kk5Pxw2mn4fQ81y9BfzGyWqxY+PxCxL0eh9o2tWjzzzYYeOFA6eUvr8vnLWaHiK4pygHb1gWo3TcfNfZfUZ1TiihHFApWj8BNzy/AnoVzkHj6xYiK1t4NTHXhqssKUbJ/E4oKt6GIyF3lARQ1HEaRrRyFUbUojGlCWVwzTHYgtz4aubZ45EalICcmAzmJOcht2xlZmd2R07EPktp1QWx8ktcPl+LKSoyYMgVHtm3Du7Nm4dIzz/RXNEE5T04ARVFuIoBEIkj+cgIoxfk9eADFrxVLLt4OT3VA9u3Zqq7T4WjGzfkN+GlHLJattWND8k5M3r4ZligTXu6Ygxu6uO5w4yt5aqquxoazzsIp+/ah5PXX0XPKFMXrJ10nLLSo7xlIXCB5d4hQKYnTVrx5P08g3SI3vsBNhAGpFRvt57K8nsYE0CtEPMATAnomgK+88or0pXzzzTe3QEQvF3oIhONDSgtN9hY75uma9RYLBs6di9LERCwfOBC9stV72ZJcln64FI3PNiLaGg3HXQ6MumWURHDkVj5fMZEIoMl0whd9s7URDb/PxVOvW7Fma088/9xoRNmjkFzSTrIQJnabiJg+ygkhkbuyol0o3v87iop2oPjoXhRWH5LIXaGjAkWGehyKs6DWDCRYgLwGE3IdCcgxpCInLhO5yXnISe+K7Gwid/2QltsdBi+kVInlmtz1l06dimVvvolbn3sOz113na8wBn0cESe6J0nmoje3IPtkUSOrEhUWPvrJUey7ax/sdXZkXJuBLq92gcGoLM7P183Zbc24tEcjDpSbsGxrFAypTbh8zRwsNbRHfvMhLBg0Aanmk92cvpInqWj0lVdi0IIFWHf99Rj8xhu+Lk0ap3WsnTwu0FvdQ/nCyU1OH9bh+nFN6yM9IyMAPf8pFpAJoCLVC/pg7/19gr6k1nVBPRPATz/9VCoo/cADD7QIjV44RD7CzU2hlVYpIQ7yNdQ2NmLA/PmoiI/HT4MG4VRZIo0/axXWHcJ+3eJ1KJpahLZFbVF+fTkuePgCxCXEBZSZ58nS2XOCHd172/Dlo80SIayTLITrUJ1TJiOEZ0qEsLLLKDhK9qCoYBNKDu9GYdleFNUUoeiPeLtCireLs8FiBNIaopDXFIPc5kRkG9OQG5eJnNQOyM7ogpzcXsju3A/JbXMDDvonvP2R49Pz5mH6HXdgwBVXYPGMGTAbtbd8+qIb9AEm78RC54jWXfRCFoSQ9ty4qRElfy1B054mJJ2VJMX5mbO0d+M3VDtw/qk2GKKasWBzM5qjm/BjzQFct3MbbFHReK1ze0zudHLLQ9JzIq20PyJPngjGhhkzcMpjj2HDaachf9kyGGN9i08NRqydPC7Qm2tbyJystRRfF67hNWJ95F0gGVG9wnA3BLAF0JcnCo9xi4CeCeD333+POXPmgHoRi4MIIP2EU6Cylurrj8u7uqEBZyxYgJqYGPw8ZIjfsWTOL/p9m/Zh86Ob0WF9Bxy89CDOf+Z8tElXp22UOwJILr20rrGY/lY1bh19YoKAZCHc+Dnq9hMh/A1lHSpx0JGLKasOSPF2uZZY5CAJuaZ05CZmIzu1A3IyuyM7rxeyOvVFfEq6lqI7YW5/CCBN8P2WLbjyqquQmJWFJR99hC4Zwc8IlpN/IkakF8LFT2uk+1GeOUoE0NRgws5rdqJ2ea0U53fKzFOQPDS49eUqi+0Y0bsZndpa8P5qK9qkpaDRbsWE1Z/jB0c2BuMQFuRPRLL5xJg30ZmC7j3alydCdGDJEkRdcgkqExPR/uefkdq5s1edCmasna+ubVq0t64tXjem8QD5+khGZKn0Flqi8ZK8Ts8E0CtEPMATAnomgBs3bpRKzrz33nstELkKOo9kDaKXED3sfP3SLa+rw4Cvv0aDyYTVw4ahY9u2PsPj7kVfVlKGnx75CZ0Wd5Iye89+9my0P0Xd7gjuXN3Lt1tx0ZBU7D9Yg7QE9y7Dj48exe37d+Nftdvx18GXwxQbPpmM/loAheAKKyqkuMCyHTvw/kcf4WI/kw98VoQ/2vOJXsv0Jx0ippP+FC9e5w8yKc7v3gMoe78MhhgD0h9NR9vr20qWNIp5C/YLu2irDcPyDRjeoxZvr0lqqSE5/+BGXL97BxyIxhtdOuLqjgNPgofuPbLWeSsaXVNYiD1nnYXMigo0fvYZOl9wgUeogx1r56tr25+uLUp0KpCxopuLvKsMEfNg65PSPTABVIoYjz8BAT0TwMLCQlx77bWYP39+CyauOg9EssooiXk8WluLAQsXwmowYPXIkWjvQ69RYeUTLj35i76htgGLHl90LLO3VxH6PtsXvQYfL8mjJu7uLGRXTv0ABUeteH3qGPRPc006tzU0YMjWrTg3ORmfa1jbMJD9+msBFNekuMCLH3sMP73zDm7/97/xzDXXBLKck84V5F/ogbDyiextsvi5etnKQzKOzjyKgw8ehKPegYwpGejwQgfUNdRJrjpRc4/cqjRXMI/ff6jBmIuSccOoWjz11fEuNPXWJly6Zg6WNedgKArx5aCJSDSd6Mb1tWi0w2bDL6NHY8Avv2Drww/jjMcec7vFUMTaeYsLFATLW83GYMpNfi3nYt6ki+HqqpavmwlgqDQmQq6rZwJIX+D5+flYsWJFizRF83lPFfwjRPTSNnyNeTxcXY2B335LdZaxdvRoZLvp5+nJnUcve3o526w2LJyxEPFvxKMmrQaZT2RiyCVDNIXVFUHaO38+Vs76CP+acgWOZHVAtLUCWfYKnBZnwpi27XFpTl+YjTHo/vvvSDQYsKVPn6CTC19BCZQAius8MXs2nr/rLpx59dVY+OyzAcUFiu4KwtInSmvIs7e97Y/0s3ptNYr+UgRLgQWJQxOR93YekjsmS5ZrsnZREog3AuLtOoH8nqzLq+c0YuLN6Xj0mirc9U7iCdN9fmA9bt6zG0AU3u7aFZd16H/C7+VFo70R2DX33IP+r72GNeeeiyELFriMH6VsVrIqBpvAkAxIDwkP57hAZ4IVCN5anEs6Kq/lyARQC5TVn5OTQALEVM8EkKBz7gcsXiQUAxhsS0KAovTrdF9iHslFmL9kCaIdDvw6ZgwynFo5EWa+uPPoJbD0g6Won16PaFs0DPcacN6t5wUFZ3ox0UNdZCAS+cu77jqsHz5cyrYsbqjC54Wb8H15EbZYmnHU2A7N0bEwNBSi2VqFKe2yMSW3r1sroV/gq3iSWgSQlvTtpk246qqrkJyXh6WzZqFTuu+xjCRjoQuiRqMgfEqzty2lFuyZvAf1K+th7mBG5/c7I/HMRClLk+5Puha5UMmqRIecgJA7OFgEiAgP7fWnDwy4+t5kvP5AFa6aemI/6lprI8avmYufmnMwLKoI8/MnIt50POZUCYHd+dlnSLvhBuzPyUGvX35BvJN8KJmBCFioati5igt01S1FRfUPeCrn/sn07A8Vfko2wxZAJWjx2JMQYALYE6tXrz7B/aR2f9xwVjt6WZMb2F3SS0FZGQYvX44Ymw2/XXgh0hISpBetPIHDF3fe2kVrUfDPAqQVpqHypkopszc2zresRjXwkye7tJC/ESMw6MsvXU5Pe7p6y8/45shu5JlNOGpIQmNMdouV8PQ4E87/w0roHOSvxnqVzqEmAaRrHywvx4jJk1Gxdy/++/HHuLD/iVYrsT5h5ROuXWHlE65dIt1K46gcNgcO3nsQRz84iqi4KGQ9mYWcm4737RV1AJ0JoFgT/V7cwxTbqvT6SrGXl12Z9Ugd/vbvFHz2Yg3Ou+3kgsefFvyKv+zdBwOa8W637ri0/ektl1OSWVu6eTPKRo6EmSoWLF6M7PzjGcfhkGzhHBdI/5aTdaUYaz2eng90D1E4AR1MALVGXJ352QIYII56J4DkAqYYQHnVfDX74wYoHs1P95T0sre0FGf9/DMSm5qwbtw4JJrNkqVD1GOTW3bcWUt3rt+J3+7/De1/a4+DEw/i/GnqZfYqAUcQwMKFC49Z/jyQP5p3fnk5rt23D/dnZeGfubnSpdxZCRObitEtuglnJ6fhsuxeIbESqk0Aab8UFzjukUew8oMPcNcLL+DJq69usbTJLb7uOrEokY8YW/p+KQ49dAiOJgcybsxAu6faSR8coiwTkT6RFeyJVPgaW+fPGp3Pca679+KUWkz7LBkLP6nHmZec/JFD1sA/r56DlcjFKEMx5g26DLHRppZphQWNrNW0b3cE1lJbi9+GDEGvXbtw8OWX0fuWW6Q5KNmCatiFuo2ZsGqSLGgvRMwFwVIDdzXncG6fJz5g1LyGFnOxBVALVHU0p94J4AUXXIDp06ejs6y8ghrt0VqLCrnqtUpr31awG8M3bEFKfT1+HjMG8SaT9FXsLWhf7LukoARLH1iKjt92RMGIAvzpuT8hr5u6XUKUYEwEkCx/XW+5xSv529/YiDO2bMHgxER8c+qpbi9DZGRJ6U7MP7wLq2trUdAcHzIroRYEUGz88U8/xYt//zsGXXMN5j7+OAxRUYp0wRc51ayqwb4b9sF6yIqk4Uno8n4XGNONEmmQF2aXE0AiFuR+dUcqaCzFCNLhLbbOlzW6G+Oq7t6DY+ow68cELP3egu5DXNclnLV/Lf667wCMsOP97j1wcV6/lkvQfUlrp/uN3LnuPrCoaPQvkycjf+5crJ00CYPfeUcqtyLPZg1kb4GeK3fL0x6Euz7QedU+37l7ChNAtRHWZj62AAaIq94J4HXXXYcpU6Zg4MDjZRoCbY8WoEiCerpIehH9LyWXcFMTzh3WFWeOysfjj85Ccny89CLyJSayprIGCx9diOxPtc/sVQLUjtmz0fnmm7F+5EgMkmV9O89hcThw6qZNiAawvW9fGBVmlIbKSugc46gEG1djnRM4Fm/ahJtvvBEpHTvihw8/RGeV6gVaDluwd/Je1K2qQ0znGHT+oDMS+h+PnwuEANK+5FYo0nEtrGKu6u5RfcmbzqzHip1xUsu4nB7HLXxyvKstDbhozRysRh7OjS7GnPzj1kDh4valaPTvL7+MLg8+iN9790bX+fORkZPj0/0aqJ74ej6RZPoII0sghZto7Zb3dV1inDOJF94NpfMEezxbAIONeIRdT+8E8J577sHgwYMxZsyYFslqaU0JJ/URL3mxXxHLV7a/DH0H98G894Ge1jOQddl3XvvjUs/eb577Bgn/SQhaZq+vWO6ZNw/tr78evw4fjrMWLPB42vnbt2NdfT029OmD9ubAO0r4YiUcm95Byjh2LhHi6/5onBoE0FsCx4Hycoy85hpUHTiA/370ES44/Xj8mpK10liK8zvw9wMom1UGQ4IB7We0R/rVJyebBEoABQkU2alaJIe4K7xsszTj0p6NOFRhxNKtBqRk0WeF6+PDfWvwt/2HYIQVs07tgwtyeksD5UWjae2eEhMO/fQT7OPGoSY2FjkrViAtjEoW0Uc1fVySjhH5o7348kGpVK/8He8sQyaA/iIZ3PPYAhgg3nongOT+JbfEpEmTWpD0pztGgGII2umuSnPQxUXzc3ooz3p4Fp5/+3ms/ul57N53OZIqc5A3fhUMsSeWt5Be5JTZ+/5SNExvgMFuQPS90Rh96+iwebgL8vfbiBE47dNPPbb4e7ywEC+WlOCTLl1wYRt1OpC4EqwWVkJ/CKC3BA5XL2iLzYZxDz2EVf/9L+5++WVMveIKxbp7+K3DKHq0CA6LA+1ubYfcablu9cW5ULncBUyxcvR7infz5dAqOcRT4WV5y7hFO02ITXRfo7DSUo9xq+diXVQexhgPY/aZE2H+owe0KBpN1jNPHSqqi4qw86yz0L6sDDWzZqHbJZf4Ao3mY8jCRgetX7TC08oi689mnGsnEtEOJ4Lqbk9sAfRH2nxOCwJ6J4DvvvsuSkpKcOedd7ZgoqQ4crirkqeMXeHWpfgXedmbGwbegPi4eLz606uwFW3GnjXnwGiJRafzVyE6Jbtly1Jm7yMFSCsKTWavN+wF+Vs/ahTOmD3bY4/nb6uqMHH3btzRrh2ebq9uFxJv61TDSugrAXRuv+dvAsc9b7yO95Y8jH6dU/D3K0eiU8ZY9Mm5GKZo95ndNStqsO+mfbAWWZE0KgldPugCY6rn/sNqEkCSA1mhBGFTq9ant8LL5YU2jOoDdM6wYs7WWEQbPdst3t37C/5+oAQxjiZ81PM0nJ/dU1IhX9ZOY6oqKrB90iQM/PFHbLrnHgycNs2bCmr+e7mFzVO9QM0X4uYCzrUTmQCGShLKrssWQGV4nTRa7wRwwYIFWLZsGaZOndqCja/FkQOEXrPTlRbgdS570yOtB5657xmMf2i8tEZ7VTH2Lx4Mq7kR3fJ/wJ4SE9bfvx7t14c2s9cTgHvmzkWHG27Ab6NGYdAXX0iZo+56PBdaLDht82b0i4vDkp7HXrahPpRaCd0RQHcfAPJizErisQ7uO4hnP3oWs42z0a2uPc5Ij8GwAUXIMpUjOgootiTDZjwF6SnD0TvnMmSn9IKl0IK91+5F3do6xHSLQZeZXRDfx7dWes7WeLkFkD7USKbyDH5f5CaSQ9QDsEnYAAAgAElEQVRyRXojgLSmQ5utGD7YiFG96/HmL1Rj1POrq7ypDheunof1hjxcaDyCT86cIFkDva1dXs9u7YMP4rSXXsJaCn34+msYjJ7Jti/Y+TvGlZWU5EeWQfI+hDou0Ll0TmtoA0eyYAugvxrJ50kI6J0Arly5Em+++SZeffXVFo3wVhsv3FSHXvLyYsxKC/DKy97s+GkHzrrwLOzbtQ8pmcdqYtHhaKzFwblDUDb/Ilh+uBD7wiCz150cWsjfOedg0Lx50jB3BNDmcKDX5s1ocjiwq18/mBUmfQRLF7xZCfuZo3F+Wh4u79gfCcYYqVSPvAOHLyV7PO1l3859mP7pdMyNmYuza8/Gg+c9iMF/Gtxyit1hw47D32L34QWoq1uLRBxAVpQdTTPuQ+ySc9Ecb4Xh8TL0vekcmI2+kT+a3BUBpH2R+9C5dIcSWdD9IlyRRCDJGu7v4Wvnje3LmzBqbCxuPKcGT/7v5HAKV9f/z+6fcd+hUsQ6GvBpr/44J6uHx8QWIlXyzOjd8+YhefJk7IqPRo/ly9G2l+t6jv7u3dfz3JFkX/sI+3odf8aJNnWtrQ8wE0DqrcNHQAjonQDu2rULd999Nz755JPjLzO7XXq5kIsoXA93Vj55mRZf1y4ve/PKza9g7sK5WH5o+Umnf7fYAdsLDyP28hEYeePxpJn/Z+86wKos3/fNniIbAWUIqODe5t45c+cGLUeWf81VWmZmmmY5036lprlyJ0mO3LhBHCguUFmy997wv55DL3zncMZ3FsPOd11eluedzzu++3vG/fDtpzrKiQN/1K8kUD8iNBTXsrJwt3lzuBtWHzG1KmTB1RKGFJQiRc9OkL3EJD8W7tr56FrPAmMdPNHBykXhqMuwp2FYe2wtThmeQu+c3lg6eCk6vFMZMS9pHgnbEhCz6g1Ki0qRPvomUny2wM4gFfpaZYgrrIcinSawrN9doCV0NK+kPxFtT10AkPrhBljQWVc0cwhfAEh93jmWj2FTTbDSOxNzd/C7X5LzszE08E8EazfECL1kHOw4Bjpa2mLTrpG8RP0iH6/vhJTtT5A/fwMGLfxIFVtP7jakyYgLxmvCL7Cu5gHWAEANAJT7IIpW+K8DQFL9Dx48GBcuXBACgPQVTZdRbXmU1fJJmwcBQPJ5oT9jPMfA080Tq/9eXaVK167GyMrSwuPH5Q7dte15eewYnGfMwH2O5o+NURzh9Q+xsfg2Lg6/ubpinKVlbZuO1PGIC+Cgf7uZEYm/U8IRkCOel5BvxPHT4KdYd3IdThufxoDsAVj23jK07tBapowy/TMRMTMCRfFFMHvXDK6/uULXrNz0SFrC0MTLeJVwClnZd2CCSNgbFCClUAdppfbQN2oDJ+tBaOkwGoZ65WdP1LTNIpXpbLIUbMqeU26ABWUOkfeRN/Xama25mPyZGf63NAMTVvIDgTSm7WHX8XlMKoxLc3GkeTv0sWsq4EkkDT4jjaa5cM3iqWeW4qX+Zrza/yWKUp3h7ect7/RUUp7uWWlRzDXpFyiapq6u5AHWAEANAFT6cP7XASBdPF5eXggMDKyQJePGU5WTuKKLpEiUpiJ9Md5DrTItuNi44OCWg+g1rZdQU3FxQNOmpti2LR/e3sWKdKPWOhXgr39/dD5xokpfogDwelYWhoWGYrq1NTY7O6t1bKpqXFoAB82Pm+uY9SnZlzAWHjqF6GFmhbGOXmhjXk7S/fj+Y3z313c4b3IeQ3KHYNnIZfBq4yVzCoXR/+btvZ8LwyaGcN3nCmMv2abejLw4PIo5irjUSygrfAJb3WQY6pQhtsAUhTruqG/yDpo1GIPGtuWpzlgmGlUCQGpXXP5amZP+t4Aiqdf2f5GDeRvrY9d3MRiz0I5vV0jMy8KQwJMI0WmI0fop2NdhNLTKUEEaTRYA2icC+Tz2w+PEcfAoWownuYOQMyMHvWN7w8CwMgcx746VLEjZSfiQU4sCWnn8UxUdYl3NA6wBgBoAqOier6j3XweAJAhPT08hAMjIY7mRsUoLmmcDsrjY1HEhEgCkF0fQn0EYM2sMohKjoGcoTFzr42OIf/7RRWxsNmqbm5ws8MeAAzPrJxcXw+vRI4HJ95aXbHDDc+lUXowFcDBfPsbTKC6Agy91kSRfQu3CNOinhaEg8z7aJhliU685aNu6pcw5leaXIuKTCKQdT4NOfR04bXWC5UjFtak0vrDkqwiL9xVoCY1KI+BgmI/0Ih2kljSArkErOFoOQCe3KSgrLg+KUFYDyCapqD+aIgDwwYNH2LwyEEfPj8dnq37DN0s+lSlrboEtof74IjYDpqXZON6iI7pZu1X4NNL+MCpIxuMbrWCT3QkNp1wSAOdz9udg9KMR+nr3lasvZQszHzui2+JDrcKyoFDZ6uALFPWbrCt5gDUAUAMAlT2b//kgEBJgy5Yt4e/vL0SyKhoZq7SgJTQgS8tHgE8doI87HEYEvW7COgQ9DsKpMGGy5NJSwNbWFJMmFWHr1gJ1iUKhdgn8ucyYgXsSNH/clzsBXQL1rZ48QXpxMUJbt4ZxLUOz4nw7GeCjvyXtBb4AUFTIgTcDseLiOtxxSIdNvV4oauCBNEN7gS+haYF4LSFrI35TPGK/iwVKALtP7WC/3J7XC16ehaa9mV2YhBdJpxCbegEl+Y9hq5cMI50yxBWYIF+7MWwsesHTcSxcLDsp3b8iwSF8tVu5ufm4cOFP5OXthJ1dMKKjJ8LX1wxnLmzCmP8bg4PfHZRHNIjPy8CQwL/wVMcR4wzSsLvdSORm56C4IA9J5ztAC1poMjG8gsR93/v7UJZTBp/TPnL1o2xhUR87Pu1Vp19gXc0DrAGAGgDI5yxJLaPRAAK9e/fGrl27YGdXaYphfjXqSB2lKi42pRf/3wYYeBjqMRSD+wzGor2LhJreskUPK1YYIDIyG+bmqupV+XYqNH8DB6LzsWNSG2Rm/Znx8TibkYFbnp7wMpZtolR+lNJbEOfbKU/OZda6vADw5pWbWHt5LQJMAzCucBw+n/g5nN3LTeGyIo57P8zC6O1OsIyxRv0h9eGyywW6puqhGGHaaRagwaKbY3OD8CTqGDKzb8MYEXAwyENGkTZSS+ygZ9wGTjaD0brhWJgYyK+NlCf7Bh/tVmjoawQE/AZb29+Rk2OD4uJZ6NdvEqysyg/Tjr92YP6H8+HZwxM3Dt2AsaF8+/LHF1fwdXw2zEoycdCjDRpfnoM0swfw6BQEU8fKXNa3T91Glk8Wesb2hKGR/L6Oip4FUR87vu1Ul1+gqC9pXckDrAGAGgDI9yxJLKcBgMC4ceOwePFigS8ge7iBEcoKWZqWj5Exq1vLJ20OBB6yU7PRpGkT+J/wR4sBLYSKe3iYwNm5FBcv5ikrCpXVDztyBK6zZuEeD/BHnZIZddOerVjbujuWJidjUf/+0FFBqjdFJiRL68vHTCbaL18AeOXCFXzv/z0emD7AhJIJWDJ5CRq6lPv/SXu4voQdNxmicVQmxvw+FoYe6gUS4gAgAVTyz+Xmb83OT8aD6CN4k/wPivMewVo3ESY6pYgrNEaBthss6neDp8NYNLbuyltLyCc4RBIALC4uweXL/yAx8Vc0anQFkZHvwdl5Jnr06CmWA/BWyC0MGTkEhqaGuH76OjwcPWQtidDvMblpGBLoh9465/F+2Z9oVf8Qip16CnHsERA743gGRmuN0H96f7naV6YwI7C2UDC7jrr9AutqHmANANQAQGXOpaCuBgACc+bMwbBhw9CzZ88KebLACGm5N6UJv7Zp+aSNlS7Y05tPY8naJQhNCRV6Qd66pY1Bg4xx6VIuOnYsVXq/qaIBecFf8r2biA7/AoE2pggL6Yr1y75HmZYWntnaIqdLF9hNmADnwYOhpUZzsLr3gywAeP7Meay/vR4hxiGYgilYNHUR7BtWZnWRZ13ubV0C65374fw4Xp5qCpUVPYcEYsQBQNHGqczr5Ft4FnscaRk3YVD6Cg76ucgq1kZKiS10jVqjofVAtG00HqaGVXMQs/ZkBYeImjdjYhLg778P9erthLZ2CdLTZ6BHDx84OTnInH98ajzeGfEOksKTcPjoYQzrOkxmHdEC+491hZ5OLiaMfijw+yNXFi7h9f6J+1GaVgqfc9VnBhb1sZN7Uv8G/xCZtDr8AutqHmANANQAQEXOklAdDQAEVqxYAXd3d4waVZ75gh7mF8eXG4yr1WEvKbqsFM24oPTCytEAveQWD1iMtIw07HuwT6hm375GiInRxosXtYP6pQL8vfsuOh89KnWWWeEvEXFnOQqdLsMk2ht2PT6FuYMjSgoK8PrECaSdOIH69++jeWoqsrW1EerggMLu3WE/eTIce/RQChDKE8Ahx1JJLCoOABI4Oet3FuuD1iPMKAzeOt5Y5L0INvY2SnUZde8i3AaMRm5sPPTkNFfK27EoACRtEj3kyymquZHVdk5BKoLfHEdU0lkU5T6ElU4C6umWawnztV1hXr8bmtqPgodNL6GPIBaUQNp6Ckrgauvpt7S0dDx79gzh4Tvh7HwSb970hKXlLPTvPwR6evKZxotLijFw5kDcOnELyzcvx/Lpy2VNS+j3PXsWC4K0fHx+FPw7C2hj5Nn3zt9D1qQsdIvpBiMTI7naVrSwOG5CRdpSl19gXc0DrAGAGgCoyDnSAEARqW3dulVgIpw5c2bFL7I0KlRQ3VodpReXZwMEALs27IqPp3yM6RumV9RKTQVcXU2xZk0B5s4t4tma+orxBX+Fqal4dX41chvth37UQLh2XQ0TJxcBYBBH7VOQmYlXhw8j6+RJWD9+DK/MTCTq6OCViwtKe/WCk48PbNvKzqDAzcbCgAqfAA5VSIy7X2lfnjp5Cj88/AGRhpGYrj8dC6YtgKWN/P5w4sZWWlIMbTtLvPbdj8bdR6hi+BLbkAYARTU38g6E5BSRGoinMceQSlrC4jDYG+Qgp0QLycW20DFqiYZWpCWcABMDa4E2jdaYQCCBwbS0TFy4cAja2r/CzCwOCQne6NhxBpo1k898K27cn278FL+s/AVDZgzB8R+P8zZb79nzKXR0jOHt/V1Fs1xfOgLO513Pw3CVoQBoVsejTMYW0fFx50LrwPcDXdo8RUmq60oaOA0A1ABApc+vRgMIHD58GCEhIfj8888r5ElmC3pBcIlhq1uro/Ti8mwg5lkMmndujid3nsDRy7Gi1iefGODoUT0kJNQ89UsF+Bs0CJ2PHBE7s9LCQoT/vRXp5lugk+KBRu7fwapteboyeah9cpOS8HLfPuSfPg27p0/hmZuLSD09RLq5Qbt/f7hOnw4LDw9Bm9yPAEbTws3GUl2+nQQAqX+/U37YELIBcQZxmGE8A/N85sH832ADntuBV7FX7RyROmEUOn5WmUKRV0U5C4n64nI1gMoCQHFDyS1MR/CbE4hKPIOCvIew1I6HuV4J4goMkafdGMZGHZAVZQ6tnDw0angIycnNAEzD0KGTYGoqX/CGLFHsP7cfs71nw7W9K24fvw0zEzNZVbBnzyfQ1bXG1KmVuc1ZJbrTSGZ+c/2glaQF7wvVQwqtKsJu7uRV6RdYV/MAawCgBgDKvBBkFdAAQODixYs4ceIE1q9fXyEu0orRy4YY9hn5LCPbpRc8e8lX1wte1joq8/vez/Ziy54tuJ90v6IZon6xtzfF0KHF2L07X5nmla4bdvgwXGfPxj0J4I+AT9zl40goWAWUacHO6GvY9xktpDWRBwCKDjgjMhLhe/ei6J9/0DA0FO4FBQg1NMQbDw9oESD09oa5k5NgTygSwKGsgGh/Hjx4EFvCtiBFPwWzzWbjE59PYGYuGzAo2vfdSV0FVTv+cUvRJnjVkwYAySdMwHlnpF5TZkTKXTyNOY6U9GvQLXwBZ+NcPHoyCK1bLEPHju0FJMyKBjjIEsK90HsYMHwAtHW1cfXvq2jhKhygJVp/z55Z0NNzwpQp4k3HdIfd+vsWinyK0OVNF5jU45+JRNZYJf1Oa0jnT9WpNbmmeWpbkbPHgnjqYh5gDQDUAEBFz2RFvdoIAL/++msBLQv5ZrRv3x7bt29H8+bNxc6V0jB98sknOH36tOACGDp0KLZt2yZgnef7BAcHY/Xq1di9e3eFVoe+MOmCoaeu+PLxna9ouentp8PYyBjbb2yv+Gn3bl18+qkhwsKywWHHUbQLhevJAn8swKPUMhwWmYvgMvRjaOsJk1izzkn7oQi5t6ipPz00FLF//AHtq1fhEh6ORkVFeGZigsTmzWE0dCjcpk6FsbXkwAKFhSFSsbioGAf+OIDNrzcjSycLs+rPwtwP5lbLSz1o/VxYHPGF2703qpqO2Ha4eaqpAFcDSMCLgrQUSd+mzKDnL+iNWzdCcO7cC8EHIn0sqgsA0jhTM1PReWRnxD6Lxd4/9mJsn7ESh79nz3To6zfD5MmV1gzRwiTD086ngc+AYXOHCT5c1PnQuaM7lM6eqh86m+TaQXe1InmE63IeYA0A1ABApc9TbQOAP/zwgwDAnT17Fm5ubvjmm2+wb98+hIaGir1ACPDRBXzkyBEBeBs/frzgS9PX15e3bAgALl26VKBJCA8PF4BJ0izQpVLT6eB4T0LBgnQBelp5YvWi1Ri3fFxFK82bm8DCogw3buQq2LLy1UL/+ANuc+YgaPBgdD58WKhB4QAPHzR+9wvoy6CZ4EvuLa+pP/7uXUTv3w9df3+4R0XBqqQET83MkNK6NcxGjoTbxInQV2Fe6aLCIvy+/3dsidqCAp0CzLWeC5+JPgJut+oCQ6+v+6LxKG+UJqRCW0e+QAd5doYoAKSzTmCCzmpNAcDMzEQ0b+6CL76YjgkTVgvuHQKA6rQG0Dkd/n/DcWn/JSxatwhrPl5TRYw0jr17vaGv3waTJglzeYoW3u+9H6VvSvHeifek5uiVZ60klVX3OjHeRvI1lNcvkHEUsvWrS3mANQBQAwCVPp+1DQA2btwYCxcuxNy5cwVzowNqb2+PTZs2YfLkyULzjYqKgouLCx49eoQWLcpNI/Tfbdq0Af3WsKF4fjNqMygoCGfOnBEAzXv37qFBgwaYNGkS3n33XXTs2FHQFr18VJVmSumFUlMDz/2fo9vwbnjy6AnsnO0EL7FHj7TRvbsxfH1z0bdvzVC/SAJ/5QEe3yK30YGKAA9TZ1de0iFNAQEkcRoPVQVwlJWW4o2/P+L++AMGN2+iaUwMjMvK8NTSEhnt28NizBi4jR2rEAdhYX4hdu3bhZ9if0IZyvB/Dv+HD6d+KAB+5ANIc6guAFiUnwtjhwZ4deFPOLVXH6ecNAAoGr3JaxOoqNBvvy3EihW/4P79p9DTMxPsqXr16ilkhpRnSF/+/CU2LN2APpP74PT2cqsHe2j99+2bCAODrpgwYZ7UZh9cfoC0kWloFdYK2nrl2jl17Z3qWifm40jzoA8EPoC8LucB1gBADQCU5+4QW7Y2AUC6KChf5O3bt9G5c+eK8RIoo3RtP/5YTm3AnlOnTmHChAkCoMZ96AI4fvy4gNtP3BMbGytob+DAgRg8eLAA9FE2kMDAQKHLVFLUqNJCr0UNbPlgC3wv+MLvmV+FtnPIECM8e6aN8PCaoX4RB/4qAjwstkAnWTjAg684uQCwugI4CBBGnD6NxCNHYBIQAK+EBLk5CPNy87Bj7w5sT9wO/TJ9zG80H9OmToOefqWpu7oBIMk8qmUDJM3yRvv/q/Sd5bsWfMuJZuShFzaBLTrj1QUsxI2VNHLdujVA+/ZNsGZNucWAAAiBQHVkD+KO4fiV4/CZ5AMHTwcE+AbA0qw8upvGtH//+zAy6o/33/9IqogFkeLOp6D/uT4GzB4gCA6h6FcCgnyAE9/1o3KiUbby1JW3rLx+gXU5D7AGAGoAoLzno0r52gQA37x5AycnJwGnVtOmlSmMCOSZmZlhx44dQuM/cOAAlixZgri4OKF/J23exo0bBRo9SQ9dFFxNkKenJwICAiouP2WCBpRelGpsYFTTUWjZtCU+++MzweWfm6uNhg1N8fnnBVi2rPqpX0TBnyDA49IxJBRSgIcOGhivRIPeIxXStNBLjnzGGGcj/c2CeaorgKOksBCvjh8v5yC8dw9eqanI1dLCC0fHKhyEudm5+Pn3n/FL6i8wKTHBgsYLMGXSFOiK4ZarCQB4b0wHlJjVQ6c9V9S2Y0W1trUFANKE79w5hoEDp+LixaPo2HG4QAtLH6PkNkK+gep8nkY8Ra9hvVBSVIILfhfQvkl7gbXk4MHRMDZ+D2PHfiiz+wPTD6A0vBTeV73FkkbLbIBnAfLTJpkoSqrPs5uKYly/QALk0nwc63IeYA0A1ABAec9GrQaA1aUBFCe0Tp06CfwG6cJgD1+fMaUXoYYaKC4shrONMw7/dBhtR7cVmE2WLTPGrl16SEzMhq76XLvEzlgU/FUEeFhEwCJrodQAD0kipJcBOb2zSG7SbjBuPnoxqFrbIe9SFmZn49WhQ8j09YVVcLCAgzBJRwfXbRyxbUAqkqzssaDJAkycOFHqi6wmAGDgqg9R/8xFNL0TKe+0eZeXBgCrU7MkacA+Pm0QE5OMixfLg2GYGZLOEmkp1bm/MnMy8c64dxAeFI5f9/2Kif0n4vDh92BsPAGjR8umeAm+FozUoanoENUB9SzqCT6M6M6jsyILOPFeQApiSU0VfMCrWzPKHRNfv8C6nAdYAwA1AFCecyi2bG3SANIAxfkAOjg4CDR64nwAXV1dQUEcXB/Atm3bIjIyUqIPoDhBUDDJ2rVrQe2xR9T8pLSwa1kDNw/exLg54xCVHIWCogLBC8vJqT569CjG4cPVS/0SevAg3D7+WBDw4fXdtwgP+BJFTldhEs0vwIOJVlwAB6PtIe0RmbmqSxOhyHLnJifj1f79uLnTF0EN2mHHxQ28tJ3ieCsV6V+eOqHnD8LV+2PoxqYplTVFWp+1HQBGRoagQ4eO+PnnLzBu3FeCqdAHBwEpAjzqDiKjD5xxS8bh9M7TmPXVLHR2eA5T02kYMUKy9YPJm+r6uvrCYKEBhs4fKvhnBpzog4LGrizRsqRcyfLsM2XKyvILrMt5gDUAUAMAlTkb7MCXKd2IChsgPz+KAqZIXAKDRM9CUcAvXrwQGwU8fPhwQRQw8aDRZUMgkUyZJ0+elGtUPj4+mDZtGjp06FBRT5SDTK4G60DhlSNX4uHTh/AN9RWYrvz8TDBzpgkePcqGi0v1TYCBv8ABA2A+tpEgwMMg6l24divP4CHrEQ3gIK0L17TLtDB1aT2HDQtARIQBQkLayJq+4PeaAID52emwaOiE17cvwN6z0meX14B5FhLVwnNNwLVBA0h7avPmD7Bnz2k8ehQDI6Ny7kUCVyxzSHUEh6zesxqrP12Nwf0bYJr39xgxYjwvCR+YcQBlL8ow9fpUofIEAAkcKavJFKVZ4TUoFRdigJzuBFG+QFEycfo4VIRPUMVD5t2cljpVzLxHUXMFtWqu67ej59qmASSprly5Er/++quA5oEAGeMBjI6OhpeXF86dO4du3boJFoD8Syhi+O+//xaYWwgQEoAkk4M8z+LFiwWBJ4MGDaqoRuYBujSU/QqWZxzVWbafUz8M7TsUC39fKACA3bpZQUdHC0FB1Uf9IgB/c+bAv21T1F8ZD53kJnDy+A6WbSQDCkUDOETTilWnrOXta/Xqh9iypQGSkhrwqloTAJAGFtfMBvGLPkbbmVUzT/AauIxC9IJm0alkmmQAkEAVuYxUp2+ZuKHSuSkszEP37m4YPboXVq36q6KYaB5edZtAT/qfxLwpPjCytcW1CzfQwFL23nl84zFSBqWgTUQbmFubC01RFZpMUZoVVewJRdqQ5BdYl/MAkxw0AFCR3aCpw72kapUGsKaWZt26dYIIZK6ZmRyECVSq26G7JuacnZwN58bOuO57HV59vRASUoCuXa2wf38eRowoJ8BW9/N8/354fPIJLnYwhM3CBlIDPFjgBvPnUySAoy4BwLt349GvnysiIlJhaSk700VNAcAHw1uj0KEBOv/6j0q3CyPfZjmOmVaXOqG1Z3+IpqkmTfrMhOjvvxuTJi3Gw4e34excmTdaHblrJQma7quDB7vhmw2JyCzIwpm/zqBri/KMLdKeE64noP9/+hi+cHiVYspqMum8qjNTiqy5cX8XZ96uy3mANQBQYwKWZ/+LLVsbNYBKT0qBBn777TfEx8dj3rxK/iz28nkbAaDfBj8sXL0QL1JeCEweo0frIzBQD2/eVA/1y71vV6DND5txsbMePD5ZITbAQ9UBHHVJo1taSuTCRfj55whMntxE5o6uKQAY8MUk1LseAK/rr2SOUVoBSVpdlo+bBewwDSBpluh8qpO/js+EuD5kI0d6QE9PB8eOPa9StTqCQ2h/nznTHUZGK7F859d4du0ZtuzeglkjZkmdysGPDqL0cSmm3hQ2A7NKTJNJspeX5kaUZ4+PTNVdhrsWJDNugApZe+qSVVWjAVT3bnnL29cAwPIFJk7Bq1evCjKPsKemXqrVseXm956P9Mx07L2/F4WFgJ2dKWbPzse6dcVq7T7rdRgCN/qg974QXG3rgh6nrkG/frnpiWn56OVOmgOm5WP+fMr65pCGhNqoKyZ9J6dQDBqUgR07yonJpT01tVef+u6A09zPYPomXdYQq/wuab1ZlDa9iFkQCP03gUG2J+ijjNw/6KkO2hVJk+P6kL16FYgOHXri+PGf0K/fzCpVmDaMNJbqCA4hc/Q//3SBuflm9OnTF1O+nILjW4/De6k3dnwpTKHFHdzTgKdI6peEVuGtYGFjIXaqJHdFaG6oDp07eVJzyr2RFKjAzNu0pzQAUAEB1pIqGh9AJRdCAwDLBXjr1i2B3yH5D7KHvl7polB3snkll1Ch6h1sO2Cuz1xM+2EaVq3Sx8aN+oiMTEH9+urhLytIScHrC98i+tle9NtUgoB+fdH1pK/gpc4oWkjWkgI4FJqkSHLLZMEAACAASURBVKW6BgB79QpEfr42AgIqA5MkyaGmAGB2ShzsXJsiMvgWrF3Ls/FIe0TzKkui5eGagBkgJPBOf+g3+psFKZAWR9lgBVnjlvS7aJqzZcsG4+zZOwgKSoCurn6VajR2qkPzJvO1sh813A4IAF682A4WFjvRo0cPwU8bD23Elx9/if6ODvh29QY4tG8PG0fHKlHbx92OQ2+2HkZ8NkKqKOhOJNBLAJxPtg1Rnj1F5ayOenTfkA8grQHTbNaVj0MmD40GUB074z/UpgYAli92WFgYFixYgEOHDlWsPl0Q9GJVRxLzmtxicS/i4NnRE/TlT9kEnJ1N0LJlMY4fz1B5Oqji/HxEntmGdIstSD1pgb6/RyBo+HC03bNHAK7Zy5z7kleXCaau+XR++mkQjh61Qmys7FR3NQUAaR8nu1khZuUStJ66tMq2lmTaFV1vpt2jjwF6aA/QH+bzSWCD+fqxc0lghIEoBsTUoVmTdlZFAWBubjpatGiIefPex6ef7hZbVV3BIQSIr1xpBSurg3jnnS4VfZ+/cRqrhk3GDiMjtE1LQ66BAWIdHJDSqBHynJxQ6uqKiFsmeAMHLP5rNHRkEIDKk21DlGevJu890b5ZgAqBWTo/tJfqWupPDQCsTTuqDo5FAwDLFy0tLU2QFu7ChQsVq0gXBIEGeqm8Tc/vS37Htr3bEJQYhPPndTB2rBFu3EhHkybFKgOA9EKPvXQEiYWrgVJdFNzqjU7b9yBgyBC02rWr2jNw0PrVNZ9OP79wTJ7cGKmpJdDVrcz5Km4v1iQADH7XC/nNPNB5S3kELN+AHQb62N8M9JFGhpuZhc4grR2BRipLfxi3I5WlFzjVVZdmTdrZF5eO7uDB5Vi4cANCQp7CxkY8eFc13x6NkTRz1697wcrqJDp1ai80bH1DQxT5+SH3nXeQ8OoVUsPCkP/yJRARAaPISNwzcsLiuT6I6dgKJvVMZV53fLNtkFaS5lob71CufyLtLzpDVlZWGh9AmatfewpoTMBKroUGAJYLkC4popjh5gOmS46ldlKXVkrJ5VOoev8fmsJV2wpD3Wbj5331kBrXETev2qG0tEQl5u7koBuIjlyGUvMo1E//FNlJRmj52WcIHDYMHfftE7y8a0KedQ0A5uYWoUEDY/j6vkbfvo2krnVNAsCARWNg/DAEzc6FVGjspJl2GeCjM0flGOBj/83OI3PBYP6g9O+kBSRaGGY6ZVpkAof0Rx2ZLKQJnqJIaTzcQDGaX9++DeHh0RA7d1bmFxfXDuPbIysDA7IKHWpAAIBv324CG5t/0LZtK2EAaGSE4n37UDpunNjmv42Oxo8xMcjoUqk5lDUOPiBWlGhZVpvV+btoHmDafxoTcHWugPJ9aQCgkjLUAMBKAVI+YC4AZKaa6jYrKbmkMqs32dwA7YxsMMqiCYyNwtCgQSQKCowQH++MvLwm0NNrBlNTd9jYNIara2PY2lrJbJNklfHyBaLufoUiZ38YRXqjYb/FeHPmLJrOn4+gESPQef9+me2os0BNpEtTdj52dtH44IMkrF3bTiYAJI11dfmrck27IUc2w/WrtTB4GlORZo8AGjdwQ9S0y/z5uKCPBf8Q8KP/pjIE+Ji5mGmd6P+5/mcsWpxpBUljyEx66qaIkURG/eDBGfTqNRqXLx9Bhw7S/epYcAiBDwKCin4ckTby7l06r9fRsqWnMAA0MUHx5s0onVk1OIUKTg4NxfXMTERxiPD57l1pIJZAKVsvvu1VVzm2TxhnLAs2q67+VdGPxgSsCin+h9vQAMDKxW/ZsiX8/f0rfI0YAKRLWZXO2jW93dx/cUdXx64Y1Ho+PorNweHMfBzafwjp6fGwt9dBo0aAs3MuHBzewMIiHllZlkhN9UBBgQd0dNxgZuYOe3s3uLg4w9jYELlJiYi+sg4FLoehH/kunLqshJmrG17s3Ysm8+bhbi0AfyTzmtSSKbrm7drdh5VVMS5c6FTjAFCSaTc7MRKNW3ZCdOgjmDdwqYjWlWXaZe0xTR+VZ5o8SRkZGAik88gFSyxohMAT1aW1Ztp7ddI4USSyJDLqjz56B0+ehMPfP1bm/UGAl7SXygSHEBh9+NAJdnZBaNbMQxgA1quH4q+/RunixWL3UbdHj1BQVoag1q0V2qqSIpzFmcgV6kANlep6HmASiQYAqmFj/Jea1ADAytXu3bs3du3aBTs7u4p/FM1F+jbsDY9fPdDZvjNy7UfgcUEJwrpPEJju6Ev+6dOn2LJli4AShy5vG5sG6NWrF3r0aAcTE0oU/xIGBi9hZRUKU9MMpKQ4IDXVFnkZNjDUawdb5w5wcGiMnEuX0e6LJQgaORKd9u2rFWKriwDQ2zsQN26Y4vVrrxoBgHyjdjOcLRC5fiU8R38scKeQZtqlvcZAH02KQB/T9PHRflH7BO5obNzUXqIgkFF9qDNCWBoATEmJRosWTfD99/Ph7b1O5hmgeSljwqaxhIQ4wM7uCTw8hH0P9c3NUTJ/Pko4NFfcAbkFBaG1qSn+bNZM5jglFRAX4Vwb0vVJGi/d7fQw/0SmaVZYADVQUQMAa0Dob1OXGgBYuZrjxo0DpYQjX0D20IuGTDPqTuNUnXuq6a9N0a5BO9yyGo3exrrY226UwORGX8TcKLiQkBBs3LgRFy9eFHCukcaF0uXNmTMHzUqTEJ6zHcnptigt64oysyIAL2Fs/BJmWi/QZUohLnbug2HnK1NjVeccxfVFALA6zaSqmO/Onc+wZEkjpKdLd8xX1dwUjdp98W5z5HRog07fHxH4eNLDtOYEDAjwSTLt8gF9orJkGTaoTdqX7HwyEEjlCVQyUEW/q8OVg4LHpJEjb9s2Cz/8cBAhIZGoV89a5pbg+tXJm+UkOTkFYWGOsLd/CReXhkJ96Vtbo8THByUbNogdg2VAAGbZ2WGdkknARUmjCdDWdLo+SUKv63mAaV4aACjzSGkKSJOABgBWSoeAzbBhw9CzZ08hAEgvEnX7ElXnLm22oxm8rFvgYqNFONHIAgMaNBNoU5jJjC5xRr9BgIle0BEREdi6dSvOnz+P1JQv0dIrF/uXAc5D5kBbT09o+CUlpTgw/hcY5nXB+NPSfdeqc951kdcxJiYLnp4OCAiIgKenZF9MZQCgtKhdAk4MoEmL2g2a9x4MXkWg3flnQlHAJHMWtcvOkarcKWjcNG/y5SIQyM4oixSmv1lmB3VFCKempgpIjhnoFd3PJSXF6NjRFv37d8D69ed5b3euXx3LhSyrcmxsHCIjXeHkFAlHx0orBtXTt7dHyfDhKNkhnhDa6PZt/Obujkk2NrK6kfk7A+f0QUkPl2hZZuVqLEAWDtofTL6S3A6qcUhyd6UBgHKLTFOBKwENAKyUxooVK+Du7o5Ro0ZV/GNdSh/Gd2d77vCEibEDXrl9jpTO/Sv41uilQy97WRk42ngGwdY+FecvD5TYZXxsHsLaPoXeH43QpZ8t36GptVxdBIAkEEvLFCxfHouFC1tKlI+8AJCvaZeBKdoT0ky7D377FnZrNsI8JEbw8UAP159PES0f381A60ofL/Qi56byUneEMMmDNIDSACDN4erV3zFy5Ee4e/cyPDxk5+Zl82aky3yCQ2gsUVExiI11h7t7LGxsLIXEp+/sjNLu3VF88GAVscYXFsLl3j08btMGHkay807zXReWco18MJUJbuHbn7zl6noeYJqvBgDKu+qa8kIS0ADASnGQhoteGjM5kXJ1jTyYz/b22umFLB1zWDaZizvty82/DPjRZc3V+ohrz9X1Gfr0ycLu3dIDE45++QI6/rkYda21TCd4PuNWtgwzQ9Y1Yu+mTR+jVatcHDvWWWEAyEy7TLPLJeBm6y0raleSaZfajA99gObd30XMq2eob+1Q7VQ/NAYCgYwmhqu1pN9YhDB95NAfec2r4gTPAKC5ubnM/T1hQnPk5OTDz0++nMksOIS0plx/R9Hx0FhevYpAUpInPD2TYG5eT6iInocHypo3R7Gvb5Wp+KWmYtyLF8jt3FnmPOQ5g7THyHWE0fyQzNX5ISDP2KgsgXfuPqhreYA1ABDQ0MDIu+tFymsAYKVADh8+DPJ7+/zzzyv+sS5Sh0h6WTG6jLZ72yJW2wJT232GDS0GV7ys6QXKJ+LZ3j4CPj4pWLdOmGxWtN/MjELcbfUYZT80QP/3HZXcqcpXr6uZXYYPD8Dr14Z48kRyhKY47aY40y5zdOdr2uUSMnPbEzXt6mhrI7+hJaJ2bYbX8A+VXywFWqjuCGEGcCwsLGQCm+joR2jduhP27VuLYcMWyDU7PsEhNJbQ0FdIS2uJ1q3JX9dQGAA2b44yR0cUn69qhlaEA5DPBFimDdKQUsAFzYMAlyRzOZ82VVVGnPZWndHiqhq3aDsaDaC6JPsfaVcDACsXmoIdTpw4gfXr11f8o7ymtdq0bUR9+ej/6cXfZl9bxOo2wK0xB9GivkPFkMkpmiImZV3QVlbJWL48DgsWSDZJskb//PEV9PZnYPC9NjKzWahbdnUVAH733UNs3GiP5GRhvy6uvBgApJcY49Njml0G+rgE3HxNu2wPiUbtsshdrkbnSRcnZPXriS5rDqh7KSW2L0+EMIESvjltxXUoDwCk+qtWjcbhw5cQHJwAPT1hgCZLYGxekvgNaa2fPg1FdnZbdOyYA13d8kAc9ui1bw8YG6Po+vUqXREH4LWMDER37ChrGHL9zqhhCCDLGr9cDaugsKj2ti6SQJMYNABQBZvhv9yEBgBWrn5wcDBWr16N3bsrc3jWJbMh89PiBnAw8wu9sBk5b8P/uSNLzxYZM24JbX2+lDf16xdix45IjB8vzDUm7hzl5xfjSptgFM+3wvA5LjV61BjVTW1MSyVNMA8eJKJXLxe8fp0Ma2tjoaLMtMs+VOhHWmfmf8fSq7EADnGEzNJMuyQz1h6ZV6Vlcbn9YT/oJiajo19wja4zN0KY1prNT9URwkzDxUcDSALJz89Gq1b2mD59GJYtq8w5Lo+wyCVFHL8hrVNIyHPk5HREt27lwRdCALB7dxoAioKCqvxGHID5paW416aNPEORWZabao0VVmXmE5kDkFJAdO00AFAZadZcXY0JWEnZawBgpQBjYmLg7e0NX46fTG3XGjGzHNP6sAAOpvURF3Fptb0x9A2sEDfjrtDu4UN5U1xcCktLU5w79xJdu1ZqD6VtwzN7oqC7JgndglvDxERXyR2rePW6mtu5tLQMFhaF2LYtAlOnNhWba5fWmdZelByZAUQWwMHl52N7Q5ppVx5utHs/fwGbLb/C6UWK4oukoprVESHMQISlpXDAhbQpnDixFrNnr8KjRw/g4KAY5x4LDuFqL+nfgoOfICenF3r1yqgKAAcMAOLiUBQSUuU34gBsZWKCk57C2UOUXQrRVGusPXmCW5Qdg6T6bAwE3ulhWWfU1Z+62tVoANUl2f9IuxoAWLnQ9HXaqVMn3Lhxo+IfayNoEBfBydIY8cmza7bdA04mNgiZJqwBZE700ihvoqMz0by5I549i4Wjo7CjuaQjQ7Qwfp0fonhUPYz9UrbWUF1HTxzXobr6UnW7zs4v0L9/OrZta1URtMM17dKHCv0hUMA31644QmZxpl2+c3kTfA2u3QcjOz4OBiZmfKuptRw3Qpjr46WKCGGuiVOeSQwa5AwbG3Ps36+4ppT2MlHb0Hknvzqa54MHj5Gd/S769UuuMhzdESOg9ewZikJDq/xGHIAz7ezwvZIcgKINi6Za4/6uiswn8shctKwoONUAQGWkWXN1NRpAJWWvAYDCAhTNB8zlx6upCDZpEZzMSZ/v2G4lv8ago0PR0aIRLk0UdggnyhsGACRtqxs3YjBkiDvS03Ohrc3/+Pn7xaHso1i0fNQCVlYGSu5axarXJQAouubvvvsI+fnauHmTfCnLufm4UbssywnjMmOmf6bdoL8ZITMDi3xNu3ylXVZaimKbegg/vAtNBkzkW03t5dQVISzOxMlnMs+eXUGXLoNx5szv6NZtAp8qYsvQepLfLu0VimB98OARsrNHYuDAuKoAcNIkaN+8icLIyCq/EQfgTjc3TLFVLV2TaKo10Y5p3OR2QutDILY6yfZZNHhdzgNM8tRoABU+PpqKJAENAKwKAAMCAiqi+tglpY4sAtJ2IDeAg8urxjR9fAGfaB8fPTyFQ7cWo4uVK/4Z/4/Qz3w4Dw8fDsPs2Y2QkSGfEzu9rE4MeISSNoaYsEEx05eyJ5aBeW62E2XbVGV9aVG7n30WjCNHrBAb6yo21y6Ng0Ag7Q9mBlaVaVeeOT5v74CMUUPReflOeaqpvaw6IoQVBYA02U8/7Y1bt0Jw506iUtQrLLiCAM3jx0+QmzsZgwdHVZGnzsyZ0Dl9GoWxsUK/MQ7AR61bo4mxsH+psotCFgUanzSfW+avybIQEZCtjkcUnMrj6lAd4+PbhwYA8pWUppxYCWgAoLBYyARMPoCU3ulfgCz4SuVDj6LMFmMaH+bLx3jaGOBjARzK9EF1vW4cQsrjr9HawgXnJwhrAPlwHm7c+Bhr1jRASor8GQPu3UxG/qhION9thobOJspORe76tUGbKzpovoTMfn6vMXmyG+Li8qCnpy021y4DOdQH7RfaS7SvWJ5d+lvRDwe+wr4zuRu08wvQ6UTVYAO+bairHPuYY6CEm6qORUyTjJh5UlaEsCQfNz7jz8iIR4sWjfHVVzMwa9ZWPlUklqH5kCYwICAQBQWzMHRoVa5BnYULobN/PwqTkoTaURcHIHVC9ybtNz68m4w0Wp15m7kTFwWnGgCo1Basscr8bVA1NsTa3bEGAAqvz9ChQ7F27Vq4ulYmU+cbHSvvSisSwCFvH9zyxaUlsAr0h+3j+XA2tcPFiReFmiMtAj3S+LA+++we9u+3QlycYhG9h8c8Qll9HUzc3VyZqShUt6a0udzBijPnM5JiFqlN5UWjdgsKSuDoaIYTJ15i4MBy2Yvm2mWmXdYfvUyrA/Rx5xe44VNY7fkDbiGJCq2RuiuR/En7Q7JSNkKYzgt9NBHPnSLPrl2f4uuvd+DJk1cwN7dXpImKOgRobt68hby8uejf/76AzokL9nVWrIDOTz+hMC1NqB91cQBSJ6K5dmVNkNaE1VE3afTbkAeY5KnRAMraVZrfpUpAAwCFxePj44Np06ahQ4cOQpcrmSZU4aPCV+Ojjm37Z0wwpsVkounTRainb4rLky5XAYD0gpSWe3T69ED4+5vi9WsvhYb4/EkG0nq+hIW/O5q1UOzFqVDH5e4OAq1ETZjzudx8NA5FCJnt7CIxfXoKvv++fQXXnyghMwORBEzoNy7IUVRu8tSLuHMWLoPGojgxBbr68rkJyNOPMmVJ/swHTJkcwqJ+ZPKOie6Cbt0aoF37Jti+rTLwTN52qDwBwOvXryEvbwl6975eERzCQKD2Dz9Ad9UqFGZlCTWvLg5A6kQ01y6feXH9GtVJGk0BNCxrDI2rLuYB1gBATSYQPmdKAwDlkNLixYvRuXNnDBo0qKIWn+AISV1IC+DgOvPLMUSFi44POoGg/GLYvNoEIz0jXJl0RagtFkggDQC+914AwsMN8Pix4pxhhz58Aq3UEkw42UrhuShSkQFAdZvzaWws6woBPy4hM5ePkZXjG7Xbps1dmJsXwc+vpZBpl6s5ZHLhghwCgar4eOEj85KiQmjbWCD8zGE07jqcT5UaK8NMuLTfpUUIs0AFcgvhkqQzkM3cRRSZyPrj32PNh19jnfXvMDbsBMNmxrDpZIjGfY3g1F6fd6AVjfHatSvIzV2BUaOCKoJDaGykKdbesQO6CxagMCdHaJjq4gCkTkRz7fKVD/NrlER6zbcdaeXehjzAGgCoAYBKnwWNBlBYhOvWrQPl9pw8eXLFD3TR0yXK10FZXQEcyi62642j6GKkg8gnG6Cvo4+rk68KNSkunZhon716BaKoSAu3bimeNSAmOhcR7Z9B/4QzOvawVnZavOurEwAqatpl0bx8onZnz36EW7cs8Pp1M965dhnIIZMg3/3LW6ASCr5saYdU7/fRaclPyjal9vrKRAgzU7KiAPBI5H1MD0/GqOs3MSFtHjIe5qHsdS7qpeTCuigP+dBBsqkJCh2MYehpBJuORnAfYATHlnpVgCGZNK9evYi8vLUYNy6gQttNZ5rGp3/iBHSnTUNhnjBJtLo4AGnhKA8wfXxIo5WStsCM9Jo+2KR9lCqySUTHVhfzAGsAoAYAKrL3hepoAKCwCCkLSFxcHObNm1fxgyzfuOoK4FBmsTML89Dw4X0cbFgf6y7Nho6WDq5NuVYFANILQ5rTdtu292FvX4QzZzorMxwcWfIcOkH5GH2plVJRkPIOgl6UqtIASovaVXWuXWrvt9+eY9GiRsjKko9jj8uFVx0vusBxnVCqq4suh4R5JuVdq+oqTxpaMqESCBcl0uYGh7CoXwI1pDGURXMibfzHox5gakQSBuql4K93qlLm5KSWIPRSAaKu5SIzOA+IyIVZai6si/ORo6WLlHrGKHI0hpGnMWw7G6Fh91Jc+X0FGlzdj94XnsG0QQMBCCQQReM0u30bxmPGoDA/X2hY6uIApE7S0tIE4FMZ7bM6SKNJLjQ28t1kGt26mAdYAwA1AFDpO1IDAIVFeOrUKVy9ehXffPONEAAU9Y0T9/LnkjGLy8Ch9GIp0cD/Xt3CsqQ8pHbqg15/9EIZynBjirDfEZ+sJx4eIejSJQf79ysHAFNTC/Go1WNgmz16j+SXUUSJ6VdU5ZvvWFJf6jDtcgmZuVG7oqbduLhsuLtbIyAgGi1ayBeFTUCGzITM70md0cAB382G+XE/NL0vTDmiivVTVxssQpza534gMJ9dkpdohDCtFT3yphb8M/ohJocnoL9eKvzEgD9pc8xKLMHz8/mIuZmHrMe50IrIBcqykdegCDYZf8It4Vc4FhXjnOt4NPx4IzyHmKJ+ozLk+/vDZvhw5FNkrk5lnmB1cQCKA1mKrp2qSaPZ2MjSw9gVqks7rqgMJNXTBIGoWqL/sfY0AFB4wW/fvo1ffvkF27Ztq/iB5Vmlr0Runl16KXCzMajzparstnw34DBiisoQ0n0ieh7oieKyYtyaKqyh4ZP1pGHDVxg3Lg2bNlUGySg6thNrX0L3eCaGBbaBjo62os3IVU/eiO7qMO3KQ8hsbp6AL76Iw2efye+DKYkLTy4B8igcdvkoXMZOh05SBrR1ai71H4+hChXhGyFMlSiIgB46//LwSvpGB2NieDz66qbgdNdJ8g5RqHxBQTF817+E9aY0RHbVhXW/hih6rI2c88sxJPkgkqGPl5gLbe1RKDDJxoSsdxF05iZa9GkniBBWJwegKMhSaqL/BnDRxxvdUcqSRr8teYBJphoAqOzO+o/Xr2sA8Pjx4/jqq68QFRUFFxcXrF69GqNGjZK4iqTJ+/bbbwVf9XQp0cU3fPhwHDx4UGydsLAwLFiwAIcOHaqg4mAAkCpwKTuY/1Zd2EL2N/7EmHr62NZ6GHof7I3CkkLc8q4KABkhq6Q52djEY+HCBCxb1lrpaefmFuN6q2AUL7PG0A+dlW6PTwN8ACBXuyuNhJsFb7C/Rf35+ObalYfjsUmTh/DyyoOv7zt8pluljCRNl0KNSahUmJcNYzs7hF/9G43a9VFl02pvS54IYQokoIdMiXw0/n5vHuP91zHorZOKs92UA3/X/4lD4sJIaBUDVhuc0Lq7sZC/XW5yMh5MmoTO167hlpUznnl8jncf/Qr9K3tg6tpQAKJOp6dj3IsXyO3cmdf45RG+KMiSp66ksgygk0sOaV0V1dqJpvCrq2ngNABQYwJW+lzVJQBIGTp69+4tAGcE4v766y9MmTJFkLu3Xbt2YmVBAPDSpUu4dk3Y302S4F6+fInZs2cLfFdev36Nf/75RwD66EKrbvoQpRf33waic1PR/OlLXGpsh46WzujzRx/kFeXhjs8doS74ZMowN8/B5s3RmDZNNdk8/v4lArqbUtDrYWsYGalfW0QAkDS5on5JoqZdFpShTNQuX9OuPOs8fPhthIUZ4Plz8fudT1ssypLmTHuaD3jh0y63TEQzayR//AE6zFsvb9VaUV5S8Aw3hzD51zHwLxohLDqJv2NCMO5VNHrqpOKfbpUBZvJO9k10Di4veAHHSwVImmeOkcs8YGioK9HfLi4wEG+mTEGbqCisc9LCottvUPqvJWNLRgY2xsUho0sXeYchs7yieZJlNvxvxhvmykHBIfJaXkQJvJnrDp++a1sZjQawtq1IHRtPXQKAH3zwgYBa4MSJExVSHj16NKysrLBzp/jUU7IAIL0MHz58iNOnTwv+3L17F9bW1pg6daqACob4ANmXpzymntq0DVY9v4QtKflI6TZUMKx+f/RDVlEWAn0CxQJAaUDXzEwPf/75Cv37O6lkisXFpTjb4SGKJtfH6CVuKmlTWiPk7E+aA7r0uaCP/psPIbOsqF0u6JPHtMt34mvWPMCPPzZAWppyxMEsQEBdXIF3R7RBsaUF3tkjTDXEd561oZysCGGSHe0Z2hOklaL7QVzE65nYJxj7MgrddFJxQUHwV1RUipM/hMFyQypiu+uj56YmcGlcnq2IntTUVKGgBlH5fTGpJyaeCoRdmQ4iPvkELb7+Gj6vX+NOfj6iOyoe0S9pnZRJk8dn7RlpNH2gyfth/rbkASY5aQAgn92iKSNRAnUJAJKWb/z48fj8888r5kNZOwgQBgWJTz1FAPDHH38UmIDpT9euXbFmzRqB+ZgeMnlS1o9u3bqBsoAMHjwYffv2RWBgJTiqjSnE5NnSYzqHoFhLD7/sdYN9U10MODQA6QXpuDvtrlAzsoiSU1Pz4OJii3v3ouDhYSHPEKSWvXQsBlqL4tH+UUvUN1dfLlCm+aIXNq0pPfQCYX6cTJMgj2mXyjL6HNISEyBgqdfkMe3yFebDh4no1s0J4eEpsLVVLp2eOrkC6VPcZQAAIABJREFU73zlDbPzV+AVEM13arWynGiEMKN4YmtOHxN0r4hGCLPJnIt7itFhkXhHOwUXuk5SSNt683wc4hZGQqcQMP+xEfq851jl3IpGtYoKs9/qfkjIicPOlO7wOnAAMfXq4aM9vyPTzha3vbwENCvyatKkLZgyafL4bgQuaTTjO+RT923JA6wBgBoTMJ/9LrVMbQCA06dPx969ewUXEIus4w6azL6XL1+Gu7s7lixZIjDRsocCNjZu3IjQ0FCx83z69KnAnNuoUSMBvQvVv3PnDh49elRBd8Je3KyBli1bwt/fv+JrXhYwUnoR1NzAN72P4XLwuwgpscdA5wy8mvo+iiwj8GDGfbEAUBJNyoMHiejVyw2JiWkCs5OqHrrIT/YKRnF3Y4xf21RVzQraETXt0r8RSKMXNxegUTm+hMws5Rq99GlvEIDkgj6VTkCksdLSMpiZ5WL79mj4+KjGDK8OrsDnp3+H0/S5MIrPhJZ29QT4qEvuTBPI7iZutD/9G/MhE80hfD7+OUaFhqOzTiouKQD+Yt7k4OLCF2h0oQAJ/2eOUV+Um3tFHz4BF82WNYOrmSvOLjuLrJgYPJo4EaH5CxHeIhMLNgwXnAcuBY6yslQ2Swrf/tlHnTyk0W9LHmANANQAQL7nRGK52gAA6UCSP42kh16uBOIU0QCKtkkXBTlt+/n5oX///mK7JMC5a9cu2NnZVfyuSv44pRdNzga0/f1hPHw4bv70BP/71Q5/2K6Hdv1beL3pBCwtjYRak0aT8tdfrzF1qgsyM1X/Qg+4nIjCidFwv+8Je0djOWdYWZwbtUsvbvp/rmmXXkxM48eCPf69SAUfIJIImbmmXUYJwrSHqtSc8Jl4w4ZPMXBgJnbvVp3vlqq5AnMzkmHh6Iyoe9dg17Q9n2nVmjJsXzAtH30Y0Fqzf+emKGM0MTR4Zv6lCOFrqa8xIToeHbRTcLXbZLk0fwJz74//mnvf0UP3TU3R2L3S3CsqKBoDERtbWFhI1OLZfG6DCe4T8NPMcnLuzLBXeNw2FjkH8tD/vf6CqGbaxzQ3VfiEKkuSLc9mYJpseo8wjkZp9d+WPMAaAKgBgPKcE7FlawMA5DsJ8gGk/JIUCcyeMWPGwNLSUqIPoDgASPxPFEAyYMAAsV2PGzcOlBLOy6sy3y2f6FG+86iJckQMWzRqFAr+9z+cunoHs2asg15BKQIDD8LevvLlIm2e//vfU3z5pT1SU1Vn/uXK4vDwYJQ56mLiL83lEhEzy7F8u1RZkmmXZXVh2j8u6ONG7Yoz7TJNnzpMu/JMuGfPO8jJ0ca9e53kqSazrKq5AmPdLBC/7FO0m/G1zL5ruoCoaZftIabZZdYJptniptdj2mP6mzRplxNCMSLsNdqUJeFa9ylyESHfuhCPmIUR0MsHzH5oiL4jG8oUDYu4pXtQ0mO83Bibu23GrMGzBEUezdmPwmigw99TBf9P82c0K7ICWmQO6N/cxNSmvByJfNqWVIaRRlOQF2W+kfRh9rbkAdYAQA0AVOa8sINfzmZaBx6KAu7Tp48gCpj89UiLR1HA169flxgFfOzYMYFPHwWKJCQkCEzAFDX8+PFjiZfTnDlzMGzYMPTs2bNCKix4QBlW+5oUseH48dC5cwc5kZGCYSQl5aB9+8koKsrG7dvH4OJSDuqkzXPFigf49VdrJCQ0UstUnjxIQ8aA17C54QGPZtKzXSgatUsvS6pLLwjSDHJBX02aduUR6IIFd3HwoCUSE1UfNKNKrsB7g7xQ6NwI7/z6jzzTq7aybA8xTR/foB1pEcJXEkIxOjwKbbVScLbNSMFe48NbFxubiwsLn6PRPwWIn1Mfo75qwjsqXlbEbWZOJmy32uL2uNto694WBalpuO9xD42PmsCuXyWdEJdmRVJAC9/FoQ9JAmDSsgrxbUuecnS+CeDR2ZYU4f625AHWAEANAJTnbIgtW5c0gDQBCvhYvnw5IiMjBYEc3333HUaOHFkxtxYtWghA4dKlSwX/NmLECIHPH11IZCIhUEe8gI0bN5YouxUrVgj8Dbn8gmTSYBogpYVeAw1o370L4379kBsQgFJPT8EI0tPz0aEDaVWj4e9/Ep6e1gIASFoPcdGMH310F2fPmiEyUrV+elxxHPIOAfJLMfFoKyEpyTLtMiDH/PjoRfDvBSlk2qV26IVPL3GWX5QBgJo27fLdFqdPh+P9912QlkYap8qsDnzryyqnKq7A25+9D9Nbd9HyRrisLqvld7aHJAXtsLRgfAbD/AJJ40caJ9o71xJfYlhoGFqUpcC/y3jBGWIaQ0mAiqLgT258CfP1KYjvpIeuW5rAzUP+VH90v5FlQ9xz6cElDD09FNnLsqGro4vna44g4yTQMXCcWHMvjZnaUyYHr6iZlY9MVVWGfcTQHSBOm/m25AHWAEANAFT6zNQ1AKj0hHk0sHXrVgHv34wZMypKM9OhouSjPLpVexFTR0cUDxyI/D17KvrKzS1Chw5zkJAQjPPn/4KXl4VEoEtJ5kNCjPDsmTA4U+XAI8Oz8abTC5j87YrWnSwqMq/QC5deslwHfGWidgkAch346WVd06ZdvnLMzy+GlZUeTp6MwMCB6iHQVgVXYMjxbWg47wuYx2bynZrKy0ny51NF0A6LEKY9eS87FkNDQ9ECabjWZXwF6Tz1wyKERQHV7csJeLMgAno5Zai3zhH9xiqmWZcVcfv9ie+x+t5qZH2XhdKiIgQ0OYsGK3TgOr2cFkrco2wOXlEzq8oXVkaDXG2mKGm0KGVOXc0DrAGAGgCo9LnSAMCqIjx8+DBCQkKE6Gboq5ieunxZGE6dCt0rV5D95o3QpAsLS/DOO4vw+vVlHD16DL16uYpl2e/XLxBZWToIDFSfUz99vR+e/xw6Lwox9E/3iqAMZQmZWRAHN2qXceHRi1mcxlPpw6XGBmxswjFtWgp++EH5lHyShqksV2BGQiTsG3sh+J+/4NFdfMCVOkTEx59PVf3Sfr385ilGR0bCC2m41a2c6oUFh4jLIZyRXobzi0LhdDYfcXPMMPKrpjA2VjyqXlbErc9PPrj45iJivo9BxN4ziFtRgs4vB0FbT0+qGJTJwUtmVtKw1/R9ybSZ5PLBNP5EmfM25AHWAEANAFT6HtMAwKoivHjxosDUvH59ZRYD+sqmS51dIkoLvgYa0A4JgXHXrsi9dg2lbYRzyRK9SM+eyxESchx7957AiBEtqoywY8d7MDcvwYULqgs+EGfaTUspxut3XkFrlwN6DiknPJZl2qUyXDMw36hdbvRrTb+s5NkSbdvehbl5Ma5cUSwlHN++FOUKvH79Bb5dVYQfw/piXpk19ApS0b9tW/QdPx5tJ0yArqEh3yHwKscN2qG1Z9QsohyPvBqTo9Dt5HC8++wpmpal4GLrEQJ/P2ZKFo0QJnPviQ2hsN6UiYT2enhniwfcm9aXozfxRck6QfuYzJ3inp6reiKzMBMPVz9EQKdDqD9MG81WjOfVr6LBIaJmVl6dqakQ85Gkjzy6vymQkEVM1+U0cBoAqAGASh8ZDQCsKsLg4GBBjuHdu3dX/Mj8huhLsi4/Jo0aoaRHD+T/8UeVaRAIHDRoLQICdmHHDl+MHy9s6vX0fIRWrfJw5EhnpUQgGrUrzrR7bGUodM/lYNj1ciBKdaTl2lUmapdeECxFHPPnUmqC1VDZx+cOrlyph6go+SKmFR0aX67AO3fC8M03+QgMJF/cACxd6oHiiFBc3r0bl/39cTk2FiVlZehrb4++3buj7wcfwIUTbMV3fKr05+Pbp2i5gJQIDHwagiZIx52uEyt8S0mjzILFWITw3WtJiF0SA4PMUuisskGP4TYCwKYqyhXS1knKVOSxzAOeFp7Y2fELvB6Tg7ZhbWFoJTliWHSeigSHkJaN5ldbguZoHcgsTQ/JikVMawCgoru/dtTTqh3DqLuj0ADAqmsXExMDb29v+Pr6CgFAAoHVHdWm6p1lOHMmdP/+G9lxcWKbJpPJxIm/4NKlDdi06Tg++KBS2+fkFIrhwzOwfbv8qaNYxCXLpSor125WVhGC2j1F8TfWGDi5YUXKLXVF7aqaAkXV6yba3u7dzzB/fiNkZZmquyuhM0BBQqRFIV9YLs3G3bsvsWpVDm7ebI2JE+/giy/c4OhoU2VsJYWFCD56FJcPH8al+/dxOyMDjXR10d/dHf2GDEH3GTNg7izer5Hrz1cTJNzcydxNiUT/p4/hgXQE/mv2pd9FgXJCfB4ufB4Gp7/z8WaGKd77yh1mZoaCDw46C3wihGUtMK0JizYWV9bqcytMazYNk3xbQ6+BFlr9Wk79Iu/DNziEEVMT36o8gTXyjkfe8jQuAoEkdzMzswo+0NoCUuWdD5XXpIJTRGqaOhUS0ADAqpuBLrpOnToJ6GLYQ5cG/Xt18lqpY5tqhYXBpH175J47h9KuXat0wUzdc+YcwokTX+Kbbw5hwYJegnJ2dm/w8cfJ+PprYfOxuHGylzXj5mOEzMwkxydq1297JHR/ScOg4LbQN9CtyOqhrqhdrlO/NB4xdayLvG0mJOSgcWMr3LkTjZYtqwItedvjW14UKN+/H45VqzJx/XobvP8+Ab/GcHKy5dscshMScHPXLlz288OlFy8QWliIjqam6Ne6NfqOG4d2kyYRw7LgpU3rXhsite+lRqHvk2C4IQOB3SZCV1s4EpvGmpGRhSu/J8Hix3QktNFFp01uaNyknmAejJiczhqZb0WDFHgL79+CopktROsbrTDC781+gNPslvAKckT9pu7ydlFRng/XHgOAzM9O4c7UUJHkTX8IMJPcudpaNXSn9iY1AFDtIn67O9AAQPHr6+npKZQPmF58RAUjycxSl3aJiYsLStu3R96JE1WGzTV1z59/FHv2zMNnn+3F8uXvwsIiHWvXxuKjjyoJsrkN8DHtUnnmz8f+lmTapeCUc63vo3BGfQya7SAw3bAoYHVF7aqSB0/de8LcPB5Ll9If2YBclWMhGQUGvsD69bm4cqUDxowJwPLlznBxqcyco2h/Mffu4crOnbh05Qoux8SgoKwMvWxt0bdrV/SZNg3ufftCW0f11Dd8x3s/NRp9nzyECzIQJAb8UTtB15MQsTAShmml0PnGGoMmuVZoS0WDQyRFCPMdD5WTxrmXmJ4Ip1+ccC30J+gkG6D9KW95mhZblsu1R/ehKOEyn8wkSg9CwQZYHmDSYJPcCARK8p1UsItqraYBgNUq7revMw0AlAwAiXiaSzXCUg1Vd+ovVe86g7lzoXfsmED7IvrQC4lr6v7qq7+xZcsMzJ79P/z660gcPBiB4cNdBdUI8DHQx9e0y+pwM3Cw/2ZtcgmZrxxNgMGqNHS83xwWlkYq8ZmSJU8aI70c6KEXRG1d70YNg2Fnk4Q7F9yga12+Jup+njyJwqpVSTh/vgNGjLiNJUts4enpotS6cP35aO8RgBBoybS08PzUKVwlc3FQEG6mp8NBRwf93NzQb9Ag9JgxA5ZuqifDliTDh2lv0DvkAZyRgXtiwF9iQh7Ok7n3VD5iZppi2HJ3aGkVCprj5teWFiGsiOZZGuee3x0/fHTGB8e3HUPjEyaw66Oa9IE0B+qX1o4b+EJzlUVMre49Kq19rraUgCxZJOoytZcGANbkbnoL+tYAQPGLSCZg8gFkX4cMFHAv8jq7/JGRMG3ZErm+vijt21doGnR5k2mK6+u4fv0lrF49BcAW+Pv3QsuWVgJtHDfXrjymXeYXxCdql8qcfOcBSt41xfhvm1WbyFXBg6euwb5KLMbEL4rx5Eg9uDQ6gz27R8I4Xh/1sl1gatYVps3GQt+9F7S0VZez+dmzN1i1Kh5nz3bCe+8F4KuvHOHubi8gDmfmNHkCGrgfDsyfj3Hz0d/iQHdOYiJuUzDJqVO49Pw5nhYUoL2JCfq3aoW+Y8agw9Sp0DdVj09kcNob9Aq5j0ZlmXjQXdjsW1JSCr/t4TBdl4LElrrouNkNHp7l0b3cfURnSlKEMJVlGSzEadWk7SVpnHvfHvkWxr5h6P5yCDrfnaDSLcnmRvcFl+iaaTUlEVOrdBByNvY25QGmqWsAoJwbQFNcWAIaACh+R1CqubVr18LVtVKzQpfHWwEASbPl7i7ICJLn5yckAAJ2zC+J/UAX/cqVZ7Fp0yz067cYBw7MVBkhM4FIWabd62fjUOwTjeaPW8LWrvqisFn0I41PUlqp6rxP8ovKMGtLHv7cUB9WLXOx88dSDGxlgKK4p8h9fBhZSVeQpR+KbIds6OZowyzJFqZ6bWHqMgxGrcZC21B+cBQWFotVq2Lg59cZQ4YE4quvGsDTszI/rTxcgdxAIFX488U9fIiru3bh0uXLuBQVhVwyF9vYoF+3bugzdSo8Bg5UCQh+nB6Dno+C0BBZuNdtAvR1Kjn77t9KxutPI2CUUgr97+zRb5xjFW0oV0biIoRJLiyohmnV5IkQJloTil4XR2M0ZcNEfLTlfTRcpQ+XaZKJn5XZx3RfMOsIjUEWMbUyfSlb923KA6wBgBoaGGXPA32h1plcwEpPVo4GfHx8MG3aNHToUEm0S2ZBioCsTZFtckxJqKjBokXQ27cP2UlJVQAg+cnQi4qZYukFtfXHo1i3uR10tIahR4+F8PVdAG1tLYH2h/nyMaoWFuErzbRLZVlqPUbyLG0uh/rfR0kTPUz5uaWiU1aonjwAR6EOeFbadi4fX39ugJICbSxZnYsvx0oGwqW56ch9eBTZ0WeQXRKMTNsklBqUwTTODPWKm8HUrj9MWk2Aro1k8+mrV3H49tto/PVXZwwcGIQVK2zQvLmT2NFK4wpk9DwE+AhIM9oNVftwlhYX48lff+HywYO4HBiI62lpsNXRQf/GjdF3wAD0nDkT1k2a8JR2ZbGQjFj0CL4LB2ThAQf8JSXm45+lYXDyzUPMh6YYvsIDpvWkEytLyyFMcqJzQH/kjRAWzW3LneTa2VPQ4+wYdH01TCbxs9zC4VTgBofQGtNcKdK2tj1vUx5gDQDUAEClz5cGAIoX4eLFi9G5c2cMGjSoogB95dKXel2mDaiYTEICTD08kHfwIEqGDxeYqphZl4AfPSzg4tyZc/jw/iK0eDYKs9/bhXmL9OHlOQNnzy2Hjo62UK5dqsfHtEsy5OtbV5Sfi+NLtqLh7n7YbNEErTvpo8cwLXQZqw8jM9WZOSUdJmkAR+kDKKOB2y+L4LOkDDE3TDFwbgb2fmYAMyP55lxWWoqC5+eRHfonsrPvIMssCnm2RWLNxpFRSfj220j8+Wdn9Ot3DytWWKJVKxde02QAh2mimD8fAzYM9PFqTMlCeampuEPm4r/+wqWnT/E4Px9tjYzQj8zFI0ei07RpMJABUJ5mxKFbcADskY2H/4I/gbn3lwiYrklGUnNdtN/ihiZe/MmcGfE409hxfYxFI4RZ0JksHzVppMuXW+/Cm7bP4P37BiUlKrs6Cw5hQV21EQC+TXmANQBQAwBln0oZJTQAULyA1q1bJ0gXNHny5IoCdCEzrZXSgq8FDZg0a4YSJyeknzol0PYxQmb6b2bqPnDgABa+WYg1NmswzXsaUh8G4HrQx1j8fQwaNRiKqzf3Ql+/3CQmiZyXyUzeXLsEXO7v+BqO3/+E4lJd/NVhP5JLeyAw2AAPEo2RW6aDFmY56OhZiG79gF6T9GDjqnhKLVlLQjRAZO6qjtRxyVklmLy6EDd2maPxwEwc+F4brZ2ka5hkjZ/7e1H8c+Q+OoRsMhvrvUC4gSkOHVkKv7Oz0KPTBSz9IAJdRkzgZTYW589Ha00gR5I/nzxjVUXZ+MeP4b9zJy5fvoyLkZHILC1FL2tr9O3SBX29vdF08GAhc/HzzHh0fXgHdshG8L/g7/6dZLyaHwGTpFLorrFH//FVzb18xsqodOhccIM+FI0QlkS6nHD5Nl6NzcHF7y9ixcx1fIamdBmaA2nZ6CEeQHn8QpXunEcDlAeYcQBS8bqU/Ufc9DQ+gDwWXVNEsgQ0AFC8bCgLSFxcHObNm1dRgF7+dKHJ+iKvrfuNATSm6TNZuRImv/2G1JgY6OjpVVzWZIKiF9P2HduxJmMNtjpvxeixoyvy8pYWFeLs9qVY9MtvsLdqir98/4FhfRNB9LC8pl1Jsnrq9xv0v/wCDRJyETJnHDp88TN09SvTh1HWkpDzhbj2Zylu3dbGvWhDxBQZorFBHtq55qNrt1L0maAHty66AlO1qh6+GTEU7Y/mtexAPv630hSG1kX44YdC+PRSbdo07thiYpKwZs0rHD7cBV073cKng/bCxfYCMm0Thc3Gtn1h0npShdmY+fOJcjKynMqkLWept/hqehWVmbz16MPi2d9/4/L+/bgcEIBrKSmw1NZGPxcX9BswAE6TRmNQbhJskYOH3cYjO7UE55aFwenPPLyZbor3Vso298oaE8mPZEQPnwhhunOonDhZEqgRR7p87719eKz1AEaLumB8T36p32SNm8/v5MdIdwzNsTZlAxHlJyRZ1tW7nK2DBgDy2ZGaMhIloAGA4kVziugnrl7FN998U1GANEB17atRKiFzRgbMGjdG/s6dKBw3roLShea54dcN2Fm0E3vb7sXAIQMF8xY17d48eQGzvvSGU0Md/G/pLrj2GyzQkCrzwo+8ex7pi+egxaN4BI7vgVbf7YWJJT9+uZiQYlw9VIibV7QQ9NIAz3OMYaFdhHYOeejSoRg9h+v8P3vXAR1V8b2/9N57TyBA6ITepIkK0pUmKIpiw/IXlJ+iqHSRLoIFbPQq0psU6UgJEFoIJb33uslmk/zPfXHCZrObfduS3c175+RQMjNv5s68mW9u+S46j7SEhbVmgFBX+YN3XynF+9PNURBrhUmf5+O7t2xgbqZZXxV9+CkpWVi48AG2bOmGbt1u4auvbNC9e7Pq4pzZ+P5xFN3/EwWFF6vNxjaplrDPD4C1bVfYhI6CVfP+sLSy4taG9LwbEp9iSW4uLq9fjxN//YXjt24hsqQEzS0tMKhtOxS59MOgK4OR09IS4SubIqyts9ZOE21ECDNQIwsA8+4/xN3OSXh/2iTsfu8MgrzkZ1fR2mCkGiIAyNYDWU0ogEofNG0ESkk7aSx5gEnkAgDUxQpuRG0KAFD+ZF+8eBE//fQTVq9eXV2AZcmgQBB9fqRNcrTpycu1S/3n0ke1a4cKd3fkHzvGlaO60xdPxwEcwPZ+29Gzb89q0y7LxiDtzB/7OBeDB/dBUHAKFk0ajY5jVsLSkb9PFJNjRsxtxHzyGrodv4d/B7ZEyJLf4dFEs4CPgsxynN9WhrOHK/DvLUtEZtmiAkA7l2J0bVOG3s8BT02whJOX6sTCJAvmE6pp/uCHaRKMnynBvb+c0OnlXGydawk/F9X7xGdNpqXlYNGiKGzc2BWdOt3Dl19aondv+cER0n6hnKYv7T4k93ejJOcsiiyjUUDRxsUmcMj0goN5B9gHDamKNrapcv5XpOXi08+GKPOwIB3drp9DcPxjzLiWgM17D+JelhnmLdiMcVM76sScqWmEsKxWi8kt8u2NyIsrwrPdp0E0W1Sv4pSOtKU9kwAhWRRo39TkcqjpIGT5CQ09D7AAAAUfQE2/CSEKWIEEHzx4gGnTpmHr1q3VJaSzZGgseC02IGvapYOXNjdpbj5pZ3PpqF2bb76BzcqVKMzKgqS8ApMXTMZlk8v4c/ifCG4WzLXBIn0VOfMnJeWjW9ch8HB/iOVf2qCFx3fw7TuM1wiLstMQ+fmr6Lr9LG6384bz0h8R1KVK46jtRyKuRMR+MU7vKce/V8wQkWyLjHJLNLcpRpdmpejZpxJ9XzJHUAd+vnaa5g8mWpc3V4rwF9G6tC/Gr0srMLCtlbaHzbWXkZGLb7+9h/Xru6B9+/v48ksz9O1bm1eRXR7YWqe60tHaNbR8xbkQ3dyJwvhDKOCijdNRbl0Jh2QHOJRRtPEA2LZ9CWJ7X7W4AnUiCAWNPirIQNfrZ+FSKUJkrzG4EX0Vz+x+Bp82/QxfvfSlzrvC/EsJKEmbJRnBunSEMM0NM63Ky7pRkpWN682u4+aMv/FZ3k/IXZSr8/5Lv0CWlobGQCCQxtCQxOoERunSxvgJWZBbvQpHyy8TNIBaFmhja07QAMqfcYoWowjgv//+u7qAPJLkhlovdZp2zcxqmGtZ2f9ujDWjdvPzYefvj8LFSzE8cT/iTeKxa8IuePt7Vw+NDiRlt/f09CJ06jQB5qbRWLs6A155g9F88ApYu7nLFZFEXIKrC6eizY87keplC/G8+Wg14s16F+ejf8U4vb0c58+a4NpjKzwssYWPeSk6+ovQo3s5+ow0Q/vBljAzl2+KZaZOOkxUyeKw6nAJZn9qjQqxCWYsKMYXL+qG3zArKx9LltzBb791RuvWDzFrViWefrpmKj9Zfz52eSAfPhoXX62NtNmYoo3zHeO4aGObtCqzsY1NFzi2HAubls9ohZ9PW4slpjATXSJOw6myBLd6jYF5JRD4dSD8Lfxxdc5Vbb1GaTvqRAjT/JBZ09XVtbr9qLnbkXegAkvG/YlrGdcQsyhG6bu1WUAeLY105hBVOA612S8C2fTDopMFAKhN6TZMW7pxkGmYsTTIWwUAKF/sBJpat24NSgfHHnkkyfU5aSxKkJEn12XaZVpBxs0nnXqN+fKxMmjXATfNxHh3iDO2vb4NPgE+1dpDZuqU1UzIG3d+finCw19Hfn4U1s+1g3tIHHzMlyBg4Njq4gQSrq+bDd9Fq7j/S/r0A3R8a47eAIKsBAnObi3DuWPA5buWuJ1nC0uTCoS7F6Nr+zI8NcQUPcdawtb5CRWLKv5uROsy6eNKJF+wx6APc7F+hjXsrVWjdeGz5nJzC7F06S2sW9cJzZvH4osvxBg0qA1Xlc27tElfVzmWy9KiuWjjgvSTKLCIqiKpFpnAIcOzymwcOAQ27cdUm435jE2bZeKKstDp6j9wRCkie74AewtrDF/+tqPsAAAgAElEQVQyHGfyzuDhjIdwd5J/gdFmH6TbUjVCmBEvk18bPRVlZfg39Ah85plhzMOvYW5qjouzL+qqu3LbVRSVTOtOVY5DbXac/BFpzbPsTsxCos131HdbggawviVuZO8TAKDiCW3ZsiUuX75cAwAybq76WAaamHbryrVLhwwz8RF42ft/s+GQ9RBn3/gZy0f61hoa00zwAYElJRJ07PgOkpOvYev8sXBrtRKWyX3Q4pnvEXvlEMy/+By+qYW49c5odJr5AyysbetDlGq/o7S4Av/+KcaZfRW4fN0cEam2KKw0R0v7YnQNK62mn/FsaladP1hethiidZkwT4zzvzqj6aB8bF5kirYB/EzNqnQ+L68Iy5dHYu3acISEJGDWrBIO+JmYgIvMlJ53VYi4VelDXWVL8jJRGLEVZWknUFQRiQLPdEiqzcYtYO85ALbtXoKFl+qkzar2kcBf56unYA8xbv0H/rb8swVvXngT63quw4R+E1RtUivl2YWCvmFpk6ksTQz9m/ztaJ9ggQ2xfxxEylwJukUPQfAXTdDLpxe2fvTEjUUrHVTSiKKoZHb5IDYFvhyH2uyvdB5galcAgNqUbsO0JWgANZS7AAAVC7Bt27Y4ffo0R2fB3a7/o27QpR+L1ky7cqJ2mcaHDhZZv64Fx/Ow0OIBXs9vgu+HPTEnMelQXZYJRVlEn0RSgW7dpuPBg2PY+dtaOJXMgKn3LTT5vhIPvHuh7cL1sHfz0XDlNkx1ommJOl2Gf3ZIcPGiGa7FWSNebI0gSxE6B5egcxcxeo6qQPtnHGBubgYq/+l6EX6e5wBrjzIsWyLGK320H0RUUFCMlStv4scf2yMgIAVffFGIIUPaoqLiCehjhx7LucvXtKttSUtHUVuYm0P84BSK7u9CYcEl5DvEQeQl5szGjgVBsHfoDrsWo2HVfIBWtcQJxdnodOUkbCFGZI9RcLS0QXpuOpova46nHJ/C/hk1UyRqWwbK2pOOEJZOQ8hAINWneWSypL9TPt7LXbfDaaQJwr4YB6eZTvi4/cf4avxXyl6ntd8rCkqRfUFDBIew6GSW57w+icm1JmCZhgQNoK4k20jaFQCg4onu378/1q1bBy+vKhoSZsLQdj5geaZddjuV9sFiwRvsT8a4z1KvyZp25UXtsnblHf4rThdgVmU0xucE4ddRtU1f0pGvyiKhCfj06f0F+kWW4yWTfSiYIobJkEJYpnVF875rYOcvP62YIX52KVESnN5ahvOngCv3rXCv0BaOJhKEuRahVCJBlsQC/b6U4Lup2qd1KSoS4bvvbuDHH9vC2zsDn32WiyFDWqG8XMKZu9T159P1PNQVQMOZjW9tQ2Faldm4wLdAq2bjpOIchF85DhuU4dZ/4I/G2/nrzkgsS0T8nHhYWljqWgRK2+cTIUyNEJii7znr7FWkTqpAxwedYOHsBNv5ttj+zHaM6DFC6bu0VUBeUIqitllULgExXV6q2fuNLQ8wjUsAgNpauY20HQEAKp74MWPGgFLCtWr1xGmeURpokg+4vky76qTgWnexCB+VRGFoZgC2j/GsJRx2cFNgiDL6EwKBq/y+RuvCngg+0BR+LewRffx9iH3Pwb1wNoKHvq0Tao2G/pRv3CvFJ1PEKL5piXIrE8SW2EECU7R1LkKXVmXo/SzQZ4IlXPzUp3opLi7B99/fwJo1reDmloP//S8dQ4aEobKyggvcYFo+TdapruXI13eyQpQPUeQuFMYdRIHkBgo80iCxYdHGqpmNCfx1vHIcVpAgsscIOFtWuSAs2LEAC6MX4u8X/kbPVj11PXSV2leUgYaAH/3QQ35t14ZvhLlvBdr+8Aoepz5Gu03tEPtWLLxdnwR0qfRiNQozrj3poJS6mmFmbAKwpMHUZeYQCk6hiyuzYNAe1lBacDVEK7eKAAC1JclG2o4AABVP/NSpUzF06FA89dRT1YXIDEobiKr5gHVh2qU2mU8X/SnPtKvOst50tRjv5EWhX4YvDoyvfXioQn9CG/zW3lvhfNsZrf9ujeBuwUg4tg0plf+DeXYLNOvxExyCm6rTTb2rQ7QuU1aKsGeZE9zDi/HTN2L0CJHA2soWt49V4Oyecly8ZIZriTZIK7dCqHUxOocS/UwF+o23QEgn5T6BIlEpfvjhOr7/viWcnPIxbVoiRoxoCUtLi2rQp8tDVNtCl+YK5KsF4qKNo0/WNhunW8AxPwj29mQ2fhFWLQbWMBuniHLR4fIxWKIct6TA3924u+j6R1dM9puM76d8r+0haqU9ZuploIUFghHApx/R4zg87JWJ0IseMPP1xt4rezH1/FSI5tYvByD1k/ZIRrXCZ/D1FRxibHmABQ2gwAPI5/uqs4wAABWL56uvvkJoaChGjRpVXYiR//IBgNo27VInWBo32milCZnrMu2qs0h23xRhUloUumV64e/xPrXSqTFaB9l8pvLeRWW3dN4Cp8dO6Hi2I/za+qEkMwP3j0xDqf9RuGZ/jiYjPoSpmfoaMXXGqM063x0qwZzPrFFRZoJPFxRj5gtVtC4sdZxs/uDYiDL8s60MF8+Y4spDKzwQ2cLTrBSd/EXo1qUcfUeZIXzoE/qZkhIxfvzxGr7/vgVsbYvx0UfxGDeuHaytqy4jhqzJUOTvpsr8lKU/RHHklppm4xITOKR7wsGsPZJcn8EQC3eYmZQjsvtwuFrZcc3T2mwyqwmsTKxwb949nWqgVBkPKytNxk1riUX1szzLBPZjEwqw8Z2TcE8rwYh9beDlFYbpv07HltgtyFqUVa9rg613ykyiykPjosAQ0nbSRUAXKdqMLQ+wAAAFAKjKNya3rAAAFYvw+++/5/yopkyZUl2INikWQCFbU59Nu+oslCN3SzAmPgptMt1wfoK/XBBIt30+HHjlknJsbb8V9in26HGpB7yaV/lVJp/ai0TRNJgV+CE0/Gc4Na/JUadOv+uzzoUHVbQuKZfsMfiDXPwhh9aFTxR1bko5zm4V49xR4ModC0Tm2MEMlWjrWgQ7k0e4AW/Y2YswfXocXnmlI6fxM2TQJ+/boehQkhUBAE1N17Jm42+CR+BaeUec7DqqGvxRH15f8zp2pu/EjXduoKmPfmiipTP5sPzaZNJnQQt0Ca3KSW6N5XsfY5lbDp6OyEPF38tw8tpZvPvu07huU46ogmjc+uqWwhzCuvhOZLn2VH0H1ac9hS5MylxMVGlbNjjFGPIACwBQAICqfAMCAFRRWtu2bcPt27fx6aefVtekQ6pq861yEpe+oZNGjv7NONXoT+n8uXUSMktF7erKtKvi8LniZx6WYuj9KITmOOPyS4G1ctPy9eOitspKyrCj7Q5Y51ij37V+cAty494hzs3F/QOfQBSwB87p0xE66n8wNTdXp7v1Vic9vxwT54lx4VdnhD6fj83fmqGNn+I+84miZhcIDjAWiBGxvxwXD5ngxJFKdDJJwAennBDcuf5yutabMP97EY2fAQgCgXy07Hz7GLD1HvqaV2LTmCcXjGPXjmHUkVFY2HYh/m/4//FtSiflGOijuWfuHAz0yZJxU9mTF5IwIzUFRZbAYns/jOhflW3l8OHV+PLLuXiYJEJgL3dc2nCH24PIv64+LgwMxDOuPXWExYJDaI8lIKiNfssGpxhDGjgBAAoAUJ3vq0YdQQOoWIQnTpzArl27sHjx4upCdEAxkCdNyKxJ1C41Xl+mXXUWzJU4MZ65eR+++faIGBcMa4ua7EvMj4s2amUbdklhCXa32Q0LkQWei3wOjl5VeWPpST1/FAnZH8KkxBlNW/4MlzYd1OmuTutQYMuM9SKsm+sAa88yLF8qxstP8aN1kRdAwy4F7OCnf8vy8xFw3t51O1xiXdBkVxO0fLalTsfY0I0zMyIf3km+fXU8eBPzHJrg//o4cFWKS4oRNDcILaxb4NxX5/g2o9Vy8jKwSAfvyAM+mVkl+N/hB9gTKMKUBDtMf9oH7u6O1WCZ2kx9ZQcmPJ6D1u1D8MPPh7k0bLSuCARqqllVJgCykNA6p3dp8lAb1G9tBYcYYx5gAQAKAFCTb4yra8gAMDIyEp999hmuX7+OtLQ0HD9+HAMGDFAqk6+//hq//PILKGdlp06dsGbNGi7rh+xz8+ZNzJ8/nyubmpoKd3d37nZOmynfXLuqEDKrE7WrdLBaKnArSYy+l6PhVmyD6y+G1MpewRy56XXKnPmLc4uxr/U+oBIYdnsY7Fyr/LHoKSsswP29n6M4YDMcU95D6KhZMLfUTX5cVUWz81IJPvzEAoXxVnhtVj5WvKE6rQs72JhWhw4mWiPs4Ffkz0cH+7ant8Hziiecf3JG55c7q9p9gyovzRWoabRmZmE5gm5fwwX/DmjvX6W5H7hwICKKIhD7eSwc7Z5cQnQtJNmLHt+IbZr/Xw7GYa5VBlpkmWFVx1C0au7I+ZiS1o35mGa8/Cfi/3JF81XWsHqlEwcMaa+iMlSW5RDW1TjJfMv2AE3fQXsKgUCSGfVbE/AqG5xiDGngBAAoAEBNvzGDBoBRUVE4f/48wsPD0aVLFy5vrzIAuGTJEqxevRqHDx9G06ZNMWfOHGzYsAHR0dHcJsoeusnu3LkTP/30E2JjY+Hh4cG1T4c1bcasLOPko03qvw+yZq5dBaZdOvjpkSVk1nhCddjAw/QydD/7APallrgxsgmcbWumMGPO/PSnMhCYn5aPI+2PoNyqHCNvjYSNY81cuBlXziA26T2gwhwhIT/CPby7DkdWd9PRqRK89JkEUfuc0GVSLrbOtoSPs2oBK7ROmJZPeq3QOlIl3+7OcTvhccADlbMr0X9G/waTSX28WJVo87r6s/N6MV7LvYeCvh05P9a1R9Zi2rVp2DxgM0b2GKnToUi7iND80zpQNQNL5N0cfBD5GDEu5Zhb7oVJgwJqBKswsCx6+yiS9nsgbI0d7F7ryr2L9hkWKcw0q6Sd00WQBQmSABvzCdaGYKWDQ6jfjJRf1baNMQ+wAAAFAKjqd1CrvCFrAKUHQ7dcPhrAJk2aYPr06Xj//fe56nTI+Pj4YMWKFSDev/Xr12P//v1cW0QATQc0aQGJCoackmlDpc2E+KSUETKz9lUlZNZ4UnXYQFyWBF1PPoBFuRkihjSFp0NNIKRKRGd2QjZOdjyJUqdSjL09FhbWNWlQJCIRovd8hUK/X2GfOBnNR82HuU1NoKjDoYJoXd5YLsLe5U7w6FiM35ZVon8rfgTB8g5+pu1hhxg58zNtiSp+TgemHYDjWkfkv5WPoSuG6lIEDd428zHlE2ikqLPTD+ZgU3Eq0se0RFJmElquaonBroOx/aPtOhmfPLM+8+dTJWK7oLAMX++Lxh/+RRgbb4tvhjSHi4v89Zc2YScS97qh6XdWcHqjZ7XfnGz6ONqLGJcp7WGqrDs+wpIlW+ZTh08Z6eAQZST08tqT9U00hjRwAgAUACCfb6fOMo0JAJLJl/ipLl68iG7dulXL5bnnngOlffv2228xYsQIDuwNGzYMlAuYSKApHzBtpGwzpRs33aDZzZqZealB6c2fNlt242e3fkPiaFO0cNLyyxF+6CEqTCtx7Zlm8HOpDQKZL5B0Git57aU/TMf5rudR5FWE8TfHw9yydiBF1o3LePzoHcBMjCDfNfDs2lfjda+sgRUHRJg30wYVEhN8trAYn41SDjwVRW+yuZc9bKU1pqpmlzm1+BRM5pggc3gmRm8drWw4Bv17dbgCpQf8zNZkpJaLcevlYLT9si1yynMQOy8W5mbaCzRSFMTB3DpUBVq7TiTis5JkuBWb4rumwejesXZmHjbGjAm7EL/XDS3W2KLyxVacdlDaF1cWBDLyZW0GWbC+0B5LF2Vl6SLVWZC07xJ4VaffxpgHWACAAgBU5zuqUUcfAeDkyZM5TRxtmrSxyj79+vXDyZMna/w3Hw1gYmIiAgMDce/ePbRo0aK6/vjx4+Ho6Ii1a9fWeldAQACuXr3KmR5Y6jUCdvTDmOulo3YN0bSrziLKLqpA+L5HKLYow6W+zdHUo+Zhykw3pGFVBgKTbyfjau+ryA/Ox4SICXK52CrKyhC9ez7yfVbDNmE8WoxYBAv7Kod+bT7nosvw6seVSP3XHs9/mIvfP7Gu5e8o/T5ZR34+/nzS9VWRk+w4r2y8grx385DeNR3jj4/XOw47bc6LKppl2fc22/wIbczt0bx0OdbErsG5iefQoanmAUbqBHEok8mjuAJ8dO4hLvuUYWaeGz4YHgIzs5quFtJtMPAX9oMd7F7tyu2XBHaob3XlEKY2tBlkwfpE2Ta0GbwjKy/mQ0v7vbJ9Rbou+SayIDX6f2PIAywAQAEAKttPlP5eHwEgbWCkslf00McrSzPABwAq0wAuXbq01isHDx5cDQ6Z6Y4d2nQjJS2gLgmZlU5gAxbIF1UgfHcMcm1LcLZ7c7TyqWnCJTnx5XaLvxaPyAGRyG2ZiwkX5INAGmrO3Ug8uvMWKqyzEeiyCt69B2lFAkTrMmGuGBd/c0azIfnYtEgxrYuiiG12qKiq7VFFTrKDvXfsHmJGxyA7JBvj/h1Xy4yuFeHoSSPqysn1r9sYW5SNTTHP44PgD/DNK9+oPSJZX06+QRzKXlgqlmDxnkf4zjMPAxOtsPzpZvD1eeKTLK9++ku7kLDPDS1/softK12qi7D9iS6j0pyKzIpBf5IWjfZMAoH0b21FCMtm21A2bnV+z9wCVOm3MeYBFgCgAADV+X5q1NFHAKjOoPgAQGpXng+gr68vli9fjokTJ9Z6NW2mM2fO5AJBXn31VS54pH379nj++eerNZSyWR7U6b+h1iE/ufDtsUhxLMTJ8DB0DKgNAsl/hxzQlRH8Pjr3CA8GP0B2l2xMODlBoUgqJBI83LMEuR7LYJMwHC2GLoels7NaIiRal0/+KMEv8+xh41WGFUvFmNC7Jq2LIkd+bZr16R1MTrSeVOHAS4hIwNWBVyFyEmH4leGwd9eMgkMtQdZTJSYnljFCmZxofbpduAT7Q6PhaemKW/NuqdRTep806NOFS8eJi2mYlhqPclNgmVsABvVWnrtXEfhjg6N+y0YIs99Ju6ZoO0KYsm1QFhBNInb5TBDTdNIY+QSHyJqmNY0s59PH+igj5AKuDykb8TsMHQAyXj46NAmckXm4Lgdf0vJRFPDBgwc5MEgBHhQFfP/+/RpRwDTltGkcPXqUCwohPkDya3n22WdBJmqWH5ivhsuIlxDEkkp03RaPGOc8HG4Vhp5NajqqS4MbZSCQNFoJLyQgu182xh8YX6fY8h5G4eHVt1HumAA/m+Xw669aROeOS6X48GNzFCVYYfKsfKycYlOd7UTap4sOTPo3o2ph7gC6mFNaz9K0HnzfkRmTiZM9qtwiBlwcAPcQxT5jfNvU53J8uQJP3C/F8E3DYI5/EfVRFHzcfJQOS1EQhyJfTqUNKiiQmibCJ39H40hAKd5LdcTMEaGwtlbul5g+bicSD7oh7CdH2CqhA5Km05H2y5ONEGblNIkQJrnl5ORwftb15etM3wpZjGhfqcvv0BjzAAsaQEEDqO7eU13PkAFgXFwcQkJCakWyEc8f5fGlp02bNnj55Zc5vkD2zJ49Gz///DPILNC5c2e5PIDHjh3D0KFD0axZMy4ghP5+4MABxMTEYN26ddUaGnXNUhpPnJ41ICmvRO9tibjrmoXdIWEYGFabHJmBG2VZHm7uvonMSZnIfj4bY3aMqXOkdJDF7F2FLOeFsEoaiBaDvoO1u0eddaJSJJgwU4L7+5zQdVIutvxH66LIn48AnypULZpOjaL8wcraLcouwt5Oe2GTZ4POxzsjoGOAsioG/Xs+XIETftqCvVlvYlWXVXjj2TcUjlcW8FNBZdyM6gqvvLwCP+6PxQKHTISnmWNVj2YIDeHnz6oK+GP9owsMgSQaj3Tkr7YjhKk9AlouLi5ajy6uS9YsOIQAIPkfynPBIGDKOBCNJQ2cAAAFAKjuHmQUAFDjwdfRAIHDjIwMTkvIHjokZs2ahQcPHnDk0Mz8JIDAKgmROXXA1mRc80jHZp8wDG9bO3KWgRtlIPDalmvIfzMfueNyMeq3UUqnuiDuER6cnwqJ2z34mHyLgGdfqlWnuLQCbywvwf6VTvDsVIxfl1aiTwszLqCHDhHy7WMEser68yntKM8CijQ3yqpzWUO6bYdrjCuCdwSj1SDDyq2sbHyyv6+LKzC3MBcBC0JgLmqDnJVnazWtiyAOZf2/cjMbH95/jDT7Cnxj4YNxz/AH6eljdyLxED/Nn2w/mN+cLiOEaS4oCMTV1VWZGLT+e3o37dn0/cqmvZPVTAoAUOvib7AGa+akarBuGO6LDVkD2BBSp82EtItEQv3rr7/WAIF8fd0aot/19U4CgUN3pOKMewp+cQ3D+I61Hdn5argurruI0o9KUfB6AYZ9P0zpEOiQizv4CzJsv4Jlak80f3oNbL2rTH5L94mw4HMboMIEny0oxIeDTDngpwufLqUd5VmA5Q9mtBp8g0toTNsGboPnZU84/eiELlIBAjxfbVDFFHEF9prbCzcL76NLm0s4NSn0v0tKTUJuacCvS7+13FwxvjgYja0BxZiUYIe5w5vB0YEfpyR1vBr8rXWC7YROas0P7V0UDUt/6iJCWDbdmlqd1KASrQN5ae9kNZPGkgeYRCX4AGqwYISqhp0KrqHmjzZQMjPfvXsXv/32mwAC5UzE6B1pOOKehFV2LfB6tyep3lhRpuFSFkBzesVpYBZQ/GExBn8zmNeUFyUlIPqf91HmdQVZd2bivb/fQtoVBwx+Pwur362AraWJwWRg0SQbxq6XdsF9nzsqv65E//8ZX9aQigoxiotvoajoJkSiuygufoiysiSUl2chNasQqZUi/PDRb+js6omxLzgi7Hlv2PlUBdhoM4CnrkVJ4GPLsUTMQioC8szwXasQdGyrmoYsfcwOJB52R5gG4I/1UZcRwuxiR0EgDfVIB4cwk6+x5gEWAKBgAtb4OxM0gOqLkEDg7du3ORAoTREjaAKrZDrpzwz86RaPb82b4/3etX2cGAhUxht2YsEJWCy0QNnnZXj6i6d5TRgdvI/2/YFYm7n4ad0afLagF9oEWnHzVJ/+fLw6q6SQIg0Xn7ars4a8mY+hKw0nawiNWSyOQ1FRBIqL76K09AFKSxNQVpYKiSQHFRWURaUq/SJgClNTG5iZOcPMzB3m5r6oEAdj30ERzh0ZBus4T0TlBiGuPADNLGLQyTsJ4W1L0XGAI9qODIKDj26ipqMe5uH/Lj/CLU8Jvix2x9tDg1UOjtAm+JMGgSw1muwFTJMIYdl0a3zWpy7KsKAzFhxCGj/SfFJwCj3GkgdYAIACANT4+xEAoGYipICSyMhI/P777wIIlCPKd/dmYYNzDL4sb47PBjjWKsHMnOScXlcU3+GZh2G7yhaYD/SdVjsTiDRdB7XJ/PnuHHmI0Ncn4nGT/uh4+TuYWaqWw1ez1aG92op8uPi84dSSUzCZbYKMoRkYs73uoBo+7WmjjESSi6Ki6ygujoRIFI3S0hiUlaVAIslCeXkBKivF1a8xMbGCmZkjLCzcYGHhByurJrCxaQE7u/awsWkHc3N7zqzJfDnpYkFPVIYJBmRGIbZ1R3g4mCMjKgs39yTg+lkRIu7Z4VpGEJIrvBBm+RgdfVPQsb0YHfo7oe2IINh51tZa8x23SCTB/L0P8JNvAYbFW2Pxc83h6VE7KEpZe2mjdyDpiBvC1rnA9qWOyoqr/HumsZP99qQjhElTSuUITCmLEJZNt6Zyh7RcgfpNwI/GQGNimkkBAGpZ0A3YnOADqKHwBQCooQABzJkzBzdu3MAff/xRI1k5bYh8+O8074F+tzDjUA5+sH+Ej0uaYe6ztc1DfEHg/g/2w+E3B1iusETPt3oqTLvHojcZFUVaRDIqnh6GVM+2aH1tLSzt+fte6ZNkmQ8X9Yl8uPj6BFJ5ljUkrXMaXjr5ksqaKFXkUFEhgUh0B0VFN1BSchclJY8hFieirCwD5eV5qKgQUdLE/5o0h5mZHczNXWFh4Q0rqyBYWzeDjU1r2Nt3hKWln8JXywviYOZdWlOrzhZiQVky8oe0V9hGys103NyXhOvnShBx3x7XskKQUeGGVlaP0NEvFR07SBA+0BltRgTD2lk5iDt0JgUf5ybCWgKs8A9Cv66eqoiuuqyuwR97kTYjhFn6RwKK+vIw8y/1hzSA9M0YSx5gGpPgA6gvK81A+yEAQO1M3Ny5cxEREcGlsGPmYGpZAIFV8p3zdx4WWz7A24VNsXyISy2hM183ImglTaAicLN78m647HCB1WortHmxDdcO8+eiPxXVy4rKQGHvUSiw80LT65tg46o8t692VoZ2W2E+TrKpvvi8hTgWH49+jJzgHIy7rH7WEDLFVmnvbqGkhJlmU1Benovy8iIAkv+6Q6ZZa840a2HhAUtLf1hbh8LGpiVsbTtwf5qaKue9kx6bvEwc0v580vM/cWcazorz8HBMMJf5gs9TWVGJ5OtVoDDifCkioh1xNbsJ8iod0cb6EToGpCG8QznCn3VFq6FBsHK04ppNSCrC9FMP8I+/GNMznfHJiFBYWChO4VZXX9Je3IGko7rT/Mm+m7490vDxjRCm/U3eBUQ23y4feddHGdIC0kWcxkd+gSyPe328W9fvEACgriVs5O0LAFB7Ezxv3jwubzCBQOkDRwCBVTJeciofs00e4OXcYPw80k0hCJTHV0ZmPZaD+dDrh+B51BOuG1zRYVQH3pqwvLhcpHcbgwpTc/he2Q4Hv9omae2tBt21xBz5+eRZlu1FddYQRxGGX62dNUQiKeT87kSiWxCJojjTrFhMptnM/0yzpdVNVplm7WFu7g5LS19YWQXD2joMtrZtYWcXDnNzzeWrSSaOrpviYQ4THB7myPHf1eViUNdsEShM/DcF1/enIOKiGBEPnHAtNxRFlbZoZ/MQpaFZeDDFEn1tyrGiT1TdoCUAACAASURBVCiCA9TXgFWDv19cYDte+2ZfReMkYE0Ajh7yC2Tac8YVSP/PCNCJboWANsuFztqkCFwGInW3+lVvmQAgPbSWaB8hnkJ114Lqb9dtDQEA6la+Rt+6AAC1O8WUWeTy5ctcdhEBBNaW7Y/nC/GJ+D5GZQdi04u1CZtZsndmppH252OmXfLh2TZ0G1z/cUXA7gC0fLYl70ksSi9CXKeJsCnJgfPF3XAJrQ1EeTfWgAU14Z6krCH/9DwFl5Fn4DDhKizsCdwx02zFf6My40yzZmYu/5lmAznTrK1ta9jahsPSMkBnZmTpTBzSQQk0/6pkYfHbdh/PW7vhx6HOcomQNZk+AoVRp2Lw1ertiMrrhp69SvHzPH5R6orem/bCDiQdc0NYPYM/1h9VI4TpWyWNGqPPkc23q4l8tVmX9YtAH98Ugtp8vy7bEgCgLqXbCNoWAKD2J3nBggW4dOkSNm7cKIBAOeJdf7kI7xXex7OZftg91qv6dk4HCt3Q6YcOI9Iy0KbNSJllm9rYbyf8XO4jblw+hgx5C54OVVxvyp7S/FJEhb8Ot5yHsDy1B57tlacHU9ZmQ/xe1by45RIJ/jl7FhuTk3HEOwjr7qyEU9MkeIX6wcamKaytW8LOjkyzrWBqys9kqq1xy8vEwce0X9f7HY7cwDLHULzV054LAiBNEIEVRdkiVBnLo8J09Nk5DiWl2Tjw4p/o4cFv7ekr+JMGgapGCLNcvLL5dlWRpy7LGmseYJKZAAB1uXIaQdsCANTNJH/zzTe4cOFCLRDINldlOXF10yv9aXXn9WJMzryPXhme+HO4M8rLJdUO2gzwkUlK9sAmX6sd/6bgoDgPVwPKserKL/BocxBuDrlILbVEoUkInBx7o43fSwhx76FwwJISCW52morAxEsoO3wAvj0D9Uc4KvZEWf7g2IcPsfnKFWx0ckKZmRlezszEyx07ollL/ppTFbvEqzgzyTHzPpkPGejTlKonIVuCsIcRuBkcjlBPC64/0mZOVYNopAd0LDkSY/8aC1fHJrg4eiu8bDTjvUsbtR1Jf7sj7DcX2I6tP7NvXZOkKNeyoghhkie5uiijdOK1MLRcyFjzAAsAUKCB0fhTEQCgxiJU2MCiRYtw7tw5DgRK+5zwzYmru541XMvMiZ9Me4fulOD1nHh0yHDHibHesLCoGcTBtDaxCSLsu5OLg5X5uBVQgXYJphhi4oixnX2qc6im5kchMmELMnJPwEryAH7WRcgpM0N2hS9sbbuhmc+LaOXzPMykgg4qJBW42mMGmt8/gLxdBxD0bLOGE4yGb5Y9sEVFRdh38iQ2FBXhfEAAno+LwyRPTwzs2xfmFlWAqCEe2SAOlpVB26n3OC1zXjQKnwmvMUxNgmiooaV39mH2sTfRudlLOP78MpibakYrlDpyO5KP6xf4YwJTNUKYNPYEBPkG3NTX+jPWPMACABQAoMbfkDECwO3bt2PNmjW4efMmlxqINAzMqVmewOiG+N577+HgwYNcuSFDhmD16tXVvFGaCPnbb7/FmTNnsGnTpkYJAuU58ZN2h/nz/fNQglGPohCW7YILLwXA3KyK2SnyXi523UzFQYtCPPCpQKc4Uwyzcsborj4I9FfO0VYgSkdEwmYkZx2FifgWfC1zUVZpgrQyd5hZhyPIYyg6BIyDlZkdLg2ci3aXf0fy7/vQbEw7Taa7QeuKS0tx5d9/sTMuDjv8/eGbn49XS0sxtndvePn6NkjfFPEzMn++ur5LTTpM/JN7SjKQMi6sVjPq+k++cnoJdl9dhMm9FmJ197c16R5XV5/BHxucKhHCZGqleZXNxauxoDRowJjzAAsAUACAGnwaVVWNEQD+/fffyM7O5hy/p0yZohQAEuAjkEjAkTaMcePGcTfZPXv2aCxfamDx4sU4ffp0owGBzJ+LEfPSv6X9uWQP/YsxYgy6HYUuqZfR1q4LjtuKkeBeiR7x5hhm54zRPXxga1uV9UFd051YUozIxN14nL4XElEEPM3TYGVaiWSxE8otW6HsoB0G/3EZmXP2oNUb3bQy7/XVSEZqKnaePYsN5uaIdXHB6Ph4TGjSBN179ICpmWYaKnXGUFcQB60DXYE+6b7225yE/EoJIl4OkjsEVfwni8tK0Wf/u4iKP4rvhmzEG80GqCOWGnVSR2xH8gl3hP3uCtsxNbWUGjeu5Qb4RAjTvBIAZKZ72QhhLXeJd3PGnAdYAIACAOT9ISgqaIwAkI2VQNeAAQPqBIDx8fEIDg7msnm0aVPFK0d/79ChA+h3/v7+GsuYGli6dClOnjzJgUCipGCPsZiDmT8XA31kDmJavrr4+ZgcIuJLMfDhDpiWpGKsxALzn3oHri5P5KSp6U52EulgiEo7huiUXSgsvAhnk0S4WUqQnAPkiELg12wY2gdMhK9T1ZrQt0dSVoaTZ85gY2oqDgQFoXtSEibZ2GB4//6wtrXlAh5k6XR0OQZdBHFo0t8mWx6ii4Ujto+pm4hZka8bezcL9hCVZOHg6N0aB3tQu4YE/pgclEUIk6aQfACJbJnWnmyEsCZzqUldY84DLABAAQBq8m1wdRs7ANy3bx/Gjx9fzYHFBEogbdeuXRg6VHv5U5ctW4bjx49j8+bNRgECte3PlVtUgD8i/g/LI3bC19YW8/vOw8Dmb1WvcW2DQNmPJz77Go5vng1Ly1OwCTWHn30ZMsQWyKsMhINDT7T0HYdQj771osFS9GE/jo7GpqtXsdHVlSvySnY2Xu7cGU2aN69RRdtRr/L6owj060O+Zef9t/C5fRD+1185FyHLSS3LFSgd7HF+9Bb42FTlktXkSR2+DcknSfPnpveaP9lxympNSdvHuDlZ+j0W3MaC3ViEsCYy06Qu9ctY8wALAFAAgJp8GwIABDiN3IwZM5CSklJDlt7e3li+fDkmTJigsYylG6A2jx07hi1bthgcCGSmPablI5DBUm8pompRR3j5JelY9M9rWHf3NDp7eOKbAavRwW8IW69gKafosNGFOfHalwfQcflknHxvNjA5F6nZf8NCEgVfqwIUSUyRWe4NK9suaOI1HO38XoC5mW4pU4oKCrD31ClsEInwr58fhlJAh7c3BvTtCzNzxZk0mOmOtLFE7qtK6jhF8yYdxEPrQFdBHOqsG1YnX1QBnxtXcdKnA7oF85sb2YCHZXf3c8EenULH4+/nl8HSTLWMJfL6Xw3+1rvD9sUOmgyxweoy/0nSnP4HQDhNM+NnZDm4pXMI03faUMTLzMJijHmABQAoAECNNwJBA1h/GkA2WStWrMCRI0ewdetWvQeB8vz5mGlXFVJedRZqct5dzD75OnY+voWhgc0wd8CvCHHrxPlpssTzuqLTubnkJNrMfglXxnyD7n+8znW/qDQbNxK2IzHzECpKb8LbIgsUspJS5gYTq3bwdx+M8ICXYGdVpZ3T5KmsqOCyymyMjuYCOoJycvCqRIIxTz0FD29v3k2TrFgmBOkMD3wbaKggDr79k1du/y0RxufcQV6vTtVBRXzaYwEPb19Zg73Xl+C1nvOxpse7fKoqLZM6bDuST7khzADBnzy6HtL+kXaNIn5Jc8ouFyxzCHMBkc7zLV1OqcC0VIDtE0RYTY8x5QEWAKAAADX+TBo7ACQ/v5CQEC5iWNoHMDw8HHFxcVrzAZSdqJUrV+LQoUMcCCTuLPYwnyQCNrRZNcTDuL4YPxvbzBvKtHcv7TS+OPEWTqck4pUWXTGr3x9wswvUOQi8s/Yimk97EVef/R96/PVRramQlIsRmbwHj9P2orToCtzNUmBnXoHkUnuUmbeEl+vT6BDwMtztQ3hPY1pyMnacO4cNlpZIcnLC+KQkvNKyJTqEh8PEVL3csqqazvUhiIO3wOQUnHk4F+uKk5H5YiuVmqFgj777p+Je/BEsGrgO77UerBWtqSGCP9k9QJ6mlwFmWa5OWRBI/yY2BtrP1A3iUmkipQpTICC9n0zRAgBUV4r6W6+KM0J41JaAMQJAZqaiIJDBgweDUgHRJkW3VXlmsGHDhnG3WfLNo8Nv4sSJnMnsr7/+UluufCp+9913OHDgALZt29bgIJA2c2bapb/ro2nv3OMtmHV6Bu7n5uGD9s/jo17rYFppxSV615UmMHrbDfhPGYGb3aeg+7FZMDFVvOXQunuUcRZ3U7ahoOACHBEHT8sypJRaocikCVyc+qCt/0QEunaqsTwooOP46dPYkJ6OQ0FB6J2QgEn29hjarx9s/zu4+KynusoocuJndWQ1veywZNpebZiPNR0D3/rPb0tBrKQEd1/mD7xjCjPQe+dYULDH/hd3oYOdHwccNHUzSB26Dcn/uKPlBg/YvNCe7xAapJysT680XRNL9ybbMT4RwspyCOtysKT9Zi4Q9B5tuqrost982xYygfCVlFBOrgSMEQCuX78ekydPrgZ7dLjRJnDq1ClO29eqVSvOBNurVy9OJsQD+P7773NgjMoRICQeQEdH5Q7kmi6rVatWgQJRiIKmPjWB9eXPp6l85B04e+8sxuzzS1BYVoZPu76Gl9t9gzKxhDusdaE1jT18Hy5jhyGq9Uh0ObcIpub8NXHJebc5gurM3FOwKX8AX2sRssVmyKn0hzg5DLGirtjsGw6L8nJMysvDxK5dEdS0qbbFxrXHnPgZYCaQz7S89GdDa3q1NeiwTTEINbfBgfH8TOXHk29h9F9j4eIYjAujt3LBHsoAs7K+kjzvDd6O8kveCNNj8CedflFdn14mK2qLLs4MLFJ77Icu37TeSBNYnxHCdPmnPYHtrYqUAMrmU19/LwBAfZ0ZA+mXMQJAAxF9dTe///577N27l9ME0gbKHm2bg/WNqkOTeSqvkODXy9Ow6Mp6OFlY4Msen+Dp4Kk6A4FJ5+JgOWQo4gJ7o8OV72FurZ55PleUguvxm5CafQxm+fG4ld0Z5seew8ffjoK9Z5Wfki4fOpApiIa0vfToo6ZX0/G7/3kXb9v7YsFzyqN2l9/Zj6+OTZEb7MGHK5DATOydWMRcjUHmzUwUPKiEfYIb/BOdYFEGtNlgCfsX9IfnT9qnk0AqA31M06tuUJX05YL2MOmLGK019h5qvz4jhI05DzB9JwIA1HS3aOT1BQCoHwuANI5kciZNoDZBoL7582lb2sXiXCw7OwVrIo+gpbMzvug2F32bvcKZerT9pN9IgaT/cKS7h6HltV9g5Wil8Ssurr2Dz76wRVqpM+a89gBjlndWScPIpwOy5n3S0DDtH601XciKT790UUZSXgmn89eww7U1hrR54lsr712TTi/Fn1e/waQe8/Bjz6kKu0MXMdJcZcRlIPFGIjIjM1F2vww2MTbwSPGAebkFkn1FiGliifjgCiAoGa3ammN0SEd4tGqii2Gq1Ka0TyeBPvo3i9zlw9GpysvUySGsywhhsu7QGmfp6QQNoCqzqf9lBR9ADedIAIAaClCL1X/44QeOe3DHjh0agUB5Bz7LxEEHvyH5c/EVb0ZhDBb8Mxkb7l9BP29/zO3/E9r49udbnXe57OhM5Pd8AUW2bgiJ2Axb9ycaW96NyBSknMS7PrmKL39rDm+rHHwzrxg932mtbnPcAS+9BhRpeRj/HZnH9C1/q7qDv/BYjGfSbiAtvDPsreWb6kvKy9Bn77u4G38YK57fgDebP139OpJb3L04xFyJQdatLIijxLCOteaAnoXEAume6SgILEJGKPCgiSUuNfFEoX8hnnbKwUj3YDzt2Q0Wptq/fKgqj4bU9rPIXwJ29KMoQphkTcCaytAa1MW+ZMx5gAUNoBAFrOq+UKu8AAA1FqFWG/jxxx85AEg/5NPGHnazlqexMfSoTW0K8FHmFXx54nUcTnyMMSFtMOfp9fBxqp0PVpN3FiTlI6XzGK4J78s74BjgpElz1XWLM4vxw2s3seRUVzzrewtzf3FHSF9+mWgU0fUoC+KQpunQpSZGKwLi0cg3J/LwbVE8coe3lVuagj2e2jkOxSWZ+LXDKjjeL0dWZBbE0WJYP34C9DI8M1AYWAjTZqZwauME67b2uOqRiiOlElwrD0KwSTqesyvBC55h6OraXid8lDyGW6OINOhraJ9OAncUgMH87xSBQF1GCJM8CAASByBLUWcsFx028YIJWNWvRCgvu2lUCiLRLwn89NNPnCm4LhBIGyuL2mX+XNL5dnVxm9YvKdXdm8txf+HLfz7C9axMvNWmP/7X5zc4WtedFkyV8RFYi+n4MuyKM+F4YTdcm7urUr3Osqm3MrBwUiw2R3fFu+EX8fHGMLiE1PZn01YmDnZY12fqOK0JS6ahMTvSESHJx6MJoRCJSpGYmIzU1ETk5CTgXto5/Jz7F7wSw/Dltv/BpdgZ6R7pKAx6AvQCOgagWadmsLaxRmTuPfyZGokjhaa4W+GP9mYJGGQPDHZqgZaOzXSmtVJFNvI4+hjoZ6BHlfa0WbahI4SNPQ8wzZUAALW5YhthW4IGUD8n/eeff+Y4Anfu3FmtCaSDmhyoWdolMucy0NfQm70+SpGA8cHbq7Dg8iKkikSY3mks3uuxBhZmT3IMa9JvcaEYd8PfgGdmFMxP7YNnBx9NmqtV9/buh/j8QzGu5zbBrBE38Pq6TjCzrkq/xaJ3tRXEoUhjo9UBabGxiopKpKdnIjk5ERkZSSgoSEBpaSLSimPg4ZAET5dEuLikoqzMAjk5ASgqCkBGsT3OpqdiotUMhHQORmh4KGzsnvgJlleU43xWBP5Kf4CjxXZIrnRDD/N4DHG2xQve3eBrWzW/0sCmvnnt2PvZ/OtrNhY21dIclPUdIUyyoSAQ1//SJrJvRYvLsMGbEgBgg0+BYXdAAID6O38EAonSpl+/fjh69ChGjx6NN954g/OVoc3NmHy3dDULJCfyM9oTvRCLrqyFqYkJvuzxAca1n60Vs52kRIIbXT5AUPw5iA8egF/vIK0OpbKiEkcXXscXS31QARN8PTUGT3/WBpZWllrPasDyB9NBqa3UceoKo7i4BAkJSZz2Ljc3AcXFiSgvT4C5eQJsbRPg4hIPK6sS5Oe7Iy8vEKWlAaioCMA/mc5wMQ/BmK6h8PX1g4+PF8zMFNP2lErEOJp+AXuzEnFC5A4RrNDHMgnDXd0wzLsHnC3lRxKrSq6trhxYPUUcfYbAayeduac+I4SNPQ+woAEUfAA13VfIYVwwAWssRe01QIDl/PnzHC0M8QMmJCSgXbt2XE7ikSNHwsvLi3sZc+A3tihO7UnySUtMuwVTCdZFTMPK67vhb2eL+X3m4+nmb2r8SgriuNJ7JsLu7EbOjgMIHtxCozblBXFUiiuxY9pdLNjTAW2d4rBwpTnajWmm0XvkVa4P7RZp71JT05GcnITMzEROeycWJwJIgJVVAhwd4+HsnA6x2BI5OYGc9k4iCYCZWQBsbPzh7BwALy9/BAT4wd6+ZhCO/fEI/OQchpc7Kw7OyRPnY1/qeezPzsJpsR+sUYqnbTIx0s0fz3p2h7U5Pw2xplyBdU2eIroW6WAurU++jhtkeXllL66MqYCsGNrMIWzseYAFACgAQI0/WQEAaixCrTZAkcBz5szhyKiHDx+OgQMHYsuWLdiwYQMXIcxSGgkgUDWxS/u5lVbm4dszk7Hu7hl08/DCwgFr0N5vsGoNypQmTd2lZxeg/aV1SPxlL5qP76BSe3ypOvIS8rHs5bv44Wp3jG16FV9uCIRPB+35NlKnNdVuFRYWc9q7tLQq7Z1I9ER7Z2dH2rsEWFqWIjfXE/n5Vdo7IACWlv5wcAiAu7s/p73z8vKoU3snK+Co1DJ0ir+Oh807wcfZrMavU4pT8WfqJRzMLcZFSSB8TbLwrG0RXvBshl5uHWFmWrM838njwxWoSluKord1nXebbx81LccurvURIWzseYAFACgAQE2/R0EDqLEEtdsA3VrlJSz/9ddf8ccff3AgkCU2F0CgarJnJk6WuzQ57w6+Pvk6/oy5g+FBzTF3wO8IclUNuMn24OKoleh8bDGiV/yJ1m/1qLODiqI2af6V8bPFnUvC12+k41Bie3zc51+8v74d7DyfRI2rJpnapaWzO0inQysvr0BKShqnvcvKeqK9MzWt0t45OcXD0TETpaXWnPauuPiJ9s7Wtkp75+3tD39/X9hJ+d9p2l+q/9OFQszIf4iCQVVzGJX3ELvSInCkALhZHoBWpokYZF+BF73aop2LanmClfVPEf+dsnp8gb+ydgzp93wjhEk2LJOHOr6WsnmADcFcruo8Cj6AqkpMKF9DAoIG0HAWxO+//w4Cgn/++acAAtWcNlkQSP6Ud1JPYNbJqTiTkohXw7rji35/wM2OtFLqPZde+w1dds7E7dlb0X7GgBqNyBJzM8d0BvpVjd7+99e7+GymFZJE7pjz6n2MW6kZkXR+fiGnvUtPr9LeFRXFo6IiEVZWiWDaOwuLMuTkeKOgIAClpYGc9s7Kqkp75+HhB19ff3h6usO0jrzJ6km27lqT/0xFJK7g6ZaFOFpkjdhKT3Q2i8fzTlZ40bsLgu3Vn1M+/WXaLWtra47bTtHTkBx9fMZRH2XqI0LY2PMA0zwJALA+VqsRv0MAgIY1uaQF/OWXXzhNoHSuYsEnkP88Kgp2OPt4E7745394mJ+PD9oPwUe91sHGUr180Fem7UTntVMRMf13dJg9uDpyl7QfpIGUpurg33P5Jcn8vHvGVcxa1xTulvn4ZnYher/fplZhiaT8P+1dIqe9KyxMQFlZIkxMEmBtXaW9c3DIRkmJbbX2rrw8AKamfrCy8oG7exB8fYM47Z2NjeZZUFQdd2lxKeJvxOPxzceIuxuH+Jh4JCYnIikzCSkFKUiYMgiVI4ahv10ihrk4YaR3D7hbu6n6Go3Kkw8vaZ5kKXX0iaNPowFqsbIqEcIE5ki2ZP1guYaVdYWCv5i2n8oaWxYQAQAKJmBl34DS3wsAUKmI9K4AgcB169ZxmkABBKo3PXT4SGsIpIlq99z5FrPPLUGxRILPur6ByV2WwMyUf+5f5sB/7auD6LLyDZyfuAzhK16sBn3q5ltVNNKKcglykx8j/e497Pi6BD/cehE9XM5g2Eu7Ydm+FBYWCbC3J9+7RJialiM314fT3onFT7R3jo7ke+cHf39/uLu71tLeMYd6XQUdESjPjMnE44j/wN2DeMTHxyMpLQnJuclILU5FZkUmTGACDzMP+Nr5wtfFF37efggMDERgs0BUNneEf/MwdG+vW02fshVHIJ9AIKNpIuCi73Qtysakq9/rMkLY2PMACwBQAIAaf5cCANRYhA3SANHDEE3M7t275YJAgSJG+bQwEEglZX2MJOVirLs8DUuuboSzpSVm9/4Mw1t/orBRRb5c99dcRLvZE3DlhfnovpFfxDEDdPlJj1CY9BglqYmQpCWjMj0NZlnZsMjOg21OAezzS+CcL4ZrcSXMKoFCSyDH3gxx1gFYVzgT7Z87A+dBzWFn5w8XlwD4+PjDz88H1taWyoUjp4S6fm7UVElhSbX2Lj4qvpb2LlWcChFEsDexh7eVN3wdfOHr4Qt/P38ENQlCUMsgBHcIRmDbQFhYN3yqNYVgvKKCi9CnHwKC9JA5mDSCfDVXak2OgVfiGyHMqF3oe1WWuSYvL68GVZagATTwRSKn+0IuYA3nVACAGgqwAatv3LgRlDqONIGU7og9xpjjVVdiZmYo+pO0W7LauWJxLpaeeR1rbh1Da2dnLOy/HN2Dx3LdkefLxUy70kEcd9ZdgPvMUYjoOgKBU8IhSomvAnQZ6TDLzOIAnU1uARzySuBcIIZrURWgK7IAsh3MkO9ghSJnW5S4OkLi6oJKDw+YenrD0ssXdr4hsPcLgbN/M9g6aS8biSJ5y/NzU6S9S0xLRHJOMlJFqciqyOK0d55mnvCx86mlvQtuG4wmnZrAxc9FV1Ots3bl5d5m64AiUUk+0oE0OuuIgTes7QhhY88DLGgABQ2gxp+8AAA1FmGDNrBp0yasWbOG0wQKIFC9qeBDe5JRGIO5p17F5uhrGODtj5eDp6NZiRtK0hIgyUxBeUYqTDIzYJqVDcusXA7Q2eeVwKVADJfiSphXAMXmQJatCfJdbKoAnbMjJO4uqHR3h6mnFyy9/WHrEwQH/6b1Buj4SKxae3fjMeKi4hD3OA7xSfFIyU5BamEq0sRpcrV3gf6BCGwSiKBWQQjpEIKAtgEwt+RvSufTt4Yoo4ijj4E+6UuELrkCG2Lsun6ntiKEG0MeYAEACgBQ4+9RAIAai7DBG9i8eTNWr17NaQKdnZ9kLhA0gfynRhHtCbUgnYXhUea/WHzoM+zt+D1axcagU9QttH10G61SH8PewgQSN+cqQOflDSsvf9j4BHKAzskvFJlX8uA0eiiiWwxF54tLYGquOEMF/55rVpLGlvE4AzERMYi9E4u4h3FIjE9EYnpN7Z0pTGtp77x9vRHcPBihHUIR0inEILV3fKUnbeInfz6SGyNlVsbRp02uQL79NeRyLEiL/HKlXTPo/5lZncmcAj1IvhQcIg28G0MeYAEACgBQ4+9cAIAai1AvGhBAoObTwEAgAWcyB9NhQ39nhz078FFZgVMPT+B4WQVO5mbjYYUtSqx8YFGajiYm+ejj6IxXAtqhkysFWdR8ki8mwGLQEMT7d0f7az/A3Fq3GjHS3sVGxCI2MpbT3lVHzmZVRc4y7Z2DiQPne+fj6AM/Dz8E+AUo1d7Jo9TRfBb0pwVtc/Rp4kOpP1Kpn54o0srTmmM/5NNHoE9ehDB9u+QDaMx5gAUAKABAjb9GAQBqLEK9aWDr1q347rvvOE2gi8sTXyrSWNAmKQSGKJ4q6cOeDmp6+Gp4qOyjggxsSriBYznpiJZYodjaD+biLARW5qK3owNe8m2N3u5NuAMr/WYKxP1HIsslFGHXf4OVo3qUKgq1d+R7l5uMFFEKsiuyUUt75+OHwKCqyNkm7ZoguGMwnH3k57xVtrj1KX+wsr7y+T1fPnAl9QAAIABJREFUv04+bckrw5crUN32jakenwhhCqyhHwoioR/KlETawcaQB1gAgAIA1Ph7FwCgxiLUqwa2bduGFStWcD6BAgise2oUHfZ0oDDtH5mg1IneTCrOwcaE6zialYq7ZeYotPKDmSQffhVZ6Glvh+HwQ5vnZqDUyhlBEVvkZvGQ1t7F3ItBQkxCFe8dae8Kq7R3JSiBrPaOfO8CmgYguGUw53vn38Zfp753dUVT69XHoaAz1H8CDHRRoj/J9EgggkXuqkrOrWzMirgCldVrrL9XREEkm0OYgT4WzCUSiar9olmeYWOToUAEbWwzWs/jEQBgPQu8Hl63fft2LF++XACBcmQtLxMH0/TRISF92FMEJ2kD6UChMpo8maWF2BwfgYOZSbgtNkWepS9My0XoG3EXHSMfIb/cHZIHGUhKr+K9k9beeZl7wdvOm4uc9ffxR0BQAIKaBSGkbYhG2jtNxiNbl08gjTbfp2lbijKysHRh2gZ9sv1lXIGMqFjX79NUXg1dX1pzKk3nwvwCGWgnuTICaOoz40mVl16zocekjfcLAFAbUmzEbQgAULuT//XXX3OZOoiEtFOnTlyEbuvWreW+pF+/frh48SLHZ0UHKG1iixcvxjvvvKNxp3bs2IFly5Zx5mDmB0ONNkZzsHQQB8vEwUAfmWTrOnyZ9oE0gZqCQOlJzReLsC3hOvYlxSLnQQHcDt+AV4KE872rT+2dxgtNqgHpQBoCzepoTrXZH9m26loHDdFX6XRo6uS61aWs9LFtFiEsm2VFFgTSOqT9lx4KimPgUNsE7PogIwEA6sMsGHAfBACovclbsmQJF417+PBhNG3aFHPmzMGGDRsQHR3NaZFkn/79+6NPnz5cOV08O3fuBPWJzMGNCQQqoumQBn2qyJs57+sqCwalcjOp57y5qoxflbLSflvqms9VeZ+ysoo4+pimT1l9Xf/e0DSnupaHsvYV+ZzKRgiT+Ze0hgT6KEKYLtkCAFQmXcP7vUAEreGcCQBQQwFKVW/SpAmmT5+O999/n/tfOnx8fHw4n7yJEyfKBYBPPfUU5s6dq71OyLREOYO//fZbDgS6uT3Ji8o0gcoS1+usY1puWF7EpipBHMq6o2sQqOz9hvT7hqQ9UYWjT19kKnAFqjYTfCKEaX8jrS4z9dMFmEC/sT2CBtDYZrSexyMAQO0InEwOZG4gk263bt2qG33uuefQtm1bLF26VC4AvH37NrdJeXl5YcSIEZg1axbHfaXNh8zAixYtMjoQKC+Ig4E+6Uwc2pKlwKuomiTrCzTL4+hjpMzKOPpUG5HuSjckaNbdqHTXsqIIYbp0k9sGfauk9aMLLv2dooMbwsyvOwlUtSwAQF1L2MjbFwCgdiY4MTGRS0p/7949tGjRorrR8ePHc47Ia9eurfWiS5cuISwsjAOOt27dwquvvsrVJToXbT+kAVy4cCEHAt3dn6QMMzRNoCpBHNqWIbUngEDVpKoreclqfKlXugT/qo1a/dICVyB/2dEaIHlRsBYBfQJ/0pydbE3QuiAKLGN8BABojLNaj2MSAKB2hK2OBlD2zadPn8YzzzyDgoICpYnO1em1oYJATYI41JGTsjqGBpqVjUfXv9cW950i2h5d0bXoWi6K2teWvBqq/7p+rzwzPwN7pPFjmj7mF5iZmcm54sjzw9Z1X3XdvgAAdS1hI29fAIDam2B5PoC+vr4cJYs8H0DZN585cwYDBw7kIthoI9PFs2fPHsybN4/TBHp4eFS/Qp9AjbwNnjZ1xs2mD87cjMuNKCl0NVe6mP+GalNaXmSa40t7wjj6GE8fzb0i2p6GGpsu3itwBdaUqrw9QdrMT9o/cnNJS0vj2A/S09Oxd+9e7Nu3jyPB37JlC2dtMbZHAIDGNqP1PB4BAGpP4OTnR1HABw8eBIHB+fPnc1HA9+/fr3X7pA3q+vXroCAQupneuXMHr732GoKDg0HRu7p8aGOkwBN9AoHy/LikTXr6APpk54TRUhAIVAXU6HJu9bltRTQesn1uaI4+fZFhY+cKVCUVH5Ullxqi0CLwTAFvo0ePxosvvojQ0FDeFw59mXu+/RAAIF9JCeXkSkAAgNpdGLNnz8bPP//MmXE7d+5czQOYkJCAVq1a4ciRI+jVqxfi4+MxZswYjiKGNnpvb29us9JFEIi8EdLNmPpKINDT07OGJrC4uJgDNPSjy6e+gzh0MRa+oEYX7zbENhXlD5Zn5mcaHmN03uc7d42NK1BV0Pfo0aNqTR9dxIYMGcLRcJEVhS7i/v7+fEVtkOUEAGiQ06Y/nRYAoP7MRX33RBEIZKBGFyBQ1qSn67Rb9SFTOqQp+wBzNudr3qyPvunjO6RBDcmMNDaMoFufzPz6Ijtj5wpUJaCHypJFhawY+/fv56J76eL8wgsvcGCPvj1yF5g6dSoHAMmthjSAxvoIANBYZ7aexiUAwHoStJ6+hjbRr776itMEEhUNe7QJApl2hw56+iFzrvRBbwyASZFmS0+nvUG6pch5n3wo9YWYuUEEw+OlxsYVqEpAD31bxK7w119/caCOWAwI9I0aNYqznMjbP6h98vsjM7CuLRk8pk9nRQQAqDPRNo6GBQDYOOa5rlHSpkqmZ0UgUNVAB+mDvjFpdxRlKWjMK0yRSY80f/RDGRtIbsR9qY9+nvo0d4bOFSgN+khLV5f2n9ZEZGQkB/rIpOvn51cN+ggAGsOlURtrSwCA2pBiI25DAICNePKlhs5AIJFG061aVhOoDAQaYhCHLmaemTfpgKLgnsZ4ULGDnsA/HfT0KOLoMzbNli7WlGyb9UWwrY2xqAr6rl27xpl3yVeaAulI00cE+S4uLo3yW1I2BwIAVCYh4fd1SkAAgMICYRI4dOgQPv/8c04TyAcEGkMQhy5mn+RC1BP0kGarMYBAVQ56WZkzzRYBG33IH6yLNaHtNvWZK1AedY8ilw9yNbl8+TKInurvv/9Gy5YtOdA3bNgwODk5aVtsRteeAACNbkrrd0ACAKxfeev728jcMnPmTJAmkMhTZTWBjHSXaXeMIYhDF3PCHPfpT2MFgdrm6KMUXpTVgeRFGkPhqVsC+sQVqAroo35fuHCBA30nT55E+/btOdBHEbwODg7CtKsgAQEAqiAsoWhtCQgAUFgVshIg88unn37KaQIJBFKaO3KkpnRKdGNnoI/MwuS31Rg0XOqsEmOM3tQ1R58hmTfVWRPartOQXIF1rQVZ6h7SWJ49e5YDfRSZSxRZBPoGDRqk9dzn2paxPrcnAEB9nh0D6JsAAA1gkhqgi7/88gsWL17Mbc6Up5hyGVPUHQE+ctwXyI/5TQrzcaOD2lADHeqbo09X+YP5zZjhlapPrkDZiH6WoYc0trKgj8D8P//8w4G+8+fPo0ePHlxULqW7NNbcvPW9egQAWN8SN7L3CQDQyCZUg+HcuHED27Zt4zbs2NhYhIeHc344lDWkTZs2tczBAgjkJ2xDBIEEWFn6Nfo7i9qtL7oWfUpNyG+WG7aULrXNii4A8tYCmfCPHz/OBXKQb1+fPn04TR+luKT9Qni0KwEBAGpXno2uNQEANropVzhg0viRtm/kyJF47rnnOJJVcsz++OOPOXMw5TVmj5AGTbV1Qwc0HY4EqvQx0EEeR19Dp+ITsqyovsZIO0/gWdM1pgroo8xBx44d4y6OdIns378/l+Wob9++HL+j8OhOAgIA1J1sG0XLAgBsFNOs0SDpRj99+nQuMIT4uGRBIG3yROYr+ALWLWZ9i3ZVxNHHUrDpw3wyEChkWeH3CUuvMaIhUiWYhmTNgruUaX0p1eXRo0c5Td/t27c5sy6Zd3v37q3SO/mNSiilSAICABTWhkYSEACgRuJrNJVPnDiBadOmCSBQCzNOmkDyj1L1gNbCq6EKR5823qeNNgSCbdWlyDeYhpn6STNNclak9aV1Q/l1iSqKQN+DBw+4AA4y75JvX2PO16z67GivhgAAtSfLRtmSAAAb5bSrNWgGAnft2lUjybpgqlNdnPVJeaIJR5/qI9NNjfoMdNDNCOq/VXlcgXWZ+knzK631pbI5OTk4cOAAB/ri4uI4qhbS9HXp0kXI3FL/U1rrjQIA1INJMOQuCADQkGev/vtOvF3/93//BwKBAQEB1R0QQKDqc8FXS6N6y+A0fQQAWCAHy7/MojX1wbyr6rh0Geigal8MpTwLpqF5pzVA/5bW9MkDfZmZmRzoI5++1NRUjpSZQF+HDh0E0KdnEy8AQD2bEEPrjgAADW3GGr6/p06dwocfflgLBNLBUlhYyDl+Cz6B/OZJmyBQlqKDgT4WrWmIoE9WioYYUc1vJWi3lDz/Tpp/+i7lgb60tDTs27eP0/Tl5uZyoI8COSj63xjWjXalqz+tCQBQf+bCIHsiAECDnLYG7zTxe33wwQfYuXMnAgMDq/sjgEDVp0YT3jtVojVV75l+1tD3iOqGklpdQT10GYiPj8f8+fOxbNkyjt4pKSmJA3wE/Ch6mHLukqYvLCxMAH0NNYkqvlcAgCoKTCheUwICABRWhLoSOH36NN577z1OEyiAQHWlWFWPLwhU5MPFnPfpoG8MjybRrsYkH1nQR2OTDuSQ1t5REMeECROQkJAAR0dHrhyRuxPoa9q0qVGAvu3bt2PNmjW4efMmZ42g76qub4K0nbSHHTx4kCtHPo6rV682mDzEAgA0pq+5AcYiAMAGELoRvZLSOk2dOpXTBAYFBQmaQA3mVhH5MTvkGUVHXT5cGrzeIKuyYBqKqG4snHPSQT20JuihsbM83bKBHI8eParW9FFKR1o/RPRO3H3SBO8GuQBkOk28pdnZ2SBuwilTpigFgAT4CCQScCS5jhs3juNQJP9HQ3gEAGgIs6THfRQAoB5PjoF0jXJ8vvvuuwII1MJ8MRBIBzVpaFggBx1O7JCn/xf8sp4Im/lRUnoxY802oSrou3//PgdiKJiDCN2JruWFF16ojt6fPXs2Vq1axQFDytZhbA9ZJwYMGFAnACSTeHBwMCIjI6uBMP2dgl3od/7+/novFgEA6v0U6XcHBQCo3/NjKL07d+4c3nnnHezYsYPbVNnDONyIJ4wOaAG4KJ5RdsgToJHV7Aigr+4vQR7liaF8O4r6qQp9D31nd+/exV9//cVx9bm7u3Ogj0y83t7ecr+7devWcaZg0noZ28MHAJLv4/jx4zltofRDgTLk1jJ06FC9F4sAAPV+ivS7gwIA1O/5MaTeUcL3t99+mzOnhISECCCQx+QpOuQJMJNjPmm0hIhqHoIEONBMh7kh56iWXQ910fcQ6CONFYG+w4cPcxorAn2UypEAYGO+bPEBgJs2bcKMGTOQkpJSY4ERYF6+fDnnL6nvjwAA9X2G9Lx/AgDU8wkysO5duHABb775JqcJFECg/Mmjg5v589GfiuhaBG5F1Re/IcpMEWejPPoeWjvXrl3jzLtHjhzhgjcI9FEEr4uLS6MGfdKrhQ8AFDSAqn9f+lbDRN86ZGj9EQCgoc2Y4v5+/fXX+OWXX7iUTZ06deKi4Vq3bi23gi6j3y5evMg5YJMmsEmTJoImEOAc7xkpM4E+0vCxaM260mgJJnTVv09DkFldlwDZ9UCg9t9//+X89SjIoWXLlhzoI64+onMRntoS4AMAyc+PLqkUMcyCYUijGh4ezmU9EXwA9X9lCQBQwzkSAKCGAtST6kuWLOHoC8gURFqBOXPmYMOGDYiOjuZyzso+uo5+u3TpEt544w1s27aN6w97DOFw1taUaoujT8iFq/qM6KPMZEFfXZcAuiSQNp00fZR9p3379hxdy/PPPw8HBwfVBdJIarBvjgDg4MGDUVBQwF22yC1AnkmcQDRdzDZv3sxFAU+cOJHbL8msbgiPYAI2hFnS4z4KAFCPJ0eFrpGmbfr06Xj//fe5WqQ18PHxwYoVK7hNTfqpr+g30lq8/vrrjQYE1pVnlaXiUmFKaxRluXDpEKMDqjH7d/GVIc1HUVERV5yoPRpCZqpcAgiIUEQ9gT4CMJRvlzR9gwYN4vovPMolsH79ekyePLl6rmkN0LxT9iLS9rVq1Yoznffq1YtrjCwhtGdStDSVI0BIF2kKjjGERwCAhjBLetxHAQDq8eTw7BqZfJ2dnUGm127dulXXeu6559C2bVssXbq0Rkv16fvCQODWrVsRGhpa3Q9j0QTWJ0efPgAanktSb4o1RP5gVUAf8RhSVh0y71IQVY8ePThN3zPPPMNFzQuPIIG6JCAAQGF9aCQBAQBqJD69qJyYmMhl4rh37x5atGhR3SeiOKCb7Nq1a2v0s76j3y5fvszdyo0FBNaVckvXdC0CCFT9k2P5g8msSpq0unwuVW+9qoYqoK+kpATHjx/nQB99G8TDR5q+gQMHGi2PobpyFerVLQEBAAorRCMJCABQI/HpRWV91gAyAV25cgWvvvoqBwKbNWtmcJpARUS8BPh0DfpkF1lDaLX0YqFr0Ald5A8mNwtG1C2dnUWeuZ/oaSjzBpl3b9y4gf79+2PMmDHo27dvo8lgosH0CVUVSEAAgMLS0EgCAgDUSHx6U1meD6Cvry/HZyXPB7Ahot+uXr2KSZMmYcuWLWjevLneg0BGz8EoW8hHSFHKrfpeCEyrRSCEtFqNJQewJnJm+YPJ7EoyI6CmylOXjyetC1kfQwpAIH8z0vTduXOHM+uSebd3794qv1uVfgplG48EBADYeOZaJyMVAKBOxFrvjZKfHzkvU1JzAoPz58/nooApJZS8KOCGin4jDrNX/r+9c4+Rqtry8LrOH+oobwwgIArkytgC8hJFQd6iKAoJQQVmxEwGEzBxiAT+gCCoqEBAIyjIQ0GNY1BJRAUEkYciKCMKCCjgYxAFJKIoaphx7uS3L6enuqzurupTp+rsU99OOrftPvucvb91uPXrtfZaa+TISkWghEwxkxyyrdFXcANneCAisGZWCFrHZdM/OBfRp2vljVcnDok+ZeArE1XhXZ3tiyL0XDMCzEoKAQRgUixZpH0gAIsEPoLHqr/nggULXOmDzp07l9cBPHToUKyy3wIRqNILqWcWi1W6I9P5rWxq9EVgwpxvGUVoM+dFeDghaB2XqX9w6hlPeX/1flTWh1nXnjhxwmWRSvQpw16lWuTpUxYvnlkPXw6PlowA9MhYcVwqAjCOVkn+mj766CMbMWKEKSGlTZs2fwoHR+0JVOg0CO3qe3lngg953z60EYE1+/ci+6tMjFrtqU5c6pk+Ma1K9B0/ftxWrlzpzvQdPXrUlQ+R6LviiisQfTUzB7NqQAABWANoTPl/AghA3oZiEdixY4c7n/jcc8+57gbBiMITGGWNvmLxS31ucL5N4c2oMl3jsM98rkHMxEtZuRo6wxd4ftMTe3SthJ5KKMnTp/pxgwYNcqJPXSSKUWMwnyy4l58EEIB+2i02q0YAxsYUJbkQZUSq6Xq6CAzKnYQpfJwplBd8wGc6tJ8EAyjBQYKmJkkOSdh/dXtIL+Gj6+X9lTfw2LFjrlhwkByiaw8fPuwEn77EVT13JfrktUb0VUeb30dNAAEYNeGE3x8BmHADe7C9QAQqaUWV+oNRExGY6QO+Mq+OB2hqtEREYEVslZXw0R8BEn8ScvI6K2Gjfv36ro2iWirK26e5t956qxN9ammYFNGXS9/wnj17uiLzZ599tuMhBjNmzLC77767Ru8nk/JHAAGYP5YleScEYEmaPXabVkN2Fa6WCCwrK8tJBGbzAR+7DUe8oFwyXSNeSlFun/pOKOGjqhI+uvbgwYP26quvujOpCu+qraI80y1atEiM6AsMkWvfcNUsVLFqCWNGvAggAONlD+9WgwD0zmSJXfDOnTudCFQ/z+pEYHqNPiVupGbuJsVTE8bYQaZrNuVOwjwnLnPTRV9V74SuVYkkJXEog7dWrVo2ZMgQ69+/v91zzz0uk17lXBo0aBCX7eVtHbn0DddDJQC7d+9u06ZNy9sauFF+CCAA88OxZO+CACxZ08dy47t27bJhw4bZs88+6w7XB0Mf2L/88ov7T32w68yW/jc1cxfR92eTVlXuJJYvQI6LCv4Q0D6reycU5t2zZ4+tWLHCibuGDRu6Gn2DBw+2xo0bl3v6FEJXcpJKumzdujVRWb25dg0KBODu3btdmLxRo0buHOSkSZPcOVNGcQkgAIvL3/unIwC9N2HiNhCIwGeeecbq1q3rDuCrtlrgjZHwU/22XDs5JA5UlhtKLXeic1y+j1xFn44XyNOnc33NmjVzok/n+iQAK/ujQSVhJBbbtm3rO64K68+1b7gmSwQr6UX/FvVvUy0dVb9TbR0ZxSWAACwuf++fjgD03oSJ24A6KDz11FMuM/inn36yrl272qOPPmrt27d3H9iq3RYmOzhxwLLYkO8isKoOLekdNnStio1L9K1Zs8Ylbyi8K89VvXr1EnemLwvzl19SEw9g+v03btzo2topTJ6EPyhy4Re3axGAcbOIZ+tBAHpmsAQvV32LlyxZYvv373dnsa688kr3IT5v3jxr165d+c6D7GD9QGEoQr/ZvRTyakk8q+ixPrjjzi1Th5bKinVrb9u2bXPvy7p161xdSXn6VKC5Tp062QEqkaty6RueCcmmTZusb9++ru2dimgzikcAAVg89ol4MgIwEWZMxCaefvpp92Gtchy1a9d2e1IYTiU4Fi9e7DyAwUAE1szkgQiUkNKHd9xEYC6iT17NLVu2ONG3fv16937oXdFxASV1MDITyKVvuGojqmC7kkCUTPTpp5/anXfeaRdffLEtX74cxEUmgAAssgF8fzwC0HcLJn/9gQhctGiRa7WFCAxn87iJwFxEn5I9Nm/e7ESfQpHyEsvTN2DAACdQGNkRyLZvuBJhhg4dajqWofdGyTLiTRJIdpyjvgoBGDXhhN8fAZhwAydke3v37nUfPAsXLrQOHTogAkPaNWi3p/NzSqgptCcw6LsrL56+Ty3Wnd6LWVm5GzZscKJPHr+rr77aefp0Dk1rZ0CgVAkgAEvV8nnaNwIwTyC5TeQE9u3b5w7zIwLzg7rQIjAQffLi6dlVib7ffvvN3n77bZcB/sEHH7hCxBJ9ffr0cWcYGRCAgOtf/ZdS5lDSm8+H4RGA+aDIPQpFoCoR+Ouvv7pWVSSGZG+NQATK66YQaj4/T2SL1PBuqujL1ItZCSpr1651nj61B+zdu7cTfdddd52r98iAAAQqEkAA8kaEIoAADIWPyUUgoA4OKt6rpJGOHTtWCAcjAnM3SE16Llf2lEyiT+It8PalC0yVElm9erXz9CnBQGFdiT4lHaSXd8l9Z8yAQLIJIACTbd/Id4cAjBwxD4iAQCACFyxYYJ06dUIEhmQcJqtac1PDu/rvoFyLhF+q6NPvVNtRnThee+01V/JHCRwSfVdddRWiL6QdmV5aBBCApWXvvO8WAZh3pNywQASUmaiODvPnz7fOnTsjAkNylzgLPKgKB6cnY6TePl306XepZ/rSRd+JEydcz115+pRZOnDgQJfU06VLl0S1WgtpAqZDICcCCMCccHFxOgEEIO+EzwTkQZIIVOcQRGB4SwYiUOf1dJYyVQTmKvqOHz9uK1eudGf6VE/upptucp4+lfKpSlyG3wV3gEBpEEAAloadI9slAjAytNy4QAQOHDjg2nw9+eSTzqMUjFSPFokh2RtD3JSFq7CuPIFBIodKtmgE4V2d0Uv39B05csSFduXpU6h30KBBTvRdfvnleU0wyX43XAmB5BJAACbXtgXZGQKwIJh5SMQEAhGotnEqDpwuAjN5tCJekre3lwBUqRbV3xM3ibyqRN/hw4ed4NPX77//7jyyEn2XXnopos/bt4CF+0AAAeiDlWK8RgRgjI3D0nIicPDgQedxmjt3rnXt2hURmAM9iT55+CT89BWIPgnAo0ePOjGo/roauvbrr78uF336WSD6WrVqhejLgTuXQiAMAQRgGHrM1f+Z/w0MEEgKgUAEPvHEEy6rFE9g5ZYNPH0SfBJ/OpcXePr0vUSgrtH5ykceecSUca1SLQrxqhizkjj01aJFi0SJvilTppjaDp48edJlmMurXFZWlhHkjz/+aGPGjLE33njD8VNyi/4AUU9rBgSiJoAAjJpwwu+PAEy4gYu0vZdfftkmT57sMj7VOP7BBx90tfsqG1OnTrUHHnjAnTmT6JD4uPnmm+2FF17IeQdffPGFm4sI/DO6bERfqmhW4W2Fdt9//33btGmTEzvjxo2zpk2bJkr0BXueOXOmE3CrVq0yeTP1Xi5btsz1ws3Ua1iCTwL6pZdecu/tsGHDXPKMEl8YEIiaAAIwasIJvz8CMOEGLsL2tm3bZj179rQXX3zRCTEJiBEjRti7775boXBz6tL0QavWXxIZ+Rhffvmle/bjjz/ueseWsidQYdwgvJvu6Usvtqxr9+zZYytWrHBerQsuuMB5+STely9fbpMmTXKZverOkcTRsmVLJ3DHjh3rtqdEmCZNmticOXNs+PDhFbYc/HGzc+dOl+Sioe+V5azfNWvWLImI2FOMCCAAY2QMH5eCAPTRavFe81133eUyQF955ZXyhaqHb4MGDVwf30wj3wJQzwhE4GOPPWbdunWrIAKDLNf0UifxJpv96lIzdyX6JPSCjhyZRN8nn3zivFbyfEm4SPTpXF/Dhg0rePqWLFli9957r/OINW7cOPsFeXClQr5169Z13s7UM6TXX3+9tW3b1mbNmlVhFwqF33bbba52Yuo455xzTB5wlb1hQCBKAgjAKOmWwL0RgCVg5AJvUe3ZFAqbMGFC+ZMffvhhJwi3b99eqQDUB6zCbPqSYHvooYdc+DjM+Oqrr9wHsTw411xzTaJFYGrfXXmuAtEn4Zded0/Xyhbyzq5Zs8aFOyX6lERTr169KsO7CrHLU5a08c0339hFF11ke/fudRnMwZDIq127tms9mDqef/55Gz9+vH333XcVfi5hPHv2bLvjjjuShoj9xIwAAjB0whsOAAAN3UlEQVRmBvFtOQhA3yxWvPWOGjXKli5dWp4ckL4ShX3Xr19vrVu3dh+Mo0ePLr9E3Tr0oSjPUaahsGOtWrWsefPm7gNV87du3epCapnOXuVCQRmrOqul51977bWJEoG5iD6JQoXn5elbt26dXXbZZSbPrELlJC2YS/rAA5jLvyyuLTYBBGCxLeD58xGAnhuwgMtXqEt13iob8jRJxNXEA5h+z9OnTztRovNmffv2Db1LiUB5AuVl7N69u9ciUEIuONOn79WCLWjDlu7p03VbtmxxZ/reeecda9++vavRd+ONNzpbMSoSyHQG8MILL3R/PGQ6A3jJJZeYwuepZwA7dOjgyuRwBpC3K2oCCMCoCSf8/gjAhBu4CNvTGUB5U3QOKhgKL9avX7/SM4CZBKC8MQpR9uvXLy+70MF8CR+JwB49englAiX0ghp98vql9t1NF326Tsk0Yrdx40ZXGFv8BwwYENqbmhdDxPgmejeUBawEGIlBZa8rC/izzz7LyE7eU/FWtrqygCUS5bGW4GZAIGoCCMCoCSf8/gjAhBu4CNtTmLFXr14uC1ihV3nxlAW8efPmSrOAlWHau3dvlyiiwsMKAStreNeuXa6sRr6GRKDWpHIfcRaBEhOp4d1U0SdPa2oLNrFRoeYNGza48K48fjpDKdEn8XzuuefmC19J3Of+++93NQ9//vln1186qAN46NAhFzZfvXp1+XlS1QFUxvDrr79eXrpIAlJnBhkQiJoAAjBqwgm/PwIw4QYu0vaU8KGSIQqFKZFj+vTpLqs0GAqZSRROnDjR/Ui9fHXm79SpUy4JQeJMdQGjSDbQB7k8gTNmzKhQziS1B24xsoNzFX3KZFbpHIm+Dz/80DFTeLdPnz6uUDMDAhBINgEEYLLtG/nuEICRI+YBMSSgjE+JQHW4UPJKMAotAvW81PCu/jvoxqEwb7qnTwL5rbfecuHdjz/+2HlNhw4d6sSf5jEgAIHSIYAALB1bR7JTBGAkWLmpBwQCEagSNQpZF0oE5ir6FIpU2FGiT63YFNaVp0/JLOk1/TzAzhIhAIE8EUAA5glkqd4GAViqlmffInD48GG74YYbXIha3rRUEaiMZ2XR5iMcnC769JzURI5UT5+uVSHtN99804m+/fv3uzVK9Km/MaKPdxcCEBABBCDvQSgCCMBQ+JicAAKBCFThaZ2fSxeByvI8//zz/1RMubqtS8iltmDT9UF4VyIuXfT98MMPLvtUoi9IVpHoUyJCeqZvdc/m9xCAQPIJIACTb+NId4gAjBQvN/eEwLfffuu8bEo8Sa07KBEnT2C2IjBX0ff999+7DFIlchw7dszVKpToUz9ZRJ8nLw/LhECRCCAAiwQ+KY9FACbFkuwjLIFABE6bNq1C7cHqRGCq6JNQlGevKk/fkSNHTH1k5elTqFft1yT6lBmdnvQRdk/MhwAEkksAAZhc2xZkZwjAgmDmIZ4QUBs6FUyeOnWq9e/fv3zV6SJQQk1iLwjxylsn0adzfZnCu0o4keCT8JNHUSVxJPrUcxbR58nLwTIhEDMCCMCYGcS35SAAfbMY642agESgwsEqCJwqAlWMWe3wVLZFIxB9En76Pv1Mn2ogSvTpS2Pw4MGuOHOrVq0QfVEbkftDoAQIIABLwMhRbhEBGCVd7u0rAYVpJQLvu+8+F6aViFOSSPPmzZ14C/rxqnNJMOQlPHDgQLmnT8WYJfj01aJFC0Sfry8D64ZATAkgAGNqGF+WhQD0xVKss1AElJihpAy1slMvXbX/UshWPY4bNWrker6qGPOYMWNc1q48g7pe39eqVcsJviFDhljTpk0TL/rU73ny5Mkua1kdX9Q7V57OyoZC60q0Ub9ccZSYVj9d9dJlQAACuRFAAObGi6vTCCAAeSUg8HcCEiQSeqq/p9IrQbHl0aNHu7Z28ghqSPCpILP6Ca9du9bKysps5MiRbm7jxo0TL/qC90U9n9VFRUJZIk5eUrX3Uw/njh07ZnytJADVvm7Tpk28dhCAQEgCCMCQAEt9OgKw1N8A9p9KQOKvXbt21qxZs/IfHz161CWG3H777Sbv4KpVq9zv5eXbvXu3yQu2fv16a9OmTUnBlEdU4XH1fQ6GmCgsvnDhQgRgSb0NbLYYBBCAxaCeoGciABNkTLYSGQElhsjbNXHiRLvlllusXr16ztMnr6G8g4sXL3aer9atW0e2hrjdWF6+YcOG2YQJE8qXprZ6EoTbt2+vVADOmjXLhYD11a1bN3e2UuFjBgQgkBsBBGBuvLg6jQACkFcCAuEISAQuWbLEiSF1DPF9jBo1ypYuXVoucNP3IyEsj6fE7vjx400h8mDMnz/fZs+ebZ9//nlGDHv27HHnJJVMI1Gt+Vu3brWdO3c6QciAAASyJ4AAzJ4VV2YggADktYAABFIJqNSNahVWNlT2RiKuJh7A9HuePn3a6tSpYytXrqzQgQWLQAAC1RNAAFbPiCuqIIAA5PWAAARqQkBnAE+ePOnOQAZDGdD169ev9AxgJgFYt25dl0DSr1+/miyDORAoWQIIwJI1fX42jgDMD0fuAoFSI6As4F69erks4IEDBzovnrKAN2/eXGkW8PLly613794uUUTJNQoB6+zkrl277Lzzzis1hOwXAqEIIABD4WMyApB3AAIQqCkBJXwoCUZdT5TIMX36dFcOJxjqbyxRqOQZDSXQ6MzfqVOnXCJNjx49XF3Ali1b1nQJzINAyRJAAJas6fOzcQRgfjhyFwhAAAIQgEAhCSAAC0k7gc9CACbQqGwJAhCAAAQSTwABmHgTR7tBBGC0fLk7BCAAAQhAIAoCCMAoqJbQPRGAJWRstgoBCEAAAokhgABMjCmLsxEEYHG481QIQAACEIBAGAIIwDD0mKtWVn8DAwQgAAEIQAACfhFAAPplr9itFgEYO5OwoDwQUGsxlR7ZsWOHqze3bt06V3+uujFlyhRbtGiRK3DcqVMnmzdvnpWVlVU3jd9DAAIQKDgBBGDBkSfrgQjAZNmT3fydwL59++y9996zDh06WJcuXWzt2rXVCsCZM2fa3LlzbdWqVdaqVSubOnWqLVu2zPW1pU8tbxYEIBA3AgjAuFnEs/UgAD0zGMvNmcBZZ52VlQdQxYjHjRtnY8eOdc/4448/rEmTJjZnzhwbPnx4zs9lAgQgAIEoCSAAo6TLvSEAgSQQ+F8z62tm66vYTG0z+9HMrjazbSnXrTGzXWZ2XxJAsAcIQAACSSHwl6RshH1AAAJZEXjGzP7FzJS8lOnf/wYzSz/sl40AbGZm/2Vm/2Rmn6Ws5D/M7KSZ/VtWq+MiCEAAAhAoCAEEYEEw8xAIxIbAP5rZOVWs5r/N7Oe032cjAPPlAWxnZo+YWQcza5SF5zFY6lQz+1cz0zr+08zGmNmnsaHOQiAAAQjEjAACMGYGYTkQiCGBbASglv2Fmc02s7ln9vAPZvatmY0zsxey3FcbM7vGzHaY2Ydm1q+a0LNuO97MdPDwBjM7aGZTzOyfzeyvZvZrls/lMghAAAIlRQABWFLmZrMQyInA2WfCxBJRElcKD/+P8jsquYvO+UmIDTwjBiedEWKX1lCIhRGe35nZv+cgPHMCw8UQgAAEfCeAAPTdgqwfAtEQaGFmX545K5j6BIVap535wW4ze/5MyDa45n4zG21mtcxse8hQbDYCMF+h52goclcIQAACMSWAAIypYVgWBBJGgOSThBmU7UAAAn4TQAD6bT9WDwFfCMQ9+cQXjqwTAhCAQF4IIADzgpGbQAACERDIJgSsx+Yj+SSC5XNLCEAAAvElgACMr21YGQRKlUCxk09KlTv7hgAESogAArCEjM1WIeABgTgkn3iAiSVCAAIQCEcAARiOH7MhAAEIQAACEICAdwQQgN6ZjAVDAAIQgAAEIACBcAQQgOH4MRsCEIAABCAAAQh4RwAB6J3JWDAEIAABCEAAAhAIRwABGI4fsyEAAQhAAAIQgIB3BBCA3pmMBUMAAhCAAAQgAIFwBBCA4fgxGwIQgAAEIAABCHhHAAHonclYMAQgAAEIQAACEAhHAAEYjh+zIQABCEAAAhCAgHcEEIDemYwFQwACEIAABCAAgXAEEIDh+DEbAhCAAAQgAAEIeEcAAeidyVgwBCAAAQhAAAIQCEcAARiOH7MhAAEIQAACEICAdwQQgN6ZjAVDAAIQgAAEIACBcAQQgOH4MRsCEIAABCAAAQh4RwAB6J3JWDAEIAABCEAAAhAIRwABGI4fsyEAAQhAAAIQgIB3BBCA3pmMBUMAAhCAAAQgAIFwBBCA4fgxGwIQgAAEIAABCHhHAAHonclYMAQgAAEIQAACEAhHAAEYjh+zIQABCEAAAhCAgHcEEIDemYwFQwACEIAABCAAgXAEEIDh+DEbAhCAAAQgAAEIeEcAAeidyVgwBCAAAQhAAAIQCEcAARiOH7MhAAEIQAACEICAdwQQgN6ZjAVDAAIQgAAEIACBcAQQgOH4MRsCEIAABCAAAQh4RwAB6J3JWDAEIAABCEAAAhAIRwABGI4fsyEAAQhAAAIQgIB3BBCA3pmMBUMAAhCAAAQgAIFwBBCA4fgxGwIQgAAEIAABCHhHAAHonclYMAQgAAEIQAACEAhHAAEYjh+zIQABCEAAAhCAgHcEEIDemYwFQwACEIAABCAAgXAEEIDh+DEbAhCAAAQgAAEIeEcAAeidyVgwBCAAAQhAAAIQCEcAARiOH7MhAAEIQAACEICAdwT+DxlFkl5ZvESXAAAAAElFTkSuQmCC\">"
      ],
      "text/plain": [
       "<IPython.core.display.HTML object>"
      ]
     },
     "metadata": {},
     "output_type": "display_data"
    }
   ],
   "source": [
    "from mpl_toolkits.mplot3d import Axes3D\n",
    "fig = plt.figure()\n",
    "ax = fig.add_subplot(111, projection='3d')\n",
    "cursor = vectors\n",
    "for i in range(100):\n",
    "    cursor = generation(graph, cursor)\n",
    "for (a, b) in edges:\n",
    "    plt.plot(cursor[[a,b],0],cursor[[a,b],1],cursor[[a,b],2])\n",
    "plt.show()"
   ]
  },
  {
   "cell_type": "code",
   "execution_count": 43,
   "metadata": {
    "collapsed": false
   },
   "outputs": [
    {
     "data": {
      "text/plain": [
       "array([  0.00000000e+00,   1.11022302e-16,   0.00000000e+00,\n",
       "         0.00000000e+00,   0.00000000e+00,   6.85997146e-01,\n",
       "         8.71609081e-01,   8.71609081e-01,   6.85997146e-01,\n",
       "         9.98724324e-01,   9.98724324e-01,   9.92762118e-01,\n",
       "         9.35469191e-01,   9.35469191e-01,   8.71609081e-01,\n",
       "         8.71609081e-01,   9.69885360e-01,   9.86090913e-01,\n",
       "         9.86090913e-01,   9.35469191e-01,   6.85997146e-01,\n",
       "         8.71609081e-01,   8.71609081e-01,   8.71609081e-01,\n",
       "         9.69885360e-01,   9.69885360e-01,   9.35469191e-01,\n",
       "         8.71609081e-01,   9.92762118e-01,   9.98724324e-01,\n",
       "         9.35469191e-01,   9.35469191e-01,   9.69885360e-01,\n",
       "         9.86090913e-01,   9.86090913e-01,   9.86090913e-01,\n",
       "         9.86090913e-01,   6.85997146e-01,   8.71609081e-01,\n",
       "         8.71609081e-01,   9.69885360e-01,   9.86090913e-01,\n",
       "         9.69885360e-01,   9.86090913e-01,   9.86090913e-01,\n",
       "         9.69885360e-01,   9.35469191e-01,   6.85997146e-01,\n",
       "         9.92762118e-01,   9.35469191e-01,   9.69885360e-01,\n",
       "         9.69885360e-01,   9.86090913e-01,   9.92762118e-01,\n",
       "         9.35469191e-01,   9.69885360e-01,   9.98724324e-01,\n",
       "         9.35469191e-01,   9.92762118e-01,   9.98724324e-01])"
      ]
     },
     "execution_count": 43,
     "metadata": {},
     "output_type": "execute_result"
    }
   ],
   "source": [
    "P[:, 0] * P[:, 0] + P[:, 1] * P[:, 1]\n",
    "1.0-(P[:, 0] * P[:, 0] + P[:, 1] * P[:, 1])"
   ]
  },
  {
   "cell_type": "code",
   "execution_count": 77,
   "metadata": {
    "collapsed": false
   },
   "outputs": [],
   "source": [
    "(S,V,D) = np.linalg.svd(cursor)\n"
   ]
  },
  {
   "cell_type": "code",
   "execution_count": 78,
   "metadata": {
    "collapsed": false
   },
   "outputs": [
    {
     "data": {
      "text/plain": [
       "array([  2.93160397e-04,   1.57581384e-04,   1.85223647e-05])"
      ]
     },
     "execution_count": 78,
     "metadata": {},
     "output_type": "execute_result"
    }
   ],
   "source": [
    "V"
   ]
  },
  {
   "cell_type": "code",
   "execution_count": 70,
   "metadata": {
    "collapsed": false
   },
   "outputs": [
    {
     "data": {
      "text/plain": [
       "array([ 0.01722233,  0.00925745,  0.00108814])"
      ]
     },
     "execution_count": 70,
     "metadata": {},
     "output_type": "execute_result"
    }
   ],
   "source": [
    "V"
   ]
  },
  {
   "cell_type": "code",
   "execution_count": 71,
   "metadata": {
    "collapsed": false
   },
   "outputs": [
    {
     "data": {
      "text/plain": [
       "array([-0.00796488, -0.01613419])"
      ]
     },
     "execution_count": 71,
     "metadata": {},
     "output_type": "execute_result"
    }
   ],
   "source": [
    "V[1:] - V[0:1]"
   ]
  },
  {
   "cell_type": "code",
   "execution_count": 82,
   "metadata": {
    "collapsed": false
   },
   "outputs": [
    {
     "data": {
      "text/plain": [
       "(array([[ 0.00940548,  0.10948352, -0.19474316, ..., -0.1560855 ,\n",
       "          0.09660519,  0.13353669],\n",
       "        [ 0.0780199 ,  0.14176645, -0.15432166, ..., -0.10673879,\n",
       "         -0.11235229, -0.0242868 ],\n",
       "        [ 0.05012586,  0.1964904 , -0.09422815, ...,  0.11610626,\n",
       "          0.17246868,  0.18270649],\n",
       "        ..., \n",
       "        [ 0.09008384,  0.16193877,  0.12514278, ...,  0.94678015,\n",
       "         -0.01858621, -0.0046614 ],\n",
       "        [ 0.14153943, -0.09014227,  0.14778685, ..., -0.02216641,\n",
       "          0.95277265, -0.03931332],\n",
       "        [ 0.06089461, -0.14425553,  0.15963136, ..., -0.00862363,\n",
       "         -0.04159376,  0.95826245]]),\n",
       " array([  2.93160397e-04,   1.57581384e-04,   1.85223647e-05]),\n",
       " array([[ 0.03015159, -0.99901884, -0.03243831],\n",
       "        [-0.6035868 , -0.04406578,  0.79607863],\n",
       "        [-0.79672697, -0.0044237 , -0.60432323]]))"
      ]
     },
     "execution_count": 82,
     "metadata": {},
     "output_type": "execute_result"
    }
   ],
   "source": [
    "(S, V, D)"
   ]
  },
  {
   "cell_type": "code",
   "execution_count": 87,
   "metadata": {
    "collapsed": false
   },
   "outputs": [
    {
     "data": {
      "text/plain": [
       "array([  3.10578747e-22,   2.25875453e-21,   1.80700362e-21])"
      ]
     },
     "execution_count": 87,
     "metadata": {},
     "output_type": "execute_result"
    }
   ],
   "source": [
    "cursor.mean(axis=0)"
   ]
  },
  {
   "cell_type": "code",
   "execution_count": 93,
   "metadata": {
    "collapsed": false
   },
   "outputs": [
    {
     "data": {
      "text/plain": [
       "<matplotlib.collections.PathCollection at 0x10e873a50>"
      ]
     },
     "execution_count": 93,
     "metadata": {},
     "output_type": "execute_result"
    },
    {
     "data": {
      "image/png": "[encoded data removed]",
      "text/plain": [
       "<matplotlib.figure.Figure at 0x10d1c8f50>"
      ]
     },
     "metadata": {},
     "output_type": "display_data"
    }
   ],
   "source": [
    "plt.scatter([0, 1, 2], (V*1000).tolist())"
   ]
  },
  {
   "cell_type": "code",
   "execution_count": 95,
   "metadata": {
    "collapsed": false
   },
   "outputs": [
    {
     "data": {
      "text/plain": [
       "(60, 60)"
      ]
     },
     "execution_count": 95,
     "metadata": {},
     "output_type": "execute_result"
    }
   ],
   "source": [
    "S.shape"
   ]
  },
  {
   "cell_type": "code",
   "execution_count": 96,
   "metadata": {
    "collapsed": false
   },
   "outputs": [
    {
     "data": {
      "text/plain": [
       "1.8522364711182939e-05"
      ]
     },
     "execution_count": 96,
     "metadata": {},
     "output_type": "execute_result"
    }
   ],
   "source": [
    "V[-1]"
   ]
  },
  {
   "cell_type": "code",
   "execution_count": 97,
   "metadata": {
    "collapsed": false
   },
   "outputs": [
    {
     "data": {
      "text/plain": [
       "0.00029316039671689229"
      ]
     },
     "execution_count": 97,
     "metadata": {},
     "output_type": "execute_result"
    }
   ],
   "source": [
    "V[0]"
   ]
  },
  {
   "cell_type": "code",
   "execution_count": 170,
   "metadata": {
    "collapsed": false
   },
   "outputs": [
    {
     "data": {
      "text/plain": [
       "array([[ 0.5,  1. ],\n",
       "       [ 1. ,  1.5]])"
      ]
     },
     "execution_count": 170,
     "metadata": {},
     "output_type": "execute_result"
    }
   ],
   "source": [
    "np.array([[1, 2], [2, 3]]) / np.array([[2], [2]], dtype=\"float\")"
   ]
  },
  {
   "cell_type": "code",
   "execution_count": 179,
   "metadata": {
    "collapsed": true
   },
   "outputs": [],
   "source": [
    "np.expand_dims?"
   ]
  },
  {
   "cell_type": "code",
   "execution_count": null,
   "metadata": {
    "collapsed": true
   },
   "outputs": [],
   "source": []
  }
 ],
 "metadata": {
  "kernelspec": {
   "display_name": "Python 2",
   "language": "python",
   "name": "python2"
  },
  "language_info": {
   "codemirror_mode": {
    "name": "ipython",
    "version": 2
   },
   "file_extension": ".py",
   "mimetype": "text/x-python",
   "name": "python",
   "nbconvert_exporter": "python",
   "pygments_lexer": "ipython2",
   "version": "2.7.12"
  }
 },
 "nbformat": 4,
 "nbformat_minor": 0
}
