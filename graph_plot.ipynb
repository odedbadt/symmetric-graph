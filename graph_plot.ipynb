{
 "cells": [
  {
   "cell_type": "code",
   "execution_count": 3,
   "metadata": {
    "collapsed": true
   },
   "outputs": [],
   "source": [
    "%matplotlib notebook"
   ]
  },
  {
   "cell_type": "code",
   "execution_count": 4,
   "metadata": {
    "collapsed": true
   },
   "outputs": [],
   "source": [
    "def tutte_barycentric_layout(graph, h):\n",
    "    import numpy as np\n",
    "    l = len(graph)\n",
    "    W = np.zeros(shape=(l, l), dtype='float')\n",
    "    F = np.array([[np.cos(j*2*np.pi / h), -np.sin(j*2*np.pi / h)] for j in range(h)])\n",
    "    for i, neighbors in graph.iteritems():\n",
    "        for j in graph.keys():\n",
    "            if i == j:\n",
    "                W[i, j] = len(neighbors)   \n",
    "            else:\n",
    "                W[i, j] = -1.0 if j in neighbors else 0.0\n",
    "    B = np.matmul(W,np.pad(F, (0, l-h), 'constant'))\n",
    "    return np.concatenate((F, np.linalg.solve(W[h:,h:], -B[h:,0:2])))"
   ]
  },
  {
   "cell_type": "code",
   "execution_count": 5,
   "metadata": {
    "collapsed": false
   },
   "outputs": [],
   "source": [
    "import matplotlib\n",
    "from matplotlib import pyplot as plt"
   ]
  },
  {
   "cell_type": "code",
   "execution_count": 6,
   "metadata": {
    "collapsed": true
   },
   "outputs": [],
   "source": [
    "graph = {\n",
    "         0 :[1, 2, 3],\n",
    "         1 :[0, 4, 9],\n",
    "         2 :[0, 5, 6],\n",
    "         3 :[0, 7, 8],\n",
    "         4 :[1, 5, 11],\n",
    "         5 :[2, 4, 12],\n",
    "         6 :[2, 7, 13],\n",
    "         7 :[3, 6, 14],\n",
    "         8 :[3, 9, 15],\n",
    "         9 :[1, 8, 10],\n",
    "         10 :[18, 11, 9],\n",
    "         11 :[16, 10, 4],\n",
    "         12 :[16, 13, 5],\n",
    "         13 :[17, 12, 6],\n",
    "         14 :[17, 15, 7],\n",
    "         15 :[18, 14, 8],\n",
    "         16 :[11, 12, 19],\n",
    "         17 :[13, 14, 19],\n",
    "         18 :[15, 10, 19],\n",
    "         19 :[18, 17, 16]\n",
    "     }"
   ]
  },
  {
   "cell_type": "code",
   "execution_count": 7,
   "metadata": {
    "collapsed": false
   },
   "outputs": [],
   "source": [
    "P = tutte_barycentric_layout(graph, 5)"
   ]
  },
  {
   "cell_type": "code",
   "execution_count": 8,
   "metadata": {
    "collapsed": false
   },
   "outputs": [
    {
     "data": {
      "text/plain": [
       "(20, 2)"
      ]
     },
     "execution_count": 8,
     "metadata": {},
     "output_type": "execute_result"
    }
   ],
   "source": [
    "P.shape"
   ]
  },
  {
   "cell_type": "code",
   "execution_count": 9,
   "metadata": {
    "collapsed": false
   },
   "outputs": [],
   "source": [
    "from itertools import chain\n",
    "edges = list(chain(*[[(a, b) for b in mems] for a, mems in graph.iteritems()]))"
   ]
  },
  {
   "cell_type": "code",
   "execution_count": 10,
   "metadata": {
    "collapsed": true
   },
   "outputs": [],
   "source": [
    "import numpy as np"
   ]
  },
  {
   "cell_type": "code",
   "execution_count": 11,
   "metadata": {
    "collapsed": true
   },
   "outputs": [],
   "source": [
    "def normalize(V):\n",
    "    norm = np.linalg.norm(V)\n",
    "    return V / norm if norm > 0 else V"
   ]
  },
  {
   "cell_type": "code",
   "execution_count": 12,
   "metadata": {
    "collapsed": true
   },
   "outputs": [],
   "source": [
    "def normalize_all(V):\n",
    "    normalizer = np.linalg.norm(V, axis=1)\n",
    "    normalizer[normalizer == 0] = 1\n",
    "    return V / np.expand_dims(normalizer, 1)"
   ]
  },
  {
   "cell_type": "code",
   "execution_count": 51,
   "metadata": {
    "collapsed": false
   },
   "outputs": [],
   "source": [
    "def generation(graph, vectors):\n",
    "    next_gen = {}\n",
    "    l = len(vectors)\n",
    "    for i in range(l):\n",
    "        neigbors = graph.get(i)\n",
    "        v = vectors[i, :]\n",
    "        next_vec = v\n",
    "        forces = np.array([[0, 0, 0]])\n",
    "        for j in range(l):\n",
    "            next_vec = next_vec + (vectors[j, :] - v) * 0.33\n",
    "        for j in neigbors:\n",
    "            forces = forces + (vectors[j, :] - v) * -0.1\n",
    "        next_gen[i] = vectors[i, :] + forces\n",
    "    \n",
    "    next_gen_mat = np.array([next_gen[i] for i in range(l)]).reshape((l,3))    \n",
    "    next_gen_mat = normalize_all(next_gen_mat)\n",
    "    return next_gen_mat"
   ]
  },
  {
   "cell_type": "code",
   "execution_count": 52,
   "metadata": {
    "collapsed": false
   },
   "outputs": [
    {
     "data": {
      "text/plain": [
       "array([[  3.09262311e-01,   8.45026249e-01,   4.36219511e-01],\n",
       "       [  2.35852493e-01,   5.72161522e-01,   7.85496527e-01],\n",
       "       [  7.68811977e-01,   5.23879924e-01,   3.66712380e-01],\n",
       "       [  2.83988411e-01,   6.46441090e-01,   7.08141582e-01],\n",
       "       [  3.29518894e-01,   6.86407822e-01,   6.48275867e-01],\n",
       "       [  9.83804417e-01,  -1.72176525e-01,  -4.98408715e-02],\n",
       "       [  9.92218069e-01,   5.23941982e-02,   1.12951987e-01],\n",
       "       [  9.95566243e-01,   1.05993031e-02,  -9.34639544e-02],\n",
       "       [  3.44518965e-01,  -4.80851704e-04,   9.38779235e-01],\n",
       "       [  9.25587463e-01,  -3.71292835e-02,   3.76708461e-01],\n",
       "       [  9.98566802e-01,  -5.31082991e-02,  -6.62201300e-03],\n",
       "       [ -7.12936099e-02,   4.23042710e-01,   9.03300662e-01],\n",
       "       [  6.33762058e-01,   5.50744169e-01,   5.43163432e-01],\n",
       "       [ -2.30398898e-02,   9.92736582e-01,   1.18081509e-01],\n",
       "       [  7.31774588e-01,   4.85575242e-01,   4.78249555e-01],\n",
       "       [ -1.69777955e-01,   9.81512251e-01,  -8.83693753e-02],\n",
       "       [  3.04968514e-01,   7.34394329e-01,   6.06349053e-01],\n",
       "       [  1.91174031e-01,   4.67608828e-01,   8.63014759e-01],\n",
       "       [  8.39700078e-01,   4.86594132e-01,   2.41101491e-01],\n",
       "       [  1.15318291e-01,   7.92231775e-01,   5.99224922e-01]])"
      ]
     },
     "execution_count": 52,
     "metadata": {},
     "output_type": "execute_result"
    }
   ],
   "source": [
    "generation(graph, vectors)"
   ]
  },
  {
   "cell_type": "code",
   "execution_count": 15,
   "metadata": {
    "collapsed": false
   },
   "outputs": [],
   "source": [
    "import numpy\n",
    "vectors = np.concatenate((P, np.expand_dims(np.sqrt(1 - (P[:, 0] * P[:, 0] + P[:, 1] * P[:, 1]) ), 1)), axis=1)\n",
    "#vectors = numpy.random.rand(20,3)\n",
    "normals = normalize_all(np.random.normal(size=(len(graph), 3))) / 4"
   ]
  },
  {
   "cell_type": "code",
   "execution_count": 26,
   "metadata": {
    "collapsed": false
   },
   "outputs": [
    {
     "data": {
      "application/javascript": [
       "/* Put everything inside the global mpl namespace */\n",
       "window.mpl = {};\n",
       "\n",
       "mpl.get_websocket_type = function() {\n",
       "    if (typeof(WebSocket) !== 'undefined') {\n",
       "        return WebSocket;\n",
       "    } else if (typeof(MozWebSocket) !== 'undefined') {\n",
       "        return MozWebSocket;\n",
       "    } else {\n",
       "        alert('Your browser does not have WebSocket support.' +\n",
       "              'Please try Chrome, Safari or Firefox ≥ 6. ' +\n",
       "              'Firefox 4 and 5 are also supported but you ' +\n",
       "              'have to enable WebSockets in about:config.');\n",
       "    };\n",
       "}\n",
       "\n",
       "mpl.figure = function(figure_id, websocket, ondownload, parent_element) {\n",
       "    this.id = figure_id;\n",
       "\n",
       "    this.ws = websocket;\n",
       "\n",
       "    this.supports_binary = (this.ws.binaryType != undefined);\n",
       "\n",
       "    if (!this.supports_binary) {\n",
       "        var warnings = document.getElementById(\"mpl-warnings\");\n",
       "        if (warnings) {\n",
       "            warnings.style.display = 'block';\n",
       "            warnings.textContent = (\n",
       "                \"This browser does not support binary websocket messages. \" +\n",
       "                    \"Performance may be slow.\");\n",
       "        }\n",
       "    }\n",
       "\n",
       "    this.imageObj = new Image();\n",
       "\n",
       "    this.context = undefined;\n",
       "    this.message = undefined;\n",
       "    this.canvas = undefined;\n",
       "    this.rubberband_canvas = undefined;\n",
       "    this.rubberband_context = undefined;\n",
       "    this.format_dropdown = undefined;\n",
       "\n",
       "    this.image_mode = 'full';\n",
       "\n",
       "    this.root = $('<div/>');\n",
       "    this._root_extra_style(this.root)\n",
       "    this.root.attr('style', 'display: inline-block');\n",
       "\n",
       "    $(parent_element).append(this.root);\n",
       "\n",
       "    this._init_header(this);\n",
       "    this._init_canvas(this);\n",
       "    this._init_toolbar(this);\n",
       "\n",
       "    var fig = this;\n",
       "\n",
       "    this.waiting = false;\n",
       "\n",
       "    this.ws.onopen =  function () {\n",
       "            fig.send_message(\"supports_binary\", {value: fig.supports_binary});\n",
       "            fig.send_message(\"send_image_mode\", {});\n",
       "            fig.send_message(\"refresh\", {});\n",
       "        }\n",
       "\n",
       "    this.imageObj.onload = function() {\n",
       "            if (fig.image_mode == 'full') {\n",
       "                // Full images could contain transparency (where diff images\n",
       "                // almost always do), so we need to clear the canvas so that\n",
       "                // there is no ghosting.\n",
       "                fig.context.clearRect(0, 0, fig.canvas.width, fig.canvas.height);\n",
       "            }\n",
       "            fig.context.drawImage(fig.imageObj, 0, 0);\n",
       "        };\n",
       "\n",
       "    this.imageObj.onunload = function() {\n",
       "        this.ws.close();\n",
       "    }\n",
       "\n",
       "    this.ws.onmessage = this._make_on_message_function(this);\n",
       "\n",
       "    this.ondownload = ondownload;\n",
       "}\n",
       "\n",
       "mpl.figure.prototype._init_header = function() {\n",
       "    var titlebar = $(\n",
       "        '<div class=\"ui-dialog-titlebar ui-widget-header ui-corner-all ' +\n",
       "        'ui-helper-clearfix\"/>');\n",
       "    var titletext = $(\n",
       "        '<div class=\"ui-dialog-title\" style=\"width: 100%; ' +\n",
       "        'text-align: center; padding: 3px;\"/>');\n",
       "    titlebar.append(titletext)\n",
       "    this.root.append(titlebar);\n",
       "    this.header = titletext[0];\n",
       "}\n",
       "\n",
       "\n",
       "\n",
       "mpl.figure.prototype._canvas_extra_style = function(canvas_div) {\n",
       "\n",
       "}\n",
       "\n",
       "\n",
       "mpl.figure.prototype._root_extra_style = function(canvas_div) {\n",
       "\n",
       "}\n",
       "\n",
       "mpl.figure.prototype._init_canvas = function() {\n",
       "    var fig = this;\n",
       "\n",
       "    var canvas_div = $('<div/>');\n",
       "\n",
       "    canvas_div.attr('style', 'position: relative; clear: both; outline: 0');\n",
       "\n",
       "    function canvas_keyboard_event(event) {\n",
       "        return fig.key_event(event, event['data']);\n",
       "    }\n",
       "\n",
       "    canvas_div.keydown('key_press', canvas_keyboard_event);\n",
       "    canvas_div.keyup('key_release', canvas_keyboard_event);\n",
       "    this.canvas_div = canvas_div\n",
       "    this._canvas_extra_style(canvas_div)\n",
       "    this.root.append(canvas_div);\n",
       "\n",
       "    var canvas = $('<canvas/>');\n",
       "    canvas.addClass('mpl-canvas');\n",
       "    canvas.attr('style', \"left: 0; top: 0; z-index: 0; outline: 0\")\n",
       "\n",
       "    this.canvas = canvas[0];\n",
       "    this.context = canvas[0].getContext(\"2d\");\n",
       "\n",
       "    var rubberband = $('<canvas/>');\n",
       "    rubberband.attr('style', \"position: absolute; left: 0; top: 0; z-index: 1;\")\n",
       "\n",
       "    var pass_mouse_events = true;\n",
       "\n",
       "    canvas_div.resizable({\n",
       "        start: function(event, ui) {\n",
       "            pass_mouse_events = false;\n",
       "        },\n",
       "        resize: function(event, ui) {\n",
       "            fig.request_resize(ui.size.width, ui.size.height);\n",
       "        },\n",
       "        stop: function(event, ui) {\n",
       "            pass_mouse_events = true;\n",
       "            fig.request_resize(ui.size.width, ui.size.height);\n",
       "        },\n",
       "    });\n",
       "\n",
       "    function mouse_event_fn(event) {\n",
       "        if (pass_mouse_events)\n",
       "            return fig.mouse_event(event, event['data']);\n",
       "    }\n",
       "\n",
       "    rubberband.mousedown('button_press', mouse_event_fn);\n",
       "    rubberband.mouseup('button_release', mouse_event_fn);\n",
       "    // Throttle sequential mouse events to 1 every 20ms.\n",
       "    rubberband.mousemove('motion_notify', mouse_event_fn);\n",
       "\n",
       "    rubberband.mouseenter('figure_enter', mouse_event_fn);\n",
       "    rubberband.mouseleave('figure_leave', mouse_event_fn);\n",
       "\n",
       "    canvas_div.on(\"wheel\", function (event) {\n",
       "        event = event.originalEvent;\n",
       "        event['data'] = 'scroll'\n",
       "        if (event.deltaY < 0) {\n",
       "            event.step = 1;\n",
       "        } else {\n",
       "            event.step = -1;\n",
       "        }\n",
       "        mouse_event_fn(event);\n",
       "    });\n",
       "\n",
       "    canvas_div.append(canvas);\n",
       "    canvas_div.append(rubberband);\n",
       "\n",
       "    this.rubberband = rubberband;\n",
       "    this.rubberband_canvas = rubberband[0];\n",
       "    this.rubberband_context = rubberband[0].getContext(\"2d\");\n",
       "    this.rubberband_context.strokeStyle = \"#000000\";\n",
       "\n",
       "    this._resize_canvas = function(width, height) {\n",
       "        // Keep the size of the canvas, canvas container, and rubber band\n",
       "        // canvas in synch.\n",
       "        canvas_div.css('width', width)\n",
       "        canvas_div.css('height', height)\n",
       "\n",
       "        canvas.attr('width', width);\n",
       "        canvas.attr('height', height);\n",
       "\n",
       "        rubberband.attr('width', width);\n",
       "        rubberband.attr('height', height);\n",
       "    }\n",
       "\n",
       "    // Set the figure to an initial 600x600px, this will subsequently be updated\n",
       "    // upon first draw.\n",
       "    this._resize_canvas(600, 600);\n",
       "\n",
       "    // Disable right mouse context menu.\n",
       "    $(this.rubberband_canvas).bind(\"contextmenu\",function(e){\n",
       "        return false;\n",
       "    });\n",
       "\n",
       "    function set_focus () {\n",
       "        canvas.focus();\n",
       "        canvas_div.focus();\n",
       "    }\n",
       "\n",
       "    window.setTimeout(set_focus, 100);\n",
       "}\n",
       "\n",
       "mpl.figure.prototype._init_toolbar = function() {\n",
       "    var fig = this;\n",
       "\n",
       "    var nav_element = $('<div/>')\n",
       "    nav_element.attr('style', 'width: 100%');\n",
       "    this.root.append(nav_element);\n",
       "\n",
       "    // Define a callback function for later on.\n",
       "    function toolbar_event(event) {\n",
       "        return fig.toolbar_button_onclick(event['data']);\n",
       "    }\n",
       "    function toolbar_mouse_event(event) {\n",
       "        return fig.toolbar_button_onmouseover(event['data']);\n",
       "    }\n",
       "\n",
       "    for(var toolbar_ind in mpl.toolbar_items) {\n",
       "        var name = mpl.toolbar_items[toolbar_ind][0];\n",
       "        var tooltip = mpl.toolbar_items[toolbar_ind][1];\n",
       "        var image = mpl.toolbar_items[toolbar_ind][2];\n",
       "        var method_name = mpl.toolbar_items[toolbar_ind][3];\n",
       "\n",
       "        if (!name) {\n",
       "            // put a spacer in here.\n",
       "            continue;\n",
       "        }\n",
       "        var button = $('<button/>');\n",
       "        button.addClass('ui-button ui-widget ui-state-default ui-corner-all ' +\n",
       "                        'ui-button-icon-only');\n",
       "        button.attr('role', 'button');\n",
       "        button.attr('aria-disabled', 'false');\n",
       "        button.click(method_name, toolbar_event);\n",
       "        button.mouseover(tooltip, toolbar_mouse_event);\n",
       "\n",
       "        var icon_img = $('<span/>');\n",
       "        icon_img.addClass('ui-button-icon-primary ui-icon');\n",
       "        icon_img.addClass(image);\n",
       "        icon_img.addClass('ui-corner-all');\n",
       "\n",
       "        var tooltip_span = $('<span/>');\n",
       "        tooltip_span.addClass('ui-button-text');\n",
       "        tooltip_span.html(tooltip);\n",
       "\n",
       "        button.append(icon_img);\n",
       "        button.append(tooltip_span);\n",
       "\n",
       "        nav_element.append(button);\n",
       "    }\n",
       "\n",
       "    var fmt_picker_span = $('<span/>');\n",
       "\n",
       "    var fmt_picker = $('<select/>');\n",
       "    fmt_picker.addClass('mpl-toolbar-option ui-widget ui-widget-content');\n",
       "    fmt_picker_span.append(fmt_picker);\n",
       "    nav_element.append(fmt_picker_span);\n",
       "    this.format_dropdown = fmt_picker[0];\n",
       "\n",
       "    for (var ind in mpl.extensions) {\n",
       "        var fmt = mpl.extensions[ind];\n",
       "        var option = $(\n",
       "            '<option/>', {selected: fmt === mpl.default_extension}).html(fmt);\n",
       "        fmt_picker.append(option)\n",
       "    }\n",
       "\n",
       "    // Add hover states to the ui-buttons\n",
       "    $( \".ui-button\" ).hover(\n",
       "        function() { $(this).addClass(\"ui-state-hover\");},\n",
       "        function() { $(this).removeClass(\"ui-state-hover\");}\n",
       "    );\n",
       "\n",
       "    var status_bar = $('<span class=\"mpl-message\"/>');\n",
       "    nav_element.append(status_bar);\n",
       "    this.message = status_bar[0];\n",
       "}\n",
       "\n",
       "mpl.figure.prototype.request_resize = function(x_pixels, y_pixels) {\n",
       "    // Request matplotlib to resize the figure. Matplotlib will then trigger a resize in the client,\n",
       "    // which will in turn request a refresh of the image.\n",
       "    this.send_message('resize', {'width': x_pixels, 'height': y_pixels});\n",
       "}\n",
       "\n",
       "mpl.figure.prototype.send_message = function(type, properties) {\n",
       "    properties['type'] = type;\n",
       "    properties['figure_id'] = this.id;\n",
       "    this.ws.send(JSON.stringify(properties));\n",
       "}\n",
       "\n",
       "mpl.figure.prototype.send_draw_message = function() {\n",
       "    if (!this.waiting) {\n",
       "        this.waiting = true;\n",
       "        this.ws.send(JSON.stringify({type: \"draw\", figure_id: this.id}));\n",
       "    }\n",
       "}\n",
       "\n",
       "\n",
       "mpl.figure.prototype.handle_save = function(fig, msg) {\n",
       "    var format_dropdown = fig.format_dropdown;\n",
       "    var format = format_dropdown.options[format_dropdown.selectedIndex].value;\n",
       "    fig.ondownload(fig, format);\n",
       "}\n",
       "\n",
       "\n",
       "mpl.figure.prototype.handle_resize = function(fig, msg) {\n",
       "    var size = msg['size'];\n",
       "    if (size[0] != fig.canvas.width || size[1] != fig.canvas.height) {\n",
       "        fig._resize_canvas(size[0], size[1]);\n",
       "        fig.send_message(\"refresh\", {});\n",
       "    };\n",
       "}\n",
       "\n",
       "mpl.figure.prototype.handle_rubberband = function(fig, msg) {\n",
       "    var x0 = msg['x0'];\n",
       "    var y0 = fig.canvas.height - msg['y0'];\n",
       "    var x1 = msg['x1'];\n",
       "    var y1 = fig.canvas.height - msg['y1'];\n",
       "    x0 = Math.floor(x0) + 0.5;\n",
       "    y0 = Math.floor(y0) + 0.5;\n",
       "    x1 = Math.floor(x1) + 0.5;\n",
       "    y1 = Math.floor(y1) + 0.5;\n",
       "    var min_x = Math.min(x0, x1);\n",
       "    var min_y = Math.min(y0, y1);\n",
       "    var width = Math.abs(x1 - x0);\n",
       "    var height = Math.abs(y1 - y0);\n",
       "\n",
       "    fig.rubberband_context.clearRect(\n",
       "        0, 0, fig.canvas.width, fig.canvas.height);\n",
       "\n",
       "    fig.rubberband_context.strokeRect(min_x, min_y, width, height);\n",
       "}\n",
       "\n",
       "mpl.figure.prototype.handle_figure_label = function(fig, msg) {\n",
       "    // Updates the figure title.\n",
       "    fig.header.textContent = msg['label'];\n",
       "}\n",
       "\n",
       "mpl.figure.prototype.handle_cursor = function(fig, msg) {\n",
       "    var cursor = msg['cursor'];\n",
       "    switch(cursor)\n",
       "    {\n",
       "    case 0:\n",
       "        cursor = 'pointer';\n",
       "        break;\n",
       "    case 1:\n",
       "        cursor = 'default';\n",
       "        break;\n",
       "    case 2:\n",
       "        cursor = 'crosshair';\n",
       "        break;\n",
       "    case 3:\n",
       "        cursor = 'move';\n",
       "        break;\n",
       "    }\n",
       "    fig.rubberband_canvas.style.cursor = cursor;\n",
       "}\n",
       "\n",
       "mpl.figure.prototype.handle_message = function(fig, msg) {\n",
       "    fig.message.textContent = msg['message'];\n",
       "}\n",
       "\n",
       "mpl.figure.prototype.handle_draw = function(fig, msg) {\n",
       "    // Request the server to send over a new figure.\n",
       "    fig.send_draw_message();\n",
       "}\n",
       "\n",
       "mpl.figure.prototype.handle_image_mode = function(fig, msg) {\n",
       "    fig.image_mode = msg['mode'];\n",
       "}\n",
       "\n",
       "mpl.figure.prototype.updated_canvas_event = function() {\n",
       "    // Called whenever the canvas gets updated.\n",
       "    this.send_message(\"ack\", {});\n",
       "}\n",
       "\n",
       "// A function to construct a web socket function for onmessage handling.\n",
       "// Called in the figure constructor.\n",
       "mpl.figure.prototype._make_on_message_function = function(fig) {\n",
       "    return function socket_on_message(evt) {\n",
       "        if (evt.data instanceof Blob) {\n",
       "            /* FIXME: We get \"Resource interpreted as Image but\n",
       "             * transferred with MIME type text/plain:\" errors on\n",
       "             * Chrome.  But how to set the MIME type?  It doesn't seem\n",
       "             * to be part of the websocket stream */\n",
       "            evt.data.type = \"image/png\";\n",
       "\n",
       "            /* Free the memory for the previous frames */\n",
       "            if (fig.imageObj.src) {\n",
       "                (window.URL || window.webkitURL).revokeObjectURL(\n",
       "                    fig.imageObj.src);\n",
       "            }\n",
       "\n",
       "            fig.imageObj.src = (window.URL || window.webkitURL).createObjectURL(\n",
       "                evt.data);\n",
       "            fig.updated_canvas_event();\n",
       "            fig.waiting = false;\n",
       "            return;\n",
       "        }\n",
       "        else if (typeof evt.data === 'string' && evt.data.slice(0, 21) == \"data:image/png;base64\") {\n",
       "            fig.imageObj.src = evt.data;\n",
       "            fig.updated_canvas_event();\n",
       "            fig.waiting = false;\n",
       "            return;\n",
       "        }\n",
       "\n",
       "        var msg = JSON.parse(evt.data);\n",
       "        var msg_type = msg['type'];\n",
       "\n",
       "        // Call the  \"handle_{type}\" callback, which takes\n",
       "        // the figure and JSON message as its only arguments.\n",
       "        try {\n",
       "            var callback = fig[\"handle_\" + msg_type];\n",
       "        } catch (e) {\n",
       "            console.log(\"No handler for the '\" + msg_type + \"' message type: \", msg);\n",
       "            return;\n",
       "        }\n",
       "\n",
       "        if (callback) {\n",
       "            try {\n",
       "                // console.log(\"Handling '\" + msg_type + \"' message: \", msg);\n",
       "                callback(fig, msg);\n",
       "            } catch (e) {\n",
       "                console.log(\"Exception inside the 'handler_\" + msg_type + \"' callback:\", e, e.stack, msg);\n",
       "            }\n",
       "        }\n",
       "    };\n",
       "}\n",
       "\n",
       "// from http://stackoverflow.com/questions/1114465/getting-mouse-location-in-canvas\n",
       "mpl.findpos = function(e) {\n",
       "    //this section is from http://www.quirksmode.org/js/events_properties.html\n",
       "    var targ;\n",
       "    if (!e)\n",
       "        e = window.event;\n",
       "    if (e.target)\n",
       "        targ = e.target;\n",
       "    else if (e.srcElement)\n",
       "        targ = e.srcElement;\n",
       "    if (targ.nodeType == 3) // defeat Safari bug\n",
       "        targ = targ.parentNode;\n",
       "\n",
       "    // jQuery normalizes the pageX and pageY\n",
       "    // pageX,Y are the mouse positions relative to the document\n",
       "    // offset() returns the position of the element relative to the document\n",
       "    var x = e.pageX - $(targ).offset().left;\n",
       "    var y = e.pageY - $(targ).offset().top;\n",
       "\n",
       "    return {\"x\": x, \"y\": y};\n",
       "};\n",
       "\n",
       "/*\n",
       " * return a copy of an object with only non-object keys\n",
       " * we need this to avoid circular references\n",
       " * http://stackoverflow.com/a/24161582/3208463\n",
       " */\n",
       "function simpleKeys (original) {\n",
       "  return Object.keys(original).reduce(function (obj, key) {\n",
       "    if (typeof original[key] !== 'object')\n",
       "        obj[key] = original[key]\n",
       "    return obj;\n",
       "  }, {});\n",
       "}\n",
       "\n",
       "mpl.figure.prototype.mouse_event = function(event, name) {\n",
       "    var canvas_pos = mpl.findpos(event)\n",
       "\n",
       "    if (name === 'button_press')\n",
       "    {\n",
       "        this.canvas.focus();\n",
       "        this.canvas_div.focus();\n",
       "    }\n",
       "\n",
       "    var x = canvas_pos.x;\n",
       "    var y = canvas_pos.y;\n",
       "\n",
       "    this.send_message(name, {x: x, y: y, button: event.button,\n",
       "                             step: event.step,\n",
       "                             guiEvent: simpleKeys(event)});\n",
       "\n",
       "    /* This prevents the web browser from automatically changing to\n",
       "     * the text insertion cursor when the button is pressed.  We want\n",
       "     * to control all of the cursor setting manually through the\n",
       "     * 'cursor' event from matplotlib */\n",
       "    event.preventDefault();\n",
       "    return false;\n",
       "}\n",
       "\n",
       "mpl.figure.prototype._key_event_extra = function(event, name) {\n",
       "    // Handle any extra behaviour associated with a key event\n",
       "}\n",
       "\n",
       "mpl.figure.prototype.key_event = function(event, name) {\n",
       "\n",
       "    // Prevent repeat events\n",
       "    if (name == 'key_press')\n",
       "    {\n",
       "        if (event.which === this._key)\n",
       "            return;\n",
       "        else\n",
       "            this._key = event.which;\n",
       "    }\n",
       "    if (name == 'key_release')\n",
       "        this._key = null;\n",
       "\n",
       "    var value = '';\n",
       "    if (event.ctrlKey && event.which != 17)\n",
       "        value += \"ctrl+\";\n",
       "    if (event.altKey && event.which != 18)\n",
       "        value += \"alt+\";\n",
       "    if (event.shiftKey && event.which != 16)\n",
       "        value += \"shift+\";\n",
       "\n",
       "    value += 'k';\n",
       "    value += event.which.toString();\n",
       "\n",
       "    this._key_event_extra(event, name);\n",
       "\n",
       "    this.send_message(name, {key: value,\n",
       "                             guiEvent: simpleKeys(event)});\n",
       "    return false;\n",
       "}\n",
       "\n",
       "mpl.figure.prototype.toolbar_button_onclick = function(name) {\n",
       "    if (name == 'download') {\n",
       "        this.handle_save(this, null);\n",
       "    } else {\n",
       "        this.send_message(\"toolbar_button\", {name: name});\n",
       "    }\n",
       "};\n",
       "\n",
       "mpl.figure.prototype.toolbar_button_onmouseover = function(tooltip) {\n",
       "    this.message.textContent = tooltip;\n",
       "};\n",
       "mpl.toolbar_items = [[\"Home\", \"Reset original view\", \"fa fa-home icon-home\", \"home\"], [\"Back\", \"Back to  previous view\", \"fa fa-arrow-left icon-arrow-left\", \"back\"], [\"Forward\", \"Forward to next view\", \"fa fa-arrow-right icon-arrow-right\", \"forward\"], [\"\", \"\", \"\", \"\"], [\"Pan\", \"Pan axes with left mouse, zoom with right\", \"fa fa-arrows icon-move\", \"pan\"], [\"Zoom\", \"Zoom to rectangle\", \"fa fa-square-o icon-check-empty\", \"zoom\"], [\"\", \"\", \"\", \"\"], [\"Download\", \"Download plot\", \"fa fa-floppy-o icon-save\", \"download\"]];\n",
       "\n",
       "mpl.extensions = [\"eps\", \"jpeg\", \"pdf\", \"png\", \"ps\", \"raw\", \"svg\", \"tif\"];\n",
       "\n",
       "mpl.default_extension = \"png\";var comm_websocket_adapter = function(comm) {\n",
       "    // Create a \"websocket\"-like object which calls the given IPython comm\n",
       "    // object with the appropriate methods. Currently this is a non binary\n",
       "    // socket, so there is still some room for performance tuning.\n",
       "    var ws = {};\n",
       "\n",
       "    ws.close = function() {\n",
       "        comm.close()\n",
       "    };\n",
       "    ws.send = function(m) {\n",
       "        //console.log('sending', m);\n",
       "        comm.send(m);\n",
       "    };\n",
       "    // Register the callback with on_msg.\n",
       "    comm.on_msg(function(msg) {\n",
       "        //console.log('receiving', msg['content']['data'], msg);\n",
       "        // Pass the mpl event to the overriden (by mpl) onmessage function.\n",
       "        ws.onmessage(msg['content']['data'])\n",
       "    });\n",
       "    return ws;\n",
       "}\n",
       "\n",
       "mpl.mpl_figure_comm = function(comm, msg) {\n",
       "    // This is the function which gets called when the mpl process\n",
       "    // starts-up an IPython Comm through the \"matplotlib\" channel.\n",
       "\n",
       "    var id = msg.content.data.id;\n",
       "    // Get hold of the div created by the display call when the Comm\n",
       "    // socket was opened in Python.\n",
       "    var element = $(\"#\" + id);\n",
       "    var ws_proxy = comm_websocket_adapter(comm)\n",
       "\n",
       "    function ondownload(figure, format) {\n",
       "        window.open(figure.imageObj.src);\n",
       "    }\n",
       "\n",
       "    var fig = new mpl.figure(id, ws_proxy,\n",
       "                           ondownload,\n",
       "                           element.get(0));\n",
       "\n",
       "    // Call onopen now - mpl needs it, as it is assuming we've passed it a real\n",
       "    // web socket which is closed, not our websocket->open comm proxy.\n",
       "    ws_proxy.onopen();\n",
       "\n",
       "    fig.parent_element = element.get(0);\n",
       "    fig.cell_info = mpl.find_output_cell(\"<div id='\" + id + \"'></div>\");\n",
       "    if (!fig.cell_info) {\n",
       "        console.error(\"Failed to find cell for figure\", id, fig);\n",
       "        return;\n",
       "    }\n",
       "\n",
       "    var output_index = fig.cell_info[2]\n",
       "    var cell = fig.cell_info[0];\n",
       "\n",
       "};\n",
       "\n",
       "mpl.figure.prototype.handle_close = function(fig, msg) {\n",
       "    fig.root.unbind('remove')\n",
       "\n",
       "    // Update the output cell to use the data from the current canvas.\n",
       "    fig.push_to_output();\n",
       "    var dataURL = fig.canvas.toDataURL();\n",
       "    // Re-enable the keyboard manager in IPython - without this line, in FF,\n",
       "    // the notebook keyboard shortcuts fail.\n",
       "    IPython.keyboard_manager.enable()\n",
       "    $(fig.parent_element).html('<img src=\"' + dataURL + '\">');\n",
       "    fig.close_ws(fig, msg);\n",
       "}\n",
       "\n",
       "mpl.figure.prototype.close_ws = function(fig, msg){\n",
       "    fig.send_message('closing', msg);\n",
       "    // fig.ws.close()\n",
       "}\n",
       "\n",
       "mpl.figure.prototype.push_to_output = function(remove_interactive) {\n",
       "    // Turn the data on the canvas into data in the output cell.\n",
       "    var dataURL = this.canvas.toDataURL();\n",
       "    this.cell_info[1]['text/html'] = '<img src=\"' + dataURL + '\">';\n",
       "}\n",
       "\n",
       "mpl.figure.prototype.updated_canvas_event = function() {\n",
       "    // Tell IPython that the notebook contents must change.\n",
       "    IPython.notebook.set_dirty(true);\n",
       "    this.send_message(\"ack\", {});\n",
       "    var fig = this;\n",
       "    // Wait a second, then push the new image to the DOM so\n",
       "    // that it is saved nicely (might be nice to debounce this).\n",
       "    setTimeout(function () { fig.push_to_output() }, 1000);\n",
       "}\n",
       "\n",
       "mpl.figure.prototype._init_toolbar = function() {\n",
       "    var fig = this;\n",
       "\n",
       "    var nav_element = $('<div/>')\n",
       "    nav_element.attr('style', 'width: 100%');\n",
       "    this.root.append(nav_element);\n",
       "\n",
       "    // Define a callback function for later on.\n",
       "    function toolbar_event(event) {\n",
       "        return fig.toolbar_button_onclick(event['data']);\n",
       "    }\n",
       "    function toolbar_mouse_event(event) {\n",
       "        return fig.toolbar_button_onmouseover(event['data']);\n",
       "    }\n",
       "\n",
       "    for(var toolbar_ind in mpl.toolbar_items){\n",
       "        var name = mpl.toolbar_items[toolbar_ind][0];\n",
       "        var tooltip = mpl.toolbar_items[toolbar_ind][1];\n",
       "        var image = mpl.toolbar_items[toolbar_ind][2];\n",
       "        var method_name = mpl.toolbar_items[toolbar_ind][3];\n",
       "\n",
       "        if (!name) { continue; };\n",
       "\n",
       "        var button = $('<button class=\"btn btn-default\" href=\"#\" title=\"' + name + '\"><i class=\"fa ' + image + ' fa-lg\"></i></button>');\n",
       "        button.click(method_name, toolbar_event);\n",
       "        button.mouseover(tooltip, toolbar_mouse_event);\n",
       "        nav_element.append(button);\n",
       "    }\n",
       "\n",
       "    // Add the status bar.\n",
       "    var status_bar = $('<span class=\"mpl-message\" style=\"text-align:right; float: right;\"/>');\n",
       "    nav_element.append(status_bar);\n",
       "    this.message = status_bar[0];\n",
       "\n",
       "    // Add the close button to the window.\n",
       "    var buttongrp = $('<div class=\"btn-group inline pull-right\"></div>');\n",
       "    var button = $('<button class=\"btn btn-mini btn-primary\" href=\"#\" title=\"Stop Interaction\"><i class=\"fa fa-power-off icon-remove icon-large\"></i></button>');\n",
       "    button.click(function (evt) { fig.handle_close(fig, {}); } );\n",
       "    button.mouseover('Stop Interaction', toolbar_mouse_event);\n",
       "    buttongrp.append(button);\n",
       "    var titlebar = this.root.find($('.ui-dialog-titlebar'));\n",
       "    titlebar.prepend(buttongrp);\n",
       "}\n",
       "\n",
       "mpl.figure.prototype._root_extra_style = function(el){\n",
       "    var fig = this\n",
       "    el.on(\"remove\", function(){\n",
       "\tfig.close_ws(fig, {});\n",
       "    });\n",
       "}\n",
       "\n",
       "mpl.figure.prototype._canvas_extra_style = function(el){\n",
       "    // this is important to make the div 'focusable\n",
       "    el.attr('tabindex', 0)\n",
       "    // reach out to IPython and tell the keyboard manager to turn it's self\n",
       "    // off when our div gets focus\n",
       "\n",
       "    // location in version 3\n",
       "    if (IPython.notebook.keyboard_manager) {\n",
       "        IPython.notebook.keyboard_manager.register_events(el);\n",
       "    }\n",
       "    else {\n",
       "        // location in version 2\n",
       "        IPython.keyboard_manager.register_events(el);\n",
       "    }\n",
       "\n",
       "}\n",
       "\n",
       "mpl.figure.prototype._key_event_extra = function(event, name) {\n",
       "    var manager = IPython.notebook.keyboard_manager;\n",
       "    if (!manager)\n",
       "        manager = IPython.keyboard_manager;\n",
       "\n",
       "    // Check for shift+enter\n",
       "    if (event.shiftKey && event.which == 13) {\n",
       "        this.canvas_div.blur();\n",
       "        event.shiftKey = false;\n",
       "        // Send a \"J\" for go to next cell\n",
       "        event.which = 74;\n",
       "        event.keyCode = 74;\n",
       "        manager.command_mode();\n",
       "        manager.handle_keydown(event);\n",
       "    }\n",
       "}\n",
       "\n",
       "mpl.figure.prototype.handle_save = function(fig, msg) {\n",
       "    fig.ondownload(fig, null);\n",
       "}\n",
       "\n",
       "\n",
       "mpl.find_output_cell = function(html_output) {\n",
       "    // Return the cell and output element which can be found *uniquely* in the notebook.\n",
       "    // Note - this is a bit hacky, but it is done because the \"notebook_saving.Notebook\"\n",
       "    // IPython event is triggered only after the cells have been serialised, which for\n",
       "    // our purposes (turning an active figure into a static one), is too late.\n",
       "    var cells = IPython.notebook.get_cells();\n",
       "    var ncells = cells.length;\n",
       "    for (var i=0; i<ncells; i++) {\n",
       "        var cell = cells[i];\n",
       "        if (cell.cell_type === 'code'){\n",
       "            for (var j=0; j<cell.output_area.outputs.length; j++) {\n",
       "                var data = cell.output_area.outputs[j];\n",
       "                if (data.data) {\n",
       "                    // IPython >= 3 moved mimebundle to data attribute of output\n",
       "                    data = data.data;\n",
       "                }\n",
       "                if (data['text/html'] == html_output) {\n",
       "                    return [cell, data, j];\n",
       "                }\n",
       "            }\n",
       "        }\n",
       "    }\n",
       "}\n",
       "\n",
       "// Register the function which deals with the matplotlib target/channel.\n",
       "// The kernel may be null if the page has been refreshed.\n",
       "if (IPython.notebook.kernel != null) {\n",
       "    IPython.notebook.kernel.comm_manager.register_target('matplotlib', mpl.mpl_figure_comm);\n",
       "}\n"
      ],
      "text/plain": [
       "<IPython.core.display.Javascript object>"
      ]
     },
     "metadata": {},
     "output_type": "display_data"
    },
    {
     "data": {
      "text/html": [
       "<img src=\"data:image/png;base64,iVBORw0KGgoAAAANSUhEUgAAAoAAAAHgCAYAAAA10dzkAAAgAElEQVR4XuxdB3hW1fn/JYywwx5hbwh77y1DcS9QKwpWbZW/tVo7rIrWParVqq2jrbW1ShW1KkMQZC9ZMkMIe68QZiDz/7wX33hyud+9566PJN97nydPIN+5Z/ze893zu++Mg1yCgCAgCAgCgoAgIAgIAjGFQFxMrVYWKwgIAoKAICAICAKCgCAAIYCyCQQBQUAQEAQEAUFAEIgxBIQAxpjAZbmCgCAgCAgCgoAgIAgIAZQ9IAgIAoKAICAICAKCQIwhIAQwxgQuyxUEBAFBQBAQBAQBQUAIoOwBQUAQEAQEAUFAEBAEYgwBIYAxJnBZriAgCAgCgoAgIAgIAkIAZQ8IAoKAICAICAKCgCAQYwgIAYwxgctyBQFBQBAQBAQBQUAQEAIoe0AQEAQEAUFAEBAEBIEYQ0AIYIwJXJYrCAgCgoAgIAgIAoKAEEDZA4KAICAICAKCgCAgCMQYAkIAY0zgslxBQBAQBAQBQUAQEASEAMoeEAQEAUFAEBAEBAFBIMYQEAIYYwKX5QoCgoAgIAgIAoKAICAEUPaAICAICAKCgCAgCAgCMYaAEMAYE7gsVxAQBAQBQUAQEAQEASGAsgcEAUFAEBAEBAFBQBCIMQSEAMaYwGW5goAgIAgIAoKAICAICAGUPSAICAKCgCAgCAgCgkCMISAEMMYELssVBAQBQUAQEAQEAUFACKDsAUFAEBAEBAFBQBAQBGIMASGAMSZwWa4gIAgIAoKAICAICAJCAGUPCAKCgCAgCAgCgoAgEGMICAGMMYHLcgUBQUAQEAQEAUFAEBACKHtAEBAEBAFBQBAQBASBGENACGCMCVyWKwgIAoKAICAICAKCgBBA2QOCgCAgCAgCgoAgIAjEGAJCAGNM4LJcQUAQEAQEAUFAEBAEhADKHhAEBAFBQBAQBAQBQSDGEBACGGMCl+UKAoKAICAICAKCgCAgBFD2gCAgCAgCgoAgIAgIAjGGgBDAGBO4LFcQEAQEAUFAEBAEBAEhgLIHBAFBQBAQBAQBQUAQiDEEhADGmMBluYKAICAICAKCgCAgCAgBlD0gCAgCgoAgIAgIAoJAjCEgBDDGBC7LFQQEAUFAEBAEBAFBQAig7AFBQBAQBAQBQUAQEARiDAEhgDEmcFmuICAICAKCgCAgCAgCQgBlDwgCgoAgIAgIAoKAIBBjCAgBjDGBy3IFAUFAEBAEBAFBQBAQAih7QBAQBAQBQUAQEAQEgRhDQAhgjAlclisICAKCgCAgCAgCgoAQQNkDgoAgIAgIAoKAICAIxBgCQgBjTOCyXEFAEBAEBAFBQBAQBIQAyh4QBAQBQUAQEAQEAUEgxhAQAhhjApflCgKCgCAgCAgCgoAgIATQ5x7Iz8/P99mF3C4ICAKCgCAgCAgCUUYgLi4upjlQTC8+iL0mBDAIFKUPQUAQEAQEAUEguggIAYwu3iVuNCGAJU6ksiBBQBAQBASBGEBACGAMCDnMJQoBDBNd6VsQEAQEAUFAEAgHASGA4eAaM70KAYwZUctCBQFBQBAQBEoQAkIAS5AwL8ZShABeDNRlTEFAEBAEBAFBwB8CQgD94RfzdwsBjPktIAAIAoKAICAIFEMEhAAWQ6EVpSkLASxK0pC5CAKCgCAgCAgCeggIAdTDSVpFQEAIoGwNQUAQEAQEAUGg+CEgBLD4yaxIzVgIYJESh0xGEBAEBAFBQBDQQkAIoBZM0igSAkIAZW8IAoKAICAICALFDwEhgMVPZkVqxkIAi5Q4ZDKCgCAgCAgCgoAWAkIAtWCSRqIBlD0gCAgCgoAgIAiUHASEAJYcWV6UlYgG8KLALoMKAoKAICAICAK+EBAC6As+uVkIoOwBQUAQEAQEAUGg+CEgBLD4yaxIzVgIYJESh0xGEBAEBAFBQBDQQkAIoBZM0igSAkIAZW8IAoKAICAICALFDwEhgMVPZkVqxkIAi5Q4ZDKCgCAgCAgCgoAWAkIAtWCSRqIBlD0gCAgCgoAgIAiUHASEAJYcWV6UlYgG8KLALoMKAoKAICAICAK+EBAC6As+uVkIoOwBQUAQEAQEAUGg+CEgBLD4yaxIzVgIYJESh0xGEBAEBAFBQBDQQkAIoBZM0igSAkIAZW8IAoKAICAICALFDwEhgMVPZkVqxkIAi5Q4ZDKCgCAgCAgCgoAWAkIAtWCSRqIBlD0gCPhHID8/Hzk5OYiLi0OpUqWM33IJAoKAIHAxEBACeDFQL0FjigawBAlTlhIaAkz8cnNzcfbsWdD/6SpdurRBBNUfIYWhiUE6FgQEAQUBIYCyHXwhIATQF3xycwlHgIheXl4ezpw5U6Dxy87ONjR/9Bn9nDt3zkChbNmyxv+JDKrEMD4+HvQjlyAgCAgCQSIgBDBINGOwLyGAMSh0WbIWAkT8iOzR74yMDFSpUsUgd1lZWYVMv0wAExISCkghk0MaiMgi/RAppB8ig2w+Fm2hliikkSAgCFggIARQtoUvBIQA+oJPbi6BCBB5I+JH5l4mcMeOHUNiYqLxNzIBs1aPflNbuogAWl1MBq1IoVlbyGSxBMIqSxIEBIGAERACGDCgsdadEMBYk7isNxIC7OdHQR6q5o7+nZ6ebmjv6DP6TReRQfYFZA0fEToihU5ETiWFPB/6G2sH2YTMRFM0hbJvBQFBwIyAEEDZE74QEALoCz65uQQgwH5+pMmjf6vkjcy/mZmZhp9fmTJlUKFChQLNIC2d2nNQCJE1ak8/1AeTNy+kkOfBv6kvIoU0ByGFJWDTyRIEgQAQEAIYAIix3IUQwFiWfmyvnbVw7OfHWjYO8CDSR+SPCBxp/tgHkE2+jB61o77KlStn/IkJJWkImRDSb7qYDOr6AbKGkebBJJDnaY5AZs1jbEtVVi8IxA4CQgBjR9ahrFQIYCiwSqdFHAEiZETqVD8/Jn5E8Cjqly7S+JHWjYJAKleuXBAEQp8xETMTQKulMymkcVViSG2ZDKp+hWaTLxFA1gAyKeQ+eTzOTaiajyVXYRHfiDI9QcAHAkIAfYAntxraivMJzeQSBGIAATs/PyKERPyIoJUvX94I6mAiRkEgkQggRQUTsWMNoC6MKilUiaEVKWQTNJHRSAST/s59MpmlvzEhNEcg685T2gkCgkDRREAIYNGUS7GZlRDAYiMqmagPBIgYEbEjkmfn50ekj8ifOW8faQArVqxokCkifHQxOfRKACMROZ6rmRSyhk81IzsFh5gjkJkYSq5CH5tJbhUEiggCQgCLiCCK6zSEABZXycm8dRBgjRgRPw7OYNLEARxkXuUADyJGVle0CGAkUsg+gDR3JoasKbQKNrHDJlJaGvo7m5m5solTNLOODKSNICAIhIOAEMBwcI2ZXoUAxoyoY26haiJn1tiZ/fzo/+znZwfQxSSANC/VB5D+zyTO7FPI2k2rYBMnUkjRzJzORsVLchXG3FdHFlxMEBACWEwEVVSnKQSwqEpG5uUVAV0/PyJ+VL7NyYxK81AJoJouhj4jEzD7DXqds9N9ZgIYqb0adczBJrqkkBNcEyYqyVTdhCVXoZOk5HNBIHoICAGMHtYlciQhgCVSrDG5KCZ+nKDZnM+PAjyIrFGwBvn56RA/BvL48ePGPWQqLsoE0Erwqk8hawzV/IKsLSRsyATMBDBSX6oJmTWqaiJsDjaRtDQx+TWURUcRASGAUQS7JA4lBLAkSjW21sR+flaJnOkz0p6RdouIDZG4SH5+dqgVBQJI87YjZ26kHokUUh9MCN0ksKb7iFyytpDJtVWwiRvi7WZN0lYQiDUEhADGmsQDXq8QwIABle6iioDq52dO5EwaLdL6kSZKx8/PKwEk4klBJkQuw7o4IXVQBNBqnoyVWtHEbwJrc65CNiFTtLVKNIUUhrVzpN+SjIAQwJIs3SisTQhgFECWIQJHIFIiZxqIEzkT2SBSpuvnp0MAqS8ilmxC5fFKAgG0IplqrkK7BNaccNqOyLGJnuTDMmGNoeQqDPwrIh3GAAJCAGNAyGEuUQhgmOhK30EjYBfgQQSFSAwRNCJ+5OsXlGbpxIkTRmJo+oklAmglPzcJrM1+gFbaUslVGPS3RPqLFQSEAMaKpENapxDAkICVbgNFwC6Rs9nPj8y95kTOficjBNAeQSdSyOXuOAiFZGR3RcpVqAabSK5Cv7ta7i/uCAgBLO4SvMjzFwJ4kQUgwzsSATb3WiVyphJpbLokUkGmxDAuJwJImi0nUuNnXuYULX76inRv0H6GTOJU0zHXXlbrHqvBJl5JoeQqDGNHSJ9FHQEhgEVdQkV8fkIAi7iAYnh6RPiI4LG/nZrWRfXz4wCPoMy9VpALAQxmI5L5nPwlyQdQJYYcHOKnqgnPkIknp7RxUzovmFVKL4JAdBAQAhgdnEvsKEIAS6xoi+3CVD8/SsBcpUqVAs0ekQaKViUSQT5+Qfr52QF28uRJIwcgjWflAygaQL3tZucDGGRVE9ojJC/2QeSXCHOwieQq1JObtCqaCAgBLJpyKTazEgJYbERV4idq5edHBLBy5crGQU4mStIIUiAGBXkE7eenSwCJxLA5mu4hMkqkUEzAzlvUTcocu6om7FOompLV0YkAkpaRXQI42lhyFTrLSFoUHwSEABYfWRXJmQoBLJJiialJcQABESmzn196enpB5C0d5kSyvCRy9gsoawBJq0Tkgi42LZJWUjSAegi7IYBWPTpVNWFiSD6T9KJA8op0MSk05yokVwLVp5D7DNPFQA89aSUIFEZACKDsCF8ICAH0BZ/c7BMBNZEzdcV+fnQoE1k4depUQSLnMJMgOy2DfABZ28daJdZQ8b1ENnSrZziNZ/68OAaBWK0xjLrJTOBUn0JzAmtduZhJIZe6o7VIrkK3u1bah42AEMCwES7h/QsBLOECLqLLs8vnR5pA0rJxxGjFihUDK4HmFg6aJ5GW06dPG0S0UqVKRlAKayqZqBJZJZKhkkK3JdXs5iYE0J3k6MWBNIDm9DTUixoUopPAmu6xylXIJJPGYXLIJml3s5XWgoA3BIQAesNN7voBASGAshWiiYAd8aMDlf38OMCDTK9czSOa82RtHxE/DiAgDR+ZoK18AMk3kYgqkwUmgubqGV5JoRBAd9InudEeUt0FVDJoV9WESZyTyZdkTC8qNA5frMFmQii5Ct3JTVq7Q0AIoDu8pLUJASGAsiWigQAfvkSe1LQuTJiI4BD5Y5LFB/fx48ejTgD5YCfNHx3uRECJUNCc6N9OBNAKTzvyoUMKSxIBJHxV0hTG/rMigE5yUaOQqa05JY05YphkSuMQ8WeyaJfAWnIVhiHp2O5TCGBsy9/36oUA+oZQOnBAQPXz44OSfauIZBHxo/9zPj+1u2gSQDq8mYiSvyGRPSaiZFL0QwCdyIeTppA0jDR+mH6QQSeCtlozyTsaBJDkpcrPzZdUJ4E1m45pv6gEMJKcuU/+nPMemoNNJC2NG0lJWyGAsgd8ISAE0Bd8crMNAlzBg3351ETOqp8fET8iNlYmNzUBc1hgsx8fmfMiEVHS9PBnZg0grY+JgN852mkK1TJoTBSczJRu5iMEMDJaTOBULaG6r620uHbYW/kUSq5CN7tV2hICQgBlH/hCQAigL/jkZgsEnPz8iGip5lU7EhM2AdQlotEigJE0SEQwWWtkFWiipirxSgpLGgEMoya0Kh8igIQZBYGoOQuZyFkFmziRQvrcKlch/Z3zGuqWzpOHU8lHQAhgyZdxqCsUAhgqvDHVOedoI1Jl5edHhyURGbN51Q4ktQJHkGBaBZzYJZZWCSCtj364fZAawEhrJNyI2BHZoEvHp9AtKRQC6G6Hsa8oRYarl24CazYj65BC2n/0veE9J7kK3cmqpLYWAlhSJRuldQkBjBLQJXgYJiNWiZw5jQpp/ejwIn8pzqOnA0nQBJDmQ/50RHbcJJYuagQwkqbQKfrYjhQKAdTZkT+2iUQAI8lG9fOkf/NLkrmqieoqwWSf9h9rNOk+9SVAchW6k1tJai0EsCRJ8yKsRQjgRQC9BA1p5+dHvnJE/OjA4lQubs2TQRJAMjtzFQ/2O9QVBa+DCKyVBpDIk1kTpNu3TjuzBlDnHreaQhqDSHGYgSbRDAKJlgnYq9xZY66SdpUUqmSd9pebYBPuh36bo48lV6Hut6fotxMCWPRlVKRnKASwSIunyE7Ozs+PtBtEmIgAEvGjlB9uiR8vXI2+9QoGz4eIG82HzKhu51NcCaBbTSEHmrg1H+vKhrSvtHfCTAPD6VmiQQCDCv5h/FibblXVRNUUek1gTeOYcxUS6Q8jqEh3T0g77wgIAfSOndx53pfovD1BLkFAAwEmfqoJi8kUaTLoQOQ6rES27PzqNIYzSsFx+hWd9mqbIOdzsQkgESe62AfQLRZO7UmunI6H5BlWoIkQQCdJXPg5B5uQZlb1L6SWQZNC6o8IISeyNpuj3c9e7ggTASGAYaIbA30LAYwBIQewRCc/P/arI7JGmhc3fn5201N973SXofodBjUfOwLoxhdMdw3mdmETQBqP/SIpGTddYQSaRJMAOplMvcqC74tG8A+NZbW/VNlYJbBWI5B1cgtyWhp6eWOTMUedS65CvzslvPuFAIaHbUz0LAQwJsTsa5FqImfqSNUKqH5+nMjZrXk1SAIY1nyIHNGBT/5eZh/AkkoAreRiRwp1tFHRILJsAg6bANI+UEsA+vqS2dysu7+cSKFVsIl5WPUlgEkh/+ZgEzUfJZuPdUhmWPjEcr9CAGNZ+gGsXQhgACCW0C7owU+EyiqRs+pXx3V7gyR+DKmqebODmc1kFGTg1+/QahwhgJHRd0MKST5qOpswvjrRJIC0HnrxCfPive0l2ITJmzkCmebLwSAqMeRyjKwFNq+LPYaschVaBZuE8UwIE+vi1rcQwOImsSI2XyGARUwgRWA6dgEeav488kcLws/PbslOBJB91zi/YFiO/yWNAGZlncGD/3wHa09nY8r4e1AzscIFJmA/W9GOFIYdaFISCWCQwSZMClXTsUro2A9QDQSy2wtMClnm3FZyFfr5BundKwRQDydpFQEBIYCyNRgBJn6cDkQ19dJnXvLn+UU3EgFkPz8OXHCbX9DtvHQIYJgmR7+mUzrg162biVmzPsDcuUuwYsUhnL3hDuT95Drgn5motqoRuvVJxy1X1sA1g1oiPj7OLUSO7XkP0W9zoImO+dhxgB8asMk0THnQUGQCjpYGMEgCaIUjk0L6vpFZl8kcy8prVRPuR3IV6u5ed+2EALrDS1qbEBACKFuCH/5k7qUfirytWrWqcUizGZjr5HI+v2ihphIvHlO3fFuQc6QDmLCpXLmyYRKnf3OEczQIhxcCuHPnGsyc+Q/MnfstlizZhZMn89C1a3UMHNgTw4ePQbduV+GZ1Hl48URZJG1ORdY7vXFkU3vElzuFxl1SMfySPNx5TVO0blQ9MCjN63DyW1Nr7OpGpEZDHgQIf1/CNgFHy9eQ1kRBV+TSQbjTpVvVRDe3oGqSpr1AzxP6m+Qq9PYVEwLoDTe56wcEhADG9lYwJ3Km/1P93erVqxsaDiJ+RHi85s/zi65KAPlg160j7Hds9f7iQAAzMvbjm2/+hjlzpmPx4lTs2HEObdtWQP/+HXDJJVdj4MBbUb58lQtgeW/HcvziwGl0z9uPj9pejsmzd+PTaaexYVkSMve0QvmGm9Gxz35cN7oSxo1qiQrlzkcJe7l0iKxfUqgbNOFl/uo9RAA5t6Tfvuzuj5am0YoAWs2L5GNX1UTV5kYi7apfoznYhMaUXIV6O0oIoB5O0ioCAkIAY3NrRPLzowfz8ePHjWoQTLRII+A3n59XlIl40TzIKZ0d1EnjwhoKr/26vY8JII1NWhIiGapZTKdSg9sx1fZWxIn8+BYs+ADffPMpFi5ci/XrTyIpqQz69WuBIUNGYvjwCahZs4nWsDMPbMKYbTvROC8di3tfjwqlyxr3bdxxFG9P2Y7Zc0pj1+o2yM9OQJ12G9Bv0BmMvyYJgzo30OqfG+kQwEikw0obRW3N5mP2C/USNOFmMSWRAJL2n1723H6/mLRbJbBWtbgcLcw5OslMH0neKjFUSaFZW6irGXYj2+LSVghgcZFUEZ2nEMAiKpiQpsVv76RVYP8ejtRTAyqIcF0MoqUum535iQByPr9I0YkhwVXQLRE8Ii90cHGpNFUTYkVEgjyYeOyUlDmYOfMDzJ+/DCtWHEZCQhx6926AwYMHYsSI29CiRW/PUCw7sBWXp61HZZzFsh6XoVZC5UJ95eTm4bP52/Dhl0fx3cLqOL6lPUpX24eW3bdj9MjSuPPqFqhXo5Lt+F5L2rklhdSe9kpYFU2of9qXrB33DLrGjdEyNdNUiAAGFUhlFwhEcqHvEgWSealqwrDRGCxjTl7N5uhYiEAWAqjxBZImkREQAhgbu4MfxkT86MFrDvCgw4wDKuhQIx/Ai6X1I4mw+Zl+0wFRpUoV1+XbgpAsB5twDWHyASTsrHwAiRiaSaGV87ybg2nnztX4+msy687F0qV7cOZMHrp1q4GBA3th+PCx6NLlcpQqVTqIpRryP5B1CgPXzUMO4jG/U3+0rFw7Yt8H00/jnS+2YOqMHKR+1wTZ6fVRpfkGdOt3FDddWR3XD26O0qXiC90fJAGMRArZZ44IIGukwiDo0SSA0TA18wtXUATQjrSz9pSJoFk+uiTObD6OtVyFQgADefTFbidCAEu+7O0SOZsDKujQzMjIuGgE0JxmhggUHbREAKN9ETZk7qVDhnCh/ycmJl4QBMIHpxp1aqf9sDKJMSlMT9+Nb775B+bMmYFFi1Kxe3cWkpMrol+/9hg8+AoMHXq7pR9fENhwEuDT+dnovfwLHI6vjC9btUXfms20ul+4bi/+8dleLJhbAQfWJSOudBYadk7B0GHZ+Ok1TdCxeS2jTGDYeQDNefN0fQp1SQeDQfuS9muYdY2jqWm02sdagvfQSNVqOslHJ4G1OgXqjy5ObcOuA/QdVquckLazdu3ILzgelhX1W4QARh3ykjWgEMCSJU/zg5CrVtDfVa2fmjiZDjDy++G352PHjhlEx60fkB8k6aFtlWaG/kY/0SSAKgllbOiw53mYo4B1NSdWpDAz8wSWLp2MuXO/wuLF67Fhw2k0aEB+fC0xbNilGDbsdtSo0dgYm+4Pk2yoVSCycnMwaNnH2BRXC39vVAvX1u/kSrxnzmbjg5lp+GTqCXy/pC7O7GyLcklpaNtjF64cWQ53Xt0WVSomuOpTt7FOiTYn0qFTSi2aBDAaRDNa0dMkRyf/Sdbs2SWwVmVkp1VnsskRx7TObdu24dFHH8W0adN0t1WRbCcEsEiKpfhMSghg8ZGV7kw5wIMennZ+fmSytHL4Tk9PjyoBNJdvYx871n4QMSFCGvYViYTSuCoR9UoAWSuxevWXmDXrQ8ybtxyrVh1B+fLxhh/fgAEDMHTozWjYsItBxlXNBxF5uqJFAHmu162cgtl5dfBMjXhMbNHfswjS9h7D259uw9ezgJ2rWiMvswpqJq9H7wEncfvVdXFJ90aB5R7UIYBWC3FLCokAhk3K+TtQ0gigF/M5k0I1gTVXKbKqasKk0GqsVatW4c0338TkyZM97+micKMQwKIghWI8ByGAxVh4pqnzAUaEyor40YOQfNk4oIKcpq0u0gCSr1ukz4NCTC0nFynNDPsmhk0AVRJKplxzsIk6D7cEcPv27zBjxnuYN2+e4ceXmUn5+Gpi0KCeGDHiFnTuPLqQvyXLkbUfTOQJd5KdOTdeUPJQNYBqnxO//wrvn6uGeyqcxHPtR/kajkzAQBxmrdyHf//vEJYtSET65g4oVfkImndLw6jhcbjz2uZoXMc74fdKACORQtWvU/UpZIJBLyxuzcduQIyG9pcJPz0fwo6eDpLUWpFCNv1yJRJuw1YOGn/+/Pn47LPP8O6777oRRZFrKwSwyImkeE1ICGDxklek2ap+fnww8W+V3HAiZzuTSdgEkB7IRDaIDDiVk2PSSkEpYVy6NYRVAkhY0//VIBk1evLo0Z345pu/Y86cr7Fo0Rbs2ZON9u0roX//jrjkkmvRv//NKFfOPlrWvFbCisYlUs4aECb5bqs0RMIxEgGk9s9unoNnj5fBVaUP419dr/UsCloH4aZqedNPZOJvX27BFzPOYdOyRsg61ASVmm5E576HcOPoRNw8vCXKljmfmFjnCpIA2pFCJmZMnui32V+N057ozDtSG6+pc9yOGTZu6nzCXpOaMohfiGn8jz/+GLNmzUJSUhLI0vHGG2+49gOcNGmSQRwpX2q3bt2MPtq1a2cJ94oVK/DrX/8aa9asMb67pOV/5ZVX0KhRI7fisWwvBDAQGGO3EyGAxVv25kTOZj8/eqOnByARPzIf6kSgUhCIlRbML1JqRK2TFpLHorlTIEbQBJDmQmSESA+REafIRzsCSH58RPgWLJiGhQvXYePG02jUqCz69m2FoUNHYfjwO1CtWn1f8Fn5m1lppsykkMmhjtztCCBN/v2d3+H/9p9CdxzErJ43eooStyKAZmC+SzmAv3++G3PnJGDf98nGx0kdN2LQkHO449qG6NGmri2W0aqcoZIYs89apOhjL5rCsMkSg1mSCKC6QTjwiL7n69atw8yZM7FkyRKsXLnSIIENGjRA165dceWVV+KOO+6w3VsvvvgiXn/9dUyfPh3NmzfHE088gffffx+pqanGM0S9aE/UrVsXt9xyC1544QXDjWTChAnYs2cPFi1a5Ot5wDcLAQwExtjtRAhg8ZQ9+/mxb5hK/DjJqo6GzWr1lAg66JJvZj8/MrHqkJKgCSDhxnOh8XVrCKsEMDs7C0uXTsHs2f/F/Pnkx3cUFSvGo0+fhhg8eAhGjhyPxo27BLqxdAMOIpXusvOR4ok6EUBq983BFNywdQca5h/D0l7XFSSM1l2sDgFU+8rKzsVHs9Mw+csMrF5cG6e2J6NsrR1o02sXriBGDX4AACAASURBVByVgAlXtEDNxMIHb7QqZzhFNAdFCp3G0cXeqV20iDPNw+0+cJq73edWY5EGj9Z71113Gdo58gkkNxMiaHZXs2bN8MADD2DixIlGMyLN9erVM7R6RPTUi16ka9SoYfTfoUMH46OpU6fixhtvNF5qg7iEAAaBYgz3IQSweAmftT6REjlzJK2uhi1sAqiWb3OjheR50TpPnjyJatWq+RYUPazpwUu/6W2dNAI6JJQGTklZiKlT38GCBYsNP75z5/LRvXstIx8f+fE1bz7A8J0KK3eiLgG0AolJoepTSO2YFLKWkPYOEXOnZNtrM/bikg0rUDH/HJZ2G4U6FuXlIgnL78G/8+BxvPv5NkyfmYetK5oj92QtVGu9Hr36Z+CWq2rhir5NkZeXa5jow67R64WYeSGFfjHT/eJEizjTfOhlg/ad6gqgO0+37azGIsJWp04d3H333drdkcmXLBGkPezVq1fBfSNHjjQI3ksvvXRBX/fdd5/hj80awDvvvNN4uSatYRCXEMAgUIzhPoQAFg/hc2CAVSJnWgFrqKgdHXy6Gjar1dODjnzz6Mfr5dbEGmmcIAigG59Dnsfhw9sxY8Y7mD2b8vFtwb595MdXGYMGdcHw4dehV68bCvnxeS2hpYuvHwJoHsMumpId551SbOw+k45+q2YjC6Uxr2NftK5SR2spQR78eXn5mL1yN/75+X4smV8Zhze2R3z5E2jcJRVDh2Tj3jGt0KK+/xeHsMgs9+tECulz9psMwqcw0nqiWXFER9ustaE0GlmN9eSTT6JLly646aabNHo434RMt+S7t2nTJrRu3brgvrFjxxppqt5+++0L+qJgk5/97GfYsmWLQQQ7d+5smI9r1aqlPa5dQyGAgcAYu50IASz6stfx8+NKAUTadLVakVbuhwCaTaxMRr2izLWJq1ev7roLNz6H5Mc3Z84/MHPmp1iwYB1SUs6gSZME9OvXBsOHj8aQIbejTJkqhgYgUhCIlxqquosKkgBajckkWa3VqqbYsMqLdyIrE72Xf46D8VXwecvWGFCrheNygiSA5sFOnD6H96ZtwWfTTmPD0gY4u68lKjTahI59DuD6yyrjJ6NaokK5Mo5z1G0QpmZOJYUke7rob3SZNbdBkUKn3Hy6uOi0I99kHW2zTl9ObWgs0jSqWQ1+85vf4NJLL8UVV1zhdHvB5241gGlpaUZwyGuvvWaYlukZ/dxzz+GDDz4wfBHpeeH3EgLoF8EYv18IYNHdAE5+flyf1imS1u0KyeRKD2e3OefMVUXcmFgjzdErAVSreFhpRHNzc7B8+RTMmHE+H9/q1emoXDkeffs2xrBhl2DUqAmF/PhUX8SSSAAJf7OmxEkzRaQwD/m4ZOVn2BBfG+80qIEbGnS23W5hEkAemDVZ2w6ewTuf7sDs2aWxe3Ub5OeURZ32GzFg8BlMuLY++nfwF5gTjbWociECYxX4ExQpjDYBNJMyt88p3fbk9kHPSJUA3nPPPSBz7MCBA3W7MdpZ+QBSRPHLL798gQ/gp59+agSVUFYFvujZSr6Gy5YtQ48ePVyNbdVYCKBvCGO7AyGARU/+Tn5+pHmgH3qgEbkJumIHmTOpT903VKvKGX61kCwVJoDkA6jTp91cNm9eiOnT/4G5c+djyZI9yM7OR8+edTBoUF+MGnUrOnUaFdGHTzVFWxFAOmSIMActC8YhbA2gFQG0+mawK4LqV0jYjNs4DXPikjApMRf3Ne9v4KAGJnFf0SBNVqbMnNw8TJm3FR9+kY4VC2vgRFp7lKmxBy2778DlI0vjzqtbok71iq4eBtEyY9qN40TS3ZRRi8YeY4CtSJkr8F00tvpu3nbbbXjkkUeM6F83F/n5URQwBXMQGXzqqacMf77Nmzdf4HO6a9cutG3bFq+++irGjx9vBJ89//zzBlmkz4LIbSoE0I30pO0FCAgBLDqbws7PL2jTqt2qdQkg+/mFSUaJaFA0nRMBpLmYS8kdPrwNX3/9LmbPpnx8aThwIAcdO1bBgAFdMGrUjRgw4BaUKVNOawMIAYwME+/bX6ybivezauCOsul4ssUQ4wZz3WPaK2Gb/nQ0WfuPnsLf/peGr77OQep3TZFzLAmJLdaje/90jL2iOq4b1BylS8Xb7o1oEUC35lIzKeS8kbQYO/NxtAlgmC9MquCs/HOvvfZa/OUvf0GLFs5uC+ZN8Pjjj+Ott94ygtO6d+9ekAdw9+7dSE5OxowZM9CvXz/jtm+++QaPPfYYUlJSjBciChYh0ti/v/eqOup8hABqPb6lUSQEhAAWjb2hJnKmGanaE9W0GqliRpCroDdmGt8uipITNHM7p8hRr/PTIYCc1uX06WNYvvwTzJnzBebPX4/U1DNo1oz8+Npi+PDLMXz4T5GYaJ9DLtI8hQDqSfCFzXPxVEYpjC59CP/ufHVB0mrWGDIJUSuaBB05rUMAzatZ8P1e/P2zvVg4rwIOrm+HuDLn0LBzCnr1P4Mb+p7CqMEjLgAgmgTQr7lUhxSyj6FuvlC9HWHdKuygKR6V1kTPM3Oez+HDh+OLL75wnQTaz5rDuFcIYBioxlCfQgAvrrBZs8cO9+Z8fuznRw9l+gn6sLRavR0B1CnfFiSihA/50FDwhXntWVnnsGDBB5g162MsXrwGa9ZQu1Lo27cJhg4dhksv/SkaNuwYyHSEAOrD+MGulbhn33F0zT+EWb1uQOn481U81EAT+j+TQnPdY9ZS6Y9YuKUXAqj2cOZsNv49Yws+mXYS25Y1RPOkFEz9Rz2Urtu20EBuNXNe12MVxOC1L/U+Mynk1FJM0t2Yj93OR62c4/ZeN+2ZAFK+T9WFpE+fPvjuu++03VzcjBnNtkIAo4l2CRxLCODFESoHeNCDkHz51LQtagoV+nsYfn52q6YDh+ZAD02+VN+6oINO7OZiJoApKfMwbdo/8O2387Fs2X7k5pIfX10MGdIPo0aNQ/v2w0MhyWowSiQfQLOjeZA7y6qgfZD9U19BarTmHNqM69O2oX5+BpYpCaOtAk3YRGkucacSEPYp1FmzXwLIY2zKzESvjRvw9ba7UaPUPrQYuQHxFX+MRg+LmJnXGC1/ufN1mmFEzHLOSF3zsY5cuE0krZybPnTbch5SlQDS+BSAQelcovFCrTtXL+2EAHpBTe4pQEAIYHQ3A/tLcX1K8iMhzR6RB05bQodk2KZVJwJID05KbKz61vlJLu0V5f37N+Pzz/+MRYvmY/HibTh06LwfX79+nTBy5I0YNOhWbT8+r3Og+1QCyBUTiLizViHsQ7q4EUDCbP3xfRi2fjnK52dh2Q8Jo3VIphrp6qXucVBYDdm0CbuysrClZWNsnZ6MMtmJaHzDOsSVKm1spWgSwGj4y0VKa6NjPnbKG6l+9yJp5fx8PyPdywSQnmUqASUCyH55YYwbrT6FAEYL6RI6jhDA6AlW9fNj4kAEkP176EDxUqUi6BXQIU3zIFLK2kC/yaV153jqVDpmz/4bZs36AgsXkh9fJpo3Jz++ZAwcONII3KhVq6ExN52oYN1xndoxASRNAmNC97C5kkghydFPAm67OQRFauzG0CFnTjiZP9975hj6rPrGSBj9bcc+aFImsUDj7aYvq/Qn9DdOXK1qC+nliuSlG8VuNY/NmZnosXEj/tq4MW6uWRM5Bzdj86o+qHGiG+qOmWXcEjbp53mFHWHO47iJ0PZDCq20cm72gpu2tA9oXWYC2LNnT0MDGM1niJt567YVAqiLlLSzREAIYPgbwy6RMyUX5cON3vLp0LrYDyUiOBRRS/PyUr7NDaI5OVlYvHgyZs6cjHnzVmDNmgxUr05+fE2NfHwjR96BihXP52uLpunZvAYiYGSuJ6JBcmLywRoqIh18hZGot7gSQMLkVPZZ9Fr2GfbHJ+Kjho0wpG5rx3JzOnsoUt1j/v4QGWfNlNvvFGv/tnbqVDCVc5tmIuXQDWh04ieodsUbUSOA0QqY8PsCoEsKCVB6vqikTEfeXtoQASTNpurOQmMPGTLESMZc3C8hgMVdghd5/kIAwxMA+/mRdoguNcCDHeLp4USHVOXKlS+6P4o6J5or5akK2keGDu1Nm+Zi+vR/Yu7cBYYfH43bs2c9DBnSH5deejuSk4cYWHGkMfsj+ilN51XKqu8j9UHBKHTR3FRsOCCAZKnW3KX76bLyZ3NDSoozAaT15+TlYsiy/2JtXG38pW4ibm7S3atIbO9j/0ySAWFO/6f944aUs/bvL40b45aaNQuNd3rha0iNewSt8p8BuowPNfcjDxytgAm/BNBKMEwKzX6e/J0IM9DE2Hc5ORfUhT5y5IiRtHnx4sWh7MFodioEMJpol8CxhAAGL1TW6HFUnZn4MbFhx3b2rQt+Jno9su8hkRiaC/m20dypvmUQ1759KZg+/W3MmTMLixZtw9GjuejUqSoGDuxm+PH163cTSpcuWzAUp72hQ4NMz3QA0lzUTP5BzMuuD9X3kcYlrR+Z6ykfIeNlJoBWqTrY51M9AJkUmnPk2ZHt4k4AGevrlk3GLNTD49WBB1q6q8KgK3M1n50XAjJ00yZsz8rCdkX7p4597Mt7savKv9Gkyvuo1PHy0JJ/05jRDJiIVlQzfb/pxZe+U+rLUhik0Cop+LZt2/DQQw9h5syZuluqyLYTAlhkRVM8JiYEMDg58WFPDzg65M2VEDhfHZtWiTDQWzdruIKbiX5Pask0MvfSnOgApQe010z1J08ewTffsB/fBqSlnUWLFuXQv387jBhxJYYNuwOVKxfWrNCMVW2bag6nRNBkwgkr16AZLasyciQjTkhN7QkjVYPnJiCA94kaacn7JVLka1CRrXY7IwwNkHk8wul3W2bjH+eq447yGXilw2j9zarZkt0XIpUytDNVbsvORv9t2/BqgwYYV7OmoTm00tQe+OgSHE1chRadFiIhKVlzZu6bRZsA+s03qLNCDqJSzbJeiLrOWFbfm7Vr1xrVOKZMmaLTRZFuIwSwSIun6E9OCGAwMrLz8+PcefQwMvvUWaVcCWZG9r2wIzYRGbPvIf2NyIAuASQ/voUL/4OZM/+LefNWYu3a46hRoxT69WuOYcOGY9SoO5GU1CbihMzaNnPam2gRwEgElMmpEwH0U+HCTAppz6hBDnxAhukjGi0CSCTj1W2L8MSxeFxa6hAmd78u0C3vRACtBmN8h6ekYGtWFja2amW8kLBWStXWGoQwLxc7JrdDdsJJtLh0I+IrnHcNCPpiAmjOYxf0ONRftIJarMyydjLxYz620pwvWrQIH330Ed57770wYIxqn0IAowp3yRtMCKA/mdr5+dGDi+v2Rgpg4IjbaDhE00ppvjQnGpcOYiIU5vq1RFTpMGB/NzNCtK4NG2Zjxox/4ttvF2H58v2GlqRXr3oYPHgARo++Ha1bD9LyH1S1opG0fGETQCcCyrhxQmr2TzRrAP0QwEgHIGsJWavMhCQM36loEkAyq/9n10r8fN9xdMo/iDm9bixIGO3vG3k+wIAutz6jaWfPouuGDXitUSPcXquW8V1hdw6VhLAMck4exYFFPZFwrjoa3rgW8aXOJ7wO8opmxGy0oo2tzLK6mLnVFNJYhKGqDaZSbfPnz8ef//xn3WGLbDshgEVWNMVjYkIAvcmJiZ+qqWFCoBIKp9x5RMboIUVBIGFeNCcmW045Bq0I4J496zFjxrv45ptZWLJkB9LTc9GlSzUMGtQdI0aMQZ8+Nxby43NaC6dnoDd0p0jj48ePG22IsAZ9WZl7rUx+hF+0CaC6Vj406SCLpBFRc7FFMl3a4RdtAkhz+fZQKq5LS0NS3nEs7XUNKmnWZrZbh1cCSNq/LWfPYkfnzhG7V306DU3j4VTs3DwM1dO7o9o1XxQK9jG7gHjZu9EkgNGKNg7ancGOFBLmJAd6dvCL5LRp05CWloann37ai0iK1D1CAIuUOIrfZIQAupMZHwCcyNn8kGfzKbXTyZ1Hhwj9BBVwYbUatZYwzYkehnYRqNT+vSmrUTH/a8ybOxULF27Ctm1n0apVefTv3x7Dh1+JoUPHW/rxOaFp1kCaa3Ra3R8GAbQz91rNwYkAhk2eIh2aTloqs+nSTu5hr4FwtfKV3Hh8P4asW4ZyyMbSbiNQr3yi0zay/dwLAWTt36uNGmF8rVqO46u+eVmbpiPlyE1oeHwcKo54qaDEHXViDvRxSwqtEhk7Ts5jg2hFG0cjoIm/F1zdhHCfNGkS3nnnHbRo0cJ43t52223o1q0bOnXqpJ0zkvp49913Qem76N433ngD7dq1i4g4mZnJ35ACT8jKM3bsWPzpT3/yKKELbxMCGBiUsdmREEB9uVslcuYD1WuNXDqs/ARc2M3eLcnhvowI4KqDgbz96Nq1Ee64owdGjfop6tVrpQ+WqaUbDaR5EHrYkjnPrUkvEpEjzJns6JbZK6oEMNIaOUeeGmhiRUisUtmEGWwTKVhmf+Zx9F75Nc6iLL7t0AvJifU87zUvBHBESgpSHbR/6oTMvnmn5r+CLaUmoVXc86jY9+eG6dgc+W0V6ONU99gqkbFnYGxujGawiRqlHcZa1D7V6iaE/65duwwSuHnzZuMleOXKlYZmn6KCn332WdvpvPjii3j99dcxffp0NG/eHE888QTef/99pKamGi/75uuPf/wj3nzzTfzrX/9C7969jRd9GrezjYbZLR5CAN0iJu0LISAE0HlDMHmhhzFd6lu8SrK8JCp2G3DhPNvzfn5eSA73/e2GDbi0xwAMGbkHc2dUBVmnn346B3feed4p3u3llRzzOEERQLO5161JOT09vSA3ojkKOGztmV+zmQ4hoTGI/LnFxc1+sIuWpoTRvZd9hn3xVTGlRXMMqe3thYMOffqO6r4wbDt7Fp03bMCfGjXCBA3tH63XKjjj2Bd3Y1eVj9Cm7hQktLnkAljMMlDdRyJFf1slMnaDt27baBJAL0E6uuswt7OqbvLMM8+gbdu2GDdunCHH3bt3G+4xROrsrmbNmuGBBx7AxIkTjWYkm3r16uGVV14x8gqqF6WMSkpKwuTJk3HZZZd5nb7jfUIAHSGSBnYICAGMjI5dgAebMumwIYd2XU2SeTSngAu3u5dzDNJ9bO5128clv/oVUtevx87p07FvXxxuv70MFiyIQ506wGuv5eCqq/SIIGFED2DCyAs5DooAetWEmnErzgTQag+YCYmasNzKdOl2H1m1d0qXQwmjL1n2MVZTwuikRNzcqJvrYd0SwJEpKUg5exY7XWhmrAggTXT/R0OQXuV7tO6+DKVrt3ScuxMpJCJLcgk7CjjSehwX4KGBFw2th2GMW6xyGz788MMYNmwYrr76au1u6SWUguKWLFmCXr16Fdw3cuRIdOjQAS+99FKhvr7++muD+JHW8K9//athMu7SpQuef/55dOzYUXtcp4ZCAJ0Qks9tERACeCE89DCkt7tIiZx1gyl0th6NwQmGddpHauNXy8b95uTmIrFFC9zzyCN4YcKEAl/BjRthEMG1a+PQtGk+3nknG/37W8+G8FOTXRMR9ZPEmfAhzVSkvG6RMPGrCXVLAIk0haU986sB1NlbdFiSnLiCBpuPCUc3lTTsxtJNNTJ25RRMy6mNR6vl4qFWg3WmX9BGNfs53cjav1caNsQdtWs7NS/4PFJwRn5uDnZ+3A7ZZU6h+WWbEF/efTJ1fv5wailOR2NV99hNNRm7xUUz2MQtQdcWikVDqxeO++67D7feeiuGDh2q3fWePXvQqFEjo35w69atC+4jnz7yJ3z77bcL9fXBBx8YYwwYMMDQAlICefIfJJMxmYGDCvoTAqgtQmlohYAQwB9RYcdhTh1gdthWgykoKpW0Wn4fwNQnvR1Wr17d0wbVSTXjpuPXpk3DbyZMwJY1a5BUu/YFqVwWLgTuvLMMtm+PQ6dO+fjHP7KRrOTBNVfxIOLmFyMvBNCvudcKMycNYNgEkPalla+RG/natbXSlvB3winymKvaOMlalwDSPB9cNw3vZCZifLljeLXj5drLdEMAR27ejE2ZmdjlQvtHE7EjTHmnjiBtVnuUO1sLDcd8j7j4eO25mxtyzjx63phLDJJsgiKF0Qw2cSMfz8D9cKPVfhs/fjx+/etfo2fPntrdu9UAfvnll7jqqqtAKWdGjBhhjEMYE/H79NNPQZrDIC4hgEGgGMN9CAE8L3y7RM52SZP9bh16qFOUK70hOh2e6lhBa9m47+QxY1A5MRHTn3vOMHlEKk/2+efx+MUvSuPgQWDAgHz8/e/nUL16puF7aE4s7Rcjik4kgkGHoNOlmnud0ss49WX+nJzF6QFOc7HyASyJBDDCS6Ntfjy7yGM3BJDGfmXLfExKB0bGH8Lkbtdq5ZbUJRg7zp5Fxw0b8FKDBriL/BtcXE6EKWffeqSsG4BaGX1QZ8w0Fz0XbmqXNNkq0MertjZawSa0urD9ZVUErXIb3nDDDXj11VcLafJ0BGTlA0h+fhTla/YBZI2hSgAJY9IWCgHUQVuvTZxeM2kVCYFYJ4A6fn52SZP97ix6iHOFCV0CqCZP1kk1ozvHA8ePo0mTJvj3jBkY2rKlEfBgThJt7uutt+LwyCNlcOoUMGpUFv7+91xUqxZsQlwdAhi0udcKMzsCqEs6dGVhbucnea7umH5qwbIvmznylcZWCSHXgHXjEjB592rcvTcdHfIP4VuNhNFWjv9WGFy6eTM2eND+UV9OBJDanF3/JVLSb0GTkxNQdbS31B9u5O6krbVLHh6tYJNoE0Cr1DaXXnopPv74YyOAw81Ffn4UBTx16lQQGXzqqacKTLpWmvnrrrsOR48exX//+1/jWUpRwxQRTGbkoBL/iwbQjQSl7QUIxCoBdPLz4+hcp6TJfrcUzYMTDEfStvEYbpIne5nXz954Ax+99RYy1q4FmTvpbdXuoGYimpubjz//ORGvvJKA7Gxg3LhcvPpqLoLK20xv8SwHq3WFYe4VAuhlBxW+J1KAA5PCC8qr2Qy54HAartqSirqUMLrn1ahSNrI2WIcA7jx3Dh3Wr8cLDRrgZy61fzRNXY3ZqXl/xJbST6B1/Euo0Ocu16D69f3UJYU0MdLeB0VM7BbqFAjkGqQIN0SKbCa/vIULF3pa6+OPP4633nrL8Nvu3r17QR5AiiROTk42TL79+vUzZkTk8/777zc0frTXe/ToYQSLULugLiGAQSEZo/3EGgHkQ4lLa1n5+RHhoDd8naTJfrcNE0A7bZsaTUtBBjrJk73Mq06/fhg8ejQmP/ywQUrJ3GlFACMR0Zwc4IEHSuHvfy8Fcnua0HM6fveneqid3MaXH1QkAqia5oM29woB9LKDnO+hQ5EDZVhbqOvLtunEAQxZuwRlkYMlXS9B/QrVLAfUMTFetnkz1mVmYrdL3z/1ZYy0mRSd63Slf34Hdlf9BG3qfYaE1vqBB9SvXwJoNTcmhWafQmprlY5G1zLhhAN/Hm0CqEZQ09qJiG3cuNHRuqG7novZTgjgxUS/BIwdSwRQTeRMolPJX9jaNbutwsEFZnMr+/nRgUZzpQeZG9OZm+05LyUFI7t3x5rUVLRJSioom6QmBebUN2wSj0REyRw87qp9WL2oLJagL6phF/aVK4dj1arhbP36QPPmqNC+PWr07Il6vXqhdLlytlM1E8BomHutJsSlpEgGdDCrV6ybgHX3mpVPlhr16hR5fOjsSfRaOQNnkIA5HXqgfWLSBUM7EUDW/j3foAF+7kH7RwO6NZnu/3AQjlVZj1Y9KD1MC124DF9TGkvH/1W7U4uGtJ9pLCLnqhk/DFIYrZrDVoE6TABTUlJc+Vz7wTbMe4UAholuDPQdCwSQCQNn4leJX7S0a3ZbyUrb5rZ8m9+tOvyhh7Bl/XrsmD7d6IrJDhFAwshN6puT27difWpfVM6YhCaDrsWBxYuRsWoVzm3ciPgdO1DpwAHUPHkS9bOzQU68e0uXxuEqVXCqTh3kNWmCsm3bomrXrqjXrx8q1atn5PKiORABNvs/hpV2JRIBJNLLh7+qLaF50f91kw+7lZddMIDbviK19+MDqDsHncPfyWx5Lj8XA1d/ib3x1fDf5k1xSZ02hYZ3IoCjN2/GWh/aPxqM5EEmUx0NILXPz8nCjk/aIad0JpqP3qidHiZaVTOsfA1Vv04zKfRT4i5aNYet/DRpTRT9S354QWs2db8DQbYTAhgkmjHYV0kmgBzgwZG2nLrFeCAHnKvOz9ZRyVaYEceR5si5/x58+mn84eabjWZcf5ce9EQM6MDTSX2Tk5mJlV/0R9lzyegy7l+2sOScPYsD332Ho999h9Nr1wJbt6Lc3r2oeuwYkjIzQRVhD8fFYX+FCsioUQPn6tdHftOmqNKlC5IGDEDtjh19mZbdyoyIOh8aTIxVMyb1x3n0+IAM6pCJJQJoJRez2ZIIy+jv/4c1perh5RoJ+Emj7gXmS9LGknysStrtzspC+3Xr8EyDBrjXo/bPCwGke3JPHkba7PYon1kHDces0dq70SSA/B23+17oBvvQy1CkusfRqjlspaWlfdO/f3/DBFwSLiGAJUGKF3ENJZkAsvmEHkTktMv1ZMOKovUqRiJblDqFU5jQweW1soiXOXDuv6M7d6JCQkKBBpBIDGHlporHmvdvw7mEdeh25SKU1kjbEmm++Xl5OJaWZmgP07/7DjmbNyOByOHRo6hz6hTq5eXhDGkPExJwtGpVZFJEX7NmKN++Par36IG6vXohoYr7JLxW81FJOftgsgmYCR5pnegizJzMmF5IYawTwEik8OaVUzA1rw5+U/Esftm0n/EdooswJjLORJwDrC5PTcWa06exp0sXL1+Vgnu8yiN771psXj8ItY/3Q+0bv3KcQ7TKpvkxNUcihSQDcwJx+htpgcPyY1YBtdLSkrvNjTfeiGXLljliXxwaCAEsDlIqwnMsyQSQDmk6jJkA8uFMDwYiXPTj5TAOUpz08CQCSL/pYclpRxBq6wAAIABJREFUXYIcw6kvyv1XpWpVLH3rrQLNKD2kaT4UFajrd5j22Rs4XOEPaN9yESo30/dzijQ/Jup0qJPsKCqZr8z0dBxYuhTHVqxA5oYNiNu+HRX370eN48dRn3yZAOwrVQqHKlfGydq1kduoEcq0aYPErl1Rp08fVG3a1AmWC2oq015i+dCByUSDfpvLW5nNmEwKqS2bjlUtodM+9Eo4HBepNIiGCTgM899D66fjrTNVMK5cOv7c4XJDY83+tGq93f05OeiWloY/JCXhvrp1fX33/cjj7NrPkZIxDk1O3YWqlxUuIWaWV7TKpgWtaYwUAU77nD6jl1ySEScQd7NPddtayWjXrl2gSiCzZ8/W7aZItxMCWKTFU/QnV5IJIJdzIwJBmdzptxttVtjSYz8/+k2apbDrfVqtR839d3W3bsbhyb6SNCdd5/Mjq5ZgS8ZlaIj30GDoVb6gM0f38mGim6IiLycHB1evxpFly3Dq+++Rl5aGhD17DO1hvcxMVKfUO3Fx2Fe+/HnTclIS4lu2RMWOHVGzZ0/U7d4dpEciEkxjczQ4m8Xp8HIigFYAOGlK7NKi+CEcusIorgSQ1vda2kI8dQC4/b9T8ehNt6F8jxYFLy4cZHJ1WhpWZ2YipUWLAvOk15rHbvLzWeF/8tvnkFb2GbQu/Qoq9LojooiKKwGMtP9ZK0e40/ecI8Ctoo91963dC6S5es6GDRvw3HPP4fPPP/fbfZG4XwhgkRBD8Z1ESSaAnB+OzXN0cOuSiDAlqlarIEJKRJXIlttat0HMkXP/7V2ypFAVD9LU6NbfzTx8EGsW90Hi6bFIvvkZz9OKFN1LPl30IA+qfubxnTtxYMkSHF+1CtkpKSi1YwcqHzqEWidPIolqQAPYU6YMjiQm4kzdushv1gzlkpNRtk0bNBo8GFXq1PFEAO1IoZqSwyotCkewR7sUnGdhRrgxDA0gDZWXl4+ek0bgxdkVMXr9QmQkX4v4Nx5G6W5NjJnszcpC8rp1eLJ+fUP75yby2Eo765cA0pyOfnY79iZ+htYNv0BCy0GWiEWrbm60iKY5MCOSHNQSd0wOnbTkZgCtUugsXbrUSN5MCZlLwiUEsCRI8SKuoSQTQDps2N+EfbZ0o/bCEEkkgqNT6SKs+VDuv34jRuD9Bx8s5HeoO6e83Fys/HAk4vJLo+vNUxFfylsVELvo3qAJYCQiRlq9jEOHkL56Nc6sW4dzmzYZgSnl9+1D9YwM1KeoTwD74+NxsFIlnKhRA1kNG6JU69Yo17YtavbqhTrt2mk599vJM9KhSPeY/drcHop24xZnDeDnSzZi3Lyh2HHvdpSZtgrlH/sjquyfj+NtrkHcn3+H66rlYMXp09jdqZNlOTmnyGOzdpZeLnWCJpy+t/s+HICMKhvRqtdKlK55nqyqV9jphXisaBFAnQTaOqRQJ8jKyqz9zTffYNasWXjzzTedRFMsPhcCWCzEVHQnWZIJID1siFjQIUlaQPr/xdIA2hEcIlvs/xetnULzmfX997h28GB8t2EDOjRuXGhoXQK44YNf42TFT9F5wFKUq1HT9fR1kjnT4UQ/qg+g64FsbqB9QS8K7ONH2lgrYnU8IwOntm41/A6Pr16NvC1bDNNy4tGjqHv6NGrn5+ME+R6WK4f0atWQmZR0PjClXTsjMKVOjx6OOQ8jkVM2ARMB9OtPGAmKaBHAMAIArnjxj0g5sRpbnvy34cZg5LObvhalfv0Mquz9Fksbj8K65+7DzaN7aW8dc+SxijvvD9Lg20W8Og12Pj1MMnJLn0Ozyzchvlyli0IAo6VpdJs/kcHgusdqOhr2m7YKNKH7rAJoyPS7fv16PP/8806iKRafCwEsFmIqupMsyQSQzWaEfjS0SFZSpgeeUxoVp1JnQe4eNeH1DU89ha2bNhXk/lPH0ZnT7tmfYE/cnWhZ/WvU7NzT1TQjaUOtOgmLAKo5IHV8Q8mPlNoRuSACzaZaPmxOHThgEEMyLWdt3oxS27ejEpmWT5xA/ZycH3MeVq5s5DzMoZyHrVsbaW0oMIVyHka6zD6AfvwJSyIBrPvoUFzf+E68/tObDDJPcuLgpUnvTsX4599Bu4MLkNHySuDV36FM/1au9is3ZtxZu0REkCOPzf6ETqUduU9OD1Mhsx4ajFlVSIOsU9bO00JMN0VL0+g2f2KktTlpbAl7kgvn5mTCTuZfSuf0yCOPBAHbRe9DCOBFF0HxnkCsEMCwSITdA4oe3vRgdSIXaqLjsHYTPTBpLlzFo2xCAqq1agU19586ttOcjm9JwcbtA1An8yk0u+puV9NWtaFkkrfK16Z2yHWZqVxeUBf1SWt0U2HFiQASxpH8OCnn4cEVK4yUNpmUgywtzTAtV8vIKJTz8ADnPGzQAPEtWqBSp06GablqmzbIzskxzPR2e07VkKgRsDrBDsVVA7g6bT8GfZ6M78ZuQesGNQsRwP1ZWWizbh0mJSXh/9YdQdwDTyNx1yxkNL8ceO1hlBnQ2tOWUs2LdhGvusEN2XvWIGXjENQ5PhC1b/hfwZycklp7mrzFTdEimmEGM5lJIY1Ff6Prvffew+bNm43vD1kSnnrqKe3sBgzXpEmT8O677xoBhd26dSuoA2wnA0o/1qFDB1CtYE4WH5TMqB8hgEGiGYN9lWQCSF9+jtYkAkgEKEgSYbVdeExORUEPHKc0KmGap2k+VlU8rHL/6RLA7NOnsGpaP5TL7I5O4/6m/a3RMfdadRYkAdTRyEZakB0B9JNGg3IeZmzdikNLluDU2rVGzsOyu3ej8pEjqKvkPNxTtizSq1bFmXr1jITYCcnJqNa9O+r07Bkx56GbYAfah5ESKGsL2aFhGEmA7/jLPzFj34fY++QMY3S12sg1W7Zg2alT2KP4/mXPWo+4B59B4o6vkdHsMuS/8juUHZLsaolO8vbix3b2+0+RcuJ2ND31MyRe+oIxn2iQchonWkQziOAZXUGxWZv29Ny5cw3fv8WLFxtVQOjq0qULunfvjhtuuAEDBgyw7fbFF1/E66+/junTp6N58+Z44oknjGCS1NRU25eyO+64A/v27cPMmTOFAOoKzkU7qiQllw8EYoUABkkiIsHtNcF0WOZpO7Kj5v6zWk8kUkokbs2/bkZ2wlZ0u3qBlk+bG3NvWATQrAH14odGb/McGU37STUBOxECH19RUM7DfUuWIH35csPvkMrpVTx4EDXNOQ8rVTJyHmY3bIjSbdqgSufOqNW7N6o2+TG4wKwlUf3aaI6kKaQ1+vFrs1trGASw2aNj0KV6f0z55f8VIoBHcnPRat06PJaUhActzOvZczYi7pfPIHH7dGQ0GQX86fcoM1SPCHqRt5Mfm1F1Z/6L2JbwHFqXeRUVeo0v8Gd0eon0s7+iSTStInP9zj3S/Vak9tFHH0Xfvn3RqVMnrFixwvjp168frr/+ettpNGvWDA888AAmTpxotKPvTb169fDKK6/glltusbz3yy+/NDSNzz77LIYPHy4EMARBCwH0CWqsEEB68JBmoGrVqj4Ru/B2r5ot7iloAujk26bm/ru+l7VTfCQCuGXKKzhS4QW0T16Myo2dkym7NfdaCcev7Ph+Mvf6SbR9sQggYRLJd4pyHh7+/nscXb7cKKeXTzkPqWJKerphWlZzHh6rXt3IeRjXogUqdOiAGj17onaXLoj7IScba0xoPM4FqWvC1P1SBU0ADx47hZbvNMWU4YsxvEvLQgTwhm3bsNSk/bPcX/NSgPufQdWtU3G88Qjkv/x7lBne3nZJQVToiOTHdnraXThYcyqa1fsUcY16F2hlg4z4Ni+OA2fCJpp+Ko7o7jFuZ6U9/eUvf4kxY8YYhEz3Is0/nRtLlixBL+V5OXLkSMO8+9JLFybzPnr0qGEmJo3hoUOHMHToUCGAuoC7aCcE0AVYVk1LMgGk9XJ6AzpA6QCvVq2aT8R+vD0IrRLPMYgoV13zM+f+y6D6uxEuK1J6aPl8bD19JRqX+g+SBl5mi6NfUqx27pUAqnMg4ke+mH4O0aJIAJ02M+U8PLR0KU6uWWPkPCxNpuVDh1BbyXm4t0wZHE5MxKlatZDXtCnKtW+PxC5dUKtnT5RNTDTIoFt/wgjPmsDLgD36n6/wZurjOPr4ioIhiWSeKFUKbTduxCP16uEhisbWuLIXbAZ+8Qyqpn2F442GI++l36HsqE6Wd4aVNoVJ4f6P+uN4lc1o0Gkh4qs1NOZg5cfpZz+rC4smAaT9FI2cp1ZruvPOO3H//fejd+/eGjvifJM9e/agUaNGhum4desffUbHjh1r+BO+/fbbF/RFJLNz58743e9+h3nz5gkB1EbbXUMhgO7wuqB1SSeAbKqjA4wqORAB9PvQjORX51UUQZinuaoIPVypekekVCY0R8r9N3j0aEx++GFbAkjz4tQrZw7ux/fLe6Pq6QloO3ZSxPtUcy+ZEmkuXJbLKz5uybt5Dl7MvVZzdSKAtMd0K6e4xSKo6El13KxTp3Bw+XIjrc3ZDRuQt3UrKh08iBo2OQ+5YkrVrl1RpVkz8kK/oN4rm4/NayS5BF0HttOke1GtbE3M/f0ThQjguH37sOT0aeyNkPfPDv/sxVuA+55F1dT/4XiDYch76WGUvaxzoVvCIoA8CKWH2T6lLfListH48vWIT6hYQMTZlGxVa1c38ti8fnPktNv9qds+CM2p7lhWa7rpppuMFDDt2rXT7cYI+nCjAfzoo4/wxz/+0ag3TPIg/8Nhw4YZ/uh+n4XmSUsQiLYYpaEVArFCAOmhmZGR4ZsAMtFyyhnnZrd51XDRGGpVEXqrJgJiR3DnpaRgZPfuWJOaijY2mhE1aprMjCsnD0NcXmV0veULy0S6NJcgzL1WuLkhgFz9hciGToSxGzmpuRGtfACLGwE0r13VmFBgytGNG3GYy+mpOQ/PnEFtKq9IFTbKlcOxHwJTSHtYpnVrVO3WDbW7d0dCxYoFWivek0ESwKzsXNR6oQVe7PYh7hr1o0ZnR0YGOm3dit/Xq4dfa2r/rPZB9tI05N/3HKqlfIYT9Qcj94Xfo+wVXY2mYRNAGiP3xEFsmdMBFc80QIOxKwqlhwki8lhdsxo44+Y74bZtNHDjOVmt6fLLLzeqgJBGz81l5QOYlJSEl19++QIfwPHjx+OTTz4p0HLSc5FIZM2aNQ1ieOutt7oZ2ratEMDAoIzNjmKFANIDk/I/0Zucl7dkt0TLzW7yQgC9BlYMf+ghbFm/3jL3nzpnVSu57l/343TF6eg6dBnKWvhQBmnu9UoAVfkQCSYy7FfTa56LSgBJZuwnR+3C9m3ymkDXzT50YwY8ffAgDv5QTs8q5yGNu7d0aRyuXBkna9VCdqNGBjkk38P6AwcisX593/J55+tl+NWKsTj86zSULfNjBZprU1KwODMT+zxo/yz333fbkT/xWSRu+hQn6w1A7vO/R96o9sb8ya0gzOt4ygLs2n0F6mYMRa0bPrUdykvkMXcYVok+84SjlXCaxrXyNx08eDDmzJnjOhsE+flRFPDUqVNBZJCCOygKmFPLqOskSxORT74o8phMwjt37kSNGjUCtRIIAQzz2xcDfZd0AsgHNYkyPT3d+OK7UcOznx89uMhBmsyJbu7X2UJuNFzUn11VEbvxcnJzkdiiRcTcf1YEMGPpVOwrPRGt685G9XZdCnXPJJSJQ1CmVvMa2HxfvXr1C5an+j2GJR/1kCTZE8E0E8CwoxuLGgG03WeRch4eO4YkSsUE4FBcHIychxSY0qABSrVsiYodOxpRyzXbt9cqpzf46Uk4lnUE3z/xRsF0DmdlocW6dfhd3br4bf36Ol8/7TY5K3cgb+JzqLrhE5yo0w9ZT/0GFcb01b7fS0OjSlDqVKSevhNNz0xE4kh3tbZ1Io/phZiCvsL6/qrrjlbCaSt3A/pbz549sWHDBk/P8McffxxvvfWW4UtO6WPeeOMNw5RMOf6Sk5MxY8YMI6LYfIkPoJedr3eP+ADq4RSxVSwRQNIAVq5c2TEvH4OlJgv2Ez3qJCI7gqPeq1bx8KLlcsr9p45FhObg96uwO2M06p17CU1G315oGWGZe62wioSP6vfI8gla66fOx04DKATQaZfDSJtz6uRJZB84gMNLl+LEmjXITU1Fmd27kXjkCOqcPo2kvDycIe1h2bI4UrUqMk05D+v27o2ylc6XS6vxeHfc0+pxPHnz5QWD37hlC+afPIk9HTtqf8+dZ164Rfaancj7+bOotmEKTtbpg9ynHkbZMfpBBW7GYy3WqW+fwdaEF9A64XVU6DHOTRcXvLRZmY+pkVXEd9Dfp2glnGYCSG4gvAb6W48ePYxgDi9WIM+gh3ijaABDBDcWuo4lAkg+gDp+YX6SBXvZM07+iUFFGzvl/lPnfjr9KNbNGYgKmQPR8da/FHwUtrnXCj8zPmqaGx2/Ry8ysbqHy+OR2Y9NPKQRpB8io2H6ABYnDWAkvK0OZW7L0a+nDh/GoR8CUyhqudTOnefL6VHOw+xslKVay6VK4bOkNrjvtjRMXjQItdu2MHIexvfoia4Zx/DLGjXwWKNGoR7yRGSwcT9K/eKPqLr2vzhVuxeyn3oYCWOD0wiatVhHptyMfVWnok3T6SjbLLhx+DtN+1qtJEOyCTryOFoJp3lNZgJIGkAigEET26CeMW77EQLoFjFpb34jPF8rp4RefDDT8sg3gyNkIxENekCRo7JT+bYg4YrknxhktLFO7j9eEz08V//reuSU3o8eN85HfJkyhvZGLSUXDXOROh8i7+S/yVo/eoPXqbISpJxIG0PY0Bwowpk1KVwLlsaivzMpDPKQKekE0EpOKr60/pysLCPnYcbKlXho7UZsrrATX83ZXZDz8N7f/x6f9euHrR06GJr+IPE3z0/VZOWs34O8e55H1TWTcapWd2T/4fdIuOVCU6DbvWgmzBSYs29yX5yolIZW/VajVPXz6WH8XpG0ZWw+5mTham5IVVvoRpvmxs/Uz7qYAFb6QVtMfdHfKP3Lxo0bQ90bfubt9l4hgG4Rk/YxSwC5lJfZcVsNqKDDm94ag/bzs9t2VgQwaC2kTu4/nuPmj59DesU/o3GTr5GU3D606F7dryLjQz5+QUZf645P7cjESwSQLiIXTE6IZLAfIhFD2jdB5Mwzzy0WCaAdKWw4aTRG1L0Rb4wfU1CR5ZYXn8feUsfx7S+fDt2fzUqTlbNpH/LueQFVV36IUzW6IueJh1F2nH2JMafnAmmaC2mxss9i+5Q2yDqXiwbDl6GSjyhn9QWLiJk6jh32TAjVfa6bMDxaBNDq+0LP/yuvvBIrV65089Uv0m2FABZp8RT9yZV0E7ChOcjJMQSh5nFjyXgt3xa0ZDlAhR2ySdsWpBZSJ/cfrengktnYdvY6NC7zX5RL7m7kEyRfSC8+h0FgpJp7aS7R1Dyy1oAOLc7hRQSPtApWQSD0N5ofXeaITNqHdHn1sxIC+ONu2rznCHp81BLzrt6ILi3qFWA97LkncTb3DGY/eD5PJWHNeJPciKwHpRW0M2XmbN6P3J+/iGorPkB6hXZY0WkEetQqBWSepfwxxk9cFv8+i7jsLMRln0Nczg+/c7PO/zv3HOLyshBPP/lZiMs//zse2YhDPj5pUgsj1271/TWz0pbpduo28jha6Was8mbu3bsXd999t5GYuaRcQgBLiiQv0jpiiQCqTvysYaND+2KRG1XkRADJn43Mz3RYBWne1M39d3rPbqz9vg+qn74XDS//hWHyJZMmaQbcmHmC2spqEA7Jy2sKHy/zsYou5iS2hIcTATSPyT5uqvaETceqnxUTFfP9QgB/RGTiux/ik53v4MCTcwrB1P2JX6Ja2Rr47P/uN77TZhMmNQ7Kp82qzNgFMttyEJuveBgnypdGj1MHkF+mLFAmwfidX7Yc8imFTNkEoNz5n3z6Xb7c+f9XKIf88uWQXToOCTUSEUd/r1wOcZXKA5UScOVto5HYvCU+mvaVl+1d6B4OLlPNpX46tTId0/6nZwh9Rs8U0uZHShjuZ2y+lwggPT/4hYz+TilbnnjiCVCN3pJyCQEsKZK8SOuIJQLIjvukBQhaw+ZHfPSwIvME16q1q+LhZRyd3H952dlY8fFglMqug2ZX/s2YCz2sg6ic4nbONC7JinChg5w0oRTB7TaFj9txuT0diDQ+zYMOEJIHXXTo00FmRQCtDhyn8a2iMelvhL2ZqNBcaM/S2GFdYZvnrBzzvayl1aO3onWVzvjyoQcL3Z782B1IrtYZ7905/gJzptmf0FxNQ8VbR0uoQwBpcnd/cQwzzqZj543NXS/VTjPXpUsX1KlTx0g94vcK++WCX354DzMRpHl71Yg7rZle0FSNPLVfsWIF3nnnHfznP/9xur3YfC4EsNiIqmhOtKQTQHro0IPASEFx6pTxb84XF3bhcyeJq8mLqS29gTPZcLpX93Pd3H9r378HZyrMRbOeM1C5Vi2DdHHgRbS0f3aBJl5yOOpixO2cootVAkiEj34YGy8E0Gp+kUzH7GtIcgnanMnzKA4EMOPUWTR6vQneHzQHV/dJLgRhk0euxyX1r8Cfbr3O0Z+NbnRDwM2kUBerp2afwKun9+LwlW3dbkfDl5RMzVaauV69ehlrpKTGfq8wygxG2ttcCYb3s5NGnLWEOqRcHdMqMfu3336Lr776yrJ2r18ML9b9QgAvFvIlZNxYIID0EGWNDj1QqL6t2wdKkOJWg06YjHIm/qAJoFPuP5rL1i//jsPlf4MmNaejTqduBqnhwItoad2c8gq6zeHoVl6quZkOVquXg2gQQPO8WXvCGg1Ve6JjOnaDgy6pcdOn2jYIDeAzH8/CixsfwNFH1yI+vnAa2HqPDsetLe7BY9cNtyRNOvO2891U/QnpmUJk3Okl8j8rM/Hz41twfGhHneELtbHTzA0YMMDQUC9atMh1v+Ybgnp5cZqIVbSxek+QWlr6PhM+5FbDF5l+V61aBarqUVIuIYAlRZIXaR0lnQCS2YzIA5kS6aKHHUVxXqwrUhWPSBHKfudpl/uP5nJg1TLsOXUl6p57DU0v+0mh4aKhddPNKxgWAeTx2ReUDvVILwd06NOhTBqZsDSAkeStaoP8aK7s9lO0CKAfXzPy8ysbn4DFjz53wVJqTuqFhzo+g3tH9vJMACMRcCtNlUoII2mqVu7KxpCDa3GgU1dUKOuuboEdAbzkkksMt5Hly5f7fUQYe9nsL+e7U4sOvLwA2O11u8hj9tdVCSCZfg8cOIBJk84HCZWESwhgSZDiRVxDSSeA9NChhwE9LOg3/ZAGMNqXUxUPqwhlv3OMlPuPH8RnjhzBtlUjUfH0KHS49dULhguLdNFAVlpQu9Q7Qc9FHZ+c0nWii50IIO2tsHz0nBz1g4g6LuoEMCc3DzWfaYsnOr2DX1w58IL9WvXJNnilz79wQ++2gRFAq+8ga7JY+2fnT3j6XD6SNqzG/Dod0blBGVdfaTvT7GWXXYZ9+/ZhzZo1rvq0amzlL+e704AIYCT8zYTc7DtLn9OLnEoA3377beNvDzzwQBjLuyh9CgG8KLCXnEFLOgHkaE6SGL3l0iFOZs1oXXZ+beocwiCA5tx/6lzo8Er9/BbklzqBbmNmI7506agRQDrYyCRP81GDLOxkolvFRUeu6vg6lWG4z6JMAM3r9hJ1XNQJ4AffrsbPl1yJAw9sQ4VyF5KpKs/VxUfD5mFg2/qhEkDC2pzOxE5TlbQ8DW9WaoaxXSu4iny108xde+21RlQr1bX1e4VdxpDn5/QS42cd5shjNe3S9OnTjSIARJibNm2Kn/3sZ66HIq3hu+++a2hdu3XrVlAH2NzR4cOH8dBDD2H+/Pk4cuQIatasibFjx4LqCAft3kNjCwF0LUq5QUUglgggPejowU3pRMK+6EBgcy9H95KmKdKlpqgJam5q7j9eO89l65Rncazi39CpxxJUqJtkOWSQpIsGUINe3JZwC2IuJBMiOaSpczs+zb84EUArgTqZjunQpD1KP2H4yPrJN0frGfHc09hzZjs2/uHdC5Z35mw26r5ZA3Ov2IRW9RKjTgAj4U2Y1p2+Bb9IqItf9j3//deNfLUjgDfddJOR0Dg1NdX348IqYMJ3pxYdhB1trA5J33OuyPPee+9hypQphraU1tq9e3ejJjD9DBkyBPXr17dd7osvvojXX38dRCSbN29upJJ5//33DezVNDPUyfbt2zF58mSMGTPGIJvbtm3DNddcg2HDhuHll18OHFYhgIFDGlsdlnQCSNKkA58ueqCSpo1Sm4R5cY5BNY2J04HKdWbNDxSv8+Tcf6s2b0ajxMQCHx/ycdu/cAZ25tyEZhX/hzo9B0UcgkiXrobObp6sheWHspdKK05l/JzGZwLsp9IL+ZNSP+RDavYBDPtwC0t7opqO6XDkS5ekuNmffglgrcf64bZmD+Kl26+9YNi0vUfRdXJTpN62B5US4kMngBy0pVMxqNHHaRhdrjrevLzaBQnCrXJBsj8h7TFzKhNe+IQJEzB37lyDYPi9rAIm/PZpdX+0oo1pbKtE3b/61a9A6XPomfbdd98ZP3fddRcIS7urWbNmhtl44sSJRjP6LtarVw+vvPIKbrnlFkeoXn31VRAJXb16tWNbtw2EALpFTNoXQiAWCCA94PigIyJRvXr1UHaBmkbEbRUPNcI0iMkN/9WvkLphA1Z/8IFhemAft5M7t2P9xr6oefohtLze3hfGD+niNXBOPfrNZNKJDFut3+tcVDLuZ3ya08UkgH7Jk86e4tx2XM6OxmRfK7rfb9SxnzUs3LATl03rgnXjtqFxnQs1+AvW78Do6V1x9P5DyMoKzxeTcSQCqOM3Su3bf7gLzUuXw/9uqH2BGOwiX61S/3AH9957r5HQeNeuXTqitW1jFTDhu1OLDqIVbEJDW+VpJNPvz3/+c/Tv3197eWTyJYvRkiVLQKl3+Bo5ciQ6dOigFVFXH3/8AAAgAElEQVQ8evRo1K1bF3/729+0x9VtKARQFylpZ4lALBFAOoBIqxV0cmOzhstLFQ96YNH8/ERIsoAzz55FzbZtce9jj+Hpn/zEMOnRlXP2LFZ+NhBlspqh863/cazu4Scy2Q8ZjkQAyWxrruMc6Wut63vp5rEQCwSQXhbMqU2cTMeqttCO3PshgD/589uYf2gadj35uaXIJi9Yi7vmX4X036aFnjCbJuCGAA76cD+ykYfFN9mbGnlhjDdr5ujv5iCH3/72t4apkcqb+b3YQqL73fI6XrSCTZgAmvcyaeueeuopdOyon5Jnz549aNSoETZt2oTWrVsXLJ38+iiYkAJL7K4nn3wSf/3rXw1tY1IAdZvNYwkB9Lob5T4DgVgigJzbLsiSYvRWy+SNUs14reKh+pd53Zqs7Xrz66/x+MSJOLJjByoqebC+f/+nyCy/HN0uW4wyFSs5DuOVAOrk1HMc3NTAzVzY95K6IDJu53vpZh6xSgCtMPISdezHjN3o0aswsPZo/Pv/7rIU2etfLcRjKybi8KMrQyeAHAWsqwG88ZPDWJdzGpvGNnGz3Qy3Dc5lx3izRpaCCsisSD5n5iombjXs0SSA7BbjCggPja1qDl999dVGIAf55ulefjSAjz76qOErOHv2bLRo0UJ3SFfthAC6gksamxGIBQLIdVuZAAaR3NhPQIPVLlTJhdtdatZ29ZwwAVWqVcPSt94q6GrbF2/jYLnfI7nJAiS2aqM1hNvIZC++j1oTAYzoO9JQ2GkpVJmEUd9ZTSNEa6V9xZVA/JAbHQz8aM90+qc2fqKAdaKOiZgQqXGr5d5x4Bg6/qs5Zoxeg77JjSyXM+mjafjrxuex97HZhs9vWOl4fnhpNoLJdAng/VMz8EnmYey5vqWuKIx2dr55zz77rBFUQJGtdqZ62p9OlXzo2UOyCVsDGK1gE8LOykeTAjEokKNGjRqu5GDlA0jaPMI/kg8gmehnzZplkL+GDRu6Gs9NYyGAbtCSthcgEEsEkBZPyY1Jde+UwT/SVnGbv053y3nNUWiO7j165gyaNGmCf8+Yget/8Fk58v132HJkBBrgHTQcdr3ulIyAGdKeqbm0rG5WCahb30fdydjNRTXBc2UVHed83bG5nRBAd4gFZTr+1Xuf4v1tL+PQHxZGnMDEdz/C/3Z+gO2TPosaASSSqaNte2X+KTx1cheOji5cus4JTTvfPAosoGhUep7xZedPaJc0mQggfR5GmhJ1jdEKNmECaCbo5MNHkcBu10mVQygKeOrUqSAySGZk0uxRGh5z0B69CI4bNw5r167FN998Y9RrDvMSAhgmujHQd6wRQD8JhSNV8Qhim7jNURhJ22bO/Xc2/SjWzO+FyqevRbtbXnA1VZ3UNGYCGpS51TzRSARQDTLhnH46h7IrIH5oLATQC2o/3sNaUnqhYK2Vmq8tkikz+bGfomGFZvj6tw9HnAD5CC47NB+bJr0XelULNgHrEsAv15/FLcdScGJAZ1cA2plmKaCAolrpeWZ36ZBwMssS9mFrAKMVbGJloqe/UdoX8uVz0oha4Ukm97feest4KaY0Mm+88QbatWuH3bt3Izk5GTNmzEC/fv2M/H+UWkYtE8j+m2TFCPoSAhg0ojHWXywQQHrA8UHjJZ+cUxWPILaMLgF0Cm5Qc//l5eZi1X9GIz8uG91umon4UqVcTdUuNY1awo3egu1KqLkaNEJjMxmNhtbRPBUmgGTCJHMp7QvONUZtyY/TrXlTF5uibgLWWYdVqhwn0/GZczlo+pe2eLP3F/jJkK4Rhxn9wovYc3oHVj76augE0G1Jsy2HctBt9/fY2qozalXW/w7aEUAqa0YRrRQd7/ayS5rs15/Qbi7R8jW0IuhMAFNSUrS0tm4xvVjthQBeLORLyLixRgDdpBNxIltBbgGdJNVqcIVVcAPn/luTmoo2SUnY+J9HcLzSB+jcZynK13JvirAigKoJXLeEWhA4qQRQ1TqSFsarOd/tvOgAI5JHGNBBSZpG1mRxX4QJm9vo86C0kSWVAFrJQDVl/umL+Xh64z3Ycd93KFO6VKGAB86XR30MfPpR5OTlYP7vnixyBDAnNx/VV6zG1BrtMaBFWe1tZ+ebRylgyP8sCK0Sfc85+bdff0K7xUXL19CKoNPfyARMGsCgvpPaggyxoRDAEMGNha5jjQDqBBPQAeSmikcQ+8QuSbVucMXwhx7ClvXrsWP6dOyZ8z/sxu1oWXUaanbt42mK5tyEXkuoeRrcdBMRQDrw6UHOhevD1jqqUyAZ0BzoNyeyJjxoThyhSQccHaQcqUkHjZ3vlRtcYokAqrj0ffK3yM7LwvLH/liAK+NLuDO+vZ95CLXL18NXD/4qYvJkN3jbtfUii6qz1uHlKs0woVdF7WnY+ebNmTMHFNUaBAG0Cv7x6k/oRACj4WtoFZBFJHfUqFGB1E7WFmAUGgoBjALIJXmIWCCA9ECgw5oup8AGXbIV9J6gcc1Jqt1oIHNyc5HYogUefPppPNS7J9Zv6YdaZx5Di2vu9TxVJoAUUUuaL9KAhRFd6zRBwoHkRjIkgkUEzIsfj9M4kbRRtG7CgjSNdPhTGiFzFLCZFKi+V2bCwqSFtYg6GgkvpMPtev1EAeuMZWUCtida+ajxZEf8ut3L+N31wws1NZuOOz55FzpU64737h5vtKN9wuZ5HXx15s9tvMiizuebcVeFenhyRBXtoewIIOWVo6hWcmnx+13QlbuOPyGbkK0wp2cIfe42CEMbsB8aWu2zgwcPYvz48ViwYIHb7op0eyGARVo8RX9ysUYAIwU20MONHlD00A0rktVuNzAB5CTVTuZec1+vTZuG30yYgIObN2PTjCFIONcence972sD0sHAKXTCjK61myTnWWTyR2XYonWZNZ68RyiNUCQCaBcYoPpeua2w4dbvzAtGukTAS990j1sC+PmSjRg3byh2TdyBqpXK2Q7b+NFrcGmD6/Dq7TcYLwpczYQd8FXfNtV07GUtXlL+NJ+8DQPKJuK9a/RTkNgRJjJlkkmTKoH4rW1ulTNPFxc3/oT0bKXnSFiBYjxnq5JzaWlpePjhh400MCXpEgJYkqR5EdYSawTQ7NemphChQ8JLFY8gxMZVSihFDT343dQRpvGTx4xBlapV8dd+mTiXsB7drlyE0uXLe54ajU9kmauTsI+Q5w5d3qgScooapf/TFWZ+N56ieWzSepJGQ/XT9EIAzRCYzWzUZyTCQn8ngqYbeeoSbqN5USOAl7/4ElJPfI/UJ//luJy6jw7FhNa/xBNjRhV8d+gmNs+rvm2q6diLv6YXAtj1w92oFV8GX4+p67gWbmBVz5Y/owogbdu2xYYNG3znmfNDAK32tBXm3I6esewn61dzGQlIq5JzVIeXInepekpJuoQAliRpXoS1xAIBpIc/Hd58yNEDig5S1i7RA91vnVi/omMCSP2otXt1+j1w/LiR+++lP9yPbq3eRPuWi1C5mbfM8yr54eAKIqXRvFj7SQcEE/KgayVHWo/V2NxWJYDsi8iHWFAaOj48WUOopkmhMUg77cZ07EZuYRNAK82M3fyI1F3f+C68/tOxjsuo8Xh3/L7LS/i/y/oVIoBuCIpurWO3mkyaw4iPDiA9PwcrbmrguBYdAki+fw0aNMDSpUuNNCR+LqukyX76+3/2rgO6imrt7vQQAimQEEKvAioC0kRUsIBPRBRUELv+PnsvYAEVsDy7PjvqQxGxAMITeNiwgAoq0pReQxJI7yE9/9oTvnAY5t6Zuc2Ee89adwXuPXPKd87M2bO/ZiRz7l1RacuLjydtZNU+eZ/qM44wPMuCBQu8ko/Xk7Ky21YAANqVWKD+ERLwNwAo7BoPbtp2kV0Shufv2hoCOviQJDC1G49Li/33xhv4379T0R4foM3wC2xPRRxfyAYIE8qDjjLyFQDk/Nm/EfvpbQAoAI6HB/eDkYOJMwBI+XHsnmboxNZNWA1xhFEPT2d2V3Y2QkMCgGt37McZC3vhtwnbcVzblqbTiJ3RDa+d+ikuHXqCUwBo1JAdJpZydwUAXrUgBz9XFmLHeOtpyLgeZMuMVKZii8psE1QFu1Ps5DV2px/eHxIfz117QmfjMMo4snTpUvzyyy946aWX3JlCg7s2AAAb3JI0rgH5EwDkQ4cPOx7kEsLEGxkjrO4AvcMJH/iuZClJPOUU9O4fhldOOR29Js6w2n19PXUcKhPqanYSuwPguoijhSP20xO5kh0d/gLAzcLa/B0AUMasMoz8TlSannAwkT4aEgC8/o33sSz9Y6RNt2az1fyZBCw45xecfnx7DaARxLtTnKmOBQTyXrEa6uehLwvwXukBHLjoOMvDMlsPPivIap199tmW2zRi5+yktXO5I0B7QeILt6Nnrh17QmeOPUYZR6j63bt3L6ZPn+7OFBrctQEA2OCWpHENyB8AoLAzfKDyIcOHh7uG0+6ssiPvXleylHz/1184d9AgfPjcGRh7w39tBXtWx2Hk+GI1OLU7srAaWsYbAJBAgYcS94QAX2dzUUP16FXA3mIAZTzO2heWUA8Kea1VtSbrmgEOd9aZ1xrZZjlqs9Mjl6J/i9Pw2d23m3ZbWFqOtm8mYNW4nejaus5Bx10AaASUBBSqgeWtynjmqlI8ULALeSNPMJ2PVUBOADh79myMGTPGcpuOAKCnmWujAdllGmVfq+YQ3ON6mevzHRtlHHnnnXe0/Xf//fe7LKuGeGEAADbEVWlEY/IHAMgbPzs7W3v75MOCtij05Pw7ijPvXleylAy5aiz27NuLXfO/QmS8dQ9DdRyOgil7EwDyQW4ntAzXjAycJ7yA9cBXmByz/dBQAaDRuM1UbAIMVY/YhgIAM/KK0W1mRyw4ZxXO7mtuy7o5JRuD5nVGyj8zERVeFyvSLH+12VqbvQjw3iDI1Ht2O3Li+X57Bcbk/oX8gX0RHBxkqXtVZWp0AZ9hr7/+uhYQ2tXi7RcX/QuMPj+v3XHr1fUif9UkgoCR/1f3AFW/CQkJuOmmm+x22aDrBwBgg16ehj84fwCAXAWJQm8l44Y3Vs1KfEE7WUo4xt1ffYoT/nkvbr7rLjx3172Whu3Mzk7fgDdkpbc1lKDKZoP3FAB0J4uIFQDo7gHnSA6eOKidOZgQEHJ+VMF7K0yHVQZwykeL8frWx5Hz+G9m20L7ffm6nbjwq0EofCBbCxLuKwDItdYXR6rj7JIg9E7dgt+Tj0fXVuGWVMdmKlOGjHrmmWdwww03WJKTUSVPOS+ZDcAT+9fZvaF6eUvMV4LAhQsXasGy09PT0a9fP1x11VVmQz3q90cffRRkENnOySefXJ8H2KghvsTfeuutWLJkiUY2jBo1Cq+++qrXCIcAALS9nIELVAn4CwCUPJTOMm54Y2eYqVnVPq1kKZH6Bdu2YNqSiXj9X+nI2bsXURERTofvSO3s7CJPy8qRraEVubtrj2iXcTQaU2MHgEZgRQWF6sGpBqt2N26e9GsVAJ706K2Ij0jAdw89ZmVr4KPv1+HmlRej4JEdPgGAfIngxwgAOpNxi9V/4v2ozjine10+YDP1vBkAbNGiBaZOnYo777zTkpycAUBv5bCWPr0JAPXzomZB9u+sWbPw3//+F3/88Ydm4kAAN3DgQO3DQNqtW7d2Krtnn31WA3CMH9ilSxc8/vjj+OCDD7Bt2zbD9Sfg496gzSHnPH78eM0xjEDUGyUAAL0hVT9q018AIJkBOez0GTe8tdxW1KyuAMDKkmKsWToEV/ynBVq2645Vb73ldAqS1o7z58PIKsPjKQBoBwQ7moirAJB9yzq4G8xazdbiyAawITOAZvtcvE7VHMecJ2VolNLOboYNKwCwrKIKrZ7thuf6f4wbRlrzbn1x0Q+YsfYe5Dy2xmcAUB9mxEy2/D1+6V94rHlH3H5qlCXVMYEM1cyOnCao0rz77ru1AMeuFldiGrrSl6+YRo7NKH7iLbfcoqWC45799ddftc99992HsWPHOp1O586dcc899+C2227T6lFeBI0vvvjiUap3BuVmOK4NGzbghBPqbD357z59+mgBuxm2x9MlAAA9LVE/a8/fAKDE25OMG95YbivqXqN+zdLU8RqOf93sy3CgNgVj796CD5ctw8UOwkDIQ1fslWgTY+fQVgGPq3IS8MnrCY6sgk99f64AQHcYR6P5OgOArG/XyN2OTH3BoDjKCWuk1uTYJdWaGkzZ2ZysAMC3l63C/WsmIuuB7QgPq2PKzMojcxbjnS0v4MD05Zo3OcfrTRtAozhzZmPk723mb8dlTRLw3HmxR1V35nXsKHVgUlKSpv51x7PVlZA2Vuaqr+MroMl+jcLnXH311Xj44Yc1BtBqoUaGzoIMH6OG2hk5ciROPPFEPPfcc0c0RaZxwoQJWv9q4V6cN28ezj//fKtdW64XAICWRRWoaCQBfwOAfNDS25Y3tqcj0bNtd9LJOUpTp67b9nkvILvpc3hnw52YP2cO8jdsMDxMeBDKmzCBlyvhbgTwuAKWPaFyVSdmxyHFE4yjPwJAM6cDkYkrDia81goAHPbEo8ivzMG6x161/MC++e05WLLvM6RMX9igAeBxH+9B37BofDzOPK6hvLzRJlMFhwK8+ewiO0UV4wsvvGBZVvqKdoNzu9qRr4CmAEDKTQLZ8zsyfXSY6datm+UppKamon379mDaveOOOxy+hyCPHthvv/32EW19+OGHmpfx/v37j/ieQJ1rNHHiRMt9W60YAIBWJRWoZygBfwGAktNWACA96FwBRY62kV11r1E7+jR1+joZv/6AXSVj0CF0LvpOnoFho0bhE536Rw2rYiW0ibPbwhW21JMqV1cAoNWwMq48DlRALPNUXyIaOwNoFQAayc4shhvvNdbh+jiznWNGj1uPexzTLhtleYkmvPwG1mavwtbp72sAkMVuMHXLnQGamtmVUDOD56ahSVAwvpvg3O6MYxHGVzUp0HvAdu/eXVNrUh3paq5jK6Dcjmwc1fUV0GT/RraTI0aMwKJFi5CYmGh5OgEG0LKo/raK1vzp/7bhNfyO/Q0AckVcibfnaCVdVfc6AoD83ijf7Z6/1iF1+2i0LLsBGX0uxcj+/bFu2zb0SE7WmlIZN09lN7HLlkpcPf4VW0M7Kmdnd4uZRzLHStULAQDtpuyqu63cqSogDgBA5xLTgxUBiLyKzIxqUyh75Ou12zHu6yHYfsNutIqLtrIkWp1z//U0Mg6mY+1jr/gMALriaTz600zsrS7Dhsvam87NisqfTgmnn346Zs6cWR8YXLXZdKQ6Vju349BiOmgnFXwFNDkEo9R2Q4YM0ez+7MaHNLIBTE5O1hg9ffgd2vl16tQJ69evP8IGsG/fvloQ6oANoDs7yPjaAAB0U6b+AgDV4K2uxNvTi9ldda/RsjlLd3bhqATERAfhP3MPYOSkSdj+55/Y87//aUyBsI9kAayGVbGybawCQL0srMbVszIGqeMMAKr5ez05f/349ACQY1IBrjdzqloBBHbk6egFRFJ1uduW0fVcJ8nCo89gwr172atvYn3+L9gxba4tW9VTpz+E4KBgrHhkRoMGgDf+Nw9fluViz6VdTMVrZb2plmRok7lz59a3x+uc2WyqwJv/dtWe0XQCugq+ApqOmNMBAwZoqly7Zj+086MXMMO6EAzOmDFD8wLeunWrIZM9evRoTaZz5szR1oEgkc/Dzz//3K7ILNUPqIAtiSlQyZEE/BEA2o23p8qON7U4NvDwdxRE2ZUd5yzbxSlDWyN4YB98NnURuvU9Dvc+8QQeHT9eU3fwMFVTuLnSt6NrcnNztRhWjtTl7sTVszNOIwAodlISkoN2P55iHI3GJgCQ8iBYZ7+qIwRjFTrz2rQzX6MXDm/kGlb7cUcFbGVuehCgByudpo/BiKRL8Oo14205mPR57DYkR7XH0gce8AkAdNXRZMa3hXilJB2ZF/QwFZcVr9njjz8eVAObgQs9G8vnBb+TNHbiNOOpcD9Gk/MV0DQCzvyOAHDLli0uPR8ee+wxvPXWW6CTXv/+/evjAO7btw+9evXCsmXLcOqpp2rTJrlAj+HFixdrfREQEkB6K596AACa3kqBCs4k4I8A0E68PVV2nlT3Gq2Js2DH3bs3Q9MrrkeT8CFY+9Id2LdlC4JrajRbJ28wbjI+RwBQBV8EPRyHN8GXGpKGD3RxcjHL3+vJu19sADlPUWOqDhFyqAoo5F+ruWLNxmnEbJhdY/d3XwBAR+FTtqZmY8DH3fDDRZvQu2Oi9lIjwX05d0n3ZZTBpPuUK3Fyy1Mx986b6gO+e9MG0FUA+NGag7g5fzsKzuptujRyfzmLz0fVIkOSLF261LQ9oxcKypjATDJn6OXsyf3rqt2k3YkZAWfOi168mzZt8uozyu5YPVE/AAA9IUU/bsNfACAfchLolgCQbJHVUBHeUPc6AoB8UOrfFvlQi4uLwkVPzcLHSz7GCUkt8O0LL3iUfXR0C+jtJf8u8CUAkKngJKezu04udm57sW8UJwbuH66V3gnEkdemaqTvClA+1gHgbe/Mxby9M7VQLvriyMFEZNpt+qU4v8N4vH7DRJ8BQI7RLshck1KJ4RkbkNmnHyLDnFsvWQmbwmDGvB++/fZbO1v5iLqSOYVzsaM6ttuhLzK0cExGAJCAfdiwYfjzzz/tDrvB1w8AwAa/RA17gP4IAEnlk8ExMwj2prrXaFc4inWXnr4JnTv3w7JVv+LcYafjyhfn4+1rzvTJ26xqL+lJD2O7dwX7JnBn8ZSTi5UxCOCVGHk8yBhCiEUPAPXehyo76IjNssqyHOsAsNuUK9Azph/+e989psuiV2l2eGIkrut6Fx65eIR2LUE5gbi3VJquehoXl9Ug+a+1WJnUG73bhDmdp5WwKUOHDtWeAStWrDCVmaMKzthMZ6pju17HrrKmdidmBJyZB54hWBjP71grAQB4rK2oj+fjjwCQxvo8HJyFo/C2utdomY1i3fEhvHz5e7j88tswavJT+Ojtd9F+8ufYelVXn+wUAkDKiQCMKmpfgi+ZoNj/EUSRHVXje3lTCPqQMuxXYkjy4OV6qWyeWeouYSgEDIqak9+bBVU+lgFgbtFBdHytE2YPW44xg3vZXtL4x/ri0ZNfxq3/GKKtidgWChjUs6+uMLDqoCSvuF0GkG3EfLce78R1xyV9mrgNAM8880zN45Xera4Wu2DWiCW0ojq224+r8zECzrt379ayfnz11VeuNttgrwsAwAa7NI1jYP4CAHnoEkiw8KBmMQq34it1r9Hu0Ds6yP8//fRRvPnmbKQ16Ylep5+LX849B390Oxm9kp2zCJ7YgQSAlAkPUQJBX4EvAUtk3iSTCZ1kXAlKbVcO6h5QAS+/dxcA6sdilSXkdZSFt1LNyX3hTS9gR44AT372NZ7ddC9ypqxHcLD9wA4xT3TGW6d9jgmnn6S9pPDljrahRmCF4M8orZ2dPeIOAEz4YjPujW6LycObOe3SSty8f/zjHzhw4ADWrl1rZ/hH1HVnLmxIwLZqs8lnrbzUiKy59vy3K6DZzuSMws1s3LgRzz//PObPn2+nqUZRNwAAG8UyNdxB+iMANAq34mt1r9GOEDs38TIl8OGB//TTl+Hr9Xuw5uvtWuy/M78rQL+gGCyeWBcD0BtFGFA+uL3taGIEivT5e3lwE4x6GwCaeTWLUwwPMyMG0BMASrV5U1lCyokAnB9RHXty7f8uJ5D+j9+N8OBI/DzlKdvTqampRezzLfHFub/jjBM7adlvKBuqgF0B2+Js4owlFJBp1IfZBNp/tgOjI1vgtdFxpgBQ7n9HFS+88ELs2LHDLds2d+biaFyOVMeyf41iQJrJzervRuFmfvrpJy1Uzvvvv2+1mUZTLwAAG81SNcyB+iMA1Idb+TvUvUa7gQ8v2ify8FG9W6+/vj++yY5BUEW4FvvvkWV5eLFyN/L+0RfhofYZE2c7kQ9vHgqUEQ84yoYsmLff3GVMjoJJu5KVxM4dZzV1nS8AoCPgIuBGgv1yn6iqY3dt3rwNAI08Qauqa9DyyR6Y1udd3DH6NDtLptXNLihF53eTsGb8bnRr08IpADRq3BHYVtXGerDtDmg6YW4KuoY2wcJLEtwGgExJRvaPMelcLe7MxU6ffOkWcK2PAWklYLXVvoxY5i+//BI//PAD/v3vf1ttptHUCwDARrNUDXOg/gIACWx4ALFIuBWGWHAnd68nV5TsH+15eCDRs48AUMrZI9rj563AfU89jWkTJ6KsshYtlq3FfeGd8PhI50yCnTEapVGz6zFtpz+1rgo8CTbpoKN62KrqV7vBXM3GxH1B8GMlkPbfAQBl/GqqOTPPWAGGduzd/g4AOHv5H7h11RgcuGcXoiLtmzRs2J2BoZ93w4FbcrTrJf+1ev+Yrb9+H+pBIfeegG3uPd4nlK8rL0VnzN2PStTi58ucs/dWAidfc801mgPIzp077UzxiLrOGFOXGzW4UL8uVlXHAhqtjsXoJYOq323btuHJJ5+02kyjqRcAgI1mqRrmQP0VABIEsng6mLPdVdancOO49GrONmechNytB5CzNwVRERFaF+d9lI51NYVIv8I8qKzZmJyxX2QkeZhaDZlj1pfR7wI8+RtV3kaHtzcAIOdN0KOGdjEDTM4AoHgKe8tO0lmuYTOPTaP4efq1+DsA4Iinn0Ba6R78NW2mK1sHX/2xHRd/PRSFkzK0690FgEaD0NsSksFiMbIlNNs/l87LwsaqEmye0NHpfK0ETr755pu1GIBMM+Zq8Ya8jMbCe4P3tTNgbraHraiOjcLNzJo1S3u5fvDBB10VU4O9LgAAG+zSNI6B+RsA5MObDwPJV+vt7BGOdoEwknwwEjCIcb84GagsV5OB/dG1e2ds/PDT+ub+TKtA/x1/YEmrPjirR6RLm00dgyP2i7Lib2Yhc1wZAPu3mr9XAKCzrCRWx8C2XA0kLXERKecy9l0AACAASURBVBO9DeDfCQCdARfVQJ/1HKk3/w4AmDD1VFzT5T48e/VFVpfviHoffLsGd/w8EflT6tSgvgA0XGeRociWLxOqg4n8rgeEdy3Jx7yDWUi9uJvbAPDuu+/Gp59+irS0NJdkx4usADOXG1cudPXesOt1bORtTNUvowcwQ8exVgIA8FhbUR/Px58AIJ0IyLDxLZSsD5m2v6OwbzWYMcfDg8KI5dq0+0/06zsUb8yfg2vPGnXEcLt/sAPxQWFYdWUH29NQbe2cpZHzFgC0o3aVyZmlpbMiBJk3D2xXAkk3JgCol4cZw8J9yRci2Y9W5Gmnjp6dWfnXXpy3tB82XrUTHVrVxVa0W579fDn+tW4ysh+vC4XiCwBo1Ifqze3Mxu3lFSWYUbwPOaOch7uxkjnjkUcewTvvvKN5ArtaXAVmdvvz1MuFmeqY97V4G8tL9FNPPYUePXrgqquusjvsBl8/AAAb/BI17AH6EwDk4S12O1Rt+hoAOgovou4QPcgZ++i9WPrRf1G2fftRG+ntn4twZ8kW7DulH1pGh1jaaGa2dvpG+OAmOHUWM9FSx4cquaJ29QQA1M/b1fR5jRkAGq2TMCySFkzq6AP9esLuUg8AJ77yFn7KWoa90z+3s4WOqDt59iK8v+3f2D/9G+17XzBaVvswcjD535YqXF+6B1mDetY78Bipja1kzpgxYwZefvllZGVluSw/TwEzswFYiZFp1oaj39UXG4kDybpPPPEEmK+X2ovevXvjrrvucus5Nm/ePEyZMgUpKSno2LEjKP+LLnLMXFPlvGTJEk1FT3vzM844A8888wzatm3r6lSPui4AAD0mSv9syF8AIFdXHg6S09XbIUVkR0mIGXE0cBZPT596LW5APwQ3i0DO8qOj2DMERvyCjbg4uDXeGevcq5BjMQtxYnQHeAoAitpVGAdX4tnpZWP1jjVybrF6rb6eGQA0s3NytV9e58wG0J125VqutWTQUINV650gHKk3zcagBzXtp4zBGYnnY/btN5hd6vD3f745G1+lLsSeGXUx3nzBaLnaB+W49UAlBqZvxOYOPRHbpFZj/Y28uXmvcg2c2d6++OKLGgjJyclxWX7eBGbqoLh3CcS4d7xZxKmF9+GqVavw448/YtmyZdi1a5eWSYhAkHmBb7nlFpx44omWh7J69WotnRzDyYwePRqLFi3CFVdcgZUrV6Jfv36G7Tz88MO4+OKLtX64Z2izyXzE7sRt1HcUAICWlzBQ0UgC/ggAvR1SRJWzGmLGmapVrlFTr/2wZQtG9u+PAWe0w4olmw038DXzM7GoJgM5405wGERX8mNKQGUeKmbG6tKZUcxEu3eSpwCYXQCoMq48fOzM29EcZX1ot2lkA9jYAaBRHEOVJRRgSPmo4TuseGuqAHDPgTz0nt0Fy0atw5Be7e1uqfr6l770KjbmrsHmaf9p8ACQA6yqrkX872uxtOUJGNolvD5Ytd5OU+5Procj2b799tuYNGmSFpzc1eILAMj9w35ceemzOy8j9fx1112nZQJJSkoCgRwzp1x++eXo27ev5ebZRkFBwRHBpMeOHYsWLVpg5kxrDkzr16/XwKJoeSx37qRiAAB6Qop+3IY/AUB5q/aGR6l+C9lVtaoAUIDiOfffj99/+gHjetXinXd+M9ylBwqq0fG3NXg9uheuGxx9RB0jRxO7b+D6mIl2bhUrKm877ang2Ow6YTt5eDLji915BwCgYwmrdlh6JwhnOWJVAHjfrAX4YNcLyJy20mwpnf4+8uknkVOeid8ffalRAEAOMvbrjXixeRdcOyjqqLmJbCV3Lis4cjD56KOPcOutt2oB0l0t3maVOS4BgLwPrb54ujofI3b20ksvBdlS2gG6Wgjcxo8frwFuKbQtZIiZ33//3VKzVP+++eabGhvpqRIAgJ6SpJ+2448AkEvtCYcCR1tGsli4EmKGb5laDLyQEMR07Yq2J7XB5f0SMXXqAoc7dOAHe1CIamy5qkt9Hb2jiStZC9iYqwDQFXWz2S1oBQCqbCeBNBkUTx46zhhAbzsgeFuN5o49mFmoFAJDgkXWIxPba+r1aNe0K76c5F5ojlOmTUJESCS+f/hxnwFAd+TEQbZauBU3Nm2Naec0d7jlVW9WRw4mtC+74YYbNBWwBKu2s9d9xcz5EgAarc15552HTz75BMnJR8devPbaa7UMIeKEp18Qqn2XL1+Orl274v7778eNN95YX4Vg7oUXXtBiDJqVb775RrMXXLBgAc455xyz6pZ/DwBAy6IKVDSSgL8CQLvqRCu7R3VwIIhzBXzQToXXvfXtt5h03XXo1roK9951Pa6++l8Oh7Bs00FcmLUe6447Gce1Cq0Pbq3msbUyfqM6EjSbwamtFAFgBICuysBRPwKOHaX50qeP8xTrp47nWAeA3DOekJsjlpCyLKusQec3e+GNwf/FxGF93QLovR+9GR2iu+KL++/VlsldcGZlj7urNu3yyS6cHhGD/1zYwmF3znL0imy//vprXHLJJZoXsJp/V2VhnQFCXwFAeSb4ggE0WpvTTjtNs9WjI4a+kDGUmLBGi0GTDj773GEAFy9ejCuvvFIDmhdccIGVLWa5TgAAWhZVoKK/A0CyYhLE1QqbZHXHqOpeghN3bF0k8HK/q69G89hY7F74AebNm4nTTrvC6XBaz9mMfmiOOaPq1Cx82HoiILFVAKhXN7N/T3iOqpN2BADt2llaXVejejIGylbSaFHe/BwLDKCnAKCjlwmCgde/XIUZf96CPXf8itCQYNu2hGrbXadMxCmJw+sdSRoDAOw3dx8Sg8OxbHwrpwCQ948z5p5ODiNGjNBUwNx/Yp8pfx05mAgo9BUzJwDQCIC5cy8aXatnyTnHgQMH4q+//nLrxYY2gHw5pyewlHHjxiE+Pt6pDeCcOXO0+IOfffYZzj77bE9Pl+vu2VygHh+hdxv068l7QrT+xACqANAZm2RHrmS6VEcJV1NQSZ98gGUXF6NHz56Y+fknuOHcC7Br1zokJzu2X+ED9oEvsvBGUBr2n9kTzZpad/IwmytVUfwwkKqjos/f66q62Wws+jXzhGexWZ/63zkGzk9stDgGFrIuXAcCQ28FF/eFCtibAFBkduazj6GypgK/Tn3+KCcIsXdzZkuorknbKedjXMer8PL1l2pfu8vOWdkP7q7DiI8PILe2Cr9f5jgciJUcvfQoHTx4MNLT0w3ZLTPnHWIHsubeZub4fOB82I83ixGjye8GDBiALVu2uMU003lk+PDhmhfwqFGj8MUXX2hewEzF58gL+NVXX8XUqVO1uqeeeqpXph4AgF4Rq/806q8AUFStruTz5O5wx7PW2e7i4XLXu+9i3rvvYvmsJzF8+MXIy6tLpK4vAoA0Oz2Eov3P2/BAWBc8NsK1oLpG4+IBwfaZgcOofz7Y+Tvl6GpsPat3m7pmakBnHizuAm8rY6C8ybbwL9XbwvwJ48KXAQGE4rmp5uR192XdXeBhNkdvgycCwOrqGrR5bgAmHf8SJo87mhExsyUUz2ORfeLU03Db8Q9j6vhzGw0AvGpBDn6uKMSOCZ0cLomVHL2ML8cQI5s3b0abNm3Mllfbm2Z5jl0N8eOsc754c+19BQBVQCsMIGXk7v1Hhw8G36bcGQeQuYUvvPDC+qmfcMIJGiicPHmy9h33Kp9LcsYII/u///3PY4AwAABNt32ggjMJ+BMAJGjgw4jF1Ry3KuiSFG6esJmSNeIh3OmcczD8/PNxSXfg4YefxtathUctoVFolXPnpGFjbRHSPJAfWDp0BACF+WQ9T6mbze5UAkCya+Jd7AkbR7M+VTmo2Vv4UKdsWORgkUOb+0KNo2c1TZjZWI4FALhw1Wbc8Ms/kHLbbsRGm6cwVG0JVRWnpF1LfmYQZvR/Hbecd6q2Dt4GsVwjdz1nH/qyAO+VZuDARd2dAkDuI2cvNnwZad++PX777Tccd9xxZtvnqN/5POSe5X2kypYydyXPsaMB8FnFe8VTweQd9WNka8i+hwwZooHkY7EEAOCxuKo+nJO/AkBXUpypoMuVNGJWlvWrdetwwdChWLdtGxZ/9CCWLv0Gy5cfzvXJh7Pkz9UDoA2pFRi48w8sTToJZx7XxEp3pnXEmzc2to5V5EOWhwbf6D0VW890EIcqUP0qqZ58BTr1Ti2cN+VOIOoIAOpV4I68OPWHrJnNpLfBjbfbp+zGvvQydhT/ia3TP7C67EfVU+WZ8Fw3vD5oPsYM6qGBFq6XxGIUltDljhxc6C4AnLmqFA8U7ELeyBMcDs1KthE+j2iD9u2332pqTrvFSDXrCHCzbWGzVRbWSp98hvDjKwCo2hrS2Y/BmBn771gsAQB4LK6qD+fkrwDQToYLFfR4m3U66557sGPTJuxdtgy33346CgoK8cEH6zTWS8AYH8SOYtt1+2A7EoIi8POVrgfXVbef9EkVsJX+vbF1VdDLw50PeHfVOWbjdOTUImpoIwBoxW6L/TpjtZzZvnkboHm7fQLA9jPOxSUdbsSr/zfBbAlMf2cmnNgX4vC/f6zHKT3baQ5e7ENCeghLqAIXd/eNJzxnv9tWjjE5fyF/UF+HwdutZhuhbS6zUtA+zW6xapunAm7VwUQ1c5B/G8mXzw2CVb4werMIo6kCQKZtu/3227VQLsdiCQDAY3FVfTgnfwKAfHjxYcRiJcOFCgKcgS5PLdeBXSno3u9knH3mabhpwADMmfcK2vXogFseeAvhLVsiJCpKe4t25mTwxsoi3FO6BfuGWM8P7Gz8fHAT9BB48d9m/XtKFtKOhHYRdoxzd5YeyxP9q+F89PP1BAA0GqOZ7Rv3HwGmN9NpeRsArt68F+cs6YM1l+1AtzaOQ6BYXcP9OUU47v022DBxLzomxWmXiZpc2ECCAglW7QnVpicAYEZhNbptX4cNHU5Cx5ahhtO1AwDpacr0ZHaLO7Z5qi2hmh3GKIc072GugS8AoN7ZhI4yDNi8cOFCu+JpFPUDALBRLFPDHaS/AkCzAMeqZ6uvQM/yL5dj4piJ6BgRgoraIuRUVIDWfwcPbR9aTMUFByM2NBSx4eGIbdKk7hMdjdiYGFBN2zwuHrPzgV6xHXH92V0Q06YNYtu2RUy7dggJD7e1EVXmzd3wNrY6Vpxs1HiCkkvZWweJCvgJeI3C+agAUJw+hPWwygBakYXKEhpl25CDlkDHXVZLxuNtAHjNq+/h6wPzkDZjqRURmNZZsz0dw7/ogezb8xAeVpdj1pF61syW0CpLKADQXc/Z5ivX4tMWvXBuzwjDeVoNZ0Nm/q233sKECfYZVU/a5ukdTAQgqmp4SWvnqf2qF5zRfOi9O2vWLHz44Yem+6kxVggAwMa4ag1ozP4EAOWAp/gdxbcTBwP+7gvPVv1W+OTBTxA2Jwwj/xqJ43om4I03nsLwIVegZP9+FKSloWD/fuTx31lZKMjJQT4/BQUoKCxEXnEx8g8eRGbJQRRWVaK4phr5tbWoc3sBGMglNiQEsWFhiIuIQExkJGKbNkVs8+baJyYuDrEtWiA2IQHNWrZEZHw8miUlIbp1a7Tt0QNBBp7Int7KjlSvcrjzoPYGALQaykach7g3vAkAjeRKcCNOMI5YF8kI4cq6eBsAdnrkEvSLPx3z77ndleEddc2SX7fgsuVnonByev1vduzzrNpmqiDGUwAwfulfmNa8I24bahwaxepaxMXF4bnnnsP1119vW6bets0TVpsMoABwDtKTDibqpI3mQ/vIL7/8Em+88YZt+TSGCwIAsDGsUgMeo78CQKP4dqq6keyPJwIp2136ooIifHPCNyi+tBA3vHYjNm9eiU6d+ttqZn9+NTqtWYO3mvXCVf2jUJqdjby9e1GYno78/fuRf+AA8gkgc3ORzw8BZFER8kpKNACZX16O/MpK5FdXo+BQz+RXYoOC6gAk2ceICMRGRR0GkDExdQCyZUvEJiYiplUrxLZpg5jkZMS2b4/IQ04kziZiBsLs2G1aFZh4dVPlRlCnpeFzAnTNACDBgquhhczGrAcFetZFUq1xDCqjZZUltAo6zMZp9HtGXjG6zeyIT4evwLkDerrSxFHXvPf1r7jnl6uRP/Wwh6cdAKhv0ApLSNlKSBN3mKw287fjsiYJeO4845BNVteCTiCPPfYY7rjjDtsy9ZVtnqS1k5cXYbTlr2qradfBRA8A9baGVP1u3LgRzMN7LJYAADwWV9WHc/JnAEiWjyoUX2aScLS0KvP1w/s/IGJ6BK6quRwHsjMREmJsJ+Rsm/T/YA9Kaqux+erD+YHNtpUKgMXJpLKsDKkMoVBcrAHIvPT0OvYxK6uOfczPr2Mfi4qQX1qKgrIy5FdUII8AsqYGpYc6pfo69pD6Oi48vI59jIpCXHQ0Ypo319ItRcfEIC4xES2SkxGfnIzmrVvXq69DIyO1EB88LDzlTehKLMGGBACN1lNYF9X2jfWseHBaBR1m+8jo9ykfLcbrW6ch/aEVHgPIT8//Bs9vmIKsx3/RuvSEfZ4RKDTKsOFunMfjPt6DvmHR+HhcS0NxWg35k5CQgHvuuQcPPmg/p7KvbPPM0tqZydeZg4kqPKP5zJ49W8v7zvh9x2IJAMBjcVV9OCd/AoAUq7yN8mEhB54EMjZjf7y1LCrzRfaI41l8ymKsCd2FVzbVJbm3W5b+dRBjszZgQ89+6N4qzOnlzvL38lBlKAXaF5qFKTHqpIJq6ZSUOvU1AeSBAyjIzERBdrbGPubl5yOvoAD5BJhlZSgoL0deRQXyq6qQp6ivmYmY7GNMaCjiqb6m7SMZSAP1dUxiIuIIIMk+tmuHZq1bH6G+5pwkgLVdr+6GDgDdATBkQb2VCaT3o7cgPiwBX97/kMcA4H2zFuCjnW8hffqXXgOAennKvUI5uQKypb3Bc9PQJCgY301o7RAAWkkp2apVK9x4442YNm2a3UeEFsaI8/G2U5Vd21h9sGr+X15iVPWx/nkkmWbU+VD1y2fqnXfeaVs+jeGCAABsDKvUgMforwCQIEsC9/JB64tMEkaHs5pJgwCUDzuCjFfv+RRFPzfBP9+fgK6D7TlvSD9JH23CoKA4LLrM+JAR9Sfl4MjpwV0A6Gjrq7aWjkBYLRlEAsV9+zT2MWPPHhRkZKCUgDE7GwV5eZr6Or+wsI59PHgQeWQgD7GPBbW1YKI25lAR9XVcWBiaH7J/jG/WrA5A0oEmPh4xh+wfY1u3Rgw/dKBp1w5N4uPrp6HGjxTbJlEFysuFr1TArj5WHB2wbE+CD1tVG1sZQ1lFFVo92w1P95mN684e4DEAeN3rs/Bd+lLsnvHpEQDQXQcNZ3MSAKiGGrESJkVsM2WvjP40E3ury7DhMuNwTVZV2cnJybj88svx7LPPWlmKI+r4CgBayWribPBmpg4CCqnS1ptgUPXbqVMnMJfvsVgCAPBYXFUfzsnfACABF5k/CeJLI2p3bHlcXSqJqce+1aDGZBUY8Ji2PRf3OAi+/C7Y5lr8rMlLc/Fq5V7kjuqD8NAj02ar6k+zoNZUoVBV7qmMJ47mbiZLK6F71DZqGMImLU0DkGQfs/buRc6BAyjNz0cRVdf5+XXgUdTXBJBkHw8ByJJDjdFPU1Nfi/3jIfV1TNOmmvpaA5AtWqBpbCxiWrZEi7ZtNfV1zCHva6qvPVG8paKVA5YHNQ9TsYXzlLH+28tW4f7fL8e+OzcgIjzUYwBw7AuvYEv+Bmya9o7PAKBRrDmjtXXGYvE+unVpEb6uyMeeS4820bCjymYmkAsuuADMO2u3GDFmdtuwUp/7yiyriZV21DqOwibxecq+tm7dquUvf/fddzF06FAtGLQ7Zd68eZgyZQoYV5Bp4GbMmIGLLrrIUpOsx1iN33zzDc4880xL11itFACAViUVqGcoAX8CgHxoZGZmag8IsjRk2nwNANUcwgReHIcKQPk77eo4rt2/V6LfaVFY+GYRhl1jHwSWlteg5Tdr8WB4F0w5p87Y3Arzpt8oVAHTRs9dpxh3s4iYhe5xdIu7Cjipvi5ITdXU1/mpqZrzTHZ6OgpzclBcWIhcMpCFhSgoKUFBaanGPhYQPB5SX9dFnASiD6mv40JDEUPnGQGQh+wfY+PiNPZRYyCTkjQHGqqvGbonulUrBIfW2YBaDQ3i6qNOAKaAQGfG+nZyxg574lEUVObil8nPagBTnynF1fGe/dR0FFbm49epz/sUAOpjzVkZv54lfOr7UrxenoG953So94pVPbi5FlaYTLJbBBUEOnaLtxlrGY+VrCZ2x66vL2Yd/J577N577wXjI/LFlWnyCJIHDx6M/v37a4Hk7RSGkhk2bBjmzp2rxVskmGPO35UrV6Jfv35Om/rggw/w0Ucf4euvv9Y+AQBoR/LmdY+kNczrB2roJOBPAJBTl4eeCrR8wQCq6lYCKT7cjWzq9OO67+wS/LAuHKszQx1mDXC2qUfOScOm2iLsu6JHfSYPPetodlN4AgCKzaU7AbXtAkDKXNLmeSptnVUVMNXXB3NzUUgASccZhu7JyKh3nqH6ms4zqvpa9b5m+B5RX8eI9zXjP0ZGavaPcWQfmzWrYyCpvuYnIQExBJD8EEAe8r62Gr7HGcOoD5lCcCiHrd7jWN1PzNaRMK0/busxHQ9eeKZHAeDAafchOrQ5lj80tcEDQP09NmdNKW7J34GcM3oZ2hJSvnw55LPC2fOpe/fuGqghyLBbnDln2G3LWX2rQa3d7VPPNHI/MwtIUlISDhw4gFWrViE9PR1LlizBueeea7k7qo+plZk/f379NWPHjkWLFi0wc+ZMh+2kpqZq7COBIpnaAANoWeSWKwYAoGVRGVf0NwBINoggy1u2bUZSZmgCPgTZr5m6VT+uwsxq9OoYgsf+WYL/e8k4ZpizLbB+XwUG7foDC+OOw8C2tVr/etbRbAuRkSRgdcVO0llWDbN+9b87it1o1I6wfgTZjtLm2e2f9VVPZCMbQK6fJ4zqqb4u2r9fU2FrDjRkH9PSUJyXh0KCx0Pq6wKylGQfDx5EwSHnGYbvKT40OVqP0v5RYx+V8D0xZB+bNUMc1daH7B+bxMRo6mstfA8/7dohLCrKUExqyBSjQNWiPv5m3U5c8u2p2PnPPWgWGeJRAHjC1H+ia0wvLLz3Lm2Mwq5bYc5cWXteYzV9mln7v+2txFmZG5DZpx8iw+qOMQHZfF6IPRu/cxbWp1evXujZs+cR4MSsb/ndrnOG1Xb19bzNXEt/RkzjZZddhqeffhonnFCXdzktLU1jBe2wgGT5xo8fj0mTJtVPjdlFCAh///13h2IZOXIkLr30Ui1GI++HAAB0dQc5vi4AAN2Uqb8CQIrN07Zt+qVwRd1qNK43binB0+83xV/7qhEdX5fxwEqR0DI95+5BIsLx05XtXbLjcwUAWnEwsTIHtY4VAGimYrfbp9FhJqFo5GVCdQLxFAA0Gqedg7SytLQOPAoDmZGBQobuofPModiPmvqaAPKQ84wGIKurkVdTg4pDA+ArB+0f6TyjAchDwcMFQKrqa3pfN+OHwcOTkxHZsiWufPs/2Fi4CpunfKCBJ7KFnnKS6TJlAk5LGoFZt9YZ+PsCALqTPk1d08KDNWi7aS1WJvVG7zZHeumrjiZmKdcGDhyItm3baqyW3eKuc4bV/rxlu6rv34hppMqWalgycPpy7bXX4v3336/PHa3/nWpf5hDu2rUr7r//fs3bWsqbb76JF154Adu2bTMUw+uvv66pihmEmiUAAK3uFnv1AgDQnryOqu1vAJAPcFFfeUK16Uj87gSV1o+ruqoW/ROr8Y/BZXhyqTX7FTW24fvravFg5U6kndoP8U2tA0iZG9UfVKFatd2y42BiZ/uaAUBRM1NtRqbTU04r6hhVBrAhA0A7cpW69TaAQUEoy8/X1Ne0fST7qKmvGb4nN7fe+5rBw/MPBQ9n+B4JHk71NQN38OFce92JOKG6N5Y/+6KWS5rF1UDV+jm1mfIPTOjyf3j+mnFHAEA77I5dOXkyfVrM9+vxTmx3XNLnSPteI09jGafeI/bUU0/VGK0vvvjCdvBvbzhnGMnTakxDu2uhr2/0gjR8+HCNeWMYKyPAyGeKo0KNB22f7TKAu3bt0lS/tB1s165dAAC6u7BOrg8AQDeF688A0BVmy0zcqsqToMmuupXtGwHTr94sxfi7mmH96jK0P8lxXD81xp1ktuBRHPf5BlwWnIw3L0owm8JRvxMAUq1pxtzo+yYI86R9pVH2Fg5WjWPo7bzNPGRYeDgIGBSHCGFrvJGqjn3aYQBtL/Kh9j0RB5Dq6+KMDGTs24lZq+/A4JOfwOiho7TYiwL+VAcTjlVkKPaEVvZNwtQhuPvEx/HQJec0SgDY8ovNuC+6LSYPZ5TLw8WqpzGvIACkzMhU2ZWpLwCgHY9mV/aseo0R0zhgwAD8+eefbjmw0QaQOcDpCSxl3LhxWqQGIxtAsopkC+mFzPmz5OTkaECdqmSyh54qAS9gT0nST9vxZwBol9lytkVE5SlqCCtBXB215wiYXtDlIKIia/HxX8Z2WWQn+BDkWPQ2e1fMy8DS6izkjq+zhbFT+PAj+HMGAKVvtuutuIp6ACgqbsrcmWONnbma1aV8JQcw5aH37hQwozpGWAEzZv3yd28b03taVbcq81uU7LsOw/vu1lRgRipHRzHerGTaiJt2PJ4Z9B5uGDnIZwDQk/lz23+2A6MjW+C10XFHAUCrnsZkuChXOjhIcSRTPfPKPsjqu2Lba2W/so4vAaA+diL7JgDcvHmzS0HsZY5k8ihnegGPGjVKY1vpBbxixQpDL2DKleZFaqGa/pNPPsE555xjyEZalae+XgAAuiq5wHWaBPwNAPItWVRRVoCNlW3iDHhZuV5fxxEw3bKiHIPOaYqls4pw6oTDaiMr3q6SH3hms164cqA1NbKMS7JfGDk3qHaOnvK0dSQzqnh52OnT9xHsWlVPu7Ie7YtBogAAIABJREFUcpCJipnghG/3ai5T1iFAJQtI8CdZIvi9OETYYbeMxtnYAOBn26eh+uAfmNB7oTYdqzZnZjH0RJ4xT7fD7OFfYczgXlr7dpgzV/eBJwBgVWUV1ixbg6m7cpGcU4j/TBvvMgCkNytDW/3xxx9Op8T7VM1cYtWL21U5qWDUakgbd/oyApr8btCgQdi0aZPbmgg6fDCd3N69e7U4gE8++SQuvPDC+iHTyYSgcPLkyYbT4L0fCAPjzgobXxtQAbspU38GgM6AjRWxuhvXzlEfzoDp7aeX4I+tYVixP0wLC2OUv9dRu/0+2IPy2hr8dXVnK9Orr+NITt7ytHUGACVdmbPsJbYmZ6GyqtYn00gAQpaTsif4F1tD/ltNraX3lOWhq/fq1GeIcDacxgYAP1k/CqFNh2Jc17o8tVYBoF4GepaVcqysqkb7d9ph6Yh1GNSjrbYGlD3ZF2/aAHLPc53tqvlLCkuwasEqZC7KROLqRATXBCOl9zaUdavAja/dfsSU7TiajBkzBrQ527hxo4WdfLiKACaJ7anfm2oQcHcYbF845nBWMh/VA5x9M/afJwCgLeH6sHKAAfShsI/FrvwZAKox3eysLR82An7ciWvnDACS0TJi3HLTqnB81zD8684iXPRwrXYYWbV7+2LjQVySswEbe/VDt0Tn+YHVsenl5G1PW0dy4eFOECQAzFesn4SXoJw5BgF5AvhUoMd/i92nUZxHlYkRBpHzFXbQWYDlxgQAq2uqsWJtB0R3+Bj9Ww51CwAa7Ye9GXk4cU4HrJ+wG61i61IoSuG+sBOo2s69bwcAZqVnYfXc1SheWoy269uiKLoI+aflo8O4DhiSuQnR99+L4n37gObNjwKAfLngfjMrEyZMwLp167Blyxazqkf9rlf5e4MldObQYnvATi4wApp8kaYXsBk76slx+LqtAAD0tcSPsf78DQDyQcGHOIvq0Wl1WVXvWqvAy2rbUs9M5fr8NYV4fX4zrN5WjBZJ0bbsW1p9tAlDguPwuYMk9EZjJQAkmCHrIYyjNz1t9WNQnUv4my+yt6isn6iYRdVOGdBuijLgh3Wp/uW+4vcq8OM1wvI5AoS8XlXP8RpVbSz2cI0JAG7KX4e8nedgQN80hAfX5bL2pNPBqs37MGLpCci9Kw+hIXXp6yh/ro2wgY7kaPd+VOuzfa6VIwZw96bdWDtnLaq/rkb7be2xv81+VAyvQM8JPXH8kOPr90ZU//60DUDpr78eNRw7nsZXX301fvrpJ+zYscP2tMy8c/UMtqjmxZbQCkvoqbiJZpMzApoM+vzPf/4TP/zwg9nljfb3AABstEvXMAbuzwDQTm5ZFYSId63Rge6JVXXETEpA6Yqyagzr3gyXDC/Do5/bs+d7YEkuXq/ai/zz+yA0xJoFhXi+8iFrh3H0hCxU+0rKnUDLKKSDJ/piG6pjCcGcOPPomTuxJeX3LDwUyTyprKSo1YSdkrrcN6zPj34PqYeuAEP+ZV3+JjlVpQ1PzVteiDzhBcy2Fu3+NyoLFuDiPt/VD9GTAHDhL5tw1XcjUfjQvvr2VbDhCfBiJFs9AOTabFy5EVs+2YLI7yKRlJ6ElONSEDIiBP0m9kPHnh2PbiY/H9Ht26PslVdQdc01R/1ux87wpptuwv/+9z/NNs1u0TtNWLle7gP1pYXXGb2w8HtfAUCjfhij79FHH8XixYutTK1R1gkAwEa5bA1n0P4MAK2mFuMDmWCRxVseruqO0DOTqqMFD2iyD4tfPIhrHmqGjevKkNzDujpXyw/87Vo8EtEVD50VY7oR2TcZSQIxght3vJtNO1MqqIBb5syHvORvttOW1boqu6uyfsJ8CNATMEZ1sLCB/E5YPElITyZKbAb1amL5v4zNjCVk2wS/bFsApSuhU5zJwpNewHM3Xo6gsGRM6PGsVwDg28tWYdKv/4e8qX8aAkCjedoFL44AYHlZOTZ8vQEpC1IQtzIOTUuaIq1PGpqNaoZBlw1Cy6SWTrdc+IMPIvztt1GclaWxgPpiR8181113aeFJmHbMThGbOXfvZzOgLSDQ0yGh9HM1sptklo63335b8949VksAAB6rK+ujefkbABSGh+I1CyzsLScPs6VVmUmxNTTK33tuhzK0iq/B+2vNbYXUPs+Zk4ottSXYd8VxTociAZ35l0CGQVF9UdSQMgRiYqjO770BALknCK70jiUqYFAZN2FixRZRr/IVdlD1OBcwKH/l4OQe47+NWEJpV/6KClhUnCoLI+pOlYkRltHqmnkSAC5d0xNRrZ/CsOTDnpKeZABnfPoVXvlzGjKnrayfnh3nCV6kBy9GTjqifi8uKMYvn/yC7P9mI/n3ZFSHVCNzcCZajWmFweMGIyra+j3YtEsX1PTqhYNffGG4NHYA4EMPPYT33ntPy3VrpwgA9EbaPPW+ETtZjs0RS2hn3I7qGqnNv//+ey1kC0HgsVoCAPBYXVkfzcufAaCjwMKqGtCXtm6y5JI3mP8XY3CjgNIbvy7HqaObYvknxeg/JtLyjlmztxyn7lmLr5P74LRuR1+nZ9/YMMGGN70r5UAmSCAwNwopwwOaIXIYgNVTRQW5dlg/spJkRM08JAXcSQYacfzgYci9pcYLlLoCClWWkPW5X6mWNnJ+MQqdIipmqzEJPQUA00tTkbb5eHQ5cTfiww+vlScB4F3vfYZ5u/+D1OlLXQaARntIVfXv37Mfaz5Zg4pvKtDhzw7Ii8tDwdACtL+oPU4ZfYpLmWaCN29G1KBBKF22DDVDhhhuYzM7Q/WiGTNm4JVXXtFCwdgp3gSA6jhEnc37RbVzFbMGlcV2x6zBSG1O8LdmzRo8//zzdkTTqOoGAGCjWq6GN1h/BoBqXDlZGT0g4IFrdsh7clX5YKZtjjgUmKU0u3FwCbamhGJ5argWFsZq6fLBdiQHRWDFlUfmyFTV3cK+WVWVW+3bqJ7KdBJoGqVx8yQAFNaPYFu16RQAwL8qg+aM9bM7b2HuVFAohvUqKFQZKmGFRKXMPs3UxipDaCXum6cA4Ff75qAs63lc0O/I2HSeBIBXv/ouVmZ8g53TD6v37DhPOFqzbWu3YcNHGxD0bRDa7WqH1A6pqBpehZ6X9kS3ft0M09nZCeUTOXEiQn/8EcVOVLZ8LomnudneYj7aJ554Qss0Yaf4KjyLIzBrpo4XttAqi23EmlL1S0eQxx57zI5oGlXdAABsVMvV8AbrbwCQK0AmhUVAB50KVDs7AgJv26wY7QQVfEqwYTPwmbW7Csf3CsdrDxXjkinW1VAv/1CIyWVbsf+0kxEbVedFSTBE2ejZNzNVuTu7Wu2XMneWOk8AoLtewCJnHoKSMUVl3zgfOXiEDeVBZpX1sysPlXUSUMjvhLkTNRrXRfVwVdXGeqcSZ84lwkKqLAzb5dpzjqJytzsPqT93062ora3AxONnHtGEhNPxROaJMc+9iJ2FW/DntLfq+3AFAFIW675dhx2f7UDUj1FomdkSKcenIGJEBAZcPgBturQ5Yg6UEdeGMlIZLQHkKqNldO9Gt2qFyrFjUf7GGw7FK30YhYHSX8S0Yg8++KCWPtJO8VV4FqtgVn3Z0Ts/6VXHRnI16kdUv/fee68d0TSqugEA2KiWq+EN1h8BIB8WfOCITRkZJ3G8UG3OfLVaqsqVAIiHCMfIbBNWytMTi/HeF1HYmAFERB1tVG7URk1NLWIXbsAVwW3w0nnN6+Prcf569s2RqtzK2JzVsRPEmu3wYGCaPFcBoJ71E5DvC9bPjqxkPJSPhCzi9XIQCkvI/ztSGwsgdORtzPZU4CmHrlUg42w+n68djPD4GzCqw/VeA4DDn3wcpVXFWD31sJOJVQBYdrAMqz9fjbSFaUj4JQER5RFIOzkNcaPiMGjCIMS1PDI1mzoJeXlU0yLKGgiwFltCsR8UIB/2xRdocuWVKN68GWhzJLA068ORvGfPno3bb79duy/sFI6RjKy3zTrsgFn9+FW5imz5nRp+RthXeaaroJnsaHJyMm644QY7omlUdQMAsFEtV8MbrD8DQB6udCrgIUl2xRn75K2VM/Iw5kOTrBtTnlkp5aU16J0EXDOqFA/OtR4W5rJPD+CrmizsGNnW6fw9DQCFfeDc7cjdHQDY0Fg/Z+sqzkccM+VDxkxV5wpL6ExtLDaBwqyI57IztTFND/T5jY0OXGfhj4oqCrFpYwckdv8NnZp19RoA7P/43YiLaIGvJz9S34czAJiXnYdVc1chf3E+2vzRBuWR5cgeko02F7XBwDEDEdnEmg0t70vK0llebHlZUdeM/25x3nkIyclB/tq1TgNVG4FMR/tlwYIFuPbaazXbWDvFV+FZ7MzFbPzOWEJeK+sitq+PP/64lgt4/PgjU+2Z9dOYfg8AwMa0Wg1wrP4IAAVgSWgXAi0jmzNvLpczD2Mj20SzscybUYKbn2iGP/8sR6suzsPC8EHKPnbuL0a/XTvwTrNeuGKAYw9fV8ZjNF72K2p3slhkG+3EUuT1VHVRZW/1OrusH8dHZsTIw9dsDTzxu/TP/Ujw52ieZmpjYQllTMJKidqY3wu4E5aQ89bHAVTVccLCOAsEvDJjGQ6m3oqz+m4/auyeVAH3mno9esb1wfy7D6dR0zsCpO5Ixe9zfkfFlxVov7k9MhMzUTqsFN0u7oa+Z/W1vIfUdSUA5JrYzUJTW16OZq1aoXTyZJTceacG6B2Ba6sgk+Niftlx48aBWS/sFLse03ba1svLCmB2tX1hCYVpZDu33XYbtm/fjtatW4M5em+55RZ06tTJZVtuhtmZMmUKUlJStDzAdLy56KKLnA75l19+0XIH//bbb9rZcvzxx2PlysMe667OV39dAAB6SpJ+2o4/AsDs7GzNfocqQLIedgCFu9tEBUGO0siptolW+6NK96x2FejatgozVzd1eJneyWXQx2morK3Fn07yA3sCAPLAo5rdnUDSdgGgXdaPAIiy95atn7O1pHx48FM+7N+u85GwI8IOit2gaj9lFpOQ6yxp1IyCVAtoVFWd4lwitm8L90xHTflWXNb7s6Om68lMJp0euQRntjkf7958dX0/BAF//fIXdi7cidDloWiT0gYpXVIQdHYQel/WG936dLN6Ozms5yoADHv+eURMn45ihmuJjDwiBI3e5o2dC8g084z9+eefce6552oqYKsvRWzfqrrcXYG5Ki+7/Uo/vG8I1FatWoU5c+YgIyNDA4OMHMC8wARvJ554ouXmV69ejWHDhmmxBJlWbtGiRbjiiis0MNevXz/Ddgj+zjvvPLz66qu4+OKLtXuZ3shkIz1dAgDQ0xL1s/b8EQBKPlkuNRklXzGAPCzZtxkIcjXe3ZovyjD8kmisXFSC3iMjjtjJejtDYZcWbSjF+JyN+OuEfuiSYMwcugJIpXNhG9V8unYOKnUSVgGgfq5mtn6NhfWz+2gSO1c1LiHbEHZQ/hL4ETxJaBp17QSMiD2bfgyqDSL7WbTlAgQ1ORPnt7vjiLhvBJQE2ASY7jqZcAzJU0bg8q4346mJo7Fm2Rrsnr8bzVY0Q1xeHFJ6p6DpuU0xcOJAtGrfyq7YnNZ3FdA0PeEE1LZsidLvv3fYvmr7KYBe5K+G8lHvnz///BNDhgzR4gBayR0snfsKAHLNOXa7jKndRTPyMCdQmzZtGrp3767lAyYwu+SSS9ChQwfLzV933XWaen3+/Pn114wdOxYtWrTAzJlHOjlJhdNPPx2DBg3Cs88etk+13KHNigEAaFNggepHSsAfASAPfFGF5ebmas4WnjiUHO0tVQ1pJZsGH85U6bgS7+6afqXYnx2ML1MO2zSp6dTE61Uda+JHm3BaSDzmj08ynALlRaaUzhd2ilGMPTvXG9XlejkD7OyTY6XMrXj4/p2sH8co/Yutn5nXtzvyE7CmsoT8jkUOaWEJhZUSIKIHJEbOJVU1Vfh5bTtEd1iA3rEDjvKSFfAp+ZJdnWtpcSnG3XYDRqUNR8+/OiGkJgT7B+xH/Kh49L2wLxKTEt0Rk9NrXQI0aWmI7tkTB2fPRvWYMaZjkz4oJ1XVL3adqgqeGUD69OmjsVytWlkHu3bSzZkO2EkFT4b+cTYOI/MCqmnpCdy5c2eXp0CWjzaEkyZNqm/jqaee0gAhM43oC+fLgPn0PGYg6p07d2rqZ3pqEzh6ugQAoKcl6mft+SMAlAOQS00GkJ5wnghNYbR1zMCX0TXuhDtJ31KJ3n0i8d6MIoy+t4kGMMhaSDo1o0P33sU5eKsqBfmjjfMD22Uk9XZ3zmzZ7N5ujgCgyvqpc5UDlH/VmGJWbe3sjs9qfYkraGbrZ7U9u/XUuIbiZCJqY8pJZQnF21iVpQoIBUBuzPsdRXsvwOC+qQgLPswmC/AU2za51k5miKz0LKyeuxrFS4vRdn1b5EflY0+fDPS7picGnD8AYeFhmvqec+B+81ZxBdBE3HorwubNQ3FGhqVhOetDDwhpzkL7sp9++kljuoQpNAPXvpAVJ+tJu08zAKhnl8866ywtTzLZOn2h48z7779fn2Nb/zvVvsuXL0fXrl1x//3348Ybb6yvwtA79DBmrmF9SUtLQ7t27TQwvmTJEg2cU208YcIE/Pjjjxoz6MkSAICelKYftuXvAJC2M0asmLtbQdgdM/Bl1I873q5sb9rYYnzybRP8sL0QYRHB2vycMZzFZTVIXL4Wj0Z2waQzY48akp0AzEZ2d+7KUr2egJ1v2Op8VJBNMM/fVNUkr1fj+vmSddPPXYCqN+MKOpO3Wf8CMFSWUACeCgoFxIkzA//+d+/LqC7+Ehf2WqKpf0VVKX/VVHbOmC2xJ9y7ZS/WfbQO1V9Xo/229tjfZj8qhlWgx4QeGLpyBD4++wecN+BwOkM7GTRc3ZOuAMCm7dqheuhQlFnMSWunDwI5ApxvvvkGvXv31lhXednRq41VUOgLWQkA9JTa39ma0b6Yntnqc4E2f2vXrjVUP3Mv8tnsqPCliM8ZuwwgNTe0KZ88eTKefPLJ+uZpp9m3b1+QPfRkCQBAT0rTD9vydwBI+w4yBp60UVHj29Eux6562aqtmyPwmJtRgkHdmuLmsUW49/3mlrzfzvowFdtrS5By5dH5ga0wko7s7jx9S6kAsDGyfjzcJeyQrz3PxQbVTv+O1MZqKjvub7Y5Z/0lCA7vgou7Tq93chAVs6Sy431mxLazHsHMxhUbse2zbWjyYxO0Tm+NvcftRfBZwegzoQ+6nNhF66esogqJr8bjhwu2om/X1vVbzBegxi6jFbxqFaJGjEDpqlVa/l8rxW4fNGFh2rMzzjhDa14F1+KwIyBewLUARSvBpq2M2VEdI2DmTnvO+lE92CkDOl1s3rzZlnOMvn3aABLU0RNYCr2uaZ7jyAawW7dumq1hAAB6Y6WPbNN67ivvj6VR9uCPAFCM4rlgvLn55mgW18vK4roa307ftgBAu84pPAD5wOVDfuHTQXjgxeb4a1slWrQLNR3+b3vKMfnfj+C0kCr0HDEYndp0Qtc2XRHfPN40ALMwcOzEjG00HYhJBWFsCQQ4V7XPAOtnLDxRydPRQ/a6mYrQ2TI4SmW3cksfRLZ+Aae3Pl/bg8IS8n5zlMquqrIKvy/5HSkLUhC3Mg7RJdFIPSkVzc5rhv7j+yMuMa4+BiLbI5BMySrCwPndsP2aNCTGRde/4FjNOuHOHrQLzpqMHo3gTZtQsnOn5W7teksTAH788cea56lRkftCH6iaddXUg6qJhOXBmlT0VHpBs/HQ7pcv28I2CwDcsmWLpRdgR+3TC3j48OGaF/CoUaM0oE3nkhUrVjj0AmZu5qefflpTP5OV5TWiAu7fv7/ZVGz9HmAAbYkrUNkAbNRZgftRUQEgA0GTkXDnTZgPG2H9XIlvZyR6M2cH9RqjECu07T+tdSX6dq/Eqysch4VR2/m2dWvsKinCHaHVqC09tC3CgJDoEIRFhyEqJgrN4pohNi4W8S3ikdAyAS3jWiIxPhGd23VGjw490LVtV0RFWk9JZ3fbkQHkeokKleytBDlW1V8CcBqCrd/fzfqxf+5Rs7zSdtdC6rPtXQU7kLmtHzp234amwU21/oxS2fH+yM/Jx6pPViFnSQ6Sf09GdXA1MgZmIPGCRAy+eDCiog8f5Pp9zr3+w8bduOjbgUj9ZwpCQupUzWqKPG/aANoCZzU1iE5IQOUNN6D86acti9dWH4DmFEVnBzsBj6n+FEBtxBIKU+jOiwInTGAmKQwtC8BmRc6DQFMFgNwntLcjA+juHOjwwZh+e/fu1eIAktm78MIL60fJWIMEhVT7SvnXv/6F1157TfMgJiPIfMTnn3++zZmZVw8AQHMZBWo4kYA/MoB8OEiKLT6gxBDflY2i2rzxAeQpVbKRrZsBeNfCd/CAJyhSH4Cs+8snZTj36mis/rIEPc44MiyM0VyDZ81C6E03oWLzZpS1aY09B/ZgV9ou7Enfg517dyK3MBdZ2Vmg4Xl+bj6K8opwsPAgKooqUFVSBdSlWEZQZBBCo0MR0TwCUc0Pgcb4WLRs2RKJLROR3CoZbZPaomPrjujcpjM6tOqA0BBzllK8o3ngNwZbP8mg4gnWze7elJcSHvTck3zBcfcgdDaGJXv+g7LsVzGu/5p6+0uCdH5YMvdlYt38daj4qgLt/2yPvLg8FJ1ehE7jOqHfiH4IDqlLaycqY20fBQXVf9TQJ5+t3Ij/+2E08h/afUSGFIlJqDqXSOYTu/JzVN8OOAudNQuRd9yB4pQUIPZo21pHfdhVm9Lm7MUXX9Qyglgt+gwdKktolnbNzj7SM3NWx2enngBAah9kbFynESNGYP369XaaanR1AwCw0S1ZwxqwvwNAyQFsJ4YWV9DbNm9mzilWgedlJ5Si+GAQvthpzTMyvFUr1AwYgKrFi+s3qqqS5uHKhysPEL7Zq8CisKQQO9N3YmfqTqQcSEFaRhoOZB7QQGNuTi4K8gpQXFCMgwV1oLGmuAaoZtRbICgqSGMZI5tHomlMUzSPa464+DgNNLZKaIVW8a3QqkUrdEjqgF6deqFtq7baw74hsn5ia0cBeot1c/YUUVPJuWKD6soT6sON/8dgMrjixLe0e4MvJVvXbMW2z7ch6NsgtNvVDqkdUlE1vArdx3VH55M61zOEqhpSdS4RBxMZjzBWby5bhalrbkXuo0ce7tyTvIbtcQ2MHCIEENoBMao87ICzqIEDmcAapQbhQpzJ2K7alPZojHfHDBhWi1m2EVV9rw9UrffediRLI2bO6vjs1BPTGxUAMgD0Nddc45XsG3bG5u26AQDobQkf4+37OwAkmOGDig8Pq0UCI/PB5y2bN0fOKXaBZ8r6Spw0KBIfP1+Mkbeag8CQGTMQ8uSTqEhPP4K1oEqac5U0afy3u04MfHBn5mdiR+oO7Nm/B/sO7EPqgVRkZGVoLGNebh4K8wpRnF+M8qJyVBZXorakFqB2OhQIbhqM8OhwNIlpgujYaA00kg2Jj4tHclIy2rVuhw6tO2gsY+fWndG8aXOrS+xSPU/b2tkdhDhSCCMs6nG77bhSf8FvfRGZcCdabOqJbZ9sQ/TKaCRmJSKlVwoiRkZg4JUD0bZr2yNeKgSkicexqjZ2lspu+mdf4c0tTyP1kW819a8whbwv2YZqzsH/Sz+eUHVaBoCFhYhu1w7lL7yAyuuvtyVSuwCQL0kPPPCA9rFaXAlorWcJjRhX1fvbiJmzOj479TgO7nlqBaQw/h5j79EO71guAQB4LK+uD+bmjwBQ1GMULx8cfICoDw9HYneWv9fTS2UEAFVnCzI7VmMXPnReMZauisSazBCEhJr4TdXUIDwuDtUXXYTqWbO0aUlYGv6b/VKl6SqDYlVOwiLxoFKZxpzcHOzP3Y+UrBQNMKZlpiE9Mx0ZmRnIysqqZxlLC0rrVNPFVagtO2TPGAGENg1FeLNwzZ6RoDE2PlYLo0HVdOvE1miT1EZjGTsld9JAY3hYuKUhyyHkTVs7ZwNRU8lJUGlLA3dSqaamClVVWaiszERVVTYqK7NQVZWHqqpcVFfno7q6AFVVBcjJzUNw0M/Iu24mIvYnIe3kNMSPjscpl52CuARrwcNVcCGAkHMStkkAIf9/28yP8fme2djz2MIjvI15HYvsT6OMM2aqTrF9c5Stxio4C58yBeGvvYbi7GzmdbO1FHbt5hhz7qabbsLjjz9uuR+XAlrrWldZQgHXXDMJVM2/BOV60xTLg7RYkX3zOaG+xK9btw7//ve/8emnn1pspXFWCwDAxrluDWbU/g4A+eDgQ4oxnxwVAYxkC3kQ+UKtp3onOwJDVjdRcW41jm8XggeuKsatbxx+S3Z0fcittyLkgw9QkZMDWnDx0OMYCJI9ZePobOxGDKsc3BLDT2WLhOFxlE2jtKwUu/bv0uwZRTW9P3N/nWo6NxcFuQUay6iBxuIKVBdXA5V1I6RqmvaMVE0TNDaPba6BRlFNt05ojaSWSWjdojW6t+uusY3uMqNW11XqHZZXMUJDC1FdnYuqqkxUVhKs5WhgjUCNgK26ugg1NSWori5GTQ2dQw6ipqYctbUVqKnhajOOHPXyNQbD4MsDGTeGfQnTPsHBkSipiEB5Zg2qsl/C0EuGomm0dTbd2Vy5xmo8Qq4zQcX/zZyN37JXYPv0D+udPySPMvenvJyIPaFRTELp15mqU8Cg6hBhFQA27doVNd274+DSpXaXU3OcsAOakpOTNSeEZ555xnJfdmINWm5UCUFDICiBxXm9N+0y2Q/V/yoApJcuQ7e89957dobf6OoGAGCjW7KGNWB/B4BiqM9QCkZF7LnM8vd6elXFO5mHDw8dPkDdUbu+e08Jpr4ZjU27qhCTFOJ8uKWlCE9IQNnNN6Pg4Ye1w4jg15sZUzggR0BX1Hj8qx7uXDtxMlAPGZUtcpWpzC7Ixu703di9f7cGGtMz0uvtGetV0wXFKCssQ2VRJWpKD9szUjUd1qwNSfpjAAAgAElEQVTOnjE6pk41TXtGek3TnpEsY/ukRHRsFYs2LZsiKrxMY9UqK7MVsEaGregQUKsDazU1pYfAGgEb1Z1V2sc5WAtRAFskgoMjEBzcBMHB9LSlGp9BtZsjOJjpEOMQGhqL0NB4hIa21D5hYYkIDU1AaOjRnt3yYuQrRxPZB+c/+xxSindh1aTn6p1GuM5k/iTNnKRNEztCAXqyT0Rt7IglVEOmiKqT9yL/LbEMHe2toK1b0XTAAJQuWYKa006z9WiwazfH+bXt0Aajzh2FmTPfsdyX3XA2lhtWKgorzhczsSM0sssUgO7qvWqU13jp0qX4+eef8fLLL7sy9EZzTQAANpqlapgD9UcAyJUQLzgCCL4NM5SCWvS2dp5MZ2ZlJxAAykPTE2rXmppaDEqswuknleP5bx2zgHKoh196KcJXrEB5ZiaCQ0O1cAaeDpitykFl/Qg0JY6cHOSsK4e2AEVeI6yfauslrJGoovSxzqzIX61zWBWaoYE0fsrLM1Bens1AF9qnuroQpWXZOFiWi8oqrt1BoLYcQahCcFA1goNrERxEAMt51H2kMGQPPzXEkNonCNU1waipCUUtwuhWjeCQpogIi0WTJi3RvGlrhIfFo7aWAC4eUVGtER6eoIE1fgjmHKkw7c7dUf2/w9FExjJ02iOorKnA95Me114AxBRCQBvX3VEqO9lPKiBku+Ic4kxtzGv53JCwQwJc1PRr/C3yyisR+t13KE5NtS1ujovsf2l+KXJSc5CXloei9CIcPHAQlZmVqM2uRXBuMCLyItC0sCnyOv2FGwqmomvbRKxZssNyf3a8mS03qqtopJqVFz1h7eUZJ2ugMoVWAaFRWjuqfvfs2YPp06e7OvxGcV0AADaKZWq4g/R3ACjAg84DUlzJ3+upFRYAJqwfVdOeUil+P+sgLrypGdb8WIouA4+2bVPjCTalEXuPHqh67jnU3Hqr1wAg56v3KpZDQtgbNUCtWVy/ugM+H+Xl+1FRkYny8jobtsrKOru12toi1NaSUeOn5BCrRkegMtTU8FNRz67VMWtWVKHhCrNWx66FhEQjOJjsGtcvFiEhMQgLa6EBNv4NDU1ELWKRml2EPQdSNCeYtANpoGo6MzsTOTk5mj1jUX6R5jVdXlh+RKgdRKIu1E6ziPr4jGQZNXvGhEQkJyZrntJ0gqE9o9VQO1b2sawBQRYdLrwNNvVj6jP1dsSHJ2DRnXcfZY6hqo3VeJ8qIFSDVMse41/Zd/zrSG0s6lnWUVktsX3jdQkdO6JizBiUv/VWPWPNgNeZqZnI2peF/NR8FO0vQtmBMlRlVmmgLiQ3BBH5daCueUlzhNSEoDS8FEXNi3Aw5iAq4ypR26IWwS2DEdEqAlGto5CWsBJTUl/GuHb98OyoL22ZZ/gCABoxc0b7S8w79CyhI4Ctb8MoA8y7776rvRzYcYyxsvcbWp0AAGxoK9LIxuOvAJAPBzksyLbFxcVp/xcwwoPNl16U3DaqullYBTveyVa23rjjDmrV5m897BHMeRvFEwwbNgxBO3eiYt8+j2ZMkXESSBQVZaG6OgthYQRjOaioIMOWc8h2jfZs8ilGVRVVoqXkbzXARru1OlUoP2Z2a6IKpY0YP3RkIXipA2t1qtAY7UPAVqcOpSq0hcaqhYS0QFBQPMrLa30SV89oLbk/DmQf0OIzHsg7gNSMVC3UjtgzUjWthdrJL9biM1I1XV1SDVBLbBRqJ7Y54lrUgcakxCQtPmP7Vu3RMbkjuiR3QUJswhHgTlhx3juO7C2t7EF36rDvXo9ehxPjB2DBfXeYOiMJuFBtCfmdUSo7FYgIQyhmB8JGUd0t9nkVZRXISMlAdmp2HahLL0LC6lU459tX8WG/J1BxsBUi8yMRXRiNZiXNEIxglESW1IO6qrgqDdSFJIRooK5p66ZontwcUS2j0KF7BzSLdWyX/NmGGbjtu2cwqd9Y3HNanbOWnWLZm9lOo7q6VgGgURfC1KpMIeup+Y2FtTXKAPPSSy9pdro333yzGzNo+JcGAGDDX6MGPUJ/B4B8wFC9SbUjwZ+7tnauLLYAMHkr5wEjkfo9DQB3/lqBk0+PwsI3izDsmiYa6ORhwAfuUYGsN2xA+MCBqPrkE+QPH46wsCAEBxceYtToGZpziFmj0wEdDWi3RsBGlSgZNtqs8UOwxhhtBGyq3ZpREho6GdBGMRTBwXQ0IFiLpG+nBtbCwsisRWt2ayEh/BC0xR1i1mizJrZrSVo9Z+yUGKoLU+TI61RUzqznKQ9bO/tEtbWzG1Sac8rKz9LiMzKgd0pGnT0jQ+3kZOdooXYIGksKSursGRlqh1lgSIhJqJ1m4WjSvIkW1Jv2jDxYac9I0EiWsV1SO6+H2pE1IKjo9dSV+Ef7sZh589V2xFhfV5gmAYXiXEKWkKAuZ3+d6jUvNQ8l+0twcP9BVGVVAdlAWF4YIgvqQF3z0jq74aKoIhQ3K0ZZbBnOS5uOqKp8fHrZs3VMXasoNEtqhtjkWLRo3QJRzfjCEaJ9jGzfjGLa6Sf52i83Ytqvc/HC6Xfg8r4zXJKBVWcWlxo/dJGRatbV9gScq7aZAuSlTYlJSrA+Y8YMnHTSSZg4caKrXTaK6wIAsFEsU8MdpL8CQD6cBADQ5oYPDR7uvghxou4GFYAR7Ik9k53wNHZ3173n5KA0aQ5unbRCA2y1taUICqL6sxTV1QRrdexaTU0lUFmGWkaxMIxkQUM2YdYI2OrAGj1DQ0LoZCDsGoEaVaExCA6OQXV1lOZgEB3dBhERdDJoheBgquDrOhHQJqFNVFs/q3ZBdmXC+qr6UMCBtMMxSUorb45BP24BBBwb+ydI8Xapqq7Cvqx9mtf07rTd2JO2R2Mac/NywQw1WhaY/CLNa1pTTTsJtcPUgTFxMYahdrq06YKOSR1NQ+1wLeTljC8pSY+ciWt73IV/XXU4HZczmZQUltQxdSnZKEgvQEl6CcoyylCdVa2ButC8UDTJb6KBuuiyaNSgBkVNi1DcvA7UVcdXoya+BiEtQzTVa3TraMS0iUFcmzgktklERJOIurRqVVWITU5G+QMPoPKhh44akmqnqrd9Uz2N9THtpCFe8+i3Y/Du5h8w69x/YUR319ktu6FmXNlzngSARv2LDCX+I+X7xBNPYPfu3doLfb9+/XDnnXe6leaTnsRTpkxBSkqKlgaOwPKiiy5yKI7MzEzcddddWL58uaaC7tmzJ5566imcfvrprojQ9JoAADQVUaCCMwn4KwAU5w/Jk0ovYF8crrIWqpOJkbrZSngaV3f21vUHsOqPi5HYbh8SYiMQGtr0EFir8wqtU4fSbi0WYbuyEPH8uyi/fzrCep2C6OgOmsMBQZ6doqrXxalFQJcrtn52+nalrgAvAnSCcjm8+ZeHtWpT5g1AyH7E1s4XqdyMZGQntqGE2tG8pvcfzgJDpvGIUDuFdfEZNdV0XZY4p6F2WsS30HJNd0jugK7tuqJL2y448eUxeLDnDIzt1U1zlChIK9CYuvKMcg3UBeUEaUwdQV2zomaIKo9CdVC1BupKYkrqQV1QyyCEtQpDk6QmGqiLaxuHhPYJSGiTgJDQOo9fATHyYqI6FPGlQFTFmnfwSy+hyfTpyGXqt0O2kWbexgJi5C/bYxFvZgGGVdUVuOm/Q7E8fRs+G/M+Tm47xpVtXX+N3VAzrnRmpJp1pR2zaySoNWX2xx9/4LvvvsOSJUuwa9cuLaQOgeCQIUO0TCmdO3c2a67+99WrV2PYsGGYO3cuRo8ejUWLFmnhdlauXKm1aVTGjRunBbH//PPPNbMipuhjHmACSNXO3PIgTCoGAKCnJOmn7fgrAOShJEFK+ZCgF7CnnC3MthL7JaPB4iiTiDcAoAo6c/NrceEf29H+YCjmX9wHTZo4ZpbCO3VCVWIiSr7/XmOh7BYeBHr1umpvJYcr//qa9TOaiyMnBzN7MjX8jF0ZqfVVD9u/S+XsC/DJ3NI703YeEWqHgJHxGfNy6phGTTVdVKearimpC7UzN2YukgqSUBVchcLoQg3UVcRWaExdUEIQwhLDEJUUhWbJzepAXbs6UBcaZp091avdCS5UkwFRG6svA9EnnYTa2FiU/vijVldebLi2AuxUta/RiwPlTntc9ifqzoOVhfi//52BXUW5WHDRYnRNGGxq++hs/3EsVAHbiTXoyn7mPNiXmpnFlXbMrjEKan311VdrmUCYJo/hYH755Rfcfffd6Natm1lz9b9fd911mnnQ/Pnz678bO3asxmbPnDnTsJ0+ffrg+uuvx+233679TjnTkY9gcsCAAZb7tloxAACtSipQz1AC/goACbBY+BCmWos3qbcZQJUF0+fR1S+OWXxCu9tZzSIioDMj6yD+sXwDYiuDsejCk9As2jjrRfCsWQi96SYUrl2LyJ49LXctLBoBYGNh/SSgMA8tK0GvrdoRWmUJVfDpayckAeBifvB3gE+OQdh5PfNJWe/P2Y85n36Nc4YORO8TjvPKS5sKwB3lUlbVuby3avfvR8JJJ6Fw5kxUjx17hJ2fyu6pziXy4qOyhPrQKVlFuzFu3lBU19bgo9Ffo0WTjtr9pwapFmcIqzemAEA1d67Va+3Uk1BbNKvxZjEKak0m7rXXXrMF+PRjJMs3fvx4TJo0qf4nqnMJCH93kN+ZbCHB4UcffaQBxRdeeAH0SN64caNmXuTpEgCAnpaon7XnrwBQtfHKz8/XmDirqdVc2SJGLJizdhzFJ7TbtxjP61OqSTu5eeUYtWw9gmuBJef1QWysMQgMS0xE9ckno8Zibk2On2+/auYUlfVTQ7s0JNaPh6k7MR+N7AitxCNUnRysgk+7e8GsvlmIHbPr3f1dlcHfBT5dBeBht92G0LlzUbB/f332EmdORapJgYBCAeDibJSSvxYXzjsXbZvG4OOLVyE6oqXGqOk9ZMUZQh9Dz9FLh68AIJ85EqDb3b3h7HqjoNYjR47U1LBMk6cv1157Ld5///36eI7636n2pQ1f165dcf/99+PGG2+sr/Lmm29qoG7btm2GQ6Kql2n5li1bpj37yEByHKeccopXRBAAgF4Rq/80GgCA8FqMO3mg8wEljgxWnUyM4hPa3ZVGwZWN2igqrsDoRetRElKDpWefhISWR9v3VT/2GJo88wwq0tMBJWaivj1h/US9LiyaHFz8ayeun905260voMNbjiZ6pkgyIaiqQ45Z1FjugE+7c5f6Yhrwd4Z34QsZZcC94W3VpJGc3JVBkzZtUH3KKaiYN6++eTWunT44ubr+AgAlpRllsDn7G4z/4moMTeqEN87/ERFhdZlYnGUucRQyRXUwUZ9J3mYAxTbPCpPu6t7ldUYxDWnzR7Ur95K+sL5ogIz6JRFAjZBdBpDrSNBIAEmQyDYWL16Mq666Cj/++CN69+7tzjQNrw0AQI+L1L8a9FcAqAaJVfPuemr1xYZI8gfzYWsnYK47AFBVNVvNIlJaWoWx89chPbIKy07rjeSkIx+cpcXFiOUhN24cqh3k11RZP5mvGevHQ4+MFx+6VtWknlqjv4PxEnnI/uMYWCR7BVkDfuzsFXfkIbEn/07gJeYOwnz6eh+ontau5PkOXr0aEWeeiYM//wycdJLD5XD2MsA5814gWPpp32xcseQeXNF9MGactbieqVLtCK06l/x/e9cBZkV1tr/dBbHQlqWJ0gUUsBBEQUmCxIgJGCxRUAyoYIkVC78kooI9omAU/LH9FkCwRBRFmrEhaGwIFgQLUpS+C7hEdNnd/3nP8i1nh5m5M/dOOXfnO8+zz8LeKee859wz73zl/TiOkK2EunYeMmXDbHaxeWHczyppg7Ei3m7ZsmUZfY8QA4hnAzKBucG1DKueXQwg4sohkbR48WIlQcOta9euNHDgQGVNDLoJAQwa0YRdTwggqS85xxsFMf0s7YLfIELpvAHjYcAC1X765NfVrF/755930YBnltCXtUto7tGdqWWLPQ8IbOa1IKkwbRr9smUL0T57XMXZaPWDBcAUixfHBmHO8QM87cqZBUmM8JBk4uVXW9DPenQ7NlPiFUQ/nOIN/Vx7nz/9ifKWLKGfVq3yc1qlO5djLjG/Ly67k65+5366vstpdNXxj1W+DLCVkBNL9AQT3DRVKTudfIZRj9du4Haxeb4A8niwVdIGYz3mmGMUAczkOwML4gknnKCygPv27Usvv/yyygJesGCBYxZw586dVcbxvffeq6RokI185plnEmoT41pBNyGAQSOasOsJASRFtGB1SSfDVV8u7EZSZKlWrYxiyVigGm+bXppOwjLRM9y1q4zOnbqEPqi3k+Yc3onata0Qu1VZyUVFVHDIIVQ6fDiV3n67+nu2Wf2smnJRWdp4Dr0Qr3TjCL2sExwTh7agtW9MvGD5jSPZJbB4w7Iy2q+ggHZdcAGV3Huv1ylQx7H1lTUmH1h0Ed36/jQa/5sr6MzOoytjCXGsXSk7vgZblfF/L1ZClveBxVUXVmYiqSeYZEKg7GLzfAHk8WCrpE1QBBC3R8LHqFGjaNWqVUoH8I477qBTT92jPwnCB1I4cuRI1dtvvvmGrrvuOpV5jBes5s2bK11AZAaH0YQAhoFqgq6ZVAKIhyC737CBYBO2ixfxuhSCrh+M/iE5BVpSbpswNjt2F+Mh4dfVbDe+0tIyunDqUvp3/k80q91h1PnQ+hUEsKSE8s87j3LffJN2bthA/939N72CiMmxfmz1i8vV6EdXz/piwfFdHEsGnP3qEfJawQtKXNqCgREvr19Mm+OCdHvnTZlC+1x8Mf20Zg2Rx5c1Dg/BesSLIkjwqPn96P+WLaApfe+h37e/pLLX/H1KVcoO+xcnh7B1kMkgLsYuY/zG5yAnepUhPVSD15ruNuYEEz1+N9UURFFvGH20Strg5QLCy59//nmqLmb950IAs34K4x2AEMAKrSa0dMqu8QMNm3mQ9YNxXcjTQDzUyUqFjRx9x8OBSVgmb+z6SsS1r5z6Oc0oKKaZzTtQ5/YHqIdGneJiqtWmDW2//XYqueiiSsJpcqyfnmDA1Tyi/NbpD/wgiJc1jpCtONb6tvq6iVtbEHibkOgBcsDEy2tClttaqXXMMZSDa37yiaclhbkDMcKcqRfOnDIa9mIPevP7FfSv06ZS1+Z/SnkdO+khu5AB3W2su4yZ4GH8rEtod1NrtjGHJujZxvi3054TRb1hJoB6QsuWLVvo7LPPVtp/1b0JAazuMxzy+IQAVmSRYSPxSwD1LFsnQed0p8+NADKhYBdLWFmT2PBHTltGTzbcTs/Wa0VHHYbybrlU9+STqcbq1VSyZk0VWQrd0oB/x5FkYbWcmZJgACydNOXSXSNWws6JJfyAZ1LAcwGLYVhrxW0Muts7LuurF20/3/NQXEz7NW1Kv4wdS6V/TV2WjcMPWGrop5KtNOC5brRyeyHNPGsOtW14rO8u4ASO79OthPi71ULMXg8WmsbnTBJxPJM5rBunbGM9sxnrjM/j+sa6JmEU9YY5nEEngN999x1dc801NH/+/LTwzKaThABm02wZ2NekEkAmUZgSv3V3+WGCjdRrlm06U4+sMmuFkiASTPz2Zcz0ZfRAwVb6v5wm1Lt7Y9r/m29o32OPpZLp02nXKadUJi2wJYB1/eLM8NXdfHFZ/ZgAxxHnxnGEWKP8oMa8W2PJgrIYO60pExI9dOKF72tQY655001U47776KfCQgDr+LXSLcBMgDft+JZOnX48lVM5vTRwETWu3dbv19L1frqVkC3EfAIsf7BEAwcmgJwYohNCJpFuhJDJp+42Zt1L4I57Yc0Fhbl10BxWoWc0Q3T5nnvuoRdeeCEwTE29kBBAU2cmS/olBHB3gkNJidJtStU46QFvunjrDLN8nF6hhK0osPplmmCSaoxWyxLe5B94eRWNbfIjTa7Rkvr+5kDaBzIHKGm3dKlxun4mZLfGXU3DSoBh0UkVR8jB/37Wh9uxJiR68FpgYekgici+bdtSedu29PO8eY4w2Fkev9n8AfV/7iRqUTufnjvrQzqglrdEr3TnhV8amZixFY//r9c31t3GHGrAVka29rF1MJUmIcdYM5FkK6Gb29jvGDE2uPR17w0SMFCJA2LP1b0JAazuMxzy+IQAUqUcRt26FRmvdi3MeDune3KFEmyYIGHoQ9gVS7gvVjczLAYTX/yabmm4jR7a1YzOKP2C9jvtNNr59ttUjgohZWVqIzbB6ocxpKPnFsRXzQS3t5c4N69xhH6C/vW1AwKMtRBXRY/QLY9ff037HXkk/fzKK1TmIO9hZ3n8eM3LdMaMQfSbZm3p0dPepZp5e4uuB7EOmbTxerRK/VjdxmwB1N3G/EJgl1zCCSZObmOOzWNlBT3bWE8u4Xukm43P4tk6AZw3bx698cYbNGHChKCgNPY6QgCNnZrs6FhSCSBmh2tVupVdY8sbHmhw5UUZQwULIO6J/mEDD9J95bY6dbLLOoZ4kCBbesaCQrqmzka6b0cTuvCK31F506ZU/MYbsVeyiNvqx8lAYVUU8bKbZCrvwpYhjiXDQ9uvHmHciR7AKQhtv1R47zN4MOXNnUs/bdiw16FOMY+vrXhYCTwPOfR4urPP7IxEilP1j9cjJ4ilqnPu9kKgk0IQNbvkEiaEbO3Db+yZ1mojusuZ1xsnl+jyM16thBgf1xpnTOD6/fLLLwl1e6t7EwJY3Wc45PElmQBi48CG5FR1g10nHMCfjqBzutOHjQ0C1XgAwzWdagNP9z76eU7JJRxPBgKIf7+ycAtddcBmuuP9LXTV6D/Tpvffp33atYulmocurQJrQxQ4WbGOW1tQJz1Bxhs6JRfYxRGakOihk56wLY/7oTZ2v370i6UqjpPlcdrim+iKN+6lUd0G0PBf/18QX1fHawQlc+P0QmC1Etq5jTkhCetRDy1wcxvrCSZMJK31ja2Dxt7Nlmb+7IknnlDarn//+99DxdmEiwsBNGEWsrgPQgDL1QaiV93AhgZ3Jgs6R2V5wzLihxgXUseDDIHjYTe75BK2CmBj5sZk8JW31tHF+2ykmx95g4ZvW0DFzz2nyFeYAd92ZBU4BSGtkg6+vE7wIhFXdmuUpIfXg50mHVuAwiZeTvMUFOnxsg5y58yhWmecQT999hlR69aVp/CLAIvKc7zhfQsuoNs+eIYeOOFaOrvLLV5ukfYxbP0Mo7oLvxDo2eb4G8f2cQlDkDJY5PG91DONcayuR5gq21gnhOw2thJC3Av90UX84frFS/Pll1+eNo7ZcqIQwGyZKUP7KQSwXG0g27ZtU6LLTIQwXSB+eIONqlllZdjtHCYBZMuNNblEJ396HJge1L5oyY80eNdauvbJhXTFHQOptE4dFQvopkcXBJZsZQlbWsWtr3FnGaNvVlmRdOOo0p0TthjzywqLDPNDWn8hCDL5wulFIAzSY4dNrd/9jnLWrKGdK1aoj3Xrp55sgvX5t7l/oCe+XEhT+46jE9tflC7UKc+L8kVAfxnUSRqXMcTnmHvd+ufkNuZMZLdSdrgexyFyIhO7jfEZrsGahvj3XXfdRe3bt6chQ4akxC3bDxACmO0zGHP/k0wAQbh4Y0HCBTYRvLmy1S2sh5Z1yrE5goBZ7w2rJDbRsAig7uLm5BKr1Y/JH7vK8bBnHTM86N95fwP1276Gaj7Rgmp8V0D755dS7fplVD+/lPIblFLD/HJqWlBOBzfKpdZNa1CbJjWoVcMaVLNGru+VrxOOOK1+JsQbxl3VxIlwBBFH6HVh2GXYej037eOQ2NKgAZWMGEG7bryxSlk9PfGopHQnXTjjOHrrh6+VwPOvmp+S9i1TnRil9dOpL7yXYE/Ad1OXoWFCqLuO2WLMySdWL4NXTUJ8F/laN9xwA0ECpmnTpnTYYYfRtddeS40bN04Fn+3nS5cuVeXdFi9eTBs2bKDXXnuNevfunfJaN998Mz366KMqfKdr1640ceJE6tSpU8rz0j1ACGC6yMl5/PZanlQomADCbYL4NmxQ0JMKU9rFijVb/bDhWWVluE+Z1ii2I5zYONnqxy5uL1Y/OxffQ/cupB9qt6KinHzasIVoy+YcKirKoe1bcmnH1lzaWZRHJdtqUNm2mkQluUS55ZRTt4Rq1NtF++aX0v71y6hugzKq16CMCgqIGheU04ENc+jgRjnUvGEOtWmSRwfn51Bpyc7KCgpxxPqZEG9oiuUR1mm8HKRKivITR+hnH4rL+lnj/vup5t//Tj9t3EglNWuqMBGry3fHz4V01rNH06riInrpzHnUtmE3P0PzdWwUCS9uHeIXQ+BgFwahu43ZdWx1G+vZxnw8WwyZ3LG72Oo25kQ+kM6VK1fSO++8Q88++yytXr1a1e9t27YtHXfccSoesEOHDp6xRRLJwoULqUuXLtStWzclKp2KAI4dO1ZlHs+ePVvdd8yYMfTUU0/RihUrMioz6tZpIYCep1QOtEMgyRZAbB4gWdhE0SADExWxYOuFm5g0pF/4IRvU6k3X6gdcsMFn4mYsKyunjdtLacW6Evp2/S5au6mMfthcTpsKc2lLUS5tL8qj7UW5tKMoj3ZuzaNfttagsq27SWMOSOMuRRpr1S+lA2BpzC+j+g3KqEGDcmrcKIeaFpAijS0a51CrRnnUplEe7VMjJ2PoTLE8epF3yXiwLhfQXZ3pxjw6xRHqcWRueoRB9CETjPY9/HAqr12btr7+uto38EKkJ4dtLP6G+k8/jnIph2YMXBiowLPeb+DAVuCoQ1W4H7oV2GuVGyZ2ehwpu3P15CJrtjGvG9ybSSGOwQs0fsN7w23o0KF03XXXUbt27ei9995TRG7YsGHUqlWrtKYe1/diAWzTpo2qQMKxh9hrDzzwQBo/fjwNGjQorXunOkkIYCqE5HNXBJJMAFFpg+PIYLKPKtuWxaSx4bnp1aVbos6B6CsXc1BWv6C+VrqFAA8F/KBxQPkvv5TQ5uIyWl9ci9YU5j8JYDIAACAASURBVO4mjUQbNpXT5sIcKtqSo0hjcVFuJWks3VqD6Oc8IpDG2ruoRv1dtE+9Utq/QSnVqV9G9QpgaSynRg2IDmxI1KxhDrVokkctG+VSm4a5tH+tPe7pWNyMFnBNiHnMVGLGab04EQI9jpAJIYdK4HcsOo8bN9J+rVvT9gcfpJ2nn75XH1jguWXtfHo2RIFnlmnyYoEN6ntqvU6QbudUVmJ2HXOMKbuN8Rt7qVVgGnWAx40bp9zAQTQvBBDPD9RtR/3hY4/dU9KvT58+dPjhh6vKJGE0IYBhoJqgayaZAHIGGTYWFl0OM+mDH6K4Lx5gXI7JabmBrOEcvcxROkszTquf3/7ywwAbu7WSgG4hSBWfufnHUlq5sZS+21RGazaV07rN5bR+M9GmLTm0tbDiB5bGn4ry6JdteVQK9/RPeaq7ObVLKK9eKdWqv4v2rb+rwtJYUF7pnm7SMIcOakjUHHGNjXOpbeO8KqTR75jdjmern9XNGOQ9Ul0L88B1p2HxSoV9quul+tyaWID1yw0Pe1gf9Zqzqa4X1Od5l19O+0ydSoVr19K+lpJyH62ZqQSeezVrR4+ctig0gWeei7hiYIFl2H1wshLryWVsAcV+zTGH+NvGjRuVy3fBggXUsWPHvab+/PPPVxVCOPnEekCvXr3o9ddfr/JnLwRw7dq11KJFC1q2bFkVV/PAgQOVZ+nhhx8OahlWuY4QwFBgTc5Fk0wAOSYFs40sYKs7J6hVwC5EPETxIEesnxdXqt8axdb+8iZplbNJN9YvKDzcrqNb3FjXz5pYoGcaMyn0gmeq/m/9bxl9u7GUvt1QSt+t+4XWbiyjwm01aHNRHhUV5tC2whwqLsyjn7bm0c9bQRprEP13dw3YAyrc0/vU36USYQ7Y7Z7Ob1BOjRrmUJMCooPgnm4E93QutWmcR3X3c06EcUqySDWGID83qQ8gHXjYo0+6lVhPLAiLmPL3KP+QQ6j0mGOoZMaMKjDPXzGJzp11HV1w2K/p9pNmefpu+50nU1y+cbmd9T0AawF48Is7hJ979Oih4oOvvPJKQjIIiJddLDf2YIzBqWGNWUuCeiGAYgH0u6KDOT7zAJ9g+pG1VxECWOFyxBeYZSSCnEx21+ChxVU1vF4fGxU2Oy81iq3XxGbIws1+MnyDiPXzOj7rcV7LqOkZhiw9YZUeSZcQeu0D9337T2W0chOsjWW0erelcd1mos1biAq3EG0rrHBPK9JYVIN2gTTu2E0a99tFeeyeRkxjg1Kqm19O+Q3KqH69XdS0IVGLJjWUexqksW2TPKq/v//s6XTmw4SKHk5uxkzjCP3gwX2ouWQJ5ffpQzsXLqTyo46qvMTUj2+kq94cR6OOGUjDez7m59Kej9Xd77G4vnfLsHBISpx9wMss8ODEOFjcRo0aRe+//76yUiNp46STTlJWQJBCSHtl2rwQQNzDLgawWbNmyh0tMYCZzoL9+UIAM8RVCGAFAQxacoWD1TMpIcdyI241iq3Tr1v94Cpjl53JVj+2NKVbRs1NekS3ELpZiHQLi67lluHXy/b04p0VpBHu6dUby+iHLeW0fhPRxs1EW7YQbd2SQzu2wdJYg37Zmke7ttag8uLdepT7lVJe3QpL4771K0hjPZBGxDQWlFPjhkQHqQzqXGrdKIdaN86jhnUqXNtemp5kEZWunt0a9pvwkuqlgOMI/VgJ9QzbemefTXkffUQ/rVlT2d3xC86j2z94jib0vo4GHjXGC7y+j+EXEpaD8tN/3zdzOMFJ4Dqo63u5DoexYB51YX68JEPuBR6cESNG0GeffaaSPvADGZbp06d7ubztMSwxg/shsxfuYd5P7E5AnB+ygGfNmqXI4G233aaygJcvXy5ZwGnPgvuJQgAzBDbJBBAPDY4zC1JyJagScm41iu2mHRs1MofxEEfcIDYrnfjhHDtdv2yw+vlZ5npQOWcbYtzsLuQEE36YmmTtwjjtLCw7S8rp292WxjWbyuj7jWW0fgvRRlgaEdO4JZd+hKWxqMI9DUtj+fbdpLFWqbI01qy3i/aDexqJMLAywj0N0lhA1KxRDh3ckKhJnV+oFf5dgOzW6ETQeX6DSrphV7FetUJfA5w4YEeo9nJ95+XRfgUFtGvIECq57z5lgbp+Th+avPxdmtp3PP2u/YV+lqenY3UiHlZoSqqOcOgKSFa6Wd+p7uHlc6fqJmvWrKHBgwdT//79lWaf1erPYQNe7mE9BhIyrVu33iveFTp/N910kzq8c+fOdO6556p7cxs9ejQ99NBDyqBw9NFHiw5gOuD7OEcIoA+w7A4VAliiYAlCcsUp5i7dKfJKAJNo9fODqVOWIccIgSSYYO0KOrD/l13l9N3mUhXXuHpjOX2/GckwSISBViPRtqJc+rEwl/6rtBor3NPl22sQlecQ1Syj3PoltM9urUYkwtTJL1OWxoYNyqlJQ6KmyJ5Wsjt51LZxLjWpm0u5uelvyWFq+/EasCtjpicXsbtVz7DNnTaNag0bRj+tXEklBXVp6IzutOCHb2nGGdPoqIP6+lmKno41weULvOBSBV5eJV48Dc7HQbyv6Z4BnI6/I8nj6quvVhIryLSNwzLqYyihHSpJIKFBm4wLCwGsIICZSq7o1jeOuct0BbFINOQFnBrfF5/jvtlg9eMHPd7YUwkJZ4qhw0uPsvzCssHB5PitJxREUdM4KGtXJhjp7nfMRXlODVq9pZS+21hKqzZVkMYfNpXTxi05VFgI93SFpXFHUa6yNJbAPQ1LY9lu0lh3F9Xc7Z6GVmPd3aSxoOFuSyPc0w1zqGVjuKhz6aD8PMrJISVRhJ+oLE1OcYTAEusAZJwtxbW6d6ecHTto0wdv0FnPdaO1xdto5lnzqXVB10ygtz2XXb5xZn1z3CO+n7A+phtPmwk4OgnWk+bwd7hZ//Wvfyn3LgSXk9yEACZ59gMYe5IJILs4AGO6GbdO1rcApkZlO8KVYBfIzA9uds9kS6yfCSXMrPFlmCs9jhC4MyHUSWGQD0ITHvRBub53lZbTmkJYGiG5UyG7s35zOW3YXOGeRgb1dmVpzFNVYWBpVALfII15ZZRbryKDGlVhFGmEezofsjuae1plUCN7OpeaN8jLyNJo/W7qJJhFnSuTi3bupMZt29Kmm4bTifmPUI3cXJoxYBE1qt06iK945TWsLl/E/MVh1XJytwY62BQXc4o5hJfmsssuU+QcblYQw6Q3IYBJXwEZjl8IYEUVkHQybu2sbxlOR5XT8SaO4OYGDRpU+Xu2Wv24fBjIapTl9hg8P2LGTkkF1moFfufbmvCiV5Hwe610jzch0QNVYb7b/At9ueYn+r4wlzZuq0HrtuSomEa4p6HTqKrCFObRzm0VlsYyZFDv2l1KsF6JimlUpQTzS6nO7uzpBrtJI5cShKURGdQtC/KoRt7e7mk3QWP1EjB6NNUaP44OuS2XWtQvoEf/+AbV3a9hZTJAEHqEprh8eQ+0K/eY7lrzc55bzOE333xDQ4YMUT9XXHFFLFZJP2OJ6lghgFEhXU3vIwSwggD6ybjVrW/YLOG2CuNtnQkgLIAsXAoShY1avy/HN7E7k/ti1dQLU+Ta6evBFlJYFqJy79lZeNjilm6cXRCZxkFZ3DLZivyQ4Ezu43auvib8JDiANK7bhgzqMvpuQymt3e2eVvWnt1RYGuGeLi6scE+rUoJ6/ek6Fe5pCHzvn19GteuXUt36u6ghkl8a5apEGFSFaQmtxsZ51KphHu3Xrjkt3q+I7rv1UHqo/yLKoTwVF8fJRZmGDpiQYctrAnMWR0gG7qsn3ugxh/j73LlzlbbfpEmT6Le//W1YyzIrrysEMCunzZxOJ5kAMvHj3yBW9erVc50cjssDyeKYu7BmExszKpSAAHJmMe7lNdaPJWgyreGb7vh0whOn1Y/d+0FaNvBg0uuZYn6wJqwWQibuUce42c2ZCW7nIEuIeVmXII2bfiyjbzaW0Sq4pzeWqaow328oVVqN27fWoB+L8qhYJcLkUcm2GqRKCf6SRy33/ZBW7uxG/xxxBA27aeFeVieOI9QJoS5SzuEDdqEDuhU2rhcj4GeCzIxTaTvgOnbsWFWH95lnnqHmzZt7mfJEHSMEMFHTHfxgk04AYZli1wMSQZwSLjgrDg9yvKEiazQMq58+w7hnUVGRuhfum01WPyY8cWXX6g+3KGRu2Aqrk0L0ASQADzi2rqAvUTdrokdclmAmG3GuCa+Zxigl+M36Etr8xM3U55a7bN3HdvNojSXF//nFQNeQw8smCA5e5uIIh7DGHMYRiuBGQBH6ctFFFxGElO+//361B0rbGwEhgLIqMkJACGAFAXTLuAVJBDnEm3yUGzb6hCQQPCCyxerHFh4mPHE93GD1S1dYOqMv1O6T8eAHCcba4RcF3V3IZCDslwgT3M788hS3pAgn/0RpcbOzFGOJYN450ziIOEI/a5ZDQ/A7rqoebgT0iy++oKFDh6pYP/wO+zviBzvTjhUCaNqMZFl/hABWEEC7jFuOjWEiEYXVD8tHjzHE/1EKjuug4iHKbibTYv1MsPp5tfCE+TW1k3dhd6FuIbRmGgcpPaMH1GeDxS3q+QjzfnbX1ucDxA/fXXyX8ZNpHKGfsejfD72ihp9rZHqs/kKgv1Dj7y+++CLdfvvt9Pjjj9Oxxx6b6a2q/flCAKv9FIc7wKQTQJA7dtvA7cAJF7AWQHYAD2Vdhyrc2aiIyWFRalTzQI1i/Ib1kV2J1moeccf64SGGPmADh5s6Ljdn3BIzuksrldsZWPGLB5NCr/FjqdagKYkeJsQ9mvBC4GYBzSSOMNU60D/XCWiUFlBrH500BjFPY8aMocWLF9O0adOoSZMmfoaX2GOFACZ26oMZuBDACgLICRdIAoG7FxsS3pD5bT0YtJ2voscY6rF+SAKBBcday9SUDF92q6WbXRsErnpiQVzJJpg/JqDp1hK2ix8D8ddL2DH5d8LNhEQPU2RNTCCgeg1br6LKbhnnemKJV9coexR4T4vjBY1fjrC3Wi3SmzdvpvPPP5+OOuoouuuuu5S3Q5o3BIQAesNJjnJAQAhgVQKITRUbUJRyCGz102MM2TIAayA2bnzGcWNMNtBPFoCOeoGbYvUzxe3MGodBrhu7+DG3TGM97jHuoP44K1noMW5xWqSDijnUE4zYWozvu55x7hRHGHXWtZP7m1+O8P3QCR4sfkj2GDVqFA0cOFDi/Xxu5EIAfQImh1dFIOkEEBsqJ3mAiGGDgoskiuaUWcwbPn7zWz76if7hB03PLOSSVVH12RSrH7udTQhkj8KtZkcEsA44PIDr18aVeKNbQOMioCbo6oVtceN14KZHiDXA5C9O67yTNRhjmDp1Kj3wwAPq9xFHHBHK9gX5mIkTJ9KSJUuouLhY7Z9uFX3gcUG1kVmzZqnj+vbtq0rPpZIHC6XzHi4qBNADSHKIq+uxPMn4YFNApi1LrdStWzeSGDY3q5+XWD9989c16EAGOZnAq4vI6/zzZs7Zg3G4kqzB9GGJcKfCRLeAxkVA9UxjPUbUi2Uo1fj8fG6KC94Uly8rBnh1+frB2snCZnUb8x6CtQCLW1h7glvfncg4XiBHjhxJa9asocmTJ+9V6ShTPPTz58+fT4WFhSqsZ9iwYSkJIAgf9mYQR+w1AwYMUDHgSE4xsQkBNHFWsqhPSbcAwsWKLzo2Sbz94cseZgyKV6ufnwxfN1chkwEQhHQJIa6vC8bG5Xa2y66N+qumY2GKZYXdnBw2YJdprJPCdNeBFWsdizgzjU2JOTRB51B/ScOcMDF0EyoP4zvENYWtlvH169fT4MGDqXfv3nTzzTdHpoH41ltvqXu6WQBXr15NrVq1oqVLl1Lnzp0VLPg3YhPx2cEHHxwGVBldUwhgRvDJyUkngGxJw0pAFrCf0lR+V4+dniA/tFNZ/fyQLidXoV2VilRjMCXZxDQCGmRVkVRzYP3ca6JHqgxT/eXAbx90N2c2YOF3fH6OD9vl67Uvbu5vfU/Q97ygrcUcn8zhNLqX4N1331XafnfccQf1798/7RdSr3jox3khgDNnzlRxiLAW6g0k9vnnn6d+/fqlc+tQzxECGCq81f/iQgAr6nqiQXKFLRlBzryTnqA11s+P1c9P/5wIoZ5darUQsnUHcV1xB/SjD5gjE4gGMIvKtWdnccs00QNrUbcQsvSMdS24rS9TpFXY5RvmS1uq75kpSRZ+E07crMW8Flh5IBUG/Dnvc/i/ngyFvz/66KP05JNP0vTp06lDhw5eLxnYcV4I4JQpU2jEiBG0bt26Kvdt2rQpjRs3js4555zA+hPUhYQABoVkQq8jBHAPAUQsINy/QSaB6HqCHCsWhtXPz/K1swaAfOoSE3i4YuMW0pW5vIufuXE6Niyi4SY5Yg0fwLoxIc7OBJcv5ondnHG6vzmkJNMqK7gOh5JYdSm9yBA5WR/xwjJ8+HAlkfTYY48RYqzjaF4IoFgA45iZzO6Zk9npcnbSCSAeJpxZi4QQtvBkujJ0q5+uJxiV1c9P/3VCyMLYOB9YgBDjd5TlqtiNhAdsupp6fsYfNeny0zc96SUKouFmLQbJQDPhpYBf1IKKZ/Q7JyA2cVulnUSV/YzF7VgveoTAH3sGCJ7VErtq1SoaMmQI/fnPf6brrrvONfs2qD47XccLAUScX+vWrVXGsB4D2KVLF8JYJAYw7Fnyf30hgP4xq3KGEMA9BJArcICwZdLsqojEbfVLNR5s9uxqZeFpjhViFzlnGIdJCE2pXWuCvqBu6YpTz46xwMMe6xgt6NixVOvT+lIQl8xMWJbYVOO3fh6H9dEpjhB9AyGH6xQVPJBI9+abbyrSd//999OJJ54YabyfjhW/4IMA/uEPf6isre4k8H/KKacoQgtpGox30KBByp09Y8YMv1MUyfHiAo4E5up7EyGAewgggn/xpccGlk7LJqufPj5OKnCKb9Pjhdg9hL8FSQJMdC/GRbowN14TPdJZp17PsSNdTmtBjxsLsqYx+mqC5A7PCfaIOLO/9SSLOC2xXOGEhfOx98HaN2/ePGrfvr2SXkGW7+mnn06NGzf2uuQCPw5xh6gywpZi4Id/v/HGG8ra17FjR5ozZw4df/zx6t5Qgrj88svplVdeUceBEEIHMC7XdSpAhACmQkg+d0Ug6QSQXWwACW4dbGyoveu3ZaPVj7MXQTb8uFpTkQAmhl7dc2xVAeZxaepx0gvWgAkPeHZ/m2Dpciuvx2tBtxbjb2wlziTTGOuBLV2mzIm1koXffSKT452SLDK5ZjrnYr+wI8JQUbj66qtVnGhBQQG999579MUXX1C7du1Ufd9f/epX6dxOznFBQAigLI+MEBACWK4eMmhwgWJzq1OnjmdMs9XqF2Qmp1tGoe42thLCqOPbnCZVd3/HbVXBg5UrerhVLPC8QH0eGAQRdso0tsoQuXVNtz4K6dpjEY479tEp8/qrr76i8847j4YOHUqXXnppZbwfLIGLFi1SFrb8/Hyfq1EOT4WAEMBUCMnnYgFMsQawqaHx5ubF3M/kBQ9sPNjgNsYD2y3Wj6Ua4qzhqz9Ywypf5mYV0i1CXMrNBFdr3PIuvDaiSPRw+jqwRTjo5AY/mcbomylxdk6WrigfKXpoRJxyN6wHylWAuNwg+vfqq68qd+/DDz9MPXv2jBKexN9LCGDil0BmACTdAsjED7/Z3ZSq7iM2QSSM4EHpNcMXRDFuWZW4EiycCCHHD+nl6zJbzd7Ptsa3gZR7dVl7v0vqI02oboJeBmkRTjVqYK9rEepVKnAuiJcpL0kmkq5U+Ab9Ocf7gfRhv+PvCf5+55130oIFC1TptGbNmgV9a7leCgSEAMoSyQgBIYAVxI9dXyB29evXt8VUt/rhAcVip16sfqbEMIVl9fOyCHWyA0sXHiS65pgeNxZ0IoHePxNq1zLRgRU0TqFt3Q0f19pgQogQDK6IA3yiyDq3rltTNAZ1Qq6TLi/fsyCPcco2LioqUrV127RpQ+PHj1dxs9KiR0AIYPSYV6s7CgHcQwCx6UIM2i5WRbf6wd3LGx4eXiAUnF2mV/MwzernFswf9qJOldXKcWNWEVqdBGQaE2dKzKFddm3Y+NtdX3frxemGt7p88R2yrgdOLHGLKc0Uw1RrNNPreznfBEKOfvIa1RPEuP+fffaZivW79tprVeZvHJZzL1gm4RghgEmY5RDHKARwDwHEgwiZbA0aNKhEPJutfiZo2elxZWxh8rKc3RIJ0sksNUFTD+M2Kb7NBOsjky632Ee3JCNrlQova8t6jClxdvp3BVY/vY5uOuNK9xz9u8KxzUwKURP37rvvpieeeIK6deuW7i3kvIAQEAIYEJBJvYwQwIqYI2x6+IEOFCyAbIXgWD+/Vr84N3ATZFXwfQoyrkxPJMB18X9YBL1klrIbK+64MlMSPeBqjbvKSiZkB+ey29jOYqyXNEy1r5vi8jXlxcCppBv2SCR6fP755/T0009To0aNUkErn0eAgBDACECuzrcQAriHAOKhgtgWJIHwRphtsX6mWP2YZIQVV+ZECK0WIRNKdpmS6GGKoHIYJcy8rgfdXelEdqLe7znbOO4McH5BsX5nN27cqMSUYfG74447YrNMRj0v2XA/IYDZMEsG91EIYIWliuP4QABhVcL/s83qx7IqcYkps9UP/cCDNsqYQ6tFiOvWoh94sILIZxpDmM7X2IS4MvTbFEHlqKygbpnGeEnA+vArgJ7O/Ludo8eCxql16GaN/eijj+jiiy+m0aNH05lnninxfkEvggyvJwQwQwCTfroQwAoCiB9Yz5C4AbLgR9cv7gzfqB6qqR5mplkfWdoFD3tdakSPIQwrgN2URI+wtP387pvoB75bmIc4wiM4WQukDz/4P1ocmca4rymuZ05us4qPA5/JkyfTgw8+qFy+nTt39jvlcnwECAgBjADk6nwLIYAVAtDbt2+vjANEJRCQB44LdMvwjeNhxutRd+nFncVpgvXRLfbRzSIUNCE0KZ6LrbEsWRTHXhZkLGgm/dddvnBzWgWqsUaCrG/t1FeTXM9YH9bqItgPR4wYQXD9PvXUU46yWJnMhZwbDAJCAIPBMbFXEQJIivyxqDOygNmFyppkeDvGjy7RYIrVT/pRIVnh1wrKFiG2/uoWQj2JwI+FMJ1+hLHxmNiPsGJBveDnRVrFLdNYJ4V+1oO1b9Zs47jEx92ynn/44QcaPHgwnXzyyXTDDTeoms7SzEVACKC5c5MVPRMCWDUGEGQQGz7HjOmq93hb5lJIcUs0SD8qvl7sSssUDydCqCeVIIbQiQCYkugh/ai67aaLBxNCvBgEoU2pu8ARXhIXsXLrxzvvvENXXXWVknnp16+fxPtlwRNcCGAWTJLJXRQCWKHNxlIwnL2KjZIrU+Df+DxuaxsnFJjSjzhlVfCdCjPBQieETAJA/uwIYZj98LN3mNIPU6pYBN0PJ21K65qwzlkYWc9+1oUeMoI4TLzIIGSEk6IwrkmTJtG0adNo+vTp1K5du3QuL+fEgIAQwBhAr063FAJI9PHHHyvpl8aNG6tNkTUACwsLFenjgHF9o8e/M3EH+VlDuhUDGzeIVxzNlH7EkdjAhJDJIMgFGocGxC3hYYq2HycCme7yDeL7Y40htEs0wjrB3MS5PvhlCeTP2g/87corr1SW9EcffZRq164dBDSO14CWIO4DT0vXrl1p4sSJ1KlTJ9vje/XqRe+++67qM8dhwzp5ySWXhNrHbLq4EMBsmi0D+yoEkOjhhx9WyvYoA3fsscdSz549adWqVTR27Fj697//rTYoq4uQLYRhlqZiyyMHaoP8RUU6rUuVrUsgvrr1IOolbVpCAcaPlwaWnYkiiUDH3BRtP1OyWuPMNrYLI8Bc4TuDlzasDbcwgjC+S+gTvxxYpWZWrlypSrmdffbZdPXVV4cuk4T9dMKECTR79mxq27YtjRkzRiWZrFixQsVdW9sJJ5xAv/nNb9Rx0uwREAIoKyMjBIQAVsCHjbK4uJieeeYZteGgAgjeUFHsHJvQr3/9ayooKKi0+FjdQUETQtOsbSZopplmXdKtKXoSga4rGSYhNEHbD98dU7JaTXG1srQKsIEllGWI2Goc5prQHwZOpBxrFS+2119/vSJkvXv3juTFEnvpNddcQ5dffrnqJnA58MADafz48TRo0CBbAoh995ZbbsnoGVedTxYCWJ1nN4KxCQHcAzJcE8OHD6cLLrhAKd5jw3777bfpzTffpAULFqj/H3fccYoQwkpYv359V0KY7kavx3LhARKHgLH+YMf945QRMaW0nZ+EAidCGEQYQRwucLutyKSsVr9Z4GFtrVzVwy5ON9Wa4LURhJXfKf4Ra3jcuHHKCod4v5YtW4YFRZXrwuWL/RIuXXhZuPXp04cOP/xwuueee2wJ4Geffabc002aNKH+/fvTqFGjlEartAoEhADKSsgIASGAe+CbMWMGNWjQgH7729/uhSk2b1QJeeutt+iNN94gZMxhoz7++OMVIcTvunXr7kUIrdYgJoV2MYTY6OCuwTkcQ5XR5KZ5su42MiWWK87EF8CYaYJFKpkRXhepHv6maAya5PLlcn9xanK6Sas4fQ2tmcb43uvJZ7o+pZ+vMluGrd9dkDDEz8GTgdg7fB5VW7t2LbVo0YKWLVtGHTp0qLztwIED1b6JMBxre++99+jQQw9VxPHTTz9V7mqci2QVaUIAFQGWhZAZAkIA08MPG/XmzZuVdRA/CxcuVHE+cFmAEPbo0UMFVHOSALuMWXcOd+X4QS49B/IXd4ydTjCiLOVmnQU/1rb0ZtDbWToZBh4gokE0t4e/ne4cjjfJygXShX7GGZdaHcmwU6axviacPAK8VvGyYiXDX375pfJsoKwbSGCqF40g1rh+jXQsgNY+4OX797//vYrVRviFNLEACgHM8FsgBDBDAHefjs13w4YNigzCQrho0SLlaw2R3QAAIABJREFUqmBC2L17d7UpuxFCbOwgkVYNwmB66H4V3YJhQsZi0ggG8McPvyDo1iBOMgE5wJqKS4MyLDKczvpmK1fcazXs+EcvmcZYH5z8Aiz1cA38/eWXX1ZxdAhxQQhLXM0uBrBZs2bKJW0XA2jtJ8JxTjzxRJVBHKX1Mi68vNxXXMBeUJJjHBEQAhjO4sDGC1V9JoRwZ0BqBoQQLuZjjjlGxRciAHrKlCnqM91K6KQ5F0ZvTSkpx7FtnHASlLXNL2amWNuwHpD4ArLDjbUp2XoclSXHRJdvnJJI+hqJMkyCXxJ0gWp+qeQXSF4bIKe33XYb/ec//1HJbU2bNvX7VQj0eMT5Ielk1qxZKrkOfUMW8PLly/fKAkYZusWLF6v9EoT2888/p/POO49atWpFzz33XKD9yuaLCQHM5tkzoO9CAKOZBGzca9asUdbBefPmqSBsPNwhwfDnP/9ZBUaD8PBmrm/w2MjDIIT6QyzuGDuM0YS6tSa5njnrmYmO9eGPvuKhr0sRhZEw5JbYEM23p+Iuprh89SQcU+IOsQbQr1deeUVJunTr1k3FLINoQeLKlMSJ0aNH00MPPaTcuEcffXSlDiD2xo4dO9KcOXNUPPXq1avpzDPPVBIxmHeQ1zPOOEOSQCxfOCGAUe5A1fBeQgCjnVRYBM8//3z1Jgu3zFdffaVI4QcffEBwh+CNFz/YHNkCho1dFyAOom6tiUQnSkuK3axnmugR1Eryam1zixdLN4FAH4Pu8rVqyAU1Vq/XMcXlazoJxRqGyxeWta1bt9K3335LEHtGTDJeNP/61796hVyOywIEhABmwSSZ3EUhgNHNDh6op59+utLduuyyy6rIu+Czb775hl5//XXlNv7oo4+oefPmKqEEP126dKmsAOJGCPUHv5N7kJMJTAjih9UP4wHBiLM+qgmVNLASM9H20+PFYFHVLYQsMeLVQmgS0cHc6DqU0X1jq97JdBKK7xFcvYipAwH81a9+pb5byLyFjBXWwLBhw+KCT+4bAgJCAEMANUmXFAIY7WxjQ/YSt4WHN6yDIISwEH7yySfKncNJJUceeWRlMkAqQsgVCHSZGVPip+J2PZtEdFjOJKi5cSKEqWrXZkJCg/w2mTQ3TtU0ghyvl2s5ueMxZ9DIw57x9NNPK6kXadUfASGA1X+OQx2hEMBQ4Q3s4niY402eLYRLly6l9u3bVyaVdO7cudKC5kQI8XcuBB9XJqlJrmdTZFWiIjp6ljFXp8DLiB5DCKKDz4Iioel+AUyJO9Td8Yij82pBTXfcTufpWfpWOSKoDyBBArFzCCuJ67sd9JjleqkREAKYGiM5wgUBIYDZuTzwYIJKPhNCZMkddthhlYQQAdV4WKG83dSpU2nAgAHKhczkEJ+lsgQFjYwpFU6EhFbMrJ5UgrkBLmggEFgrWB8m1a4Nej2mul7YEi+p7s+fs8QL5scaKvH+++/TpZdeqogfkiS8eBe83leOMx8BIYDmz5HRPRQCaPT0eO4crDZwE8NdDMFUSCscdNBBhILvjRo1Iq5yoj/4uUoJzuVsUr+xYl46aNWPA7mI60FlUqIHXL7APu5MUsYE7ngWJee1wRZCfV2ENXdek1+8rLlMjnGztmVy3XTO1esbs44of4cff/xxpe0Hly9e+KQlDwEhgMmb80BHLAQwUDiNuBhcm2PGjKF7772X/vjHPyp5FSSYHHHEEZVJJYccckilO0t3DWaaPGAFwBR5F5NIqF6nFe68ON2KbnGHYWSfO31BmITi5QDZ4GGRzFRfUDdrW6pzg/7cKekEbvprr71WZflC4gUaotKSiYAQwGTOe2CjFgIYGJTGXAhyDwgGnzx5siJ9aHjAQmqGLYSrVq1SmcXIMEZiSevWrT0RQq/yIroVJe5qDaaUt9MxiVvyJp24QydCaA0l8EPerMQ8LvFvfEeAyY4dO5TrW7e2Rf3FdpPfgV4eauKecsop9Le//S22l4eoMZH72SMgBFBWRkYICAHMCD4jT/7666+VhIxbvUyIDCN+CIQQsjOoWtK1a9fKGEIUbucHuZu8iF1FCr2ySNzyLqYkepjk3gwKE50Qsk6lH8FykzBhC2TcLytOmABrSLlA5BkyLyeffHJsVlIjN72EdkoIYEInPqhhCwEMCsnsvg5cgSgZxYRw06ZNqppAz549Vek6xBN6IYRAAQQjbnkXUxI92PoKMd64MQm7ggUTQl20HOPXs4xhXcM6MiUWM2xM/OwKTkknWMsTJ06k559/nqZPn05t27b1c1k5thojIASwGk9uFEMTAhgFytl1D34ovvvuu5VZxog3Qrk61iFEaSadEG7btk25znAuWlw1a5lwgdDGLXTt5sqLekXEEXeI8ev1rdEHNC53GDchTscNHsa8ASe2ylpDA+CShmg8YiMffvhhY0q6hYGDXNM/AkIA/WMmZ2gIJIUA4u35xhtvVDUmUYYNhchPO+00x7WAYuTDhw9XBAibMyRW7rzzThUzl7SGBxQeRAsXLlQWwrffflvV8uzevbsihHjIX3/99XT//fdT3759FTx42HMmKT7nODH+7SdOzCveJiV6ZAO58IprUMcxJqxHiXWBf3NcKf8OY21Yx2CKzqCbBRKJW4j3w88VV1wh8X5BLcRqdB0hgNVoMuMYShIIIFybvXr1omnTpqng6ZdeeonOPfdceuedd1S5JLsGTa3Nmzcr+ZT8/HwaP348oZA5CGT9+vXjmCpj7omHFgjg/PnzFZH+4osv6IQTTqCWLVsqdzFIYYMGDapYCJkQ4jfO1xMH2C2YyQBNSvQIKsYuEzxwrklucDv3pm4hZLdxGGtDx9EkiRfMD16sQHgRK8vZ4Ojj3Llz6YYbbqD//d//VXuXNEHADgEhgLIuMkIgCQTwggsuILgo//Wvf1VihZq8KJf0yCOP2OJ31FFH0dChQ9WbNxo26jp16qg4OcTGJb1Bc/Dss89WRA91R4ElLIOwECJYHQ/04447TllMEUcI0qy7jIMihLr7zIQAfhO0/dgCi7hDkOu4pWaQcISfVJnPYRNCU5JOMD9Osjf43owdO5Zee+01VdcXyVzSBAEnBIQAytrICIEkEEBY+VAJA25KbnDnghB++OGHtvjBWghyyHU1kXn32GOP0aeffuqaXZvRZGTRySDCsACOHDlyr9JTeJAXFRWp7GIQQlhaYd0AEQQhBDGsW7duZSwYjk+HEJpo4comwhX2cuP5satg4eXeTAj1pBLdQugnnMCkqh5MiK0l3fCSetFFF9GBBx5IDzzwgOwzXhZJwo8RApjwBZDp8LOZAJ5//vn05JNPVhIJKxZwnSCGD6LHI0aMoIsvvrjykEmTJik5hRUrVthCCFfvJZdcQnPmzFEEB5YuuIN79OiRKeSJOx8PbWQVo0IJCCFiCZEAwAklIISos8rJAVbZGTu3IAtMm5Do4dXCFfbE64QL5CLOmrB60klQmnpYB04vC3pIgR5D6JZgEfZ8WK+PvsAqC0KL9Y4+c0MYBTwOSPi48MILQ5V4ufnmm1UFke3btyvpJ2QYd+rUyRYOJH+hT7NmzVIvcYjxnTBhgohPR714HO4nBNCQicjWbmQzAcRmClV8p4bMObht/VoAsVGDNIJAgiTiGq+88goNHjxYuTlZXDlb5zzufgPf9evXV1oIkW1cu3btSgshkkuYNDi5BTEGEBwuXxZF4oAVN5NciiZZuJwyWsNYd3qWMYgV/q+XNURf2AIZJyHWS7rpLnms7xdffJFuv/12Qmk3ZNqH2eBeBoGbPXu2kpNBxSCEcOBFGN85awPhg7sa7mj0FZ4UkFf0WVr8CAgBjH8OsroH2UwAvQKPGEC87SITmBuSPGDVs4sBLCwspIYNG9LixYvpyCOPrDwHb8sDBw5U1kS75jfTGNcA+Rk1apSq0gGLAN7E4TJNUsODBULUsA7i57333lMxg7AQIqnkmGOOUfFjn3/+uXrwXHXVVYr8saWQM0k5izSIpJJU+JukY6e7FOOss6xbuOKqb8yEEPPDsjNMCL1WsUk1934/54xja4wq+nfLLbfQRx99pPT9mjRp4vfSvo9v06YNXXPNNXT55Zerc0FM4XJGktugQYOqXI8VE5YuXUqdO3dWn+HfiI/GZwcffLDv+8sJwSIgBDBYPBN3tSQQQMSrIUsVcX14o3355ZdVFjCSFZyygLHhwTWJerqwTsEFcuaZZ9Krr76qrmVt6WQag/yhVi/eyFG+DQ9vPAySnmQCIoGSV3DfgxACW1j4UL4OD6m77rpLJTag6RZClp3RCSEe+iAAQVkIcW1YnWFZssZwRb15mGiBjDsGEnOg19DFdwokh+MIrRZCXh9hzJ2ecQxCjL5wg8IAQljwgvmPf/yjymdh9AXXxEswXqyw7+iWxj59+tDhhx9O99xzT5Vbz5w5U73wwtOiN7yM4WW3X79+YXVVrusRASGAHoGSw+wRSAIBxMiR8AFLG0gEdADvuOMOOvXUUytBAeEDKURSAxo0uK677jpatGiRymBENh50ARGnY9fSyTRGQgQ2YrhlpNkjAD1GYAtijN+wPMBa2qxZs8oYQlhmuYaslRCyFYirUWRCCE3R9gNSJlkgo3T5un1PmJwDG5BznXDxeW5lDTmOkOVYMvlOuiXAwLOAZA/IvCCTPqiXk1T9Xbt2LaHE47Jly6hDhw6Vh4PkISkLQtN6mzJlivJ2rFu3rsrfIQKP0Jhzzjkn1S3l85AREAIYMsDV/fJJIYBhz6PfOEPIhSC28Nprr1WxcCCcrVu3VgXeIVEjrcK6B3KHeMyHHnpI6TGi4eEKvGAhBHYff/yxerBxUkmXLl0qH/52hNBPvVrczySpGZN07NAXrGOQ7Lhcvjqxg6UKfUKMmlcS50QI9aQSr9fivuBFAbJRuIaeAIO+QVUAgukgV3p4SRTfd7EARoFytPcQAhgt3tXubkIA3ac0rEzj77//XlkVEfcD9zLiaiBQjbdxJJqEHQyeLQsZsYGIUXKzkuAhjiB2dhlDoxAB7rCw4gdJO5wAgIew7hIEeXEjhCbEtdmRHBALPYs06vl0SmqIuh+6NRQWP7gnM7Go6VnGvE5wPd2CjP873YPdz1bNQ/wd3gVYsEH+EH8cR7OLAYQ1HRY9uxhAvJQuWbKkSgwgXrDgSZEYwDhmsOo9hQDGPwdZ3QMhgO7TF1amMb+N46EAdzS3k08+mbDBQqdQWnoIgBBCVgOEENIzCFxv3759ZVIJ3P1MnpgQcvwgE0I88PGQx4ObLTl+LUHp9d7+LCfh4CDv4eVawIv7ErfwdhTWUCaEHEOI3zohxNrgdYHYUGBjtYYi4x0KAogdRjWhOIk74vwQc4yXTpBBVPJBFvDy5ctts4BROQljmjp1qrKugiRifJDEkhY/AkIA45+DrO6BEMBgps9vpjHu2q5dO5VYIgQwmDlwugoIIUggEkrgMgY57NixYyUhRJ1nvQwXSF9xcXGl1dDugZ+JlcnPaE1KOjHN5Qv3c7oi037mQD9Wf2HglwZ9LSD2UCeFSLhAxi3HHEe1btzGBxKKkAqUczz66KMrdQCReIXvBbRPjz/+eHUJ6ACi/5DBQt9BCEEgETMoLX4EhADGPwdZ3QMhgMFMXzqZxogFQkYrNLngpkR2MruAsTHbtXSkZvg6p512mnIzo8xU7969gxl4Fl4FVhwE4oMM4gfWD2RBIoYQZPDWW29V1pEHH3xQEUO9EoXVAsSWwjAe7LgXSA5IhykuX2vd2jimPwyR6XTHwRIvnGm+ZcsWpR+KEA6URwQBhLUM60qaIBA0AkIAg0Y0YdcTAhjchPvNNMadIQEBJX6UgYJFEG/nTvIK6UjN8Ojg5kEAOsq34SfJBNA64yAUyDLGPEDwFgk9iM8EIcQPklB0C2EqQhiEq5hjyZDdnGlcW6YrXJdVgds3DLLrpY96Mk6qusJerpfJMU59AVaQl3riiSfUS8aGDRtURjJiUaFpiexfljDK5P5yriAABIQAyjrICAEhgBnBF+nJ6UjNoIOQf0AdXghMI1s26RZA66QhdgtyFyDJKBEIkXDUiGaXMQL3EZfJSSUIjGcSlCpGzK/OnO7ytWrHRbrYdmc/c5avk6xKVH0yyf3s1hckRyDeD7qeWFN4WcBaQiwqXuCee+65WEv0RTVfcp9oEBACGA3O1fYuQgCzZ2r9Ss3wyCD0etZZZykNQ1inhABWnXMQwEsvvVTpRML1a23QgcTDmwkhdNHgogephlUHpNqNEAJzL7IiJukMSl/s9wUnXEAKEU4AWSeEdvz+97+PzVKaPTua9DRTBIQAZopgws8XAhj/AghLagYjQxwb4v7mzp2rBioEMPP5hlUMhJB1CDdt2qTK1XHpOshqWAkhJwyAQOi1atlCaKLL1wT3M8fYmdwXJKKA9OF7hpJusBBLEwSiQEAIYBQoV+N7CAGMf3LDkpr59ttvlZUKZAUxbUIAg59rdgeiYgwTQsRzIgmACSG0Hu0IIUghyAM3kBzE2AURQ5jOSE1zP3PJPRNc4Xq9Za46A4yRLf7Xv/5ViU8js1bi+9JZeXJOuggIAUwXOTlPISAEMHsWgl+pmSeffJIuvvhiJdmAhzsashTr1atHAwYMUPFuds1vpjGql0BXDPFPqJsMt+jdd9+dSKFY4IwqEAsXLlSEEKLeIAndu3dXMYQghY0aNVKEENI0wAxZo3ARwzqo16qFdVCXFAlzpXJdYdwDhCsuEor7m1TjmIXA7eRmvvrqKzrvvPNUaAVCCOLELMy1Idc2FwEhgObOTVb0TAhgVkyT6qRfqRlYUAoLC6sMEOr9yHRFjBIKw1tbOpnGqGmKoHdIqcCaCYsItPaQBZn0BgIBvTUQQcQQIkMU8wKLLGLGrrrqKvr73/9eSR7catVyNYqgs3BNcrOyxAvGCmta0GP1sx71aifWkm6vvvoq3XTTTap+Lki9NEEgDgSEAMaBejW6pxDA7JrMdKRm9BHCouQmA5NuprF+D5SOQsIKyCesjdL2IAD3MDAGGYQuI8rWgSQed9xxykIIAV4QcyY+IIR6lRKrhZB1CNPB2DSXL+IgQY7jlngBlk7SNyCFqNIDQv/ss88S4j2lCQJxISAEMC7kq8l9hQBWk4kMaBjpZhrrt4f7F+5lxCBK24MAyA1qPiNrePLkyaoONEgYiDKLUkOqB65ExG4yIaxTp85ehJBJIQghSL2eZezFamaimxXkylpGLer140aKi4qKaNiwYSrJY/z48SpeU5ogECcCQgDjRL8a3FsIYDWYRA9DCDPTWL89JGZg2XrhhReUm1laVQQQG9ijRw/HeDEQEGQVgxDCSojkEhANFqWGpRAJB1YLoZUQcvygnYXQlLrCQEZ3s8LlG2ccnRsp/uyzz1Ss3zXXXKPi/ryQbFn7gkDYCAgBDBvhan59IYDVfIJ3Dy+sTGMdPdQL/ctf/kJIPvnTn/6UDGBDHiUI4fr16xUZxA9Ki8EiyBqESC7RY+XYZQxCiB+cz9ZB/Mbf4N7EOXo2a8jDsL28KRVG0Dmn2EPgh6QoWLVR3aNbt25xQCX3FARsERACKAsjIwSEAGYEX7U72W+mMQMwdepUVTQelQ5OPPHEaoeLKQMCIfn+++8rCeF7771HDRo0UBZCuIyhR6iXjmNCCKsfSA4arGw1a9ZUFSlACqO2ZrGbFX0yocKIU+wh+nfzzTcTrH/Tpk1T2dvSBAGTEBACaNJsZGFfhABm4aSF2GW/mcboyoQJE1RG5Msvv6ySGJwaHqaPPvoobd++nbp27apq73bq1Mn28K1bt9Jll12m5GVAWPr27avuI0klVeECmUKpOrYQvv/++9S4ceNKQgiLFRIWUHMaSQvAT69lrFsIoyCEJsnNuJV0gxseYRNYp0j6ADbSBAHTEBACaNqMZFl/hABm2YRF0F2/mcZsUeKgeDxYYVWaPXt2JSEcO3asInD4W9u2bWnMmDGq9u6KFStU4L+1gfDBAgPJGlwPuoWIfXvxxRcjQCB7bwGsVq5cqTQI8TNv3jwlzXPuueeqcoAoYceuXxxrzTLG3/T4wSAthCbFHroR0Y8++kjpZ+KFBZhFbSHN3tUnPY8aASGAUSNeze4nBLCaTaihw0GNXQTQw02MBivUgQceqLIpBw0aVKXXsGi1atVKCSV37txZfYZ/I4MWn0HLUJo7Ahs2bFC4rlmzhu655x764YcflJXw448/ppYtWyp3MX6AKdzBaDoh5KSSIAghruFUSSOOeeR4P4xbd5ejn8jORvnEp59+unLtxdFHuacg4AUBIYBeUJJjHBEQAiiLI2wE4PKFth0SGFAijVufPn2UeDQIit5mzpxJAwcOVJYrveFhjYD8fv36hd3lrL8+xLjhRodQMZJGuMHytXz58sqyddAhhEWWCeERRxxR6e50I4RsJUxlIcT9UDvZrpJG1CBjPBzvZ02CAUEdMWIEgTiDBNqJpIfZX7/Vd2BBv/XWW5X1nC3up5xyCiEWV1pyEBACmJy5DmWkQgBDgVUuqiGwdu1apX23bNky6tChQ+UnIHkoUweSorcpU6aoh/G6deuq/L1p06Y0btw4OueccwTfFAiA0MDVm8p9CWKGqi1cx/jTTz9Vc8R1jBGjCZKHZiWEnFTCFUrwG+EAfE+2tOF8vZJGHJPHJd1geUYoAY8JfYF1dPDgwYQXklGjRlX5LIq+plN9BwTw3//+t4rvlJZcBIQAJnfuAxm5EMBAYJSLuCAgFsDsWR4gSHC3w10MLUKQQ5BAJoSHHXZYpVafHSEE+WNyBQKIuFD8pCKiYSLkpjUI4W2U40OSDCxocfQzneo7QgDDXDHZc20hgNkzV0b2VAigkdNS7TplFwOIMlqw6NnFAKLaAkrK6TGAXbp0oVWrVqWMAfSabYxMT1gaYUXZvHkzNWzYULmeR48eHbtGnikLAOQJNZ2ZECJpB25iFqaGtZDFm0EIi4uLlZuVs2aZELKVULcQRjFGrnNsJaKwfD700EMq1g8SL+3bt4+iO7b3SKf6DgggQidgWcUPBMJvv/12FTsrLTkICAFMzlyHMlIhgKHAKhe1IICHFbKAIesCMnjbbbepLGDEo9llAcMag4c3YppALEAScdyMGTNcsfWTbYxsWWQZI8MYhBOl61DF5He/+50iptL2RgBWvQ8//FARwrfeekthduSRR6oYQpAPEOpTTz1VuVJB/lhyhn/jb3qWcViEUE88wbrhRBeMCLGlV155pYpLfOSRR6rESAY552FW34FlFrGdzZs3V6ESwB2akLDe2n2fghyXXMscBIQAmjMXWdkTIYBZOW1Z2WlY1mB1+fHHH5UcCesAIlO1Y8eONGfOnErZGCQwIGMY1UVAGkAIQSARM+jW/GQb213nn//8p6r4AKuXtNQIwNr3wQcfqLmBfBAsUcjuZmFqEGt2q4KU6RqE+DcTQiaFQRBCt8QTkP4hQ4YoSy+y0sMsPRdF9R2eIcwDNB6hxSlC7KnXbXU5QghgdZnJmMYhBDAm4OW2gSPgN9bQrgPQH0SyyWOPPRZ4/6rjBWGlHTlypMLr8ccfpz/84Q+EpAZ2GcM6BTFqjiGExSpMQghSuWPHDhWHqCeegHwiaeL6669XZLV3796xxPvZrYF0q+/o1wIBRObySy+9JDW4q+MXzWFMQgATNNlhDFUIYBioyjXjQMBvtrG1j5DVmDRpkrJoIT5RWmoEYM0dOnSoij9r165dlRO45Btck5xljFhLlKtjQgicvRJCzjJ26pVTbWFYBOHSf/XVV5XLHzqIJrV0qu+g5CJIbEFBgZKugQsYCS3I4kaWs7RkICAEMBnzHNoohQCGBq1cOGIEMrEA3njjjSomEVaiQw45JOKeJ+N2LMWyaNGiSgvhtm3bqHv37pUu4yZNmvgmhG61hbEmLrnkElUvGQLP0JI0sfmtvtO/f38V8wdrZ35+vorBxAsMQiCkJQcBIYDJmetQRioEMBRY5aIxIeAn25i7iJrD8+fPV+QPLkpp0SDAWcMLFy5UFkJkY4PQgBCyMDUys3ULIVco4d+6bAtcvnrN3i+//JLgXr3ooosIwthxSLxEg6TcJakICAFM6swHNG4hgAEBKZcxAgE/2caIF4MAMDInX3vtNYL1yU/zKjejXxMuU1Q/QeIL4ufCTELwMxYTjgUhhMUORBAahAsWLFCSMj169FCEsGfPnsqSx0QOrlMkmaCqBxqsiagSg+ORiAKrGhJ6jj/+eBOGJ30QBAJHQAhg4JAm64JCAJM130kYrddsYxCNE044QQkVs+WIy2qBiLg1P3Iz+nUQL4fKE/PmzRMCmGIxYi6QDQ65GSSVgBDib8g0BnFG4glkgk466SRFCnfu3KkyyREfh7KD0HmETmGvXr3UPCPBRyRSkrADJGeMQgCTM9ehjFQIYCiwykWrOQLpyM1AogP6h3feeafK1BQLoL9FAvIHyyk0ISESjmQSEERYBpFUAikhVPU49NBDlUgy3Mkg+ZyRDBc/kiakCQLVBQEhgNVlJmMahxDAmICX22YtAukkm2zZsoW6du1Ks2fPpo0bN6oMTiGA/pYAyB9cvJA7QTYvXPbAEu5ikLxnn32WUCED+pES7+cPWzk6OxEQApid82ZMr4UAGjMV0pEsQSAduRlUGznqqKPob3/7m3JpCgH0P9mIn3zggQeU5Ile2YOvxO57/1eWMwSB7ERACGB2zpsxvRYCaMxUSEeyBAG/FsDp06fTvffeqwSSEbsGixXKzSHBAYLF0gQBQUAQSAcBIYDpoCbnVCIgBFAWgyDgHwE/cjOoCfv8889XatDB9QsSCYkTEMO//OUv/jsgZwgCgkDiERACmPglkBkAQgAzw0/OTiYCfuRmIE+ChARuEEKGS3jVqlUqKYFlTJyQ9Cs3A+kTVL749ttvqXbt2qru7X333ZfMiZJRCwLVGAEhgNV4cqMYmhDAKFCWe1RHBLzKzVjH7icG0K/1W9giAAAJJklEQVTcDCyKqHgxefJkJaj8888/0/Lly1X8oTRBQBCoXggIAaxe8xn5aIQARg653FAQ8IyAH7kZJEmgti4yZP/4xz96voccKAgIAtmJgBDA7Jw3Y3otBNCYqZCOCAJVEPCbbDJ37lxF/GA1nDRpkooz7NKlC/3jH/+gI444QtAVBASBaoaAEMBqNqFRD0cIYNSIy/0EAW8I+JWbQVUMJJRAFBlWwPz8fEL84FNPPaXcwHXq1PF2YzlKEBAEsgIBIYBZMU3mdlIIoLlzIz1LNgJ+LYCoNNK/f39VDg3l0dDKysoU8XvhhReoT58+yQZURi8IVDMEhABWswmNejhCAKNGXO4nCHhHwI/cDFsMdQJYWlpKdevWFQLoHXI5UhDIGgSEAGbNVJnZUSGAZs6L9EoQAAJ+5GZw/BlnnEEoO4eyaPXq1VOl0ZARvGzZMiUJk6r5kZz58MMP6X/+53/ok08+oRo1aijX8/jx46lFixapbiOfCwKCQAAICAEMAMQkX0IIYJJnX8aeDQj4kZspLi6m4cOHK4sfqox069ZNkciOHTumHKofyRmUXWvatCkNGjSI7r77biU3c8EFFxCskAsXLkx5LzlAEBAEMkdACGDmGCb6CkIAEz39MnhBoBIBP5IzW7duVSLWsP4dfvjh6hqzZs2is846q4rotcArCAgC4SEgBDA8bBNxZSGAiZhmGaQg4IqA34QTXOzKK68kWALZAnjhhReqqibIOs6WtnTpUho5ciQtXryYNmzYQK+99hr17t07Zff9uMpTXkwOEATSREAIYJrAyWkVCAgBlJUgCAgCfiVngNjbb79Nl1xyCX311VeKCKLayOzZs6lRo0ZZA+iXX36pXNbQS4S7fP78+SkJoB9XedYAIR3NSgSEAGbltJnTaSGA5syF9EQQiAsBvxbAr7/+mjp16kT333+/iv3btWsX3XXXXQQtwk8//TRlfeO4xul239zcXE8WQD+uchPHKX2qPggIAaw+cxnLSIQAxgK73FQQMA4BP5IzSDIZOnQoFRUVVY4DpeiQefyf//xHWdOcGkSqJ06cSEuWLCEkrZSUlBDIl1NDvOFll12mYgxxXN++fWnChAnqXkE2LwTQL1EOsn9yLUHAioAQQFkTGSEgBDAj+ORkQaDaIOBHcmb16tV02GGH0T//+U86//zzFYlDyblx48YRPnMjZ3CzFhYW0n//+18aNmxYSgIIwofrgzjC1TxgwAA64IAD6MUXX3TEHn168sknKScnR51jbb169aLXX3+9yp+9EMB0XOXVZoHIQIxDQAigcVOSXR0SAphd8yW9FQTCRMCP5AwSJm666SZCHB2IFrKBb7vtNurZs6enLr711lsq3s7NAggy2apVK0KyRufOndV18W/EG+Kzgw8+2PZeIJc7d+507EfNmjX3Ko3nhQCKBdDT1MpBESEgBDAioKvrbYQAVteZlXEJAmYj4IUAzpw5kwYOHKishXrbd9996fnnn6d+/foFNkgvBBA38+MqD6xzciFBwAYBIYCyLDJCQAhgRvDJyYKAIJAmAl4I4JQpU2jEiBG0bt26KneBCDXczeecc06ad99zGkSs4Sbef//9VRYz3MOobAIhbbvmx1WecefkAoKACwJCAGV5ZISAEMCM4JOTBQFBIE0EvBDAsC2Aq1atotatWysXtt6g8wf3Nhpcz+eee67SC+Tm5CpPEwo5TRBICwEhgGnBJicxAkIAZS0IAoJAHAh4IYCI8wNBQ8awHgMI3T6QN6cYwDjGI/cUBKJGQAhg1IjL/QQBQUAQEAQyQQCaLzWJ6LdENJuI6hBRKRH9Am16mwu/vPv4QUQEU91UIkJQ4GmZdELOFQQEgexGoKrdPrvHIr0XBAQBQSAJCAwhosc1sod9HMTvBCJaSURfENHJRLRwNxj1iWgCESHjA8eBEF5ORNuTAJaMURAQBOwREAIoK0MQEAQEAUFAEBAEBIGEISAEMGETLsMVBAQBQUAQEAQEAUFACKCsAUFAEBAEBAFBQBAQBBKGgBDAhE24DFcQEAQEAUFAEBAEBAEhgLIGBAFBQBAQBAQBQUAQSBgCQgATNuEyXEFAEBAEBAFBQBAQBIQAyhoQBAQBQUAQEAQEAUEgYQgIAUzYhMtwBQFBQBAQBAQBQUAQEAIoa0AQEAQEAUFAEBAEBIGEISAEMGETLsMVBAQBQUAQEAQEAUFACKCsAUFAEBAEBAFBQBAQBBKGgBDAhE24DFcQEAQEAUFAEBAEBAEhgLIGBAFBQBAQBAQBQUAQSBgCQgATNuEyXEFAEBAEBAFBQBAQBIQAyhoQBAQBQUAQEAQEAUEgYQgIAUzYhMtwBQFBQBAQBAQBQUAQEAIoa0AQEAQEAUFAEBAEBIGEISAEMGETLsMVBAQBQUAQEAQEAUFACKCsAUFAEBAEBAFBQBAQBBKGgBDAhE24DFcQEAQEAUFAEBAEBAEhgLIGBAFBQBAQBAQBQUAQSBgCQgATNuEyXEFAEBAEBAFBQBAQBIQAyhoQBAQBQUAQEAQEAUEgYQgIAUzYhMtwBQFBQBAQBAQBQUAQEAIoa0AQEAQEAUFAEBAEBIGEISAEMGETLsMVBAQBQUAQEAQEAUFACKCsAUFAEBAEBAFBQBAQBBKGgBDAhE24DFcQEAQEAUFAEBAEBAEhgLIGBAFBQBAQBAQBQUAQSBgCQgATNuEyXEFAEBAEBAFBQBAQBIQAyhoQBAQBQUAQEAQEAUEgYQgIAUzYhMtwBQFBQBAQBAQBQUAQEAIoa0AQEAQEAUFAEBAEBIGEISAEMGETLsMVBAQBQUAQEAQEAUFACKCsAUFAEBAEBAFBQBAQBBKGgBDAhE24DFcQEAQEAUFAEBAEBAEhgLIGBAFBQBAQBAQBQUAQSBgCQgATNuEyXEFAEBAEBAFBQBAQBIQAyhoQBAQBQUAQEAQEAUEgYQgIAUzYhMtwBQFBQBAQBAQBQUAQEAIoa0AQEAQEAUFAEBAEBIGEISAEMGETLsMVBAQBQUAQEAQEAUFACKCsAUFAEBAEBAFBQBAQBBKGgBDAhE24DFcQEAQEAUFAEBAEBAEhgLIGBAFBQBAQBAQBQUAQSBgCQgATNuEyXEFAEBAEBAFBQBAQBP4fVPLILrDucFkAAAAASUVORK5CYII=\">"
      ],
      "text/plain": [
       "<IPython.core.display.HTML object>"
      ]
     },
     "metadata": {},
     "output_type": "display_data"
    },
    {
     "data": {
      "text/plain": [
       "array([[-0.35509654, -0.91829207, -0.17506035],\n",
       "       [-0.64846426, -0.72296894,  0.23834851],\n",
       "       [ 0.7741083 , -0.624603  , -0.10308944],\n",
       "       [-0.34642338, -0.75653178, -0.55466252],\n",
       "       [-0.41415594, -0.50253728,  0.75890127],\n",
       "       [ 0.62867595, -0.25654829,  0.73413182],\n",
       "       [ 0.9437921 ,  0.07445533, -0.32204485],\n",
       "       [ 0.70342887, -0.06006032, -0.70822354],\n",
       "       [-0.6402677 , -0.51036088, -0.57409847],\n",
       "       [-0.69052652, -0.71917543, -0.07719992],\n",
       "       [-0.74252671, -0.66650177, -0.06655427],\n",
       "       [-0.66940995, -0.2823655 ,  0.68713903],\n",
       "       [ 0.36937804,  0.58373058,  0.72306187],\n",
       "       [ 0.57370625,  0.77463629,  0.26608224],\n",
       "       [ 0.50208502,  0.71755569, -0.48272609],\n",
       "       [-0.03414735,  0.5652519 , -0.82421129],\n",
       "       [-0.20896643,  0.61583623,  0.75965701],\n",
       "       [ 0.33065223,  0.93530146,  0.12601702],\n",
       "       [-0.08437104,  0.76245602, -0.64151566],\n",
       "       [ 0.01712046,  0.97752234,  0.21013559]])"
      ]
     },
     "execution_count": 26,
     "metadata": {},
     "output_type": "execute_result"
    }
   ],
   "source": [
    "from mpl_toolkits.mplot3d import Axes3D\n",
    "fig = plt.figure()\n",
    "ax = fig.add_subplot(111, projection='3d')\n",
    "cursor = vectors\n",
    "for i in range(100):\n",
    "    cursor = generation(graph, cursor)\n",
    "for (a, b) in edges:\n",
    "    plt.plot(cursor[[a,b],0],cursor[[a,b],1],cursor[[a,b],2])\n",
    "plt.show()\n",
    "cursor"
   ]
  },
  {
   "cell_type": "code",
   "execution_count": 22,
   "metadata": {
    "collapsed": false
   },
   "outputs": [
    {
     "data": {
      "text/plain": [
       "{0: [1, 2, 3],\n",
       " 1: [0, 4, 9],\n",
       " 2: [0, 5, 6],\n",
       " 3: [0, 7, 8],\n",
       " 4: [1, 5, 11],\n",
       " 5: [2, 4, 12],\n",
       " 6: [2, 7, 13],\n",
       " 7: [3, 6, 14],\n",
       " 8: [3, 9, 15],\n",
       " 9: [1, 8, 10],\n",
       " 10: [18, 11, 9],\n",
       " 11: [16, 10, 4],\n",
       " 12: [16, 13, 5],\n",
       " 13: [17, 12, 6],\n",
       " 14: [17, 15, 7],\n",
       " 15: [18, 14, 8],\n",
       " 16: [11, 12, 19],\n",
       " 17: [13, 14, 19],\n",
       " 18: [15, 10, 19],\n",
       " 19: [18, 17, 16]}"
      ]
     },
     "execution_count": 22,
     "metadata": {},
     "output_type": "execute_result"
    }
   ],
   "source": [
    "graph"
   ]
  },
  {
   "cell_type": "code",
   "execution_count": 77,
   "metadata": {
    "collapsed": false
   },
   "outputs": [],
   "source": [
    "(S,V,D) = np.linalg.svd(cursor)\n"
   ]
  },
  {
   "cell_type": "code",
   "execution_count": 78,
   "metadata": {
    "collapsed": false
   },
   "outputs": [
    {
     "data": {
      "text/plain": [
       "array([  2.93160397e-04,   1.57581384e-04,   1.85223647e-05])"
      ]
     },
     "execution_count": 78,
     "metadata": {},
     "output_type": "execute_result"
    }
   ],
   "source": [
    "V"
   ]
  },
  {
   "cell_type": "code",
   "execution_count": 70,
   "metadata": {
    "collapsed": false
   },
   "outputs": [
    {
     "data": {
      "text/plain": [
       "array([ 0.01722233,  0.00925745,  0.00108814])"
      ]
     },
     "execution_count": 70,
     "metadata": {},
     "output_type": "execute_result"
    }
   ],
   "source": [
    "V"
   ]
  },
  {
   "cell_type": "code",
   "execution_count": 71,
   "metadata": {
    "collapsed": false
   },
   "outputs": [
    {
     "data": {
      "text/plain": [
       "array([-0.00796488, -0.01613419])"
      ]
     },
     "execution_count": 71,
     "metadata": {},
     "output_type": "execute_result"
    }
   ],
   "source": [
    "V[1:] - V[0:1]"
   ]
  },
  {
   "cell_type": "code",
   "execution_count": 82,
   "metadata": {
    "collapsed": false
   },
   "outputs": [
    {
     "data": {
      "text/plain": [
       "(array([[ 0.00940548,  0.10948352, -0.19474316, ..., -0.1560855 ,\n",
       "          0.09660519,  0.13353669],\n",
       "        [ 0.0780199 ,  0.14176645, -0.15432166, ..., -0.10673879,\n",
       "         -0.11235229, -0.0242868 ],\n",
       "        [ 0.05012586,  0.1964904 , -0.09422815, ...,  0.11610626,\n",
       "          0.17246868,  0.18270649],\n",
       "        ..., \n",
       "        [ 0.09008384,  0.16193877,  0.12514278, ...,  0.94678015,\n",
       "         -0.01858621, -0.0046614 ],\n",
       "        [ 0.14153943, -0.09014227,  0.14778685, ..., -0.02216641,\n",
       "          0.95277265, -0.03931332],\n",
       "        [ 0.06089461, -0.14425553,  0.15963136, ..., -0.00862363,\n",
       "         -0.04159376,  0.95826245]]),\n",
       " array([  2.93160397e-04,   1.57581384e-04,   1.85223647e-05]),\n",
       " array([[ 0.03015159, -0.99901884, -0.03243831],\n",
       "        [-0.6035868 , -0.04406578,  0.79607863],\n",
       "        [-0.79672697, -0.0044237 , -0.60432323]]))"
      ]
     },
     "execution_count": 82,
     "metadata": {},
     "output_type": "execute_result"
    }
   ],
   "source": [
    "(S, V, D)"
   ]
  },
  {
   "cell_type": "code",
   "execution_count": 87,
   "metadata": {
    "collapsed": false
   },
   "outputs": [
    {
     "data": {
      "text/plain": [
       "array([  3.10578747e-22,   2.25875453e-21,   1.80700362e-21])"
      ]
     },
     "execution_count": 87,
     "metadata": {},
     "output_type": "execute_result"
    }
   ],
   "source": [
    "cursor.mean(axis=0)"
   ]
  },
  {
   "cell_type": "code",
   "execution_count": 93,
   "metadata": {
    "collapsed": false
   },
   "outputs": [
    {
     "data": {
      "text/plain": [
       "<matplotlib.collections.PathCollection at 0x10e873a50>"
      ]
     },
     "execution_count": 93,
     "metadata": {},
     "output_type": "execute_result"
    },
    {
     "data": {
      "image/png": "[encoded data removed]",
      "text/plain": [
       "<matplotlib.figure.Figure at 0x10d1c8f50>"
      ]
     },
     "metadata": {},
     "output_type": "display_data"
    }
   ],
   "source": [
    "plt.scatter([0, 1, 2], (V*1000).tolist())"
   ]
  },
  {
   "cell_type": "code",
   "execution_count": 95,
   "metadata": {
    "collapsed": false
   },
   "outputs": [
    {
     "data": {
      "text/plain": [
       "(60, 60)"
      ]
     },
     "execution_count": 95,
     "metadata": {},
     "output_type": "execute_result"
    }
   ],
   "source": [
    "S.shape"
   ]
  },
  {
   "cell_type": "code",
   "execution_count": 96,
   "metadata": {
    "collapsed": false
   },
   "outputs": [
    {
     "data": {
      "text/plain": [
       "1.8522364711182939e-05"
      ]
     },
     "execution_count": 96,
     "metadata": {},
     "output_type": "execute_result"
    }
   ],
   "source": [
    "V[-1]"
   ]
  },
  {
   "cell_type": "code",
   "execution_count": 97,
   "metadata": {
    "collapsed": false
   },
   "outputs": [
    {
     "data": {
      "text/plain": [
       "0.00029316039671689229"
      ]
     },
     "execution_count": 97,
     "metadata": {},
     "output_type": "execute_result"
    }
   ],
   "source": [
    "V[0]"
   ]
  },
  {
   "cell_type": "code",
   "execution_count": 170,
   "metadata": {
    "collapsed": false
   },
   "outputs": [
    {
     "data": {
      "text/plain": [
       "array([[ 0.5,  1. ],\n",
       "       [ 1. ,  1.5]])"
      ]
     },
     "execution_count": 170,
     "metadata": {},
     "output_type": "execute_result"
    }
   ],
   "source": [
    "np.array([[1, 2], [2, 3]]) / np.array([[2], [2]], dtype=\"float\")"
   ]
  },
  {
   "cell_type": "code",
   "execution_count": 179,
   "metadata": {
    "collapsed": true
   },
   "outputs": [],
   "source": [
    "np.expand_dims?"
   ]
  },
  {
   "cell_type": "code",
   "execution_count": 43,
   "metadata": {
    "collapsed": false
   },
   "outputs": [
    {
     "data": {
      "text/plain": [
       "array([ 1.,  1.,  1.,  1.,  1.,  1.,  1.,  1.,  1.,  1.,  1.,  1.,  1.,\n",
       "        1.,  1.,  1.,  1.,  1.,  1.,  1.,  1.,  1.,  1.,  1.,  1.,  1.,\n",
       "        1.,  1.,  1.,  1.,  1.,  1.,  1.,  1.,  1.,  1.,  1.,  1.,  1.,\n",
       "        1.,  1.,  1.,  1.,  1.,  1.,  1.,  1.,  1.,  1.,  1.,  1.,  1.,\n",
       "        1.,  1.,  1.,  1.,  1.,  1.,  1.,  1.])"
      ]
     },
     "execution_count": 43,
     "metadata": {},
     "output_type": "execute_result"
    }
   ],
   "source": [
    "(normalize_all(vectors) * normalize_all(vectors)).sum(axis=1)"
   ]
  },
  {
   "cell_type": "code",
   "execution_count": 47,
   "metadata": {
    "collapsed": false
   },
   "outputs": [
    {
     "data": {
      "text/plain": [
       "array([ 0.82577288,  0.14558663,  0.54488869])"
      ]
     },
     "execution_count": 47,
     "metadata": {},
     "output_type": "execute_result"
    }
   ],
   "source": [
    "normalize_all(vectors)[0]"
   ]
  },
  {
   "cell_type": "code",
   "execution_count": 46,
   "metadata": {
    "collapsed": false
   },
   "outputs": [
    {
     "data": {
      "text/plain": [
       "array([ 0.84246613,  0.14852971,  0.55590378])"
      ]
     },
     "execution_count": 46,
     "metadata": {},
     "output_type": "execute_result"
    }
   ],
   "source": [
    "vectors[0]"
   ]
  },
  {
   "cell_type": "code",
   "execution_count": null,
   "metadata": {
    "collapsed": true
   },
   "outputs": [],
   "source": []
  }
 ],
 "metadata": {
  "kernelspec": {
   "display_name": "Python 2",
   "language": "python",
   "name": "python2"
  },
  "language_info": {
   "codemirror_mode": {
    "name": "ipython",
    "version": 2
   },
   "file_extension": ".py",
   "mimetype": "text/x-python",
   "name": "python",
   "nbconvert_exporter": "python",
   "pygments_lexer": "ipython2",
   "version": "2.7.12"
  }
 },
 "nbformat": 4,
 "nbformat_minor": 0
}
