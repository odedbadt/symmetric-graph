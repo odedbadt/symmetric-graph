{
 "cells": [
  {
   "cell_type": "code",
   "execution_count": 1,
   "metadata": {
    "collapsed": true
   },
   "outputs": [],
   "source": [
    "%matplotlib notebook"
   ]
  },
  {
   "cell_type": "code",
   "execution_count": 2,
   "metadata": {
    "collapsed": true
   },
   "outputs": [],
   "source": [
    "def tutte_barycentric_layout(graph, h):\n",
    "    import numpy as np\n",
    "    l = len(graph)\n",
    "    W = np.zeros(shape=(l, l), dtype='float')\n",
    "    F = np.array([[np.cos(j*2*np.pi / h), -np.sin(j*2*np.pi / h)] for j in range(h)])\n",
    "    for i, neighbors in graph.iteritems():\n",
    "        for j in graph.keys():\n",
    "            if i == j:\n",
    "                W[i, j] = len(neighbors)   \n",
    "            else:\n",
    "                W[i, j] = -1.0 if j in neighbors else 0.0\n",
    "    B = np.matmul(W,np.pad(F, (0, l-h), 'constant'))\n",
    "    return np.concatenate((F, np.linalg.solve(W[h:,h:], -B[h:,0:2])))"
   ]
  },
  {
   "cell_type": "code",
   "execution_count": 3,
   "metadata": {
    "collapsed": false
   },
   "outputs": [],
   "source": [
    "import matplotlib\n",
    "from matplotlib import pyplot as plt"
   ]
  },
  {
   "cell_type": "code",
   "execution_count": 4,
   "metadata": {
    "collapsed": true
   },
   "outputs": [],
   "source": [
    "graph = {\n",
    "    0: [1, 8, 4], \n",
    "    1: [0, 2, 5], \n",
    "    2: [1, 3, 47], \n",
    "    3: [2, 4, 20], \n",
    "    4: [0, 37, 3], \n",
    "    5: [15, 6, 1], \n",
    "    6: [5, 13, 7], \n",
    "    7: [8, 6, 12], \n",
    "    8: [0, 7, 23], \n",
    "    9: [29, 10, 53], \n",
    "    10: [9, 56, 11], \n",
    "    11: [10, 43, 36], \n",
    "    12: [46, 7, 40], \n",
    "    13: [19, 45, 6], \n",
    "    14: [15, 47, 49], \n",
    "    15: [19, 5, 14], \n",
    "    16: [57, 51, 17], \n",
    "    17: [16, 48, 18], \n",
    "    18: [58, 50, 17], \n",
    "    19: [15, 32, 13], \n",
    "    20: [21, 3, 39], \n",
    "    21: [22, 20, 31], \n",
    "    22: [21, 57, 47], \n",
    "    23: [8, 46, 27], \n",
    "    24: [52, 25, 46], \n",
    "    25: [35, 26, 24], \n",
    "    26: [25, 54, 27], \n",
    "    27: [37, 23, 26], \n",
    "    28: [34, 29, 41], \n",
    "    29: [28, 59, 9], \n",
    "    30: [39, 42, 31], \n",
    "    31: [21, 30, 51], \n",
    "    32: [50, 33, 19], \n",
    "    33: [32, 58, 34], \n",
    "    34: [33, 28, 45], \n",
    "    35: [25, 53, 36], \n",
    "    36: [11, 55, 35], \n",
    "    37: [38, 4, 27], \n",
    "    38: [37, 54, 39], \n",
    "    39: [38, 30, 20], \n",
    "    40: [41, 12, 45], \n",
    "    41: [40, 28, 52], \n",
    "    42: [30, 55, 43], \n",
    "    43: [11, 44, 42], \n",
    "    44: [43, 48, 51], \n",
    "    45: [34, 40, 13], \n",
    "    46: [23, 12, 24], \n",
    "    47: [22, 14, 2], \n",
    "    48: [17, 44, 56], \n",
    "    49: [14, 57, 50], \n",
    "    50: [49, 18, 32], \n",
    "    51: [16, 31, 44], \n",
    "    52: [41, 53, 24], \n",
    "    53: [9, 35, 52], \n",
    "    54: [26, 55, 38], \n",
    "    55: [42, 54, 36], \n",
    "    56: [10, 59, 48], \n",
    "    57: [22, 16, 49], \n",
    "    58: [33, 18, 59], \n",
    "    59: [58, 56, 29]\n",
    "}"
   ]
  },
  {
   "cell_type": "code",
   "execution_count": null,
   "metadata": {
    "collapsed": true
   },
   "outputs": [],
   "source": [
    "graph = {\n",
    "    0: [1, 8, 4], \n",
    "    1: [0, 2, 5], \n",
    "    2: [1, 3, 47], \n",
    "    3: [2, 4, 20], \n",
    "    4: [0, 37, 3], \n",
    "    5: [15, 6, 1], \n",
    "    6: [5, 13, 7], \n",
    "    7: [8, 6, 12], \n",
    "    8: [0, 7, 23], \n",
    "    9: [29, 10, 53], \n",
    "    10: [9, 56, 11], \n",
    "    11: [10, 43, 36], \n",
    "    12: [46, 7, 40], \n",
    "    13: [19, 45, 6], \n",
    "    14: [15, 47, 49], \n",
    "    15: [19, 5, 14], \n",
    "    16: [57, 51, 17], \n",
    "    17: [16, 48, 18], \n",
    "    18: [58, 50, 17], \n",
    "    19: [15, 32, 13], \n",
    "    20: [21, 3, 39], \n",
    "    21: [22, 20, 31], \n",
    "    22: [21, 57, 47], \n",
    "    23: [8, 46, 27], \n",
    "    24: [52, 25, 46], \n",
    "    25: [35, 26, 24], \n",
    "    26: [25, 54, 27], \n",
    "    27: [37, 23, 26], \n",
    "    28: [34, 29, 41], \n",
    "    29: [28, 59, 9], \n",
    "    30: [39, 42, 31], \n",
    "    31: [21, 30, 51], \n",
    "    32: [50, 33, 19], \n",
    "    33: [32, 58, 34], \n",
    "    34: [33, 28, 45], \n",
    "    35: [25, 53, 36], \n",
    "    36: [11, 55, 35], \n",
    "    37: [38, 4, 27], \n",
    "    38: [37, 54, 39], \n",
    "    39: [38, 30, 20], \n",
    "    40: [41, 12, 45], \n",
    "    41: [40, 28, 52], \n",
    "    42: [30, 55, 43], \n",
    "    43: [11, 44, 42], \n",
    "    44: [43, 48, 51], \n",
    "    45: [34, 40, 13], \n",
    "    46: [23, 12, 24], \n",
    "    47: [22, 14, 2], \n",
    "    48: [17, 44, 56], \n",
    "    49: [14, 57, 50], \n",
    "    50: [49, 18, 32], \n",
    "    51: [16, 31, 44], \n",
    "    52: [41, 53, 24], \n",
    "    53: [9, 35, 52], \n",
    "    54: [26, 55, 38], \n",
    "    55: [42, 54, 36], \n",
    "    56: [10, 59, 48], \n",
    "    57: [22, 16, 49], \n",
    "    58: [33, 18, 59], \n",
    "    59: [58, 56, 29]\n",
    "}"
   ]
  },
  {
   "cell_type": "code",
   "execution_count": 5,
   "metadata": {
    "collapsed": false
   },
   "outputs": [],
   "source": [
    "P = tutte_barycentric_layout(graph, 5)"
   ]
  },
  {
   "cell_type": "code",
   "execution_count": 6,
   "metadata": {
    "collapsed": false
   },
   "outputs": [
    {
     "data": {
      "text/plain": [
       "(60, 2)"
      ]
     },
     "execution_count": 6,
     "metadata": {},
     "output_type": "execute_result"
    }
   ],
   "source": [
    "P.shape"
   ]
  },
  {
   "cell_type": "code",
   "execution_count": 7,
   "metadata": {
    "collapsed": false
   },
   "outputs": [],
   "source": [
    "from itertools import chain\n",
    "edges = list(chain(*[[(a, b) for b in mems] for a, mems in graph.iteritems()]))"
   ]
  },
  {
   "cell_type": "code",
   "execution_count": 8,
   "metadata": {
    "collapsed": true
   },
   "outputs": [],
   "source": [
    "import numpy as np"
   ]
  },
  {
   "cell_type": "code",
   "execution_count": 9,
   "metadata": {
    "collapsed": true
   },
   "outputs": [],
   "source": [
    "def normalize(V):\n",
    "    norm = np.linalg.norm(V)\n",
    "    return V / norm if norm > 0 else V"
   ]
  },
  {
   "cell_type": "code",
   "execution_count": 10,
   "metadata": {
    "collapsed": true
   },
   "outputs": [],
   "source": [
    "def normalize_all(V):\n",
    "    normalizer = np.linalg.norm(V, axis=1)\n",
    "    normalizer[normalizer == 0] = 1\n",
    "    return V / np.expand_dims(normalizer, 1)"
   ]
  },
  {
   "cell_type": "code",
   "execution_count": 11,
   "metadata": {
    "collapsed": false
   },
   "outputs": [],
   "source": [
    "def generation(graph, vectors):\n",
    "    next_gen = {}\n",
    "    l = len(vectors)\n",
    "    for i in range(l):\n",
    "        neigbors = graph.get(i)\n",
    "        v = vectors[i, :]\n",
    "        n1 = vectors[neigbors[0], :]-v\n",
    "        n2 = vectors[neigbors[1], :]-v\n",
    "        n3 = vectors[neigbors[2], :]-v\n",
    "        next_vec = v\n",
    "        for j in range(l):\n",
    "            next_vec = next_vec + (vectors[j, :] - v) / 3\n",
    "        for j in neigbors:\n",
    "            next_vec = next_vec - (vectors[j, :] - v) / 10\n",
    "        next_gen[i] = next_vec\n",
    "    next_gen_mat = np.array([next_gen[i] for i in range(l)]).reshape((l,3))\n",
    "    next_gen_mat = normalize_all(next_gen_mat)\n",
    "    return next_gen_mat"
   ]
  },
  {
   "cell_type": "code",
   "execution_count": 12,
   "metadata": {
    "collapsed": false
   },
   "outputs": [],
   "source": [
    "vectors = np.concatenate((P, np.expand_dims(np.sqrt(1 - (P[:, 0] * P[:, 0] + P[:, 1] * P[:, 1]) ), 1)), axis=1)\n",
    "normals = normalize_all(np.random.normal(size=(len(graph), 3))) / 4"
   ]
  },
  {
   "cell_type": "code",
   "execution_count": 14,
   "metadata": {
    "collapsed": false
   },
   "outputs": [
    {
     "data": {
      "application/javascript": [
       "/* Put everything inside the global mpl namespace */\n",
       "window.mpl = {};\n",
       "\n",
       "mpl.get_websocket_type = function() {\n",
       "    if (typeof(WebSocket) !== 'undefined') {\n",
       "        return WebSocket;\n",
       "    } else if (typeof(MozWebSocket) !== 'undefined') {\n",
       "        return MozWebSocket;\n",
       "    } else {\n",
       "        alert('Your browser does not have WebSocket support.' +\n",
       "              'Please try Chrome, Safari or Firefox ≥ 6. ' +\n",
       "              'Firefox 4 and 5 are also supported but you ' +\n",
       "              'have to enable WebSockets in about:config.');\n",
       "    };\n",
       "}\n",
       "\n",
       "mpl.figure = function(figure_id, websocket, ondownload, parent_element) {\n",
       "    this.id = figure_id;\n",
       "\n",
       "    this.ws = websocket;\n",
       "\n",
       "    this.supports_binary = (this.ws.binaryType != undefined);\n",
       "\n",
       "    if (!this.supports_binary) {\n",
       "        var warnings = document.getElementById(\"mpl-warnings\");\n",
       "        if (warnings) {\n",
       "            warnings.style.display = 'block';\n",
       "            warnings.textContent = (\n",
       "                \"This browser does not support binary websocket messages. \" +\n",
       "                    \"Performance may be slow.\");\n",
       "        }\n",
       "    }\n",
       "\n",
       "    this.imageObj = new Image();\n",
       "\n",
       "    this.context = undefined;\n",
       "    this.message = undefined;\n",
       "    this.canvas = undefined;\n",
       "    this.rubberband_canvas = undefined;\n",
       "    this.rubberband_context = undefined;\n",
       "    this.format_dropdown = undefined;\n",
       "\n",
       "    this.image_mode = 'full';\n",
       "\n",
       "    this.root = $('<div/>');\n",
       "    this._root_extra_style(this.root)\n",
       "    this.root.attr('style', 'display: inline-block');\n",
       "\n",
       "    $(parent_element).append(this.root);\n",
       "\n",
       "    this._init_header(this);\n",
       "    this._init_canvas(this);\n",
       "    this._init_toolbar(this);\n",
       "\n",
       "    var fig = this;\n",
       "\n",
       "    this.waiting = false;\n",
       "\n",
       "    this.ws.onopen =  function () {\n",
       "            fig.send_message(\"supports_binary\", {value: fig.supports_binary});\n",
       "            fig.send_message(\"send_image_mode\", {});\n",
       "            fig.send_message(\"refresh\", {});\n",
       "        }\n",
       "\n",
       "    this.imageObj.onload = function() {\n",
       "            if (fig.image_mode == 'full') {\n",
       "                // Full images could contain transparency (where diff images\n",
       "                // almost always do), so we need to clear the canvas so that\n",
       "                // there is no ghosting.\n",
       "                fig.context.clearRect(0, 0, fig.canvas.width, fig.canvas.height);\n",
       "            }\n",
       "            fig.context.drawImage(fig.imageObj, 0, 0);\n",
       "        };\n",
       "\n",
       "    this.imageObj.onunload = function() {\n",
       "        this.ws.close();\n",
       "    }\n",
       "\n",
       "    this.ws.onmessage = this._make_on_message_function(this);\n",
       "\n",
       "    this.ondownload = ondownload;\n",
       "}\n",
       "\n",
       "mpl.figure.prototype._init_header = function() {\n",
       "    var titlebar = $(\n",
       "        '<div class=\"ui-dialog-titlebar ui-widget-header ui-corner-all ' +\n",
       "        'ui-helper-clearfix\"/>');\n",
       "    var titletext = $(\n",
       "        '<div class=\"ui-dialog-title\" style=\"width: 100%; ' +\n",
       "        'text-align: center; padding: 3px;\"/>');\n",
       "    titlebar.append(titletext)\n",
       "    this.root.append(titlebar);\n",
       "    this.header = titletext[0];\n",
       "}\n",
       "\n",
       "\n",
       "\n",
       "mpl.figure.prototype._canvas_extra_style = function(canvas_div) {\n",
       "\n",
       "}\n",
       "\n",
       "\n",
       "mpl.figure.prototype._root_extra_style = function(canvas_div) {\n",
       "\n",
       "}\n",
       "\n",
       "mpl.figure.prototype._init_canvas = function() {\n",
       "    var fig = this;\n",
       "\n",
       "    var canvas_div = $('<div/>');\n",
       "\n",
       "    canvas_div.attr('style', 'position: relative; clear: both; outline: 0');\n",
       "\n",
       "    function canvas_keyboard_event(event) {\n",
       "        return fig.key_event(event, event['data']);\n",
       "    }\n",
       "\n",
       "    canvas_div.keydown('key_press', canvas_keyboard_event);\n",
       "    canvas_div.keyup('key_release', canvas_keyboard_event);\n",
       "    this.canvas_div = canvas_div\n",
       "    this._canvas_extra_style(canvas_div)\n",
       "    this.root.append(canvas_div);\n",
       "\n",
       "    var canvas = $('<canvas/>');\n",
       "    canvas.addClass('mpl-canvas');\n",
       "    canvas.attr('style', \"left: 0; top: 0; z-index: 0; outline: 0\")\n",
       "\n",
       "    this.canvas = canvas[0];\n",
       "    this.context = canvas[0].getContext(\"2d\");\n",
       "\n",
       "    var rubberband = $('<canvas/>');\n",
       "    rubberband.attr('style', \"position: absolute; left: 0; top: 0; z-index: 1;\")\n",
       "\n",
       "    var pass_mouse_events = true;\n",
       "\n",
       "    canvas_div.resizable({\n",
       "        start: function(event, ui) {\n",
       "            pass_mouse_events = false;\n",
       "        },\n",
       "        resize: function(event, ui) {\n",
       "            fig.request_resize(ui.size.width, ui.size.height);\n",
       "        },\n",
       "        stop: function(event, ui) {\n",
       "            pass_mouse_events = true;\n",
       "            fig.request_resize(ui.size.width, ui.size.height);\n",
       "        },\n",
       "    });\n",
       "\n",
       "    function mouse_event_fn(event) {\n",
       "        if (pass_mouse_events)\n",
       "            return fig.mouse_event(event, event['data']);\n",
       "    }\n",
       "\n",
       "    rubberband.mousedown('button_press', mouse_event_fn);\n",
       "    rubberband.mouseup('button_release', mouse_event_fn);\n",
       "    // Throttle sequential mouse events to 1 every 20ms.\n",
       "    rubberband.mousemove('motion_notify', mouse_event_fn);\n",
       "\n",
       "    rubberband.mouseenter('figure_enter', mouse_event_fn);\n",
       "    rubberband.mouseleave('figure_leave', mouse_event_fn);\n",
       "\n",
       "    canvas_div.on(\"wheel\", function (event) {\n",
       "        event = event.originalEvent;\n",
       "        event['data'] = 'scroll'\n",
       "        if (event.deltaY < 0) {\n",
       "            event.step = 1;\n",
       "        } else {\n",
       "            event.step = -1;\n",
       "        }\n",
       "        mouse_event_fn(event);\n",
       "    });\n",
       "\n",
       "    canvas_div.append(canvas);\n",
       "    canvas_div.append(rubberband);\n",
       "\n",
       "    this.rubberband = rubberband;\n",
       "    this.rubberband_canvas = rubberband[0];\n",
       "    this.rubberband_context = rubberband[0].getContext(\"2d\");\n",
       "    this.rubberband_context.strokeStyle = \"#000000\";\n",
       "\n",
       "    this._resize_canvas = function(width, height) {\n",
       "        // Keep the size of the canvas, canvas container, and rubber band\n",
       "        // canvas in synch.\n",
       "        canvas_div.css('width', width)\n",
       "        canvas_div.css('height', height)\n",
       "\n",
       "        canvas.attr('width', width);\n",
       "        canvas.attr('height', height);\n",
       "\n",
       "        rubberband.attr('width', width);\n",
       "        rubberband.attr('height', height);\n",
       "    }\n",
       "\n",
       "    // Set the figure to an initial 600x600px, this will subsequently be updated\n",
       "    // upon first draw.\n",
       "    this._resize_canvas(600, 600);\n",
       "\n",
       "    // Disable right mouse context menu.\n",
       "    $(this.rubberband_canvas).bind(\"contextmenu\",function(e){\n",
       "        return false;\n",
       "    });\n",
       "\n",
       "    function set_focus () {\n",
       "        canvas.focus();\n",
       "        canvas_div.focus();\n",
       "    }\n",
       "\n",
       "    window.setTimeout(set_focus, 100);\n",
       "}\n",
       "\n",
       "mpl.figure.prototype._init_toolbar = function() {\n",
       "    var fig = this;\n",
       "\n",
       "    var nav_element = $('<div/>')\n",
       "    nav_element.attr('style', 'width: 100%');\n",
       "    this.root.append(nav_element);\n",
       "\n",
       "    // Define a callback function for later on.\n",
       "    function toolbar_event(event) {\n",
       "        return fig.toolbar_button_onclick(event['data']);\n",
       "    }\n",
       "    function toolbar_mouse_event(event) {\n",
       "        return fig.toolbar_button_onmouseover(event['data']);\n",
       "    }\n",
       "\n",
       "    for(var toolbar_ind in mpl.toolbar_items) {\n",
       "        var name = mpl.toolbar_items[toolbar_ind][0];\n",
       "        var tooltip = mpl.toolbar_items[toolbar_ind][1];\n",
       "        var image = mpl.toolbar_items[toolbar_ind][2];\n",
       "        var method_name = mpl.toolbar_items[toolbar_ind][3];\n",
       "\n",
       "        if (!name) {\n",
       "            // put a spacer in here.\n",
       "            continue;\n",
       "        }\n",
       "        var button = $('<button/>');\n",
       "        button.addClass('ui-button ui-widget ui-state-default ui-corner-all ' +\n",
       "                        'ui-button-icon-only');\n",
       "        button.attr('role', 'button');\n",
       "        button.attr('aria-disabled', 'false');\n",
       "        button.click(method_name, toolbar_event);\n",
       "        button.mouseover(tooltip, toolbar_mouse_event);\n",
       "\n",
       "        var icon_img = $('<span/>');\n",
       "        icon_img.addClass('ui-button-icon-primary ui-icon');\n",
       "        icon_img.addClass(image);\n",
       "        icon_img.addClass('ui-corner-all');\n",
       "\n",
       "        var tooltip_span = $('<span/>');\n",
       "        tooltip_span.addClass('ui-button-text');\n",
       "        tooltip_span.html(tooltip);\n",
       "\n",
       "        button.append(icon_img);\n",
       "        button.append(tooltip_span);\n",
       "\n",
       "        nav_element.append(button);\n",
       "    }\n",
       "\n",
       "    var fmt_picker_span = $('<span/>');\n",
       "\n",
       "    var fmt_picker = $('<select/>');\n",
       "    fmt_picker.addClass('mpl-toolbar-option ui-widget ui-widget-content');\n",
       "    fmt_picker_span.append(fmt_picker);\n",
       "    nav_element.append(fmt_picker_span);\n",
       "    this.format_dropdown = fmt_picker[0];\n",
       "\n",
       "    for (var ind in mpl.extensions) {\n",
       "        var fmt = mpl.extensions[ind];\n",
       "        var option = $(\n",
       "            '<option/>', {selected: fmt === mpl.default_extension}).html(fmt);\n",
       "        fmt_picker.append(option)\n",
       "    }\n",
       "\n",
       "    // Add hover states to the ui-buttons\n",
       "    $( \".ui-button\" ).hover(\n",
       "        function() { $(this).addClass(\"ui-state-hover\");},\n",
       "        function() { $(this).removeClass(\"ui-state-hover\");}\n",
       "    );\n",
       "\n",
       "    var status_bar = $('<span class=\"mpl-message\"/>');\n",
       "    nav_element.append(status_bar);\n",
       "    this.message = status_bar[0];\n",
       "}\n",
       "\n",
       "mpl.figure.prototype.request_resize = function(x_pixels, y_pixels) {\n",
       "    // Request matplotlib to resize the figure. Matplotlib will then trigger a resize in the client,\n",
       "    // which will in turn request a refresh of the image.\n",
       "    this.send_message('resize', {'width': x_pixels, 'height': y_pixels});\n",
       "}\n",
       "\n",
       "mpl.figure.prototype.send_message = function(type, properties) {\n",
       "    properties['type'] = type;\n",
       "    properties['figure_id'] = this.id;\n",
       "    this.ws.send(JSON.stringify(properties));\n",
       "}\n",
       "\n",
       "mpl.figure.prototype.send_draw_message = function() {\n",
       "    if (!this.waiting) {\n",
       "        this.waiting = true;\n",
       "        this.ws.send(JSON.stringify({type: \"draw\", figure_id: this.id}));\n",
       "    }\n",
       "}\n",
       "\n",
       "\n",
       "mpl.figure.prototype.handle_save = function(fig, msg) {\n",
       "    var format_dropdown = fig.format_dropdown;\n",
       "    var format = format_dropdown.options[format_dropdown.selectedIndex].value;\n",
       "    fig.ondownload(fig, format);\n",
       "}\n",
       "\n",
       "\n",
       "mpl.figure.prototype.handle_resize = function(fig, msg) {\n",
       "    var size = msg['size'];\n",
       "    if (size[0] != fig.canvas.width || size[1] != fig.canvas.height) {\n",
       "        fig._resize_canvas(size[0], size[1]);\n",
       "        fig.send_message(\"refresh\", {});\n",
       "    };\n",
       "}\n",
       "\n",
       "mpl.figure.prototype.handle_rubberband = function(fig, msg) {\n",
       "    var x0 = msg['x0'];\n",
       "    var y0 = fig.canvas.height - msg['y0'];\n",
       "    var x1 = msg['x1'];\n",
       "    var y1 = fig.canvas.height - msg['y1'];\n",
       "    x0 = Math.floor(x0) + 0.5;\n",
       "    y0 = Math.floor(y0) + 0.5;\n",
       "    x1 = Math.floor(x1) + 0.5;\n",
       "    y1 = Math.floor(y1) + 0.5;\n",
       "    var min_x = Math.min(x0, x1);\n",
       "    var min_y = Math.min(y0, y1);\n",
       "    var width = Math.abs(x1 - x0);\n",
       "    var height = Math.abs(y1 - y0);\n",
       "\n",
       "    fig.rubberband_context.clearRect(\n",
       "        0, 0, fig.canvas.width, fig.canvas.height);\n",
       "\n",
       "    fig.rubberband_context.strokeRect(min_x, min_y, width, height);\n",
       "}\n",
       "\n",
       "mpl.figure.prototype.handle_figure_label = function(fig, msg) {\n",
       "    // Updates the figure title.\n",
       "    fig.header.textContent = msg['label'];\n",
       "}\n",
       "\n",
       "mpl.figure.prototype.handle_cursor = function(fig, msg) {\n",
       "    var cursor = msg['cursor'];\n",
       "    switch(cursor)\n",
       "    {\n",
       "    case 0:\n",
       "        cursor = 'pointer';\n",
       "        break;\n",
       "    case 1:\n",
       "        cursor = 'default';\n",
       "        break;\n",
       "    case 2:\n",
       "        cursor = 'crosshair';\n",
       "        break;\n",
       "    case 3:\n",
       "        cursor = 'move';\n",
       "        break;\n",
       "    }\n",
       "    fig.rubberband_canvas.style.cursor = cursor;\n",
       "}\n",
       "\n",
       "mpl.figure.prototype.handle_message = function(fig, msg) {\n",
       "    fig.message.textContent = msg['message'];\n",
       "}\n",
       "\n",
       "mpl.figure.prototype.handle_draw = function(fig, msg) {\n",
       "    // Request the server to send over a new figure.\n",
       "    fig.send_draw_message();\n",
       "}\n",
       "\n",
       "mpl.figure.prototype.handle_image_mode = function(fig, msg) {\n",
       "    fig.image_mode = msg['mode'];\n",
       "}\n",
       "\n",
       "mpl.figure.prototype.updated_canvas_event = function() {\n",
       "    // Called whenever the canvas gets updated.\n",
       "    this.send_message(\"ack\", {});\n",
       "}\n",
       "\n",
       "// A function to construct a web socket function for onmessage handling.\n",
       "// Called in the figure constructor.\n",
       "mpl.figure.prototype._make_on_message_function = function(fig) {\n",
       "    return function socket_on_message(evt) {\n",
       "        if (evt.data instanceof Blob) {\n",
       "            /* FIXME: We get \"Resource interpreted as Image but\n",
       "             * transferred with MIME type text/plain:\" errors on\n",
       "             * Chrome.  But how to set the MIME type?  It doesn't seem\n",
       "             * to be part of the websocket stream */\n",
       "            evt.data.type = \"image/png\";\n",
       "\n",
       "            /* Free the memory for the previous frames */\n",
       "            if (fig.imageObj.src) {\n",
       "                (window.URL || window.webkitURL).revokeObjectURL(\n",
       "                    fig.imageObj.src);\n",
       "            }\n",
       "\n",
       "            fig.imageObj.src = (window.URL || window.webkitURL).createObjectURL(\n",
       "                evt.data);\n",
       "            fig.updated_canvas_event();\n",
       "            fig.waiting = false;\n",
       "            return;\n",
       "        }\n",
       "        else if (typeof evt.data === 'string' && evt.data.slice(0, 21) == \"data:image/png;base64\") {\n",
       "            fig.imageObj.src = evt.data;\n",
       "            fig.updated_canvas_event();\n",
       "            fig.waiting = false;\n",
       "            return;\n",
       "        }\n",
       "\n",
       "        var msg = JSON.parse(evt.data);\n",
       "        var msg_type = msg['type'];\n",
       "\n",
       "        // Call the  \"handle_{type}\" callback, which takes\n",
       "        // the figure and JSON message as its only arguments.\n",
       "        try {\n",
       "            var callback = fig[\"handle_\" + msg_type];\n",
       "        } catch (e) {\n",
       "            console.log(\"No handler for the '\" + msg_type + \"' message type: \", msg);\n",
       "            return;\n",
       "        }\n",
       "\n",
       "        if (callback) {\n",
       "            try {\n",
       "                // console.log(\"Handling '\" + msg_type + \"' message: \", msg);\n",
       "                callback(fig, msg);\n",
       "            } catch (e) {\n",
       "                console.log(\"Exception inside the 'handler_\" + msg_type + \"' callback:\", e, e.stack, msg);\n",
       "            }\n",
       "        }\n",
       "    };\n",
       "}\n",
       "\n",
       "// from http://stackoverflow.com/questions/1114465/getting-mouse-location-in-canvas\n",
       "mpl.findpos = function(e) {\n",
       "    //this section is from http://www.quirksmode.org/js/events_properties.html\n",
       "    var targ;\n",
       "    if (!e)\n",
       "        e = window.event;\n",
       "    if (e.target)\n",
       "        targ = e.target;\n",
       "    else if (e.srcElement)\n",
       "        targ = e.srcElement;\n",
       "    if (targ.nodeType == 3) // defeat Safari bug\n",
       "        targ = targ.parentNode;\n",
       "\n",
       "    // jQuery normalizes the pageX and pageY\n",
       "    // pageX,Y are the mouse positions relative to the document\n",
       "    // offset() returns the position of the element relative to the document\n",
       "    var x = e.pageX - $(targ).offset().left;\n",
       "    var y = e.pageY - $(targ).offset().top;\n",
       "\n",
       "    return {\"x\": x, \"y\": y};\n",
       "};\n",
       "\n",
       "/*\n",
       " * return a copy of an object with only non-object keys\n",
       " * we need this to avoid circular references\n",
       " * http://stackoverflow.com/a/24161582/3208463\n",
       " */\n",
       "function simpleKeys (original) {\n",
       "  return Object.keys(original).reduce(function (obj, key) {\n",
       "    if (typeof original[key] !== 'object')\n",
       "        obj[key] = original[key]\n",
       "    return obj;\n",
       "  }, {});\n",
       "}\n",
       "\n",
       "mpl.figure.prototype.mouse_event = function(event, name) {\n",
       "    var canvas_pos = mpl.findpos(event)\n",
       "\n",
       "    if (name === 'button_press')\n",
       "    {\n",
       "        this.canvas.focus();\n",
       "        this.canvas_div.focus();\n",
       "    }\n",
       "\n",
       "    var x = canvas_pos.x;\n",
       "    var y = canvas_pos.y;\n",
       "\n",
       "    this.send_message(name, {x: x, y: y, button: event.button,\n",
       "                             step: event.step,\n",
       "                             guiEvent: simpleKeys(event)});\n",
       "\n",
       "    /* This prevents the web browser from automatically changing to\n",
       "     * the text insertion cursor when the button is pressed.  We want\n",
       "     * to control all of the cursor setting manually through the\n",
       "     * 'cursor' event from matplotlib */\n",
       "    event.preventDefault();\n",
       "    return false;\n",
       "}\n",
       "\n",
       "mpl.figure.prototype._key_event_extra = function(event, name) {\n",
       "    // Handle any extra behaviour associated with a key event\n",
       "}\n",
       "\n",
       "mpl.figure.prototype.key_event = function(event, name) {\n",
       "\n",
       "    // Prevent repeat events\n",
       "    if (name == 'key_press')\n",
       "    {\n",
       "        if (event.which === this._key)\n",
       "            return;\n",
       "        else\n",
       "            this._key = event.which;\n",
       "    }\n",
       "    if (name == 'key_release')\n",
       "        this._key = null;\n",
       "\n",
       "    var value = '';\n",
       "    if (event.ctrlKey && event.which != 17)\n",
       "        value += \"ctrl+\";\n",
       "    if (event.altKey && event.which != 18)\n",
       "        value += \"alt+\";\n",
       "    if (event.shiftKey && event.which != 16)\n",
       "        value += \"shift+\";\n",
       "\n",
       "    value += 'k';\n",
       "    value += event.which.toString();\n",
       "\n",
       "    this._key_event_extra(event, name);\n",
       "\n",
       "    this.send_message(name, {key: value,\n",
       "                             guiEvent: simpleKeys(event)});\n",
       "    return false;\n",
       "}\n",
       "\n",
       "mpl.figure.prototype.toolbar_button_onclick = function(name) {\n",
       "    if (name == 'download') {\n",
       "        this.handle_save(this, null);\n",
       "    } else {\n",
       "        this.send_message(\"toolbar_button\", {name: name});\n",
       "    }\n",
       "};\n",
       "\n",
       "mpl.figure.prototype.toolbar_button_onmouseover = function(tooltip) {\n",
       "    this.message.textContent = tooltip;\n",
       "};\n",
       "mpl.toolbar_items = [[\"Home\", \"Reset original view\", \"fa fa-home icon-home\", \"home\"], [\"Back\", \"Back to  previous view\", \"fa fa-arrow-left icon-arrow-left\", \"back\"], [\"Forward\", \"Forward to next view\", \"fa fa-arrow-right icon-arrow-right\", \"forward\"], [\"\", \"\", \"\", \"\"], [\"Pan\", \"Pan axes with left mouse, zoom with right\", \"fa fa-arrows icon-move\", \"pan\"], [\"Zoom\", \"Zoom to rectangle\", \"fa fa-square-o icon-check-empty\", \"zoom\"], [\"\", \"\", \"\", \"\"], [\"Download\", \"Download plot\", \"fa fa-floppy-o icon-save\", \"download\"]];\n",
       "\n",
       "mpl.extensions = [\"eps\", \"jpeg\", \"pdf\", \"png\", \"ps\", \"raw\", \"svg\", \"tif\"];\n",
       "\n",
       "mpl.default_extension = \"png\";var comm_websocket_adapter = function(comm) {\n",
       "    // Create a \"websocket\"-like object which calls the given IPython comm\n",
       "    // object with the appropriate methods. Currently this is a non binary\n",
       "    // socket, so there is still some room for performance tuning.\n",
       "    var ws = {};\n",
       "\n",
       "    ws.close = function() {\n",
       "        comm.close()\n",
       "    };\n",
       "    ws.send = function(m) {\n",
       "        //console.log('sending', m);\n",
       "        comm.send(m);\n",
       "    };\n",
       "    // Register the callback with on_msg.\n",
       "    comm.on_msg(function(msg) {\n",
       "        //console.log('receiving', msg['content']['data'], msg);\n",
       "        // Pass the mpl event to the overriden (by mpl) onmessage function.\n",
       "        ws.onmessage(msg['content']['data'])\n",
       "    });\n",
       "    return ws;\n",
       "}\n",
       "\n",
       "mpl.mpl_figure_comm = function(comm, msg) {\n",
       "    // This is the function which gets called when the mpl process\n",
       "    // starts-up an IPython Comm through the \"matplotlib\" channel.\n",
       "\n",
       "    var id = msg.content.data.id;\n",
       "    // Get hold of the div created by the display call when the Comm\n",
       "    // socket was opened in Python.\n",
       "    var element = $(\"#\" + id);\n",
       "    var ws_proxy = comm_websocket_adapter(comm)\n",
       "\n",
       "    function ondownload(figure, format) {\n",
       "        window.open(figure.imageObj.src);\n",
       "    }\n",
       "\n",
       "    var fig = new mpl.figure(id, ws_proxy,\n",
       "                           ondownload,\n",
       "                           element.get(0));\n",
       "\n",
       "    // Call onopen now - mpl needs it, as it is assuming we've passed it a real\n",
       "    // web socket which is closed, not our websocket->open comm proxy.\n",
       "    ws_proxy.onopen();\n",
       "\n",
       "    fig.parent_element = element.get(0);\n",
       "    fig.cell_info = mpl.find_output_cell(\"<div id='\" + id + \"'></div>\");\n",
       "    if (!fig.cell_info) {\n",
       "        console.error(\"Failed to find cell for figure\", id, fig);\n",
       "        return;\n",
       "    }\n",
       "\n",
       "    var output_index = fig.cell_info[2]\n",
       "    var cell = fig.cell_info[0];\n",
       "\n",
       "};\n",
       "\n",
       "mpl.figure.prototype.handle_close = function(fig, msg) {\n",
       "    fig.root.unbind('remove')\n",
       "\n",
       "    // Update the output cell to use the data from the current canvas.\n",
       "    fig.push_to_output();\n",
       "    var dataURL = fig.canvas.toDataURL();\n",
       "    // Re-enable the keyboard manager in IPython - without this line, in FF,\n",
       "    // the notebook keyboard shortcuts fail.\n",
       "    IPython.keyboard_manager.enable()\n",
       "    $(fig.parent_element).html('<img src=\"' + dataURL + '\">');\n",
       "    fig.close_ws(fig, msg);\n",
       "}\n",
       "\n",
       "mpl.figure.prototype.close_ws = function(fig, msg){\n",
       "    fig.send_message('closing', msg);\n",
       "    // fig.ws.close()\n",
       "}\n",
       "\n",
       "mpl.figure.prototype.push_to_output = function(remove_interactive) {\n",
       "    // Turn the data on the canvas into data in the output cell.\n",
       "    var dataURL = this.canvas.toDataURL();\n",
       "    this.cell_info[1]['text/html'] = '<img src=\"' + dataURL + '\">';\n",
       "}\n",
       "\n",
       "mpl.figure.prototype.updated_canvas_event = function() {\n",
       "    // Tell IPython that the notebook contents must change.\n",
       "    IPython.notebook.set_dirty(true);\n",
       "    this.send_message(\"ack\", {});\n",
       "    var fig = this;\n",
       "    // Wait a second, then push the new image to the DOM so\n",
       "    // that it is saved nicely (might be nice to debounce this).\n",
       "    setTimeout(function () { fig.push_to_output() }, 1000);\n",
       "}\n",
       "\n",
       "mpl.figure.prototype._init_toolbar = function() {\n",
       "    var fig = this;\n",
       "\n",
       "    var nav_element = $('<div/>')\n",
       "    nav_element.attr('style', 'width: 100%');\n",
       "    this.root.append(nav_element);\n",
       "\n",
       "    // Define a callback function for later on.\n",
       "    function toolbar_event(event) {\n",
       "        return fig.toolbar_button_onclick(event['data']);\n",
       "    }\n",
       "    function toolbar_mouse_event(event) {\n",
       "        return fig.toolbar_button_onmouseover(event['data']);\n",
       "    }\n",
       "\n",
       "    for(var toolbar_ind in mpl.toolbar_items){\n",
       "        var name = mpl.toolbar_items[toolbar_ind][0];\n",
       "        var tooltip = mpl.toolbar_items[toolbar_ind][1];\n",
       "        var image = mpl.toolbar_items[toolbar_ind][2];\n",
       "        var method_name = mpl.toolbar_items[toolbar_ind][3];\n",
       "\n",
       "        if (!name) { continue; };\n",
       "\n",
       "        var button = $('<button class=\"btn btn-default\" href=\"#\" title=\"' + name + '\"><i class=\"fa ' + image + ' fa-lg\"></i></button>');\n",
       "        button.click(method_name, toolbar_event);\n",
       "        button.mouseover(tooltip, toolbar_mouse_event);\n",
       "        nav_element.append(button);\n",
       "    }\n",
       "\n",
       "    // Add the status bar.\n",
       "    var status_bar = $('<span class=\"mpl-message\" style=\"text-align:right; float: right;\"/>');\n",
       "    nav_element.append(status_bar);\n",
       "    this.message = status_bar[0];\n",
       "\n",
       "    // Add the close button to the window.\n",
       "    var buttongrp = $('<div class=\"btn-group inline pull-right\"></div>');\n",
       "    var button = $('<button class=\"btn btn-mini btn-primary\" href=\"#\" title=\"Stop Interaction\"><i class=\"fa fa-power-off icon-remove icon-large\"></i></button>');\n",
       "    button.click(function (evt) { fig.handle_close(fig, {}); } );\n",
       "    button.mouseover('Stop Interaction', toolbar_mouse_event);\n",
       "    buttongrp.append(button);\n",
       "    var titlebar = this.root.find($('.ui-dialog-titlebar'));\n",
       "    titlebar.prepend(buttongrp);\n",
       "}\n",
       "\n",
       "mpl.figure.prototype._root_extra_style = function(el){\n",
       "    var fig = this\n",
       "    el.on(\"remove\", function(){\n",
       "\tfig.close_ws(fig, {});\n",
       "    });\n",
       "}\n",
       "\n",
       "mpl.figure.prototype._canvas_extra_style = function(el){\n",
       "    // this is important to make the div 'focusable\n",
       "    el.attr('tabindex', 0)\n",
       "    // reach out to IPython and tell the keyboard manager to turn it's self\n",
       "    // off when our div gets focus\n",
       "\n",
       "    // location in version 3\n",
       "    if (IPython.notebook.keyboard_manager) {\n",
       "        IPython.notebook.keyboard_manager.register_events(el);\n",
       "    }\n",
       "    else {\n",
       "        // location in version 2\n",
       "        IPython.keyboard_manager.register_events(el);\n",
       "    }\n",
       "\n",
       "}\n",
       "\n",
       "mpl.figure.prototype._key_event_extra = function(event, name) {\n",
       "    var manager = IPython.notebook.keyboard_manager;\n",
       "    if (!manager)\n",
       "        manager = IPython.keyboard_manager;\n",
       "\n",
       "    // Check for shift+enter\n",
       "    if (event.shiftKey && event.which == 13) {\n",
       "        this.canvas_div.blur();\n",
       "        event.shiftKey = false;\n",
       "        // Send a \"J\" for go to next cell\n",
       "        event.which = 74;\n",
       "        event.keyCode = 74;\n",
       "        manager.command_mode();\n",
       "        manager.handle_keydown(event);\n",
       "    }\n",
       "}\n",
       "\n",
       "mpl.figure.prototype.handle_save = function(fig, msg) {\n",
       "    fig.ondownload(fig, null);\n",
       "}\n",
       "\n",
       "\n",
       "mpl.find_output_cell = function(html_output) {\n",
       "    // Return the cell and output element which can be found *uniquely* in the notebook.\n",
       "    // Note - this is a bit hacky, but it is done because the \"notebook_saving.Notebook\"\n",
       "    // IPython event is triggered only after the cells have been serialised, which for\n",
       "    // our purposes (turning an active figure into a static one), is too late.\n",
       "    var cells = IPython.notebook.get_cells();\n",
       "    var ncells = cells.length;\n",
       "    for (var i=0; i<ncells; i++) {\n",
       "        var cell = cells[i];\n",
       "        if (cell.cell_type === 'code'){\n",
       "            for (var j=0; j<cell.output_area.outputs.length; j++) {\n",
       "                var data = cell.output_area.outputs[j];\n",
       "                if (data.data) {\n",
       "                    // IPython >= 3 moved mimebundle to data attribute of output\n",
       "                    data = data.data;\n",
       "                }\n",
       "                if (data['text/html'] == html_output) {\n",
       "                    return [cell, data, j];\n",
       "                }\n",
       "            }\n",
       "        }\n",
       "    }\n",
       "}\n",
       "\n",
       "// Register the function which deals with the matplotlib target/channel.\n",
       "// The kernel may be null if the page has been refreshed.\n",
       "if (IPython.notebook.kernel != null) {\n",
       "    IPython.notebook.kernel.comm_manager.register_target('matplotlib', mpl.mpl_figure_comm);\n",
       "}\n"
      ],
      "text/plain": [
       "<IPython.core.display.Javascript object>"
      ]
     },
     "metadata": {},
     "output_type": "display_data"
    },
    {
     "data": {
      "text/html": [
       "<img src=\"data:image/png;base64,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\">"
      ],
      "text/plain": [
       "<IPython.core.display.HTML object>"
      ]
     },
     "metadata": {},
     "output_type": "display_data"
    }
   ],
   "source": [
    "from mpl_toolkits.mplot3d import Axes3D\n",
    "fig = plt.figure()\n",
    "ax = fig.add_subplot(111, projection='3d')\n",
    "cursor = vectors\n",
    "for i in range(100):\n",
    "    cursor = generation(graph, cursor)\n",
    "for (a, b) in edges:\n",
    "    plt.plot(cursor[[a,b],0],cursor[[a,b],1],cursor[[a,b],2])\n",
    "plt.show()"
   ]
  },
  {
   "cell_type": "code",
   "execution_count": 43,
   "metadata": {
    "collapsed": false
   },
   "outputs": [
    {
     "data": {
      "text/plain": [
       "array([  0.00000000e+00,   1.11022302e-16,   0.00000000e+00,\n",
       "         0.00000000e+00,   0.00000000e+00,   6.85997146e-01,\n",
       "         8.71609081e-01,   8.71609081e-01,   6.85997146e-01,\n",
       "         9.98724324e-01,   9.98724324e-01,   9.92762118e-01,\n",
       "         9.35469191e-01,   9.35469191e-01,   8.71609081e-01,\n",
       "         8.71609081e-01,   9.69885360e-01,   9.86090913e-01,\n",
       "         9.86090913e-01,   9.35469191e-01,   6.85997146e-01,\n",
       "         8.71609081e-01,   8.71609081e-01,   8.71609081e-01,\n",
       "         9.69885360e-01,   9.69885360e-01,   9.35469191e-01,\n",
       "         8.71609081e-01,   9.92762118e-01,   9.98724324e-01,\n",
       "         9.35469191e-01,   9.35469191e-01,   9.69885360e-01,\n",
       "         9.86090913e-01,   9.86090913e-01,   9.86090913e-01,\n",
       "         9.86090913e-01,   6.85997146e-01,   8.71609081e-01,\n",
       "         8.71609081e-01,   9.69885360e-01,   9.86090913e-01,\n",
       "         9.69885360e-01,   9.86090913e-01,   9.86090913e-01,\n",
       "         9.69885360e-01,   9.35469191e-01,   6.85997146e-01,\n",
       "         9.92762118e-01,   9.35469191e-01,   9.69885360e-01,\n",
       "         9.69885360e-01,   9.86090913e-01,   9.92762118e-01,\n",
       "         9.35469191e-01,   9.69885360e-01,   9.98724324e-01,\n",
       "         9.35469191e-01,   9.92762118e-01,   9.98724324e-01])"
      ]
     },
     "execution_count": 43,
     "metadata": {},
     "output_type": "execute_result"
    }
   ],
   "source": [
    "P[:, 0] * P[:, 0] + P[:, 1] * P[:, 1]\n",
    "1.0-(P[:, 0] * P[:, 0] + P[:, 1] * P[:, 1])"
   ]
  },
  {
   "cell_type": "code",
   "execution_count": 77,
   "metadata": {
    "collapsed": false
   },
   "outputs": [],
   "source": [
    "(S,V,D) = np.linalg.svd(cursor)\n"
   ]
  },
  {
   "cell_type": "code",
   "execution_count": 78,
   "metadata": {
    "collapsed": false
   },
   "outputs": [
    {
     "data": {
      "text/plain": [
       "array([  2.93160397e-04,   1.57581384e-04,   1.85223647e-05])"
      ]
     },
     "execution_count": 78,
     "metadata": {},
     "output_type": "execute_result"
    }
   ],
   "source": [
    "V"
   ]
  },
  {
   "cell_type": "code",
   "execution_count": 70,
   "metadata": {
    "collapsed": false
   },
   "outputs": [
    {
     "data": {
      "text/plain": [
       "array([ 0.01722233,  0.00925745,  0.00108814])"
      ]
     },
     "execution_count": 70,
     "metadata": {},
     "output_type": "execute_result"
    }
   ],
   "source": [
    "V"
   ]
  },
  {
   "cell_type": "code",
   "execution_count": 71,
   "metadata": {
    "collapsed": false
   },
   "outputs": [
    {
     "data": {
      "text/plain": [
       "array([-0.00796488, -0.01613419])"
      ]
     },
     "execution_count": 71,
     "metadata": {},
     "output_type": "execute_result"
    }
   ],
   "source": [
    "V[1:] - V[0:1]"
   ]
  },
  {
   "cell_type": "code",
   "execution_count": 82,
   "metadata": {
    "collapsed": false
   },
   "outputs": [
    {
     "data": {
      "text/plain": [
       "(array([[ 0.00940548,  0.10948352, -0.19474316, ..., -0.1560855 ,\n",
       "          0.09660519,  0.13353669],\n",
       "        [ 0.0780199 ,  0.14176645, -0.15432166, ..., -0.10673879,\n",
       "         -0.11235229, -0.0242868 ],\n",
       "        [ 0.05012586,  0.1964904 , -0.09422815, ...,  0.11610626,\n",
       "          0.17246868,  0.18270649],\n",
       "        ..., \n",
       "        [ 0.09008384,  0.16193877,  0.12514278, ...,  0.94678015,\n",
       "         -0.01858621, -0.0046614 ],\n",
       "        [ 0.14153943, -0.09014227,  0.14778685, ..., -0.02216641,\n",
       "          0.95277265, -0.03931332],\n",
       "        [ 0.06089461, -0.14425553,  0.15963136, ..., -0.00862363,\n",
       "         -0.04159376,  0.95826245]]),\n",
       " array([  2.93160397e-04,   1.57581384e-04,   1.85223647e-05]),\n",
       " array([[ 0.03015159, -0.99901884, -0.03243831],\n",
       "        [-0.6035868 , -0.04406578,  0.79607863],\n",
       "        [-0.79672697, -0.0044237 , -0.60432323]]))"
      ]
     },
     "execution_count": 82,
     "metadata": {},
     "output_type": "execute_result"
    }
   ],
   "source": [
    "(S, V, D)"
   ]
  },
  {
   "cell_type": "code",
   "execution_count": 87,
   "metadata": {
    "collapsed": false
   },
   "outputs": [
    {
     "data": {
      "text/plain": [
       "array([  3.10578747e-22,   2.25875453e-21,   1.80700362e-21])"
      ]
     },
     "execution_count": 87,
     "metadata": {},
     "output_type": "execute_result"
    }
   ],
   "source": [
    "cursor.mean(axis=0)"
   ]
  },
  {
   "cell_type": "code",
   "execution_count": 93,
   "metadata": {
    "collapsed": false
   },
   "outputs": [
    {
     "data": {
      "text/plain": [
       "<matplotlib.collections.PathCollection at 0x10e873a50>"
      ]
     },
     "execution_count": 93,
     "metadata": {},
     "output_type": "execute_result"
    },
    {
     "data": {
      "image/png": "[encoded data removed]",
      "text/plain": [
       "<matplotlib.figure.Figure at 0x10d1c8f50>"
      ]
     },
     "metadata": {},
     "output_type": "display_data"
    }
   ],
   "source": [
    "plt.scatter([0, 1, 2], (V*1000).tolist())"
   ]
  },
  {
   "cell_type": "code",
   "execution_count": 95,
   "metadata": {
    "collapsed": false
   },
   "outputs": [
    {
     "data": {
      "text/plain": [
       "(60, 60)"
      ]
     },
     "execution_count": 95,
     "metadata": {},
     "output_type": "execute_result"
    }
   ],
   "source": [
    "S.shape"
   ]
  },
  {
   "cell_type": "code",
   "execution_count": 96,
   "metadata": {
    "collapsed": false
   },
   "outputs": [
    {
     "data": {
      "text/plain": [
       "1.8522364711182939e-05"
      ]
     },
     "execution_count": 96,
     "metadata": {},
     "output_type": "execute_result"
    }
   ],
   "source": [
    "V[-1]"
   ]
  },
  {
   "cell_type": "code",
   "execution_count": 97,
   "metadata": {
    "collapsed": false
   },
   "outputs": [
    {
     "data": {
      "text/plain": [
       "0.00029316039671689229"
      ]
     },
     "execution_count": 97,
     "metadata": {},
     "output_type": "execute_result"
    }
   ],
   "source": [
    "V[0]"
   ]
  },
  {
   "cell_type": "code",
   "execution_count": 170,
   "metadata": {
    "collapsed": false
   },
   "outputs": [
    {
     "data": {
      "text/plain": [
       "array([[ 0.5,  1. ],\n",
       "       [ 1. ,  1.5]])"
      ]
     },
     "execution_count": 170,
     "metadata": {},
     "output_type": "execute_result"
    }
   ],
   "source": [
    "np.array([[1, 2], [2, 3]]) / np.array([[2], [2]], dtype=\"float\")"
   ]
  },
  {
   "cell_type": "code",
   "execution_count": 179,
   "metadata": {
    "collapsed": true
   },
   "outputs": [],
   "source": [
    "np.expand_dims?"
   ]
  },
  {
   "cell_type": "code",
   "execution_count": null,
   "metadata": {
    "collapsed": true
   },
   "outputs": [],
   "source": []
  }
 ],
 "metadata": {
  "kernelspec": {
   "display_name": "Python 2",
   "language": "python",
   "name": "python2"
  },
  "language_info": {
   "codemirror_mode": {
    "name": "ipython",
    "version": 2
   },
   "file_extension": ".py",
   "mimetype": "text/x-python",
   "name": "python",
   "nbconvert_exporter": "python",
   "pygments_lexer": "ipython2",
   "version": "2.7.12"
  }
 },
 "nbformat": 4,
 "nbformat_minor": 0
}
