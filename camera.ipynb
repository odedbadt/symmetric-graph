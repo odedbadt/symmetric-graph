{
 "cells": [
  {
   "cell_type": "code",
   "execution_count": 2,
   "metadata": {
    "collapsed": true
   },
   "outputs": [],
   "source": [
    "%matplotlib inline"
   ]
  },
  {
   "cell_type": "code",
   "execution_count": 3,
   "metadata": {
    "collapsed": false
   },
   "outputs": [],
   "source": [
    "import numpy as np\n",
    "from matplotlib import pyplot as plt"
   ]
  },
  {
   "cell_type": "code",
   "execution_count": 4,
   "metadata": {
    "collapsed": false
   },
   "outputs": [
    {
     "data": {
      "text/plain": [
       "(matrix([[10, 14],\n",
       "         [14, 20]]), matrix([[10, 14],\n",
       "         [14, 20]]))"
      ]
     },
     "execution_count": 4,
     "metadata": {},
     "output_type": "execute_result"
    }
   ],
   "source": [
    "A = np.matrix([[1,2],[3,4]])\n",
    "B = A.transpose()\n",
    "((A.transpose()*A).transpose(), A.transpose()*A)"
   ]
  },
  {
   "cell_type": "code",
   "execution_count": 5,
   "metadata": {
    "collapsed": true
   },
   "outputs": [],
   "source": [
    "sky = [0, 1, 0]"
   ]
  },
  {
   "cell_type": "code",
   "execution_count": 6,
   "metadata": {
    "collapsed": true
   },
   "outputs": [],
   "source": [
    "def normalize(v):\n",
    "    l = np.linalg.norm(v)\n",
    "    if l == 0:\n",
    "        return None\n",
    "    return v/l"
   ]
  },
  {
   "cell_type": "code",
   "execution_count": 7,
   "metadata": {
    "collapsed": false
   },
   "outputs": [],
   "source": [
    "def project(location, direction, sky, vec):\n",
    "    left = normalize(np.cross(sky, direction))\n",
    "    SRC = np.matrix([normalize(direction), normalize(sky), left]).transpose()\n",
    "    a = np.arccos(np.dot(direction, sky)/np.linalg.norm(direction)/np.linalg.norm(sky))\n",
    "    DST = np.matrix([[0, 0, 1], [0, np.sin(a), np.cos(a)], [1, 0, 0]]).transpose()\n",
    "    T = DST * np.linalg.inv(SRC)\n",
    "    print T.transpose() * T\n",
    "    reoriented = T * (vec - np.expand_dims(location, 2))\n",
    "    return reoriented / reoriented[2, :]"
   ]
  },
  {
   "cell_type": "code",
   "execution_count": 8,
   "metadata": {
    "collapsed": false
   },
   "outputs": [],
   "source": [
    "sky = [0, 1, 0]\n",
    "direction = [10, 20, 30]\n",
    "left = normalize(np.cross(sky, direction))\n",
    "SRC = np.matrix([direction, sky, left]).transpose()\n",
    "a = np.arccos(np.dot(direction, sky)/np.linalg.norm(direction)/np.linalg.norm(sky))\n",
    "DST = np.matrix([[1, 0, 0], [np.cos(a), np.sin(a), 0], [0, 0, 1]]).transpose()"
   ]
  },
  {
   "cell_type": "code",
   "execution_count": 9,
   "metadata": {
    "collapsed": false
   },
   "outputs": [],
   "source": [
    "vectors = np.array([\n",
    "            [+1, +1, +1],\n",
    "            [+1, +1, -1],\n",
    "            [+1, -1, +1],\n",
    "            [+1, -1, -1],\n",
    "            [-1, +1, +1],\n",
    "            [-1, +1, -1],\n",
    "            [-1, -1, +1],\n",
    "            [-1, -1, -1],\n",
    "        ])"
   ]
  },
  {
   "cell_type": "code",
   "execution_count": 10,
   "metadata": {
    "collapsed": false
   },
   "outputs": [],
   "source": [
    "edges = np.matrix([\n",
    " (0, 4),\n",
    " (1, 5),\n",
    " (2, 6),\n",
    " (3, 7),\n",
    " (0, 2),\n",
    " (1, 3),\n",
    " (4, 6),\n",
    " (5, 7),\n",
    " (0, 1),\n",
    " (2, 3),\n",
    " (4, 5),\n",
    " (6, 7)\n",
    "])"
   ]
  },
  {
   "cell_type": "code",
   "execution_count": 11,
   "metadata": {
    "collapsed": false
   },
   "outputs": [
    {
     "name": "stdout",
     "output_type": "stream",
     "text": [
      "[[  1.00000000e+00  -5.55111512e-17  -5.55111512e-17]\n",
      " [ -5.55111512e-17   1.00000000e+00   1.38777878e-17]\n",
      " [ -5.55111512e-17   1.38777878e-17   1.00000000e+00]]\n"
     ]
    }
   ],
   "source": [
    "projected = project([4, 3, 1], [-4, -3, -1], [0, 1, 0], vectors.transpose()).transpose()"
   ]
  },
  {
   "cell_type": "code",
   "execution_count": 12,
   "metadata": {
    "collapsed": false
   },
   "outputs": [
    {
     "data": {
      "text/plain": [
       "matrix([[ 0.20611565,  0.0269484 ,  1.        ],\n",
       "        [-0.30917347,  0.09701425,  1.        ],\n",
       "        [ 0.15458674, -0.32338083,  1.        ],\n",
       "        [-0.23782575, -0.24253563,  1.        ],\n",
       "        [ 0.23782575,  0.24253563,  1.        ],\n",
       "        [-0.13250292,  0.27718357,  1.        ],\n",
       "        [ 0.19323342, -0.06063391,  1.        ],\n",
       "        [-0.10912005, -0.0142668 ,  1.        ]])"
      ]
     },
     "execution_count": 12,
     "metadata": {},
     "output_type": "execute_result"
    }
   ],
   "source": [
    "projected"
   ]
  },
  {
   "cell_type": "code",
   "execution_count": 13,
   "metadata": {
    "collapsed": false
   },
   "outputs": [
    {
     "ename": "NameError",
     "evalue": "name 'w' is not defined",
     "output_type": "error",
     "traceback": [
      "\u001b[0;31m---------------------------------------------------------------------------\u001b[0m",
      "\u001b[0;31mNameError\u001b[0m                                 Traceback (most recent call last)",
      "\u001b[0;32m<ipython-input-13-b938b801a0bf>\u001b[0m in \u001b[0;36m<module>\u001b[0;34m()\u001b[0m\n\u001b[0;32m----> 1\u001b[0;31m \u001b[0mw\u001b[0m\u001b[0;34m\u001b[0m\u001b[0m\n\u001b[0m",
      "\u001b[0;31mNameError\u001b[0m: name 'w' is not defined"
     ]
    }
   ],
   "source": [
    "w"
   ]
  },
  {
   "cell_type": "code",
   "execution_count": 26,
   "metadata": {
    "collapsed": false
   },
   "outputs": [
    {
     "name": "stdout",
     "output_type": "stream",
     "text": [
      "[[  1.00000000e+00  -5.55111512e-17  -5.55111512e-17]\n",
      " [ -5.55111512e-17   1.00000000e+00   1.38777878e-17]\n",
      " [ -5.55111512e-17   1.38777878e-17   1.00000000e+00]]\n",
      "[[  1.00000000e+00   0.00000000e+00   5.55111512e-17]\n",
      " [  0.00000000e+00   1.00000000e+00   5.55111512e-17]\n",
      " [  5.55111512e-17   5.55111512e-17   1.00000000e+00]]\n"
     ]
    },
    {
     "data": {
      "image/png": "[encoded data removed]",
      "text/plain": [
       "<matplotlib.figure.Figure at 0x110669190>"
      ]
     },
     "metadata": {},
     "output_type": "display_data"
    },
    {
     "data": {
      "image/png": "[encoded data removed]",
      "text/plain": [
       "<matplotlib.figure.Figure at 0x11095b3d0>"
      ]
     },
     "metadata": {},
     "output_type": "display_data"
    }
   ],
   "source": [
    "projected = project([4, 3, 1], [-4, -3, -1], [0, 1, 0], vectors.transpose()).transpose()\n",
    "m = projected[:,[0,1]].min(axis=0).tolist()[0]\n",
    "M = projected[:,[0,1]].max(axis=0).tolist()[0]\n",
    "w = np.concatenate([np.expand_dims(m, 2), np.expand_dims(M, 2)], axis=1).min()\n",
    "W = np.concatenate([np.expand_dims(m, 2), np.expand_dims(M, 2)], axis=1).max()\n",
    "plt.figure(figsize=(10, 10))\n",
    "plt.axes([0, 0, 1, 1])\n",
    "plt.plot([w, w], [W, W])\n",
    "e = edges.shape[0]\n",
    "lines = np.zeros(shape=(e*3, 2)) * np.nan\n",
    "lines[range(0, e*3, 3), :] = projected[edges[:,0], [0,1]]\n",
    "lines[range(1, e*3 + 1, 3), :] = projected[edges[:,1], [0,1]]\n",
    "plot = plt.plot(lines[:, 0], lines[:, 1], 'k')[0]\n",
    "\n",
    "projected = project([4, 3, 5], [-4, -3, -5], [0, 1, 0], vectors.transpose()).transpose()\n",
    "m = projected[:,[0,1]].min(axis=0).tolist()[0]\n",
    "M = projected[:,[0,1]].max(axis=0).tolist()[0]\n",
    "w = np.concatenate([np.expand_dims(m, 2), np.expand_dims(M, 2)], axis=1).min()\n",
    "W = np.concatenate([np.expand_dims(m, 2), np.expand_dims(M, 2)], axis=1).max()\n",
    "plt.figure(figsize=(10, 10))\n",
    "plt.axes([0, 0, 1, 1])\n",
    "plt.plot([w, w], [W, W])\n",
    "e = edges.shape[0]\n",
    "lines = np.zeros(shape=(e*3, 2)) * np.nan\n",
    "lines[range(0, e*3, 3), :] = projected[edges[:,0], [0,1]]\n",
    "lines[range(1, e*3 + 1, 3), :] = projected[edges[:,1], [0,1]]\n",
    "#plot = plt.plot(lines[:, 0], lines[:, 1], 'k')[0]\n",
    "plot.set_data((lines[:, 0], lines[:, 1]))"
   ]
  },
  {
   "cell_type": "code",
   "execution_count": 15,
   "metadata": {
    "collapsed": false
   },
   "outputs": [
    {
     "data": {
      "text/plain": [
       "((12, 2), (12, 2))"
      ]
     },
     "execution_count": 15,
     "metadata": {},
     "output_type": "execute_result"
    }
   ],
   "source": [
    "(lines[range(0, e*2, 2), :].shape, edges.shape)"
   ]
  },
  {
   "cell_type": "code",
   "execution_count": 409,
   "metadata": {
    "collapsed": false
   },
   "outputs": [],
   "source": [
    "np.arange?"
   ]
  },
  {
   "cell_type": "code",
   "execution_count": 174,
   "metadata": {
    "collapsed": false
   },
   "outputs": [
    {
     "data": {
      "text/plain": [
       "array([ 0.        ,  0.        ,  0.84147098])"
      ]
     },
     "execution_count": 174,
     "metadata": {},
     "output_type": "execute_result"
    }
   ],
   "source": [
    "np.cross([1, 0, 0], [np.cos(1), np.sin(1), 0])"
   ]
  },
  {
   "cell_type": "code",
   "execution_count": 202,
   "metadata": {
    "collapsed": false
   },
   "outputs": [
    {
     "data": {
      "text/plain": [
       "matrix([[-116.67889919,   -0.18569534,    1.        ],\n",
       "        [ -40.00023946,   -0.8046798 ,    1.        ],\n",
       "        [-119.17026359,    3.52821143,    1.        ],\n",
       "        [ -40.83069426,    0.43328912,    1.        ],\n",
       "        [  39.44660293,    0.43328912,    1.        ],\n",
       "        [ 121.66162799,    3.52821143,    1.        ],\n",
       "        [  40.27705773,   -0.8046798 ,    1.        ],\n",
       "        [ 124.15299238,   -0.18569534,    1.        ]])"
      ]
     },
     "execution_count": 202,
     "metadata": {},
     "output_type": "execute_result"
    }
   ],
   "source": [
    "projected"
   ]
  },
  {
   "cell_type": "code",
   "execution_count": 398,
   "metadata": {
    "collapsed": true
   },
   "outputs": [],
   "source": [
    "\n",
    "import matplotlib.animation as animation"
   ]
  },
  {
   "cell_type": "code",
   "execution_count": 399,
   "metadata": {
    "collapsed": true
   },
   "outputs": [],
   "source": [
    "animation.FuncAnimation?"
   ]
  },
  {
   "cell_type": "code",
   "execution_count": null,
   "metadata": {
    "collapsed": true
   },
   "outputs": [],
   "source": []
  }
 ],
 "metadata": {
  "kernelspec": {
   "display_name": "Python 2",
   "language": "python",
   "name": "python2"
  },
  "language_info": {
   "codemirror_mode": {
    "name": "ipython",
    "version": 2
   },
   "file_extension": ".py",
   "mimetype": "text/x-python",
   "name": "python",
   "nbconvert_exporter": "python",
   "pygments_lexer": "ipython2",
   "version": "2.7.10"
  }
 },
 "nbformat": 4,
 "nbformat_minor": 1
}
