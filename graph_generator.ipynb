{
 "cells": [
  {
   "cell_type": "code",
   "execution_count": 1,
   "metadata": {
    "collapsed": true
   },
   "outputs": [],
   "source": [
    "def print_graph(graph):\n",
    "    for k, v in graph.iteritems():        \n",
    "        print k, ':', v"
   ]
  },
  {
   "cell_type": "code",
   "execution_count": 2,
   "metadata": {
    "collapsed": true
   },
   "outputs": [],
   "source": [
    "def duplicate_and_transform_graph(graph, T):\n",
    "    l = len(graph)\n",
    "    new_graph = {}\n",
    "    offset = max(graph.keys()) + 1\n",
    "    to_duplicant = lambda x: None if x is None else x + offset\n",
    "    for k, (formula, (cyclic, neighbours)) in graph.iteritems():\n",
    "        new_graph[k] = formula, (cyclic, neighbours)\n",
    "        new_graph[to_duplicant(k)] = T + formula, (cyclic, [to_duplicant(x) for x in neighbours])  \n",
    "    return new_graph"
   ]
  },
  {
   "cell_type": "code",
   "execution_count": 3,
   "metadata": {
    "collapsed": false
   },
   "outputs": [],
   "source": [
    "from copy import copy\n",
    "def clone_graph(graph):\n",
    "    return {k: (f, (m, copy(ns))) for k, (f, (m, ns)) in graph.iteritems()}"
   ]
  },
  {
   "cell_type": "code",
   "execution_count": 4,
   "metadata": {
    "collapsed": true
   },
   "outputs": [],
   "source": [
    "def apply_prefix_rules(graph, rules):\n",
    "    new_graph = []\n",
    "    for formula, (mod, neighbours) in graph:\n",
    "        for (prefix, replacement) in rules:\n",
    "            if formula.startswith(rule):\n",
    "                new_formula = replacement + formula[len(prefix)+1:]\n",
    "            else:\n",
    "                new_formula = formula\n",
    "            new_graph.append((new_formula, (mod, neighbours)))"
   ]
  },
  {
   "cell_type": "code",
   "execution_count": 5,
   "metadata": {
    "collapsed": true
   },
   "outputs": [],
   "source": [
    "def intersection_with_indices(l1, l2):\n",
    "    common_members = set(l1).intersection(l2)\n",
    "    return [(x, l1.index(x), l2.index(x)) for x in common_members]"
   ]
  },
  {
   "cell_type": "code",
   "execution_count": 6,
   "metadata": {
    "collapsed": true
   },
   "outputs": [],
   "source": [
    "def pairwise_induction(pairs):\n",
    "    for (a, b) in pairs:\n",
    "        if a is not None and b is not None:\n",
    "            yield (a, b)\n",
    "        elif a is None:\n",
    "            yield (b, b)\n",
    "        else:\n",
    "            yield (a, a)\n",
    "            "
   ]
  },
  {
   "cell_type": "code",
   "execution_count": 7,
   "metadata": {
    "collapsed": false
   },
   "outputs": [],
   "source": [
    "def pad(l, n, padding_direction=1, v=None):\n",
    "    from itertools import repeat\n",
    "    if len(l) > l:\n",
    "        return l\n",
    "    padding = list(repeat(v, n - len(l)))\n",
    "    if padding_direction > 0:\n",
    "        return l + padding\n",
    "    else:\n",
    "        return padding + l"
   ]
  },
  {
   "cell_type": "code",
   "execution_count": 8,
   "metadata": {
    "collapsed": false
   },
   "outputs": [],
   "source": [
    "def has_repeating_values(l):\n",
    "    without_nones = filter(lambda x: x is not None, l)\n",
    "    return len(l) > len(set(l))"
   ]
  },
  {
   "cell_type": "code",
   "execution_count": 9,
   "metadata": {
    "collapsed": true
   },
   "outputs": [],
   "source": [
    "def is_sorted(l):\n",
    "    return all([x < y for x, y in zip(l, l[1:])])"
   ]
  },
  {
   "cell_type": "code",
   "execution_count": 10,
   "metadata": {
    "collapsed": false
   },
   "outputs": [],
   "source": [
    "def padding_zip(l1, l2, padding_direction=1):\n",
    "    length = max(len(l1), len(l2))\n",
    "    return zip(pad(l1, length, padding_direction),\n",
    "               pad(l2, length, padding_direction))"
   ]
  },
  {
   "cell_type": "code",
   "execution_count": 11,
   "metadata": {
    "collapsed": true
   },
   "outputs": [],
   "source": [
    "def mirror(tpls):\n",
    "    if not tpls:\n",
    "        return None\n",
    "    (c, l) = tpls\n",
    "    return (c, [(b, a) for (a, b) in l])"
   ]
  },
  {
   "cell_type": "code",
   "execution_count": 12,
   "metadata": {
    "collapsed": false
   },
   "outputs": [],
   "source": [
    "def common_cycle3(s1, s2):\n",
    "    from itertools import repeat, chain\n",
    "    (c1, l1) = s1\n",
    "    (c2, l2) = s2\n",
    "    if not c1 or not c2:\n",
    "        #print 'Non cyclic'\n",
    "        return None\n",
    "    if len(l1) != len(l2):\n",
    "        #print 'Non matching lengths {} {}'.format(l1, l2)\n",
    "        return None\n",
    "    common_members = set(l1).intersection(l2)\n",
    "    if len(common_members) == 0:\n",
    "        print 'No common members: {}, {}'.format(l1, l2)\n",
    "        return None\n",
    "    m0 = common_members.pop()\n",
    "    skew1 = l1.index(m0)\n",
    "    skew2 = l2.index(m0)\n",
    "    candidate = list(pairwise_induction([(l1[(i + skew1) % len(l1)], l2[(i + skew2) % len(l2)])\n",
    "                                         for i in range(len(l1))]))\n",
    "    if any([x != y and (x in common_members or y in common_members) for x, y in candidate]):\n",
    "        #print [x != y and (x in common_members or y in common_members) for x, y in candidate]\n",
    "        #print 'Non matching cycles {}'.format(candidate)\n",
    "        return None\n",
    "    return (True, candidate)"
   ]
  },
  {
   "cell_type": "code",
   "execution_count": 13,
   "metadata": {
    "collapsed": false
   },
   "outputs": [
    {
     "ename": "SyntaxError",
     "evalue": "invalid syntax (<ipython-input-13-34d38f8dbf58>, line 21)",
     "output_type": "error",
     "traceback": [
      "\u001b[0;36m  File \u001b[0;32m\"<ipython-input-13-34d38f8dbf58>\"\u001b[0;36m, line \u001b[0;32m21\u001b[0m\n\u001b[0;31m    regex = r'-?'.join([to_letter(n).strip('#'). for n in l1])\u001b[0m\n\u001b[0m                                                   ^\u001b[0m\n\u001b[0;31mSyntaxError\u001b[0m\u001b[0;31m:\u001b[0m invalid syntax\n"
     ]
    }
   ],
   "source": [
    "def common_cycle2(s1, s2):\n",
    "    from itertools import repeat, chain\n",
    "    (c1, l1) = s1\n",
    "    (c2, l2) = s2\n",
    "    if c1 and not c2:\n",
    "        return common_cycle2(s2, s1)\n",
    "        return mirror(common_cycle2(s2, s1))\n",
    "    common_numbers = set(l1).intersection(l2)\n",
    "    def to_letter(n, wild='#'):\n",
    "        if n > 26:\n",
    "            raise Exception('Illegal ordinal: {}'.format(n))\n",
    "        return chr(ord('A') + n) if n in common_numbers else wild\n",
    "    if c1 and c2:\n",
    "        regex = ''.join([to_letter(n) for n in l1 ]) + r'(?={})'.format(to_letter(l1[0]))\n",
    "        matched_string = ''.join([to_letter(n) for n in l2 + l2])\n",
    "    elif c2:\n",
    "        regex = ''.join([to_letter(n) for n in l1])\n",
    "        matched_string = ''.join([to_letter(n) for n in l2 + l2])\n",
    "    else:\n",
    "        # not c1 and not c2        \n",
    "        regex = r'-?'.join([to_letter(n).strip('#'). for n in l1])\n",
    "        matched_string = '{x}-{x}'.format(x=''.join([to_letter(n) for n in l2]))\n",
    "    match = re.search(regex, matched_string)\n",
    "    if not match:\n",
    "        return None\n",
    "    \n",
    "    return (regex, matched_string, match is not None and (match.group(0), match.start(), match.end()))"
   ]
  },
  {
   "cell_type": "code",
   "execution_count": 14,
   "metadata": {
    "collapsed": false
   },
   "outputs": [],
   "source": [
    "def common_cycle(s1, s2):\n",
    "    from itertools import repeat, chain\n",
    "    (c1, l1) = s1\n",
    "    (c2, l2) = s2\n",
    "    if c1 and c2 and len(l1) != len(l2):\n",
    "        print 'Cannot combine closed cycles of different lengths'\n",
    "    if has_repeating_values(l1):\n",
    "        raise Exception('Non unique members in cycle 1')\n",
    "    if has_repeating_values(l2):\n",
    "        raise Exception('Non unique members in cycle 2')\n",
    "    tpls = sorted(intersection_with_indices(l1, l2), key= lambda x: x[1:2])\n",
    "    if len(tpls) == 0:\n",
    "        print 'Cannot combine non intersecting sections'\n",
    "        return None\n",
    "    if is_sorted([x[2] for x in tpls]):\n",
    "        print tpls\n",
    "        result = list(padding_zip(l1[0:tpls[0][1]], l2[0:tpls[0][2]], padding_direction=-1))\n",
    "        for prv, tpl in zip(tpls, tpls[1:]):\n",
    "            if tpl[1] - prv[1] == tpl[2] - prv[2]:\n",
    "                result = result + list(zip(l1[prv[1]:tpl[1]], l2[prv[2]:tpl[2]]))\n",
    "            else:\n",
    "                print 'Misatch: {} - {} != {} - {}'.format(tpl[1], prv[1], tpl[2], prv[2])\n",
    "                return None\n",
    "        result = result + padding_zip(l1[tpls[-1][1]:], l2[tpls[-1][2]:])\n",
    "        return (c1 or c2, list(pairwise_induction(result)))\n",
    "    result = []\n",
    "    overboard = False\n",
    "    for i, prv, tpl in zip(range(len(tpls)), tpls, tpls[1:]):\n",
    "        if tpl[2] < prv[2]:\n",
    "            ''' List 2 performed a whole cycle '''\n",
    "            if overboard:\n",
    "                raise Exception('Ordering is not cyclic')\n",
    "            overboard = True\n",
    "            gap = (tpl[1] - prv[1]) - (tpl[2] + len(l2) - prv[2])\n",
    "            if c2 and gap != 0:\n",
    "                raise Exception('Mismatch in common index {} (when reaching end of l2, sorted)'.format(i))\n",
    "            if gap < 0:\n",
    "                raise Exception('Cannot negative pad in index {} (when reaching end of l2, sorted)'.format(i))\n",
    "            s1 = [l1[i] for i in range(prv[1], tpl[1])]\n",
    "            s2 = [l2[i] for i in range(prv[2], len(l2))] + \\\n",
    "                 list(repeat(None, gap)) + \\\n",
    "                 [l2[i] for i in range(0, tpl[2])]\n",
    "            result = result + zip(s1, s2)\n",
    "        elif tpl[2] - prv[2] != tpl[1] - prv[1]:\n",
    "            raise Exception('Mismatch in index {} (sorted)'.format(i))\n",
    "        else:\n",
    "            s1 = [l1[i] for i in range(prv[1], tpl[1])]\n",
    "            s2 = [l2[i] for i in range(prv[2], tpl[2])]\n",
    "            result = result + zip(s1, s2)\n",
    "    result_is_closed = c1 or c2 or overboard\n",
    "    if result_is_closed:\n",
    "        ''' List 1 must perform a whole cycle '''\n",
    "        prv = tpls[-1]\n",
    "        tpl = tpls[0]\n",
    "        gap = (tpl[2] - prv[2]) - (tpl[1] + len(l1) - prv[1])\n",
    "        if c1:\n",
    "            if gap != 0:\n",
    "                raise Exception('Mismatch in when reaching end of l1')\n",
    "        if gap < 0:\n",
    "            if tpl[2] < prv[2]:\n",
    "                print 'Gap : {}'.format(gap)\n",
    "                result.append((l1[-1], l2[-1]))\n",
    "            else:\n",
    "                raise Exception('Cannot negative pad when reaching end of l1')\n",
    "        else:\n",
    "            s2 = [l2[i] for i in range(prv[2], tpl[2])]\n",
    "            s1 = [l1[i] for i in range(prv[1], len(l1))] + \\\n",
    "                 list(repeat(None, gap)) + \\\n",
    "                 [l1[i] for i in range(0, tpl[1])]\n",
    "            result = result + zip(s1, s2)\n",
    "    else:\n",
    "        result = padding_zip(l1[0:tpls[0][1]], l2[0:tpls[0][2]], padding_direction=-1) + \\\n",
    "                 result + \\\n",
    "                 padding_zip(l1[tpls[-1][1]:], l2[tpls[-1][2]:])\n",
    "    return (result_is_closed, list(pairwise_induction(result)))                "
   ]
  },
  {
   "cell_type": "code",
   "execution_count": 15,
   "metadata": {
    "collapsed": false
   },
   "outputs": [],
   "source": [
    "def drop(n, it):\n",
    "    for i in range(n):\n",
    "        it.next()\n",
    "    while True:\n",
    "        yield it.next()"
   ]
  },
  {
   "cell_type": "code",
   "execution_count": 16,
   "metadata": {
    "collapsed": true
   },
   "outputs": [],
   "source": [
    "def compare_cyclic(l1, l2):\n",
    "    from itertools import cycle\n",
    "    if set(l1) != set(l2) or len(l1) != len(l2):\n",
    "        return False\n",
    "    for a,b in zip(l1, drop(l2.index(l1[0]), cycle(l2))):\n",
    "        if a != b:\n",
    "            return False\n",
    "    return True"
   ]
  },
  {
   "cell_type": "code",
   "execution_count": 17,
   "metadata": {
    "collapsed": false
   },
   "outputs": [],
   "source": [
    "def test(a, b, expected):\n",
    "    cc = common_cycle(a, b)\n",
    "    (c, result) = cc\n",
    "    rev = common_cycle(b, a)\n",
    "    (cm, mirrored_result) = rev\n",
    "    (cme, mirrored_expected) = mirror(expected)\n",
    "    if not compare_cyclic(result, expected[1]) or c != expected[0]:\n",
    "        print '{} and \\n{} resulted in \\n{} and did not result in \\n{}'.format(a, b, result, expected)\n",
    "    if not compare_cyclic(mirrored_result, mirrored_expected) or cm != cme:\n",
    "        print '{} and \\n{} resulted in \\n{} and did not result in \\n{}'.format(b, a, mirrored_result, mirror(expected))        "
   ]
  },
  {
   "cell_type": "code",
   "execution_count": 18,
   "metadata": {
    "collapsed": false
   },
   "outputs": [
    {
     "name": "stdout",
     "output_type": "stream",
     "text": [
      "[(1, 1, 0)]\n",
      "[(1, 0, 1)]\n",
      "[(2, 2, 0), (3, 3, 1)]\n",
      "[(2, 0, 2), (3, 1, 3)]\n",
      "[(1, 1, 0), (2, 2, 1)]\n",
      "[(1, 0, 1), (2, 1, 2)]\n",
      "[(1, 1, 0), (3, 3, 2)]\n",
      "[(1, 0, 1), (3, 2, 3)]\n",
      "[(2, 1, 0)]\n",
      "[(2, 0, 1)]\n",
      "[(0, 0, 0), (1, 1, 1)]\n",
      "[(0, 0, 0), (1, 1, 1)]\n",
      "[(2, 1, 0), (0, 2, 1)]\n",
      "[(2, 0, 1), (0, 1, 2)]\n",
      "(True, [11, 2, 0]) and \n",
      "(False, [2, 0, 5]) resulted in \n",
      "[(11, 11), (2, 2), (0, 0), (5, 5)] and did not result in \n",
      "(True, [(11, 5), (2, 2), (0, 0)])\n",
      "(False, [2, 0, 5]) and \n",
      "(True, [11, 2, 0]) resulted in \n",
      "[(11, 11), (2, 2), (0, 0), (5, 5)] and did not result in \n",
      "(True, [(5, 11), (2, 2), (0, 0)])\n"
     ]
    }
   ],
   "source": [
    "test((False, [0,1]), (False, [1,2]),(False, [(0,0), (1,1), (2, 2)]))\n",
    "test((False, [0,1,2,3]), (False, [2,3]),(False, [(0,0), (1,1), (2, 2), (3,3)]))\n",
    "test((False, [0,1,2,3]), (False, [1,2]),(False, [(0,0), (1,1), (2, 2), (3,3)]))\n",
    "test((False, [0,1,2,3]), (False, [1,None,3]),(False, [(0,0), (1,1), (2, 2), (3,3)]))\n",
    "test((False, [0,1,2,3]), (False, [2,None,0]),(True, [(0,0), (1,1), (2, 2), (3,3)]))\n",
    "test((False, [1,2]), (False, [2,3]),(False, [(1,1), (2,2), (3,3)]))\n",
    "test((False, [0,1]), (True, [0,1]),(True, [(0,0), (1,1)]))\n",
    "test((True, [11, 2, 0]), (False, [2, 0, 5]), (True, [(11, 5), (2, 2), (0, 0)]))"
   ]
  },
  {
   "cell_type": "code",
   "execution_count": 19,
   "metadata": {
    "collapsed": false
   },
   "outputs": [],
   "source": [
    "def common_member(l1, l2):    \n",
    "    for i1 in range(len(l1)):\n",
    "        x1 = l1[i1]\n",
    "        if x1 in l2:\n",
    "            return (i1, l2.index(l1[i1]))\n",
    "    return (-1, -1)"
   ]
  },
  {
   "cell_type": "code",
   "execution_count": 20,
   "metadata": {
    "collapsed": true
   },
   "outputs": [],
   "source": [
    "def index_or_identity(l, i):\n",
    "    return l[i] if i in l else i"
   ]
  },
  {
   "cell_type": "code",
   "execution_count": 21,
   "metadata": {
    "collapsed": true
   },
   "outputs": [],
   "source": [
    "def without(l, indices):\n",
    "    return [l[i] for i in range(len(l)) if i not in indices]\n",
    "\n",
    "def without_keys(d, keys):\n",
    "    return {k: v for k, v in d.iteritems() if k not in keys}"
   ]
  },
  {
   "cell_type": "code",
   "execution_count": 22,
   "metadata": {
    "collapsed": false
   },
   "outputs": [],
   "source": [
    "def replace(graph, merging_table):\n",
    "    replacer = lambda x: merging_table[x] if x in merging_table else x\n",
    "    return {\n",
    "        k: (f, (c, map(replacer, n))) for k, (f, (c, n)) in graph.iteritems()\n",
    "    }\n",
    "\n",
    "def scan_for_errors(graph):\n",
    "    for k, (f, (c, n)) in graph.iteritems():\n",
    "        if len(n) != len(set(n)):\n",
    "            print_graph(graph)\n",
    "            raise Exception('Non unique members in node {}'.format(k))"
   ]
  },
  {
   "cell_type": "code",
   "execution_count": 23,
   "metadata": {
    "collapsed": false
   },
   "outputs": [],
   "source": [
    "from functools import partial\n",
    "from copy import copy\n",
    "def merge_vertices(graph, i1, i2, merging_table, countdown=100):\n",
    "    if countdown < 0:\n",
    "        print 'Stack overflow'\n",
    "        import sys\n",
    "        sys.exit(1)\n",
    "    #print 'Merging {} ({}) into {} ({})'.format(i1, graph[i1][0], i2, graph[i2][0])\n",
    "    #print 'with'\n",
    "    #print 'Graph: '\n",
    "    #print_graph(graph)\n",
    "    #print 'Merging Table: '\n",
    "    #print merging_table\n",
    "    '''\n",
    "    vertex of index i1 is merged into i2\n",
    "    i1 - source index\n",
    "    i2 - destination index\n",
    "    '''\n",
    "    if i1 == i2:\n",
    "        #print 'Not merging'\n",
    "        #print 'After merging {} into {}'.format(i1, i2)\n",
    "        #print graph.keys()\n",
    "        return graph\n",
    "    f1, (c1, n1) = graph[i1]\n",
    "    f2, (c2, n2) = graph[i2]\n",
    "    mapper = partial(map, partial(index_or_identity, merging_table))\n",
    "    cc = common_cycle3((c1, mapper(n1)), (c2, mapper(n2)))\n",
    "    #print cc\n",
    "    if cc is None:\n",
    "        #print 'Not merging'\n",
    "        #print 'After merging {} into {}'.format(i1, i2)\n",
    "        #print graph.keys()\n",
    "        return graph\n",
    "    new_graph = clone_graph(graph)\n",
    "    new_graph[i2] = (f2, (cc[0], [x[1] for x in cc[1]]))\n",
    "    local_merging_table = {}\n",
    "    for src, dst in cc[1]:\n",
    "        if src != dst:\n",
    "            local_merging_table[src] = dst\n",
    "    combined_merging_table = copy(local_merging_table)\n",
    "    combined_merging_table.update(merging_table)\n",
    "    combined_merging_table[i1] = i2\n",
    "    for src, dst in local_merging_table.iteritems():\n",
    "        if dst in new_graph and src in new_graph:\n",
    "            new_graph = merge_vertices(new_graph, src, dst, combined_merging_table, countdown=countdown-1)\n",
    "    #print 'combined_merging_table: {}'.format(combined_merging_table)\n",
    "    #print 'After merging {} into {}'.format(i1, i2)\n",
    "    #print without_keys(replace(new_graph, combined_merging_table), {i1}).keys()\n",
    "    return without_keys(replace(new_graph, combined_merging_table), {i1})"
   ]
  },
  {
   "cell_type": "code",
   "execution_count": 24,
   "metadata": {
    "collapsed": false
   },
   "outputs": [],
   "source": [
    "from collections import defaultdict\n",
    "\n",
    "def progress_graph(initial_graph, path, rules):\n",
    "    graph = initial_graph\n",
    "    for c in path:\n",
    "        print 'Applying {}'.format(c)\n",
    "        grouped_by_formula = defaultdict(list)\n",
    "        new_graph = duplicate_and_transform_graph(graph, c)\n",
    "        #print 'Duplicated graph: '\n",
    "        #print_graph(new_graph)\n",
    "        for k in sorted(new_graph.keys()):\n",
    "            (f, x)  = new_graph[k]\n",
    "            cnt = True\n",
    "            new_formula = f\n",
    "            while cnt:\n",
    "                brk = True\n",
    "                for fr, to in rules:\n",
    "                    if fr in new_formula:\n",
    "                        new_formula = new_formula.replace(fr, to)\n",
    "                        brk = False\n",
    "                        #print 'Reducing {} : {} into {} ({} -> {})'.format(k, f, new_formula, fr, to)\n",
    "                cnt = cnt and not brk\n",
    "            grouped_by_formula[new_formula].append(k)\n",
    "            #import pdb\n",
    "            #pdb.set_trace()\n",
    "            new_graph[k] = (new_formula, x)    \n",
    "        #print 'Reduced graph: '\n",
    "        #print_graph(new_graph)\n",
    "        merging_table = {}\n",
    "        for f, group in grouped_by_formula.iteritems():\n",
    "            if len(group) == 2:\n",
    "                a = group[1]\n",
    "                b = group[0]\n",
    "                while b in merging_table:\n",
    "                    b = merging_table[b]\n",
    "                merging_table[a] = b\n",
    "            elif len(group) > 2:\n",
    "                print f, group\n",
    "                #print 'A group larger than 2'\n",
    "                break\n",
    "        #print 'Merging the following: {}'.format(merging_table) \n",
    "        for src, dst in merging_table.iteritems():\n",
    "            if dst in new_graph:\n",
    "                new_graph = merge_vertices(new_graph, src, dst, merging_table)\n",
    "                #print new_graph.keys()\n",
    "            else:\n",
    "                print \"Not merging {} -> {}\".format(src, dst)\n",
    "        graph = new_graph\n",
    "        #print 'Result graph: '\n",
    "        #print_graph(new_graph)\n",
    "    return graph"
   ]
  },
  {
   "cell_type": "code",
   "execution_count": 25,
   "metadata": {
    "collapsed": false
   },
   "outputs": [
    {
     "ename": "NameError",
     "evalue": "name 'initial_graph' is not defined",
     "output_type": "error",
     "traceback": [
      "\u001b[0;31m---------------------------------------------------------------------------\u001b[0m",
      "\u001b[0;31mNameError\u001b[0m                                 Traceback (most recent call last)",
      "\u001b[0;32m<ipython-input-25-388ab15e7cdb>\u001b[0m in \u001b[0;36m<module>\u001b[0;34m()\u001b[0m\n\u001b[0;32m----> 1\u001b[0;31m \u001b[0mprogress_graph\u001b[0m\u001b[0;34m(\u001b[0m\u001b[0minitial_graph\u001b[0m\u001b[0;34m,\u001b[0m \u001b[0mpath\u001b[0m\u001b[0;34m,\u001b[0m \u001b[0mrules\u001b[0m\u001b[0;34m)\u001b[0m\u001b[0;34m\u001b[0m\u001b[0m\n\u001b[0m",
      "\u001b[0;31mNameError\u001b[0m: name 'initial_graph' is not defined"
     ]
    }
   ],
   "source": [
    "progress_graph(initial_graph, path, rules)"
   ]
  },
  {
   "cell_type": "code",
   "execution_count": 26,
   "metadata": {
    "collapsed": false
   },
   "outputs": [
    {
     "name": "stdout",
     "output_type": "stream",
     "text": [
      "Applying b\n",
      "Applying b\n",
      "Applying b\n",
      "Applying b\n",
      "Applying a\n",
      "Applying b\n",
      "Applying b\n",
      "Applying b\n",
      "Applying a\n",
      "Applying a\n",
      "Applying a\n",
      "Applying a\n"
     ]
    }
   ],
   "source": [
    "actions = ['a', 'b']\n",
    "bucky_rules = [('aaa', ''),\n",
    "         ('bbbbb', ''),\n",
    "         ('ababbP', 'bP')]\n",
    "\n",
    "\n",
    "bucky_initial_graph = {\n",
    "    0: ('P', (True, [4, 1, 8])),\n",
    "    1: ('bP', (True, [0, 2, 5])),\n",
    "    2: ('bbP', (True, [1, 3, None])),\n",
    "    3: ('bbbP', (True, [2, 4, None])),\n",
    "    4: ('bbbbP', (True, [3, 0, None])),\n",
    "    5: ('aaP', (True, [1, None, 6])),\n",
    "    6: ('aabP', (True, [5, None, 7])),\n",
    "    7: ('aP', (True, [6, None, 8])),\n",
    "    8: ('abP', (True, [7, None, 0])),    \n",
    "}\n",
    "\n",
    "bucky_path = 'bbbbabbbaaaa'\n",
    "bucky = progress_graph(bucky_initial_graph, bucky_path, bucky_rules)"
   ]
  },
  {
   "cell_type": "code",
   "execution_count": 27,
   "metadata": {
    "collapsed": false
   },
   "outputs": [
    {
     "ename": "NameError",
     "evalue": "name 'path' is not defined",
     "output_type": "error",
     "traceback": [
      "\u001b[0;31m---------------------------------------------------------------------------\u001b[0m",
      "\u001b[0;31mNameError\u001b[0m                                 Traceback (most recent call last)",
      "\u001b[0;32m<ipython-input-27-57e551f13029>\u001b[0m in \u001b[0;36m<module>\u001b[0;34m()\u001b[0m\n\u001b[0;32m----> 1\u001b[0;31m \u001b[0;32mdel\u001b[0m \u001b[0mpath\u001b[0m\u001b[0;34m\u001b[0m\u001b[0m\n\u001b[0m",
      "\u001b[0;31mNameError\u001b[0m: name 'path' is not defined"
     ]
    }
   ],
   "source": [
    "del path"
   ]
  },
  {
   "cell_type": "code",
   "execution_count": 28,
   "metadata": {
    "collapsed": false
   },
   "outputs": [
    {
     "data": {
      "text/plain": [
       "{0: ('P', (True, [4, 1, 8])),\n",
       " 1: ('bP', (True, [0, 2, 5])),\n",
       " 2: ('bbP', (True, [1, 3, None])),\n",
       " 3: ('bbbP', (True, [2, 4, None])),\n",
       " 4: ('bbbbP', (True, [3, 0, None])),\n",
       " 5: ('aaP', (True, [1, None, 6])),\n",
       " 6: ('aabP', (True, [5, None, 7])),\n",
       " 7: ('aP', (True, [6, None, 8])),\n",
       " 8: ('abP', (True, [7, None, 0]))}"
      ]
     },
     "execution_count": 28,
     "metadata": {},
     "output_type": "execute_result"
    }
   ],
   "source": [
    "bucky_initial_graph"
   ]
  },
  {
   "cell_type": "code",
   "execution_count": 29,
   "metadata": {
    "collapsed": true
   },
   "outputs": [],
   "source": [
    "def find_cycle(g, r, c, d=0):\n",
    "    if d < 0:\n",
    "        return 0\n",
    "    if r in g[c][1]:\n",
    "        return d\n",
    "    else:\n",
    "        return 1 + find_cycle\n",
    "\n"
   ]
  },
  {
   "cell_type": "code",
   "execution_count": 30,
   "metadata": {
    "collapsed": false
   },
   "outputs": [
    {
     "name": "stdout",
     "output_type": "stream",
     "text": [
      "Applying a\n",
      "Applying a\n",
      "Applying b\n",
      "Applying b\n",
      "Applying b\n",
      "Applying b\n",
      "Applying a\n",
      "Applying a\n",
      "Applying b\n",
      "Applying b\n",
      "Applying b\n",
      "Applying a\n",
      "Applying b\n",
      "Applying a\n",
      "Applying b\n",
      "Applying a\n",
      "Applying b\n",
      "Applying a\n"
     ]
    },
    {
     "data": {
      "text/plain": [
       "{0: ('P', (True, [1, 9, 4])),\n",
       " 1: ('bP', (True, [0, 2, 18])),\n",
       " 2: ('bbP', (True, [1, 3, 37])),\n",
       " 3: ('bbbP', (True, [2, 4, 75])),\n",
       " 4: ('abP', (True, [0, 7, 3])),\n",
       " 7: ('abbP', (True, [8, 150, 4])),\n",
       " 8: ('abbbP', (True, [9, 226, 7])),\n",
       " 9: ('aabP', (True, [8, 0, 17])),\n",
       " 17: ('aabbP', (True, [9, 18, 301])),\n",
       " 18: ('aabbbP', (True, [1, 36, 17])),\n",
       " 36: ('baabbP', (True, [18, 37, 527])),\n",
       " 37: ('baabbbP', (True, [2, 74, 36])),\n",
       " 74: ('bbaabbP', (True, [75, 1055, 37])),\n",
       " 75: ('bbaabbbP', (True, [74, 3, 150])),\n",
       " 150: ('bbbaabbP', (True, [225, 75, 7])),\n",
       " 225: ('abbaabbP', (True, [226, 1055, 150])),\n",
       " 226: ('abbaabbbP', (True, [8, 301, 225])),\n",
       " 301: ('abbbaabbP', (True, [17, 527, 226])),\n",
       " 527: ('aabbaabbP', (True, [301, 36, 1055])),\n",
       " 1055: ('baabbaabbP', (True, [225, 527, 74]))}"
      ]
     },
     "execution_count": 30,
     "metadata": {},
     "output_type": "execute_result"
    }
   ],
   "source": [
    "actions = ['a', 'b']\n",
    "dodca_rules = [('aaa', ''),\n",
    "         ('bbbbb', ''),\n",
    "         ('aP', 'P'),\n",
    "         ('bbbbP', 'abP')]\n",
    "\n",
    "\n",
    "dodca_initial_graph = {\n",
    "    0: ('P', (True, [4, 1, None])),\n",
    "    1: ('bP', (True, [0, 2, None])),\n",
    "    2: ('bbP', (True, [1, 3, None])),\n",
    "    3: ('bbbP', (True, [2, 4, None])),\n",
    "    4: ('bbbbP', (True, [3, 0, None])),\n",
    "}\n",
    "\n",
    "path = 'aabbbbaabbbabababa'\n",
    "progress_graph(dodca_initial_graph, path, dodca_rules)"
   ]
  },
  {
   "cell_type": "code",
   "execution_count": null,
   "metadata": {
    "collapsed": true
   },
   "outputs": [],
   "source": []
  },
  {
   "cell_type": "code",
   "execution_count": null,
   "metadata": {
    "collapsed": true
   },
   "outputs": [],
   "source": []
  }
 ],
 "metadata": {
  "kernelspec": {
   "display_name": "Python 2",
   "language": "python",
   "name": "python2"
  },
  "language_info": {
   "codemirror_mode": {
    "name": "ipython",
    "version": 2
   },
   "file_extension": ".py",
   "mimetype": "text/x-python",
   "name": "python",
   "nbconvert_exporter": "python",
   "pygments_lexer": "ipython2",
   "version": "2.7.10"
  }
 },
 "nbformat": 4,
 "nbformat_minor": 1
}
