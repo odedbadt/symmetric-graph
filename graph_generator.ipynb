{
 "cells": [
  {
   "cell_type": "code",
   "execution_count": 288,
   "metadata": {
    "collapsed": true
   },
   "outputs": [],
   "source": [
    "import logging"
   ]
  },
  {
   "cell_type": "code",
   "execution_count": 289,
   "metadata": {
    "collapsed": true
   },
   "outputs": [],
   "source": [
    "def print_graph(graph):\n",
    "    for k, v in graph.iteritems():        \n",
    "        logging.debug( k, ':', v)"
   ]
  },
  {
   "cell_type": "code",
   "execution_count": 290,
   "metadata": {
    "collapsed": true
   },
   "outputs": [],
   "source": [
    "def duplicate_and_transform_graph(graph, T):\n",
    "    l = len(graph)\n",
    "    new_graph = {}\n",
    "    offset = max(graph.keys()) + 1\n",
    "    to_duplicant = lambda x: None if x is None else x + offset\n",
    "    for k, (formula, (cyclic, neighbours)) in graph.iteritems():\n",
    "        new_graph[k] = formula, (cyclic, neighbours)\n",
    "        new_graph[to_duplicant(k)] = T + formula, (cyclic, [to_duplicant(x) for x in neighbours])  \n",
    "    return new_graph"
   ]
  },
  {
   "cell_type": "code",
   "execution_count": 291,
   "metadata": {
    "collapsed": false
   },
   "outputs": [],
   "source": [
    "from copy import copy\n",
    "def clone_graph(graph):\n",
    "    return {k: (f, (m, copy(ns))) for k, (f, (m, ns)) in graph.iteritems()}"
   ]
  },
  {
   "cell_type": "code",
   "execution_count": 292,
   "metadata": {
    "collapsed": true
   },
   "outputs": [],
   "source": [
    "# def apply_prefix_rules(graph, rules):\n",
    "#     new_graph = []\n",
    "#     for formula, (mod, neighbours) in graph:\n",
    "#         for (prefix, replacement) in rules:\n",
    "#             if formula.startswith(rule):\n",
    "#                 new_formula = replacement + formula[len(prefix)+1:]\n",
    "#             else:\n",
    "#                 new_formula = formula\n",
    "#             new_graph.append((new_formula, (mod, neighbours)))"
   ]
  },
  {
   "cell_type": "code",
   "execution_count": 293,
   "metadata": {
    "collapsed": true
   },
   "outputs": [],
   "source": [
    "# def intersection_with_indices(l1, l2):\n",
    "#     common_members = set(l1).intersection(l2)\n",
    "#     return [(x, l1.index(x), l2.index(x)) for x in common_members]"
   ]
  },
  {
   "cell_type": "code",
   "execution_count": 294,
   "metadata": {
    "collapsed": true
   },
   "outputs": [],
   "source": [
    "def pairwise_induction(pairs):\n",
    "    for (a, b) in pairs:\n",
    "        if a is not None and b is not None:\n",
    "            yield (a, b)\n",
    "        elif a is None:\n",
    "            yield (b, b)\n",
    "        else:\n",
    "            yield (a, a)\n",
    "            "
   ]
  },
  {
   "cell_type": "code",
   "execution_count": 295,
   "metadata": {
    "collapsed": false
   },
   "outputs": [],
   "source": [
    "def pad(l, n, padding_direction=1, v=None):\n",
    "    from itertools import repeat\n",
    "    if len(l) > l:\n",
    "        return l\n",
    "    padding = list(repeat(v, n - len(l)))\n",
    "    if padding_direction > 0:\n",
    "        return l + padding\n",
    "    else:\n",
    "        return padding + l"
   ]
  },
  {
   "cell_type": "code",
   "execution_count": 296,
   "metadata": {
    "collapsed": false
   },
   "outputs": [],
   "source": [
    "def has_repeating_values(l):\n",
    "    without_nones = filter(lambda x: x is not None, l)\n",
    "    return len(l) > len(set(l))"
   ]
  },
  {
   "cell_type": "code",
   "execution_count": 297,
   "metadata": {
    "collapsed": true
   },
   "outputs": [],
   "source": [
    "def is_sorted(l):\n",
    "    return all([x < y for x, y in zip(l, l[1:])])"
   ]
  },
  {
   "cell_type": "code",
   "execution_count": 298,
   "metadata": {
    "collapsed": false
   },
   "outputs": [],
   "source": [
    "def padding_zip(l1, l2, padding_direction=1):\n",
    "    length = max(len(l1), len(l2))\n",
    "    return zip(pad(l1, length, padding_direction),\n",
    "               pad(l2, length, padding_direction))"
   ]
  },
  {
   "cell_type": "code",
   "execution_count": 299,
   "metadata": {
    "collapsed": true
   },
   "outputs": [],
   "source": [
    "def mirror(tpls):\n",
    "    if not tpls:\n",
    "        return None\n",
    "    (c, l) = tpls\n",
    "    return (c, [(b, a) for (a, b) in l])"
   ]
  },
  {
   "cell_type": "code",
   "execution_count": 300,
   "metadata": {
    "collapsed": false
   },
   "outputs": [],
   "source": [
    "def common_cycle3(s1, s2):\n",
    "    from itertools import repeat, chain\n",
    "    (c1, l1) = s1\n",
    "    (c2, l2) = s2\n",
    "    if not c1 or not c2:\n",
    "        #logging.debug( 'Non cyclic')\n",
    "        return None\n",
    "    if len(l1) != len(l2):\n",
    "        #logging.debug( 'Non matching lengths {} {}'.format(l1, l2))\n",
    "        return None\n",
    "    common_members = set(l1).intersection(l2)\n",
    "    if len(common_members) == 0:\n",
    "        logging.debug( 'No common members: {}, {}'.format(l1, l2))\n",
    "        return None\n",
    "    m0 = common_members.pop()\n",
    "    skew1 = l1.index(m0)\n",
    "    skew2 = l2.index(m0)\n",
    "    candidate = list(pairwise_induction([(l1[(i + skew1) % len(l1)], l2[(i + skew2) % len(l2)])\n",
    "                                         for i in range(len(l1))]))\n",
    "    if any([x != y and (x in common_members or y in common_members) for x, y in candidate]):\n",
    "        logging.debug( [x != y and (x in common_members or y in common_members) for x, y in candidate])\n",
    "        logging.debug( 'Non matching cycles {}'.format(candidate))\n",
    "        return None\n",
    "    return (True, candidate)"
   ]
  },
  {
   "cell_type": "code",
   "execution_count": 301,
   "metadata": {
    "collapsed": false
   },
   "outputs": [],
   "source": [
    "def aget(l, i):\n",
    "    return l[i] if i >= 0 and i < len(l) else None\n",
    "def common_cycle2(s1, s2):\n",
    "    import re\n",
    "    from itertools import repeat, chain\n",
    "    (c1, l1) = s1\n",
    "    (c2, l2) = s2\n",
    "    if len(l2) < len(l1) or (c1 and not c2):        \n",
    "        return common_cycle2(s2, s1)\n",
    "    # l1 <= l2, \n",
    "    # either c1 is open or c2 is closed\n",
    "    common_numbers = set(l1).intersection(l2)\n",
    "    def to_letter(n, wild='_'):\n",
    "        if n > 26:\n",
    "            raise Exception('Illegal ordinal: {}'.format(n))\n",
    "        return chr(ord('A') + n) if n in common_numbers else wild\n",
    "    def to_word(l):\n",
    "        return ''.join([to_letter(n) for n in l])\n",
    "    def to_result(match, reverse_lookup, force_closed=False, default=(None)):\n",
    "        if not match:\n",
    "            return default\n",
    "        is_closed = force_closed or len(match.groups()) > 1\n",
    "        return (is_closed, reverse_lookup[match.start():match.end()], match.re, match.string, match.group(0))\n",
    "    if c1 and c2:\n",
    "        # c1 is closed, c2 is closed\n",
    "        regex = '({0})(?={1})'.format(to_word(l1), to_letter(l1[0]))\n",
    "        matched_string = '{0}{0}'.format(to_word(l2), to_letter(l2[0]))\n",
    "        reverse_lookup = l2 + l2\n",
    "        return to_result(re.search(regex, matched_string), reverse_lookup, True)\n",
    "    elif c2:\n",
    "        # c1 is open, c2 is closed\n",
    "        regex = '({0})({1}?)'.format(to_word(l1), to_letter(l1[0]))\n",
    "        matched_string = '{0}{0}'.format(to_word(l2))\n",
    "        reverse_lookup = l2 + l2\n",
    "        match = re.search(regex, matched_string)\n",
    "        return to_result(match, reverse_lookup)\n",
    "    else:\n",
    "        # c1 is open, c2 is open\n",
    "        k1, fc1 = [(j, n) for j, n in enumerate(l1) if n in common_numbers][0]\n",
    "        k2, fc2 = [(j, n) for j, n in enumerate(l2) if n in common_numbers][0]\n",
    "        if fc1 != fc2:\n",
    "            k1 = l1.index(fc2)\n",
    "            while k2 - 1 >= 0 and \\\n",
    "                  k1 - 1 >= 0 and \\\n",
    "                  l1[k1 - 1] not in common_numbers and \\\n",
    "                  l2[k2 - 1] not in common_numbers:\n",
    "                k1 = k1 - 1\n",
    "                k2 = k2 - 1\n",
    "            matched_string = to_word(l2)\n",
    "            reverse_lookup = l2\n",
    "            logging.debug( (k1, k2))\n",
    "            regex = '{0}(_*){1}'.format(to_word(l1[k1:]), to_word(l1[0:k1]))\n",
    "            return to_result(re.search(regex, matched_string), reverse_lookup, True)\n",
    "        else:\n",
    "            # Non cyclic result\n",
    "            if k2 < k1:\n",
    "                matched_string = to_word(l2)\n",
    "                regex = to_word(l1[k1:])\n",
    "                return (False, l1[0:k1] + l2[k2:])\n",
    "            else:\n",
    "                return (False, l2[0:k2] + l1[k1:])\n",
    "#         closing_regex = '-*'.join([to_letter(n, wild='(_|-*)') for n in l1])\n",
    "#         closing_matched_string = '{0}{1}{0}'.format(''.join([to_letter(n) for n in l2]),\n",
    "#                                                     '-' * len(l1))\n",
    "        \n",
    "#         match = re.search(closing_regex, closing_matched_string)\n",
    "#         if not match:\n",
    "#             return (None, closing_regex, closing_matched_string)\n",
    "#         if '-' in match.group(0):\n",
    "#             if not re.search('-_+$', match.group(0)):\n",
    "#                 # A cycle was closed by a common char\n",
    "#                 a_common = list(common_numbers)[0]\n",
    "#                 offset = l1.index(a_common) - l2.index(a_common)\n",
    "#                 indices = range(0, match.end() - len(re.search('-*', match.group(0)).group(0)))\n",
    "#                 firsts = [aget(l1, j - offset) for j in indices]\n",
    "#                 seconds = [aget(l2, j) for j in indices]\n",
    "#                 return (True, firsts, seconds, match.group(0), match.start(), match.end())\n",
    "#             # A cycle was 'closed' by a wildcard, not considered a closing of a cycle\n",
    "#             # Rather, the first sequence extends the second\n",
    "#             indices = range(0, match.end() - len(re.search('-*', match.group(0)).group(0)))\n",
    "#             offset = match.start()\n",
    "#             firsts = [aget(l1, j - offset) for j in indices]\n",
    "#             seconds = [aget(l2, j) for j in indices]\n",
    "#             return (False, firsts, seconds, match.group(0), match.start(), match.end())\n",
    "#         else:            \n",
    "#             # First sequence is not conained in second\n",
    "#             return (False, l2, match.group(0), match.start(), match.end())"
   ]
  },
  {
   "cell_type": "code",
   "execution_count": 302,
   "metadata": {
    "collapsed": false
   },
   "outputs": [],
   "source": [
    "common_cycle2((False, [1, 4, 10, 9, 2, 6]), (False, [8, 2, 6, 7, 1, 4]))"
   ]
  },
  {
   "cell_type": "code",
   "execution_count": 303,
   "metadata": {
    "collapsed": false
   },
   "outputs": [
    {
     "data": {
      "text/plain": [
       "(False, [7, 10, 1, 4, 9, 2, 6])"
      ]
     },
     "execution_count": 303,
     "metadata": {},
     "output_type": "execute_result"
    }
   ],
   "source": [
    "common_cycle2((False, [1, 4, 9, 2, 6]), (False, [7, 10, 1, 4, 9]))"
   ]
  },
  {
   "cell_type": "code",
   "execution_count": 304,
   "metadata": {
    "collapsed": false
   },
   "outputs": [
    {
     "data": {
      "text/plain": [
       "['3', '3', '3']"
      ]
     },
     "execution_count": 304,
     "metadata": {},
     "output_type": "execute_result"
    }
   ],
   "source": [
    "import re\n",
    "re.search('(C)(D)', 'CD').end()\n",
    "['3'] * 3"
   ]
  },
  {
   "cell_type": "code",
   "execution_count": 305,
   "metadata": {
    "collapsed": false
   },
   "outputs": [
    {
     "data": {
      "text/plain": [
       "('AAA', 'A')"
      ]
     },
     "execution_count": 305,
     "metadata": {},
     "output_type": "execute_result"
    }
   ],
   "source": [
    "re.search('(A*)(A+)', 'AAAA').groups()"
   ]
  },
  {
   "cell_type": "code",
   "execution_count": 306,
   "metadata": {
    "collapsed": false
   },
   "outputs": [],
   "source": [
    "def common_cycle(s1, s2):\n",
    "    from itertools import repeat, chain\n",
    "    (c1, l1) = s1\n",
    "    (c2, l2) = s2\n",
    "    if c1 and c2 and len(l1) != len(l2):\n",
    "        logging.debug( 'Cannot combine closed cycles of different lengths')\n",
    "    if has_repeating_values(l1):\n",
    "        raise Exception('Non unique members in cycle 1')\n",
    "    if has_repeating_values(l2):\n",
    "        raise Exception('Non unique members in cycle 2')\n",
    "    tpls = sorted(intersection_with_indices(l1, l2), key= lambda x: x[1:2])\n",
    "    if len(tpls) == 0:\n",
    "        logging.debug( 'Cannot combine non intersecting sections')\n",
    "        return None\n",
    "    if is_sorted([x[2] for x in tpls]):\n",
    "        logging.debug( tpls)\n",
    "        result = list(padding_zip(l1[0:tpls[0][1]], l2[0:tpls[0][2]], padding_direction=-1))\n",
    "        for prv, tpl in zip(tpls, tpls[1:]):\n",
    "            if tpl[1] - prv[1] == tpl[2] - prv[2]:\n",
    "                result = result + list(zip(l1[prv[1]:tpl[1]], l2[prv[2]:tpl[2]]))\n",
    "            else:\n",
    "                logging.debug( 'Misatch: {} - {} != {} - {}'.format(tpl[1], prv[1], tpl[2], prv[2]))\n",
    "                return None\n",
    "        result = result + padding_zip(l1[tpls[-1][1]:], l2[tpls[-1][2]:])\n",
    "        return (c1 or c2, list(pairwise_induction(result)))\n",
    "    result = []\n",
    "    overboard = False\n",
    "    for i, prv, tpl in zip(range(len(tpls)), tpls, tpls[1:]):\n",
    "        if tpl[2] < prv[2]:\n",
    "            ''' List 2 performed a whole cycle '''\n",
    "            if overboard:\n",
    "                raise Exception('Ordering is not cyclic')\n",
    "            overboard = True\n",
    "            gap = (tpl[1] - prv[1]) - (tpl[2] + len(l2) - prv[2])\n",
    "            if c2 and gap != 0:\n",
    "                raise Exception('Mismatch in common index {} (when reaching end of l2, sorted)'.format(i))\n",
    "            if gap < 0:\n",
    "                raise Exception('Cannot negative pad in index {} (when reaching end of l2, sorted)'.format(i))\n",
    "            s1 = [l1[i] for i in range(prv[1], tpl[1])]\n",
    "            s2 = [l2[i] for i in range(prv[2], len(l2))] + \\\n",
    "                 list(repeat(None, gap)) + \\\n",
    "                 [l2[i] for i in range(0, tpl[2])]\n",
    "            result = result + zip(s1, s2)\n",
    "        elif tpl[2] - prv[2] != tpl[1] - prv[1]:\n",
    "            raise Exception('Mismatch in index {} (sorted)'.format(i))\n",
    "        else:\n",
    "            s1 = [l1[i] for i in range(prv[1], tpl[1])]\n",
    "            s2 = [l2[i] for i in range(prv[2], tpl[2])]\n",
    "            result = result + zip(s1, s2)\n",
    "    result_is_closed = c1 or c2 or overboard\n",
    "    if result_is_closed:\n",
    "        ''' List 1 must perform a whole cycle '''\n",
    "        prv = tpls[-1]\n",
    "        tpl = tpls[0]\n",
    "        gap = (tpl[2] - prv[2]) - (tpl[1] + len(l1) - prv[1])\n",
    "        if c1:\n",
    "            if gap != 0:\n",
    "                raise Exception('Mismatch in when reaching end of l1')\n",
    "        if gap < 0:\n",
    "            if tpl[2] < prv[2]:\n",
    "                logging.debug( 'Gap : {}'.format(gap))\n",
    "                result.append((l1[-1], l2[-1]))\n",
    "            else:\n",
    "                raise Exception('Cannot negative pad when reaching end of l1')\n",
    "        else:\n",
    "            s2 = [l2[i] for i in range(prv[2], tpl[2])]\n",
    "            s1 = [l1[i] for i in range(prv[1], len(l1))] + \\\n",
    "                 list(repeat(None, gap)) + \\\n",
    "                 [l1[i] for i in range(0, tpl[1])]\n",
    "            result = result + zip(s1, s2)\n",
    "    else:\n",
    "        result = padding_zip(l1[0:tpls[0][1]], l2[0:tpls[0][2]], padding_direction=-1) + \\\n",
    "                 result + \\\n",
    "                 padding_zip(l1[tpls[-1][1]:], l2[tpls[-1][2]:])\n",
    "    return (result_is_closed, list(pairwise_induction(result)))                "
   ]
  },
  {
   "cell_type": "code",
   "execution_count": 307,
   "metadata": {
    "collapsed": false
   },
   "outputs": [],
   "source": [
    "def drop(n, it):\n",
    "    for i in range(n):\n",
    "        it.next()\n",
    "    while True:\n",
    "        yield it.next()"
   ]
  },
  {
   "cell_type": "code",
   "execution_count": 308,
   "metadata": {
    "collapsed": false
   },
   "outputs": [],
   "source": [
    "def tokenize_cycle(cycle, anchors):\n",
    "    (cyclic, members) = cycle\n",
    "    result = []\n",
    "    k = 0\n",
    "    for j in range(len(members)):\n",
    "        if members[j] in anchors:\n",
    "            result.append(members[k:j])\n",
    "            result.append(members[j])\n",
    "            k = j+1\n",
    "    if cyclic:\n",
    "        result[0] = members[k:] + result[0]\n",
    "    else:\n",
    "        result[0] = members[k:] + [-1] + result[0]\n",
    "    return result\n",
    "def padding_zip(l1, l2, tail=True):\n",
    "    if len(l1) < len(l2):\n",
    "        if tail:\n",
    "            return zip(l1 + [None] * (len(l2) - len(l1)), l2)\n",
    "        else: \n",
    "            return zip([None] * (len(l2) - len(l1)) + l1, l2)\n",
    "    else:\n",
    "        if tail:\n",
    "            return zip(l1, l2 + [None] * (len(l1) - len(l2)))\n",
    "        else:\n",
    "            return zip(l1, [None] * (len(l1) - len(l2)) + l2)\n",
    "def flexi_zip(l1, l2):\n",
    "    if -1 in l1 and -1 in l2:\n",
    "        idx1 = l1.index(-1)\n",
    "        idx2 = l2.index(-1)        \n",
    "        return padding_zip(l1[0:idx1], l2[0:idx2]) + padding_zip(l1[(idx1+1):], l2[(idx2+1):], False)\n",
    "    if -1 in l1 and -1 not in l2:\n",
    "        if (len(l2) - len(l1) + 1) < 0:\n",
    "            return None\n",
    "        idx = l1.index(-1)\n",
    "        return zip(l1[0:idx] + [None] * (len(l2) - len(l1) + 1) + l1[idx+1:], l2)\n",
    "    elif -1 in l2 and -1 not in l1:\n",
    "        if (len(l1) - len(l2) + 1) < 0:\n",
    "            return None\n",
    "        idx = l2.index(-1)\n",
    "        return zip(l1, l2[0:idx] + [None] * (len(l1) - len(l2) + 1) + l2[idx+1:])\n",
    "    elif len(l1) == len(l2):\n",
    "        return zip(l1, l2)\n",
    "    else:\n",
    "        return None\n",
    "def common_cycle4(s1, s2):\n",
    "    from itertools import repeat, chain\n",
    "    (c1, l1) = s1\n",
    "    (c2, l2) = s2\n",
    "    common_members = set(s1[1]).intersection(s2[1]) - {None}\n",
    "    if len(common_members) == 0:\n",
    "        return None\n",
    "    t1 = tokenize_cycle(s1, common_members)\n",
    "    t2 = tokenize_cycle(s2, common_members)\n",
    "    if len(t1) != len(t2):\n",
    "        return None\n",
    "    a_common_member = iter(common_members).next()\n",
    "    idx1 = t1.index(a_common_member)\n",
    "    idx2 = t2.index(a_common_member)\n",
    "    result = []\n",
    "    cyclic = True\n",
    "    for j in range(len(t1)):\n",
    "        token1 = t1[(j + idx1) % len(t1)]\n",
    "        token2 = t2[(j + idx2) % len(t1)]\n",
    "        if isinstance(token1, int):\n",
    "            if not isinstance(token2, int):\n",
    "                return None\n",
    "            if token1 != token2:\n",
    "                return None\n",
    "            result.append((token1, token2))\n",
    "            continue\n",
    "        if isinstance(token2, int):\n",
    "            return None\n",
    "        if -1 in token1 and -1 in token2:\n",
    "            cyclic = False\n",
    "        fz = flexi_zip(token1, token2)\n",
    "        if fz is None:\n",
    "            return None\n",
    "        result = result + fz\n",
    "    return (cyclic, list(pairwise_induction(result)))\n",
    "    "
   ]
  },
  {
   "cell_type": "code",
   "execution_count": 309,
   "metadata": {
    "collapsed": true
   },
   "outputs": [],
   "source": [
    "def compare_cyclic(l1, l2):\n",
    "    from itertools import cycle\n",
    "    if set(l1) != set(l2) or len(l1) != len(l2):\n",
    "        return False\n",
    "    for a,b in zip(l1, drop(l2.index(l1[0]), cycle(l2))):\n",
    "        if a != b:\n",
    "            return False\n",
    "    return True"
   ]
  },
  {
   "cell_type": "code",
   "execution_count": 310,
   "metadata": {
    "collapsed": true
   },
   "outputs": [],
   "source": [
    "def index_or_identity(l, i):\n",
    "    return l[i] if i in l else i\n",
    "\n",
    "def without(l, indices):\n",
    "    return [l[i] for i in range(len(l)) if i not in indices]\n",
    "\n",
    "def without_keys(d, keys):\n",
    "    return {k: v for k, v in d.iteritems() if k not in keys}"
   ]
  },
  {
   "cell_type": "code",
   "execution_count": 311,
   "metadata": {
    "collapsed": false
   },
   "outputs": [],
   "source": [
    "def common_member(l1, l2):    \n",
    "    for i1 in range(len(l1)):\n",
    "        x1 = l1[i1]\n",
    "        if x1 in l2:\n",
    "            return (i1, l2.index(l1[i1]))\n",
    "    return (-1, -1)"
   ]
  },
  {
   "cell_type": "code",
   "execution_count": 315,
   "metadata": {
    "collapsed": false
   },
   "outputs": [],
   "source": [
    "def test(a, b, expected):\n",
    "    cc = common_cycle4(a, b)\n",
    "    (c, result) = cc\n",
    "    rev = common_cycle4(b, a)\n",
    "    (cm, mirrored_result) = rev\n",
    "    (cme, mirrored_expected) = mirror(expected)\n",
    "    if not compare_cyclic(result, expected[1]) or c != expected[0]:\n",
    "        logging.debug( '{} and \\n{} resulted in \\n{} and did not result in \\n{}'.format(a, b, cc, expected))\n",
    "    if not compare_cyclic(mirrored_result, mirrored_expected) or cm != cme:\n",
    "        logging.debug( '{} and \\n{} resulted in \\n{} and did not result in \\n{}'.format(b, a, mirrored_result, mirror(expected)))        "
   ]
  },
  {
   "cell_type": "code",
   "execution_count": 316,
   "metadata": {
    "collapsed": false
   },
   "outputs": [],
   "source": [
    "test((False, [0,1]), (False, [1,2]),(False, [(0,0), (1,1), (2, 2)]))\n",
    "test((False, [0,1,2,3]), (False, [2,3]),(False, [(0,0), (1,1), (2, 2), (3,3)]))\n",
    "test((False, [0,1,2,3]), (False, [1,2]),(False, [(0,0), (1,1), (2, 2), (3,3)]))\n",
    "test((False, [0,1,2,3]), (False, [1,None,3]),(False, [(0,0), (1,1), (2, 2), (3,3)]))\n",
    "test((False, [0,1,2,3]), (False, [2,None,0]),(True, [(0,0), (1,1), (2, 2), (3,3)]))\n",
    "test((False, [1,2]), (False, [2,3]),(False, [(1,1), (2,2), (3,3)]))\n",
    "test((False, [0,1]), (True, [0,1]),(True, [(0,0), (1,1)]))\n",
    "test((True, [11, 2, 0]), (False, [2, 0, 5]), (True, [(11, 5), (2, 2), (0, 0)]))"
   ]
  },
  {
   "cell_type": "code",
   "execution_count": 317,
   "metadata": {
    "collapsed": false
   },
   "outputs": [],
   "source": [
    "def replace(graph, merging_table):\n",
    "    replacer = lambda x: merging_table[x] if x in merging_table else x\n",
    "    return {\n",
    "        k: (f, (c, map(replacer, n))) for k, (f, (c, n)) in graph.iteritems()\n",
    "    }\n",
    "\n",
    "def scan_for_errors(graph):\n",
    "    for k, (f, (c, n)) in graph.iteritems():\n",
    "        if len(n) != len(set(n)):\n",
    "            print_graph(graph))\n",
    "            raise Exception('Non unique members in node {}'.format(k))"
   ]
  },
  {
   "cell_type": "code",
   "execution_count": 337,
   "metadata": {
    "collapsed": false
   },
   "outputs": [],
   "source": [
    "from functools import partial\n",
    "from copy import copy\n",
    "def merge_vertices(graph, i1, i2, merging_table, countdown=100):\n",
    "    if countdown < 0:\n",
    "        logging.debug( 'Stack overflow')\n",
    "        import sys\n",
    "        sys.exit(1)\n",
    "    logging.debug( 'Merging {} ({}) into {} ({})'.format(i1, graph[i1][0], i2, graph[i2][0]))\n",
    "    logging.debug( 'with')\n",
    "    logging.debug( 'Graph: ')\n",
    "    print_graph(graph)\n",
    "    logging.debug( 'Merging Table: ')\n",
    "    logging.debug( merging_table)\n",
    "    '''\n",
    "    vertex of index i1 is merged into i2\n",
    "    i1 - source index\n",
    "    i2 - destination index\n",
    "    '''\n",
    "    if i1 == i2:\n",
    "        logging.debug( 'Not merging')\n",
    "        logging.debug( 'After merging {} into {}'.format(i1, i2))\n",
    "        logging.debug( graph.keys())\n",
    "        return graph, merging_table\n",
    "    f1, (c1, n1) = graph[i1]\n",
    "    f2, (c2, n2) = graph[i2]\n",
    "    def mapper(l):\n",
    "        return [merging_table.get(i, i) for i in l]    \n",
    "    cc = common_cycle4((c1, mapper(n1)), (c2, mapper(n2)))\n",
    "    logging.debug( cc)\n",
    "    if cc is None:\n",
    "        logging.debug( 'Not merging')\n",
    "        logging.debug( (i1, c1, mapper(n1)), (i2, c2, mapper(n2)))\n",
    "        logging.debug( 'After merging {} into {}'.format(i1, i2))\n",
    "        logging.debug( graph.keys())\n",
    "        return graph, merging_table\n",
    "    new_graph = clone_graph(graph)\n",
    "    new_graph[i2] = (f2, (cc[0], [x[1] for x in cc[1]]))\n",
    "    local_merging_table = {}\n",
    "    for src, dst in cc[1]:\n",
    "        if src != dst:\n",
    "            local_merging_table[src] = dst\n",
    "    new_merging_table = copy(local_merging_table)\n",
    "    new_merging_table.update(merging_table)\n",
    "    new_merging_table[i1] = i2\n",
    "    for src, dst in local_merging_table.iteritems():\n",
    "        if dst in new_graph and src in new_graph:\n",
    "            new_graph, new_merging_table = merge_vertices(new_graph, src, dst, new_merging_table, countdown=countdown-1)\n",
    "        else:\n",
    "            logging.debug( \"Skipping {} -> {}\".format(src, dst))\n",
    "#     logging.debug( 'combined_merging_table: {}'.format(combined_merging_table))\n",
    "#     logging.debug( 'After merging {} into {}'.format(i1, i2))\n",
    "#     logging.debug( without_keys(replace(new_graph, combined_merging_table), {i1}).keys())\n",
    "    return (without_keys(replace(new_graph, new_merging_table), {i1}), new_merging_table)"
   ]
  },
  {
   "cell_type": "code",
   "execution_count": 338,
   "metadata": {
    "collapsed": false
   },
   "outputs": [],
   "source": [
    "from collections import defaultdict\n",
    "\n",
    "def progress_graph(initial_graph, path, rules):\n",
    "    graph = initial_graph\n",
    "    for c in path:\n",
    "        logging.debug('Applying {}'.format(c))\n",
    "        grouped_by_formula = defaultdict(list)\n",
    "        new_graph = duplicate_and_transform_graph(graph, c)\n",
    "        logging.debug('Duplicated graph: ')\n",
    "        print_graph(new_graph)\n",
    "        for k in sorted(new_graph.keys()):\n",
    "            (f, x)  = new_graph[k]\n",
    "            cnt = True\n",
    "            new_formula = f\n",
    "            while cnt:\n",
    "                brk = True\n",
    "                for fr, to in rules:\n",
    "                    if fr in new_formula:\n",
    "                        new_formula = new_formula.replace(fr, to)\n",
    "                        brk = False\n",
    "                        logging.debug( 'Reducing {} : {} into {} ({} -> {})'.format(k, f, new_formula, fr, to))\n",
    "                cnt = cnt and not brk\n",
    "            grouped_by_formula[new_formula].append(k)\n",
    "            new_graph[k] = (new_formula, x)    \n",
    "        logging.debug( 'Reduced graph: ')\n",
    "        print_graph(new_graph)\n",
    "        merging_table = {}\n",
    "        for f, group in grouped_by_formula.iteritems():\n",
    "            if len(group) == 2:\n",
    "                a = group[1]\n",
    "                b = group[0]\n",
    "                while b in merging_table:\n",
    "                    b = merging_table[b]\n",
    "                merging_table[a] = b\n",
    "            elif len(group) > 2:\n",
    "                logging.debug( f, group)\n",
    "                logging.debug( 'A group larger than 2')\n",
    "                break\n",
    "        logging.debug( 'Merging the following: {}'.format(merging_table) )\n",
    "        new_merging_table = merging_table\n",
    "        for src, dst in merging_table.iteritems():\n",
    "            if dst in new_graph:\n",
    "                new_graph, new_merging_table = merge_vertices(new_graph, src, dst, new_merging_table)\n",
    "                #logging.debug( new_graph.keys())\n",
    "            else:\n",
    "                logging.debug( \"Not merging {} -> {}\".format(src, dst))\n",
    "        graph = new_graph\n",
    "        logging.debug( 'Result graph: ')\n",
    "        print_graph(new_graph)\n",
    "    return graph"
   ]
  },
  {
   "cell_type": "code",
   "execution_count": 341,
   "metadata": {
    "collapsed": false
   },
   "outputs": [
    {
     "data": {
      "text/plain": [
       "{0: ('P', (False, [1])),\n",
       " 1: ('bP', (False, [2, 0])),\n",
       " 2: ('bbP', (True, [1, 5])),\n",
       " 5: ('bbbP', (False, [2, 0])),\n",
       " 11: ('P', (False, [5])),\n",
       " 12: ('bP', (False, [13])),\n",
       " 13: ('bbP', (False, [14, 12])),\n",
       " 14: ('bbbP', (True, [13, 17])),\n",
       " 17: ('P', (False, [14, 12])),\n",
       " 23: ('bP', (False, [17]))}"
      ]
     },
     "execution_count": 341,
     "metadata": {},
     "output_type": "execute_result"
    }
   ],
   "source": [
    "actions = ['a', 'b']\n",
    "cube_rules = [('aaaa', ''),\n",
    "         ('bbbb', ''),\n",
    "         ('abP', 'P')]\n",
    "\n",
    "\n",
    "cube_lean_initial_graph = {\n",
    "    0: ('P', (False, [1])),\n",
    "    1: ('bP', (False, [0, 2])),\n",
    "    2: ('bbP', (False, [1])),\n",
    "}\n",
    "\n",
    "cube_path = 'bbb'\n",
    "logging.basicConfig(level=logging.DEBUG)\n",
    "progress_graph(cube_lean_initial_graph, cube_path, cube_rules)"
   ]
  },
  {
   "cell_type": "code",
   "execution_count": 270,
   "metadata": {
    "collapsed": false
   },
   "outputs": [
    {
     "name": "stdout",
     "output_type": "stream",
     "text": [
      "Applying b\n",
      "Applying b\n",
      "Applying b\n",
      "Applying b\n",
      "Applying a\n",
      "Applying b\n",
      "Applying b\n",
      "Applying b\n",
      "Applying a\n",
      "Applying a\n",
      "Applying a\n",
      "Applying a\n",
      "Applying b\n"
     ]
    }
   ],
   "source": [
    "actions = ['a', 'b']\n",
    "bucky_rules = [('aaa', ''),\n",
    "         ('bbbbb', ''),\n",
    "         ('ababbP', 'bP')]\n",
    "\n",
    "\n",
    "bucky_initial_graph = {\n",
    "    0: ('P', (True, [4, 1, 8])),\n",
    "    1: ('bP', (True, [0, 2, 5])),\n",
    "    2: ('bbP', (True, [1, 3, None])),\n",
    "    3: ('bbbP', (True, [2, 4, None])),\n",
    "    4: ('bbbbP', (True, [3, 0, None])),\n",
    "    5: ('aaP', (True, [1, None, 6])),\n",
    "    6: ('aabP', (True, [5, None, 7])),\n",
    "    7: ('aP', (True, [6, None, 8])),\n",
    "    8: ('abP', (True, [7, None, 0])),    \n",
    "}\n",
    "\n",
    "bucky_path = 'bbbbabbbaaaab'\n",
    "bucky = progress_graph(bucky_initial_graph, bucky_path, bucky_rules)"
   ]
  },
  {
   "cell_type": "code",
   "execution_count": 255,
   "metadata": {
    "collapsed": false
   },
   "outputs": [
    {
     "name": "stdout",
     "output_type": "stream",
     "text": [
      "Applying b\n",
      "Applying b\n",
      "Applying b\n",
      "Applying b\n",
      "Applying a\n",
      "Applying b\n",
      "Applying b\n",
      "Applying b\n",
      "Applying a\n",
      "Applying a\n",
      "Applying a\n",
      "Applying a\n",
      "Applying b\n"
     ]
    },
    {
     "data": {
      "text/plain": [
       "{0: ('P', (True, [1, 8, 4])),\n",
       " 1: ('bP', (True, [0, 2, 5])),\n",
       " 2: ('bbP', (True, [1, 3, 14])),\n",
       " 3: ('bbbP', (True, [2, 4, 31])),\n",
       " 4: ('bbbbP', (True, [0, 65, 3])),\n",
       " 5: ('aaP', (True, [16, 6, 1])),\n",
       " 6: ('aabP', (True, [270, 7, 5])),\n",
       " 7: ('aP', (True, [8, 6, 140])),\n",
       " 8: ('abP', (True, [0, 7, 134])),\n",
       " 14: ('baaP', (True, [33, 15, 2])),\n",
       " 15: ('baabP', (True, [16, 14, 542])),\n",
       " 16: ('baP', (True, [412, 5, 15])),\n",
       " 31: ('bbaaP', (True, [32, 3, 67])),\n",
       " 32: ('bbaabP', (True, [33, 31, 1086])),\n",
       " 33: ('bbaP', (True, [32, 956, 14])),\n",
       " 65: ('bbbaaP', (True, [66, 4, 135])),\n",
       " 66: ('bbbaabP', (True, [65, 2174, 67])),\n",
       " 67: ('bbbaP', (True, [66, 2044, 31])),\n",
       " 134: ('bbbbaabP', (True, [8, 139, 135])),\n",
       " 135: ('bbbbaP', (True, [169, 65, 134])),\n",
       " 139: ('abbbP', (True, [134, 140, 167])),\n",
       " 140: ('abbbbP', (True, [201, 139, 7])),\n",
       " 167: ('abbaaP', (True, [203, 168, 139])),\n",
       " 168: ('abbaabP', (True, [167, 3262, 169])),\n",
       " 169: ('abbaP', (True, [168, 2174, 135])),\n",
       " 201: ('abbbaaP', (True, [202, 140, 271])),\n",
       " 202: ('abbbaabP', (True, [4350, 203, 201])),\n",
       " 203: ('abbbaP', (True, [202, 4220, 167])),\n",
       " 270: ('abbbbaabP', (True, [412, 271, 6])),\n",
       " 271: ('abbbbaP', (True, [201, 270, 475])),\n",
       " 412: ('babbbbP', (True, [16, 473, 270])),\n",
       " 473: ('babbbaaP', (True, [474, 412, 543])),\n",
       " 474: ('babbbaabP', (True, [473, 7614, 475])),\n",
       " 475: ('babbbaP', (True, [474, 4350, 271])),\n",
       " 542: ('babbbbaabP', (True, [15, 956, 543])),\n",
       " 543: ('babbbbaP', (True, [473, 542, 1019])),\n",
       " 956: ('bbabbbbP', (True, [33, 1017, 542])),\n",
       " 1017: ('bbabbbaaP', (True, [1018, 956, 1087])),\n",
       " 1018: ('bbabbbaabP', (True, [1017, 8634, 1019])),\n",
       " 1019: ('bbabbbaP', (True, [1018, 7614, 543])),\n",
       " 1086: ('bbabbbbaabP', (True, [32, 2044, 1087])),\n",
       " 1087: ('bbabbbbaP', (True, [1017, 1086, 2107])),\n",
       " 2044: ('bbbabbbbP', (True, [2105, 1086, 67])),\n",
       " 2105: ('bbbabbbaaP', (True, [2106, 2044, 2175])),\n",
       " 2106: ('bbbabbbaabP', (True, [2105, 17270, 2107])),\n",
       " 2107: ('bbbabbbaP', (True, [2106, 8634, 1087])),\n",
       " 2174: ('bbbabbbbaabP', (True, [169, 2175, 66])),\n",
       " 2175: ('bbbabbbbaP', (True, [2105, 2174, 3263])),\n",
       " 3262: ('abbabbbbaabP', (True, [168, 4220, 3263])),\n",
       " 3263: ('abbabbbbaP', (True, [3262, 4283, 2175])),\n",
       " 4220: ('abbbabbbbP', (True, [4281, 3262, 203])),\n",
       " 4281: ('abbbabbbaaP', (True, [4220, 4351, 4282])),\n",
       " 4282: ('abbbabbbaabP', (True, [4281, None, 4283])),\n",
       " 4283: ('abbbabbbaP', (True, [4282, None, 3263])),\n",
       " 4350: ('abbbabbbbaabP', (True, [475, 4351, 202])),\n",
       " 4351: ('abbbabbbbaP', (True, [7615, 4281, 4350])),\n",
       " 7614: ('aabbabbbbaabP', (True, [474, 1019, 7615])),\n",
       " 7615: ('aabbabbbbaP', (True, [7614, 8635, 4351])),\n",
       " 8634: ('aabbbabbbaabP', (True, [1018, 2107, 8635])),\n",
       " 8635: ('aabbbabbbaP', (True, [7615, 8634, 17271])),\n",
       " 17270: ('baabbbabbbaabP', (True, [2106, None, 17271])),\n",
       " 17271: ('baabbbabbbaP', (True, [17270, None, 8635]))}"
      ]
     },
     "execution_count": 255,
     "metadata": {},
     "output_type": "execute_result"
    }
   ],
   "source": [
    "actions = ['a', 'b']\n",
    "bucky_rules = [('aaa', ''),\n",
    "         ('bbbbb', ''),\n",
    "         ('ababbP', 'bP')]\n",
    "\n",
    "\n",
    "bucky_lean_initial_graph = {\n",
    "    0: ('P', (True, [4, 1, 8])),\n",
    "    1: ('bP', (True, [0, 2, 5])),\n",
    "    2: ('bbP', (True, [1, 3, None])),\n",
    "    3: ('bbbP', (True, [2, 4, None])),\n",
    "    4: ('bbbbP', (True, [3, 0, None])),\n",
    "    5: ('aaP', (True, [1, None, 6])),\n",
    "    6: ('aabP', (True, [5, None, 7])),\n",
    "    7: ('aP', (True, [6, None, 8])),\n",
    "    8: ('abP', (True, [7, None, 0])),    \n",
    "}\n",
    "\n",
    "bucky_path = 'bbbbabbbaaaab'\n",
    "progress_graph(bucky_lean_initial_graph, bucky_path, bucky_rules)"
   ]
  },
  {
   "cell_type": "code",
   "execution_count": 256,
   "metadata": {
    "collapsed": false
   },
   "outputs": [
    {
     "name": "stdout",
     "output_type": "stream",
     "text": [
      "Applying b\n",
      "Applying b\n",
      "Applying b\n",
      "Applying b\n",
      "Applying a\n",
      "Applying b\n",
      "Applying b\n",
      "Applying b\n",
      "Applying a\n",
      "Applying a\n",
      "Applying a\n",
      "Applying a\n",
      "Applying b\n"
     ]
    },
    {
     "data": {
      "text/plain": [
       "{0: ('P', (True, [1, 8, 4])),\n",
       " 1: ('bP', (True, [0, 2, 5])),\n",
       " 2: ('bbP', (True, [1, 3, 14])),\n",
       " 3: ('bbbP', (True, [2, 4, 31])),\n",
       " 4: ('bbbbP', (True, [0, 65, 3])),\n",
       " 5: ('aaP', (True, [16, 6, 1])),\n",
       " 6: ('aabP', (True, [270, 7, 5])),\n",
       " 7: ('aP', (True, [8, 6, 140])),\n",
       " 8: ('abP', (True, [0, 7, 134])),\n",
       " 14: ('baaP', (True, [33, 15, 2])),\n",
       " 15: ('baabP', (True, [16, 14, 542])),\n",
       " 16: ('baP', (True, [412, 5, 15])),\n",
       " 31: ('bbaaP', (True, [32, 3, 67])),\n",
       " 32: ('bbaabP', (True, [33, 31, 1086])),\n",
       " 33: ('bbaP', (True, [32, 956, 14])),\n",
       " 65: ('bbbaaP', (True, [66, 4, 135])),\n",
       " 66: ('bbbaabP', (True, [65, 2174, 67])),\n",
       " 67: ('bbbaP', (True, [66, 2044, 31])),\n",
       " 134: ('bbbbaabP', (True, [8, 139, 135])),\n",
       " 135: ('bbbbaP', (True, [169, 65, 134])),\n",
       " 139: ('abbbP', (True, [134, 140, 167])),\n",
       " 140: ('abbbbP', (True, [201, 139, 7])),\n",
       " 167: ('abbaaP', (True, [203, 168, 139])),\n",
       " 168: ('abbaabP', (True, [167, 3262, 169])),\n",
       " 169: ('abbaP', (True, [168, 2174, 135])),\n",
       " 201: ('abbbaaP', (True, [202, 140, 271])),\n",
       " 202: ('abbbaabP', (True, [4350, 203, 201])),\n",
       " 203: ('abbbaP', (True, [202, 4220, 167])),\n",
       " 270: ('abbbbaabP', (True, [412, 271, 6])),\n",
       " 271: ('abbbbaP', (True, [201, 270, 475])),\n",
       " 412: ('babbbbP', (True, [16, 473, 270])),\n",
       " 473: ('babbbaaP', (True, [474, 412, 543])),\n",
       " 474: ('babbbaabP', (True, [473, 7614, 475])),\n",
       " 475: ('babbbaP', (True, [474, 4350, 271])),\n",
       " 542: ('babbbbaabP', (True, [15, 956, 543])),\n",
       " 543: ('babbbbaP', (True, [473, 542, 1019])),\n",
       " 956: ('bbabbbbP', (True, [33, 1017, 542])),\n",
       " 1017: ('bbabbbaaP', (True, [1018, 956, 1087])),\n",
       " 1018: ('bbabbbaabP', (True, [1017, 8634, 1019])),\n",
       " 1019: ('bbabbbaP', (True, [1018, 7614, 543])),\n",
       " 1086: ('bbabbbbaabP', (True, [32, 2044, 1087])),\n",
       " 1087: ('bbabbbbaP', (True, [1017, 1086, 2107])),\n",
       " 2044: ('bbbabbbbP', (True, [2105, 1086, 67])),\n",
       " 2105: ('bbbabbbaaP', (True, [2106, 2044, 2175])),\n",
       " 2106: ('bbbabbbaabP', (True, [2105, 17270, 2107])),\n",
       " 2107: ('bbbabbbaP', (True, [2106, 8634, 1087])),\n",
       " 2174: ('bbbabbbbaabP', (True, [169, 2175, 66])),\n",
       " 2175: ('bbbabbbbaP', (True, [2105, 2174, 3263])),\n",
       " 3262: ('abbabbbbaabP', (True, [168, 4220, 3263])),\n",
       " 3263: ('abbabbbbaP', (True, [3262, 4283, 2175])),\n",
       " 4220: ('abbbabbbbP', (True, [4281, 3262, 203])),\n",
       " 4281: ('abbbabbbaaP', (True, [4220, 4351, 4282])),\n",
       " 4282: ('abbbabbbaabP', (True, [4281, None, 4283])),\n",
       " 4283: ('abbbabbbaP', (True, [4282, None, 3263])),\n",
       " 4350: ('abbbabbbbaabP', (True, [475, 4351, 202])),\n",
       " 4351: ('abbbabbbbaP', (True, [7615, 4281, 4350])),\n",
       " 7614: ('aabbabbbbaabP', (True, [474, 1019, 7615])),\n",
       " 7615: ('aabbabbbbaP', (True, [7614, 8635, 4351])),\n",
       " 8634: ('aabbbabbbaabP', (True, [1018, 2107, 8635])),\n",
       " 8635: ('aabbbabbbaP', (True, [7615, 8634, 17271])),\n",
       " 17270: ('baabbbabbbaabP', (True, [2106, None, 17271])),\n",
       " 17271: ('baabbbabbbaP', (True, [17270, None, 8635]))}"
      ]
     },
     "execution_count": 256,
     "metadata": {},
     "output_type": "execute_result"
    }
   ],
   "source": [
    "progress_graph(bucky_initial_graph, bucky_path, bucky_rules)"
   ]
  },
  {
   "cell_type": "code",
   "execution_count": 45,
   "metadata": {
    "collapsed": false
   },
   "outputs": [
    {
     "data": {
      "text/plain": [
       "{0: ('P', (True, [4, 1, 8])),\n",
       " 1: ('bP', (True, [0, 2, 5])),\n",
       " 2: ('bbP', (True, [1, 3, None])),\n",
       " 3: ('bbbP', (True, [2, 4, None])),\n",
       " 4: ('bbbbP', (True, [3, 0, None])),\n",
       " 5: ('aaP', (True, [1, None, 6])),\n",
       " 6: ('aabP', (True, [5, None, 7])),\n",
       " 7: ('aP', (True, [6, None, 8])),\n",
       " 8: ('abP', (True, [7, None, 0]))}"
      ]
     },
     "execution_count": 45,
     "metadata": {},
     "output_type": "execute_result"
    }
   ],
   "source": [
    "bucky_initial_graph"
   ]
  },
  {
   "cell_type": "code",
   "execution_count": 46,
   "metadata": {
    "collapsed": true
   },
   "outputs": [],
   "source": [
    "def find_cycle(g, r, c, d=0):\n",
    "    if d < 0:\n",
    "        return 0\n",
    "    if r in g[c][1]:\n",
    "        return d\n",
    "    else:\n",
    "        return 1 + find_cycle\n",
    "\n"
   ]
  },
  {
   "cell_type": "code",
   "execution_count": 48,
   "metadata": {
    "collapsed": false
   },
   "outputs": [
    {
     "name": "stdout",
     "output_type": "stream",
     "text": [
      "Applying a\n",
      "Applying a\n",
      "Applying b\n",
      "Applying b\n",
      "Applying b\n",
      "Applying b\n",
      "Applying a\n",
      "Applying a\n",
      "Applying b\n",
      "Applying b\n",
      "Applying b\n",
      "Applying a\n",
      "Applying b\n",
      "Applying a\n",
      "Applying b\n",
      "Applying a\n",
      "Applying b\n",
      "Applying a\n"
     ]
    }
   ],
   "source": [
    "actions = ['a', 'b']\n",
    "dodca_rules = [('aaa', ''),\n",
    "         ('bbbbb', ''),\n",
    "         ('aP', 'P'),\n",
    "         ('bbbbP', 'abP')]\n",
    "\n",
    "\n",
    "dodca_initial_graph = {\n",
    "    0: ('P', (True, [4, 1, None])),\n",
    "    1: ('bP', (True, [0, 2, None])),\n",
    "    2: ('bbP', (True, [1, 3, None])),\n",
    "    3: ('bbbP', (True, [2, 4, None])),\n",
    "    4: ('bbbbP', (True, [3, 0, None])),\n",
    "}\n",
    "\n",
    "path = 'aabbbbaabbbabababa'\n",
    "dodca = progress_graph(dodca_initial_graph, path, dodca_rules)"
   ]
  },
  {
   "cell_type": "code",
   "execution_count": 49,
   "metadata": {
    "collapsed": false
   },
   "outputs": [
    {
     "data": {
      "text/plain": [
       "{0: ('P', (True, [1, 9, 4])),\n",
       " 1: ('bP', (True, [0, 2, 18])),\n",
       " 2: ('bbP', (True, [1, 3, 37])),\n",
       " 3: ('bbbP', (True, [2, 4, 75])),\n",
       " 4: ('abP', (True, [0, 7, 3])),\n",
       " 7: ('abbP', (True, [8, 150, 4])),\n",
       " 8: ('abbbP', (True, [9, 226, 7])),\n",
       " 9: ('aabP', (True, [8, 0, 17])),\n",
       " 17: ('aabbP', (True, [9, 18, 301])),\n",
       " 18: ('aabbbP', (True, [1, 36, 17])),\n",
       " 36: ('baabbP', (True, [18, 37, 527])),\n",
       " 37: ('baabbbP', (True, [2, 74, 36])),\n",
       " 74: ('bbaabbP', (True, [75, 1055, 37])),\n",
       " 75: ('bbaabbbP', (True, [74, 3, 150])),\n",
       " 150: ('bbbaabbP', (True, [225, 75, 7])),\n",
       " 225: ('abbaabbP', (True, [226, 1055, 150])),\n",
       " 226: ('abbaabbbP', (True, [8, 301, 225])),\n",
       " 301: ('abbbaabbP', (True, [17, 527, 226])),\n",
       " 527: ('aabbaabbP', (True, [301, 36, 1055])),\n",
       " 1055: ('baabbaabbP', (True, [225, 527, 74]))}"
      ]
     },
     "execution_count": 49,
     "metadata": {},
     "output_type": "execute_result"
    }
   ],
   "source": [
    "dodca"
   ]
  },
  {
   "cell_type": "code",
   "execution_count": null,
   "metadata": {
    "collapsed": true
   },
   "outputs": [],
   "source": []
  }
 ],
 "metadata": {
  "kernelspec": {
   "display_name": "Python 2",
   "language": "python",
   "name": "python2"
  },
  "language_info": {
   "codemirror_mode": {
    "name": "ipython",
    "version": 2
   },
   "file_extension": ".py",
   "mimetype": "text/x-python",
   "name": "python",
   "nbconvert_exporter": "python",
   "pygments_lexer": "ipython2",
   "version": "2.7.12"
  }
 },
 "nbformat": 4,
 "nbformat_minor": 1
}
