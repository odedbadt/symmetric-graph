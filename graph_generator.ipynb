{
 "cells": [
  {
   "cell_type": "code",
   "execution_count": null,
   "metadata": {
    "collapsed": true
   },
   "outputs": [],
   "source": [
    "actions = ['a', 'b', 'c', 'd']\n",
    "rules = [('ab', ''), \n",
    "         ('cd', '')\n",
    "         ('aaaaa', '')\n",
    "         ('bbbbb', '')\n",
    "         ('ccc', '')\n",
    "         ('ddd', '')\n",
    "         ('aP', 'P'),\n",
    "         ('accP', 'cP')]"
   ]
  },
  {
   "cell_type": "code",
   "execution_count": 2,
   "metadata": {
    "collapsed": true
   },
   "outputs": [],
   "source": [
    "initial_graph = [\n",
    "    ('P', (None, [1])),\n",
    "    ('cP', (None, [0]))\n",
    "]"
   ]
  },
  {
   "cell_type": "code",
   "execution_count": 4,
   "metadata": {
    "collapsed": true
   },
   "outputs": [],
   "source": [
    "def duplicate_graph(graph, T):\n",
    "    l = len(graph)\n",
    "    old_graph = []\n",
    "    new_graph = []\n",
    "    for formula, (mod, neighbours) in graph:\n",
    "        old_graph.append((formula, (mod, [n for n in neighbours] )) )        \n",
    "        new_graph.append((T + formula, (mod, [n+l for n in neighbours] )) )\n",
    "    return old_graph + new_graph"
   ]
  },
  {
   "cell_type": "code",
   "execution_count": 23,
   "metadata": {
    "collapsed": true
   },
   "outputs": [],
   "source": [
    "import copy\n",
    "def clone_graph(graph):\n",
    "    return [(f, (m, copy(ns))) for (f, (m, ns)) in graph]"
   ]
  },
  {
   "cell_type": "code",
   "execution_count": 7,
   "metadata": {
    "collapsed": true
   },
   "outputs": [],
   "source": [
    "def apply_prefix_rules(graph, rules):\n",
    "    new_graph = []\n",
    "    for formula, (mod, neighbours) in graph:\n",
    "        for (prefix, replacement) in rules:\n",
    "            if formula.startswith(rule):\n",
    "                new_formula = replacement + formula[len(prefix)+1:]\n",
    "            else:\n",
    "                new_formula = formula\n",
    "            new_graph.append((new_formula, (mod, neighbours)))"
   ]
  },
  {
   "cell_type": "code",
   "execution_count": null,
   "metadata": {
    "collapsed": true
   },
   "outputs": [],
   "source": [
    "def intersection_with_indices(l1, l2):\n",
    "    common_members = set(l1).intersection(l2)\n",
    "    return [(x, l1.index(x), l2.index(x)) for x in common_members]"
   ]
  },
  {
   "cell_type": "code",
   "execution_count": 46,
   "metadata": {
    "collapsed": false
   },
   "outputs": [],
   "source": [
    "def common_cycle(l1, l2):\n",
    "    from itertools import repeat, chain\n",
    "    if len(set(l1)) < len(l1):\n",
    "        raise Exception('Non unique members in list 1')\n",
    "    if len(set(l2)) < len(l2):\n",
    "        raise Exception('Non unique members in list 2')\n",
    "    tpls = sorted(intersection_with_indices(l1, l2), key= lambda x: x[1])\n",
    "    result = []\n",
    "    overboard = False\n",
    "    for i, prv, tpl in zip(range(len(tpls)), tpls, tpls[1:]):\n",
    "        if tpl[2] < prv[2]:\n",
    "            if overboard:\n",
    "                raise Exception('Ordering is not cyclic')\n",
    "            overboard = True\n",
    "            gap = (tpl[1] - prv[1]) - (tpl[2] + len(l2) - prv[2])\n",
    "            s1 = [l1[i] for i in range(prv[1], tpl[1])]\n",
    "            s2 = [l2[i] for i in range(prv[2], len(l2))] + \\\n",
    "                 list(repeat(None, gap)) + \\\n",
    "                 [l2[i] for i in range(0, tpl[2])]\n",
    "            result = result + zip(s1, s2)\n",
    "        elif tpl[2] - prv[2] != tpl[1] - prv[1]:\n",
    "            raise Exception('Mismatch in index {} (sorted)'.format(i))\n",
    "        else:\n",
    "            s1 = [l1[i] for i in range(prv[1], tpl[1])]\n",
    "            s2 = [l2[i] for i in range(prv[2], tpl[2])]\n",
    "            result = result + zip(s1, s2)           \n",
    "    prv = tpls[-1]\n",
    "    tpl = tpls[0]\n",
    "    gap = (tpl[2] - prv[2]) - (tpl[1] + len(l1) - prv[1])\n",
    "    s2 = [l2[i] for i in range(prv[2], tpl[2])]\n",
    "    s1 = [l1[i] for i in range(prv[1], len(l1))] + \\\n",
    "         list(repeat(None, gap)) + \\\n",
    "         [l1[i] for i in range(0, tpl[1])]\n",
    "    result = result + zip(s1, s2)\n",
    "    return result\n",
    "                "
   ]
  },
  {
   "cell_type": "code",
   "execution_count": 49,
   "metadata": {
    "collapsed": false
   },
   "outputs": [
    {
     "data": {
      "text/plain": [
       "[(1, 1), (2, 5), (3, 3), (4, 9)]"
      ]
     },
     "execution_count": 49,
     "metadata": {},
     "output_type": "execute_result"
    }
   ],
   "source": [
    "common_cycle([1,2,3,4], [5,3,9,1])"
   ]
  },
  {
   "cell_type": "code",
   "execution_count": 12,
   "metadata": {
    "collapsed": false
   },
   "outputs": [],
   "source": [
    "def common_member(l1, l2):    \n",
    "    for i1 in range(len(l1)):\n",
    "        x1 = l1[i1]\n",
    "        if x1 in l2:\n",
    "            return (i1, l2.index(l1[i1]))\n",
    "    return (-1, -1)"
   ]
  },
  {
   "cell_type": "code",
   "execution_count": 15,
   "metadata": {
    "collapsed": true
   },
   "outputs": [],
   "source": [
    "def index_or_identity(l, i):\n",
    "    return l[i] if i in l else i"
   ]
  },
  {
   "cell_type": "code",
   "execution_count": 21,
   "metadata": {
    "collapsed": true
   },
   "outputs": [],
   "source": [
    "def without(l, indices):\n",
    "    return [l[i] for i in range(len(l)) if i not in indices]"
   ]
  },
  {
   "cell_type": "code",
   "execution_count": 24,
   "metadata": {
    "collapsed": false
   },
   "outputs": [
    {
     "ename": "SyntaxError",
     "evalue": "invalid syntax (<ipython-input-24-6789dbee5414>, line 20)",
     "output_type": "error",
     "traceback": [
      "\u001b[1;36m  File \u001b[1;32m\"<ipython-input-24-6789dbee5414>\"\u001b[1;36m, line \u001b[1;32m20\u001b[0m\n\u001b[1;33m    else if mod_i is None:\u001b[0m\n\u001b[1;37m          ^\u001b[0m\n\u001b[1;31mSyntaxError\u001b[0m\u001b[1;31m:\u001b[0m invalid syntax\n"
     ]
    }
   ],
   "source": [
    "from functools import partial\n",
    "def merge_vertices(graph, i, j, merge_table={}):\n",
    "    '''\n",
    "    vertex of index i is merged into j\n",
    "    '''\n",
    "    if merge_table.get(i, j) != j:\n",
    "        raise Exception('Merge conflict: {} cannot be merged into {} it is already planned to be merged into {}'.format(\n",
    "                i, j, merge_table[i]))\n",
    "    f_i, (mod_i, ns_i) = graph[i]\n",
    "    f_j, (mod_j, ns_j) = graph[j]\n",
    "    if f_i != f_j:\n",
    "        raise Exception('Merge conflict: {} cannot be merged into {}, formula mismatch: {} != {}'.format(\n",
    "                i, j, f_i, f_j))\n",
    "    merged_i = map(partial(index_or_identity, merge_table), ns_i),\n",
    "        map(partial(index_or_identity, merge_table), ns_j))\n",
    "\n",
    "        if mod_i == mod_j and mod_i is not None and set(ns_i) == set(ns_j):\n",
    "        return without(graph, {i, j}) + [(f_i, (mod_i, ns_i))]\n",
    "\n",
    "    new_mod = None\n",
    "    if mod_i == mod_j:\n",
    "        new_mod = mod_i\n",
    "    elif mod_i is not None and mod_j is not None:\n",
    "        raise Exception('Merge conflict between {} and {}, mod mismatch: {} != {}'.format(\n",
    "                    i, j, mod_i, mod_j))\n",
    "    elif mod_i is None:\n",
    "        new_mod = mod_j\n",
    "    else:\n",
    "        new_mod = mod_i\n",
    "    \n",
    "    if new_mod is None:\n",
    "        new_cycle = common_cycle()\n",
    "    merged_ns_j = map(partial(index_or_identity, merge_table), ns_j)\n",
    "    \n",
    "    \n",
    "    new_graph = clone_graph(graph)\n",
    "    new_merge_table = dict(merge_table, i=j)\n",
    "    for k in range(new_mod):\n",
    "        n_i = ns_i[(c_i + k) % new_mod] \n",
    "        n_j = ns_j[(c_j + k) % new_mod]\n",
    "        if n_i != n_j:\n",
    "            new_graph = merge_vertices(new_graph, n_i, n_j, new_merge_table)\n",
    "    return new_graph\n",
    "        "
   ]
  },
  {
   "cell_type": "code",
   "execution_count": 5,
   "metadata": {
    "collapsed": false
   },
   "outputs": [
    {
     "data": {
      "text/plain": [
       "[('P', (None, [1])),\n",
       " ('cP', (None, [0])),\n",
       " ('aP', (None, [3])),\n",
       " ('acP', (None, [2]))]"
      ]
     },
     "execution_count": 5,
     "metadata": {},
     "output_type": "execute_result"
    }
   ],
   "source": [
    "duplicate_graph(initial_graph, 'a')"
   ]
  },
  {
   "cell_type": "code",
   "execution_count": 18,
   "metadata": {
    "collapsed": false
   },
   "outputs": [
    {
     "data": {
      "text/plain": [
       "True"
      ]
     },
     "execution_count": 18,
     "metadata": {},
     "output_type": "execute_result"
    }
   ],
   "source": [
    "a = [1, 4]\n",
    "b = [1, 4]\n",
    "a == b"
   ]
  },
  {
   "cell_type": "code",
   "execution_count": 19,
   "metadata": {
    "collapsed": false
   },
   "outputs": [
    {
     "data": {
      "text/plain": [
       "1"
      ]
     },
     "execution_count": 19,
     "metadata": {},
     "output_type": "execute_result"
    }
   ],
   "source": [
    "a.pop(0)"
   ]
  },
  {
   "cell_type": "code",
   "execution_count": 20,
   "metadata": {
    "collapsed": false
   },
   "outputs": [
    {
     "data": {
      "text/plain": [
       "[4]"
      ]
     },
     "execution_count": 20,
     "metadata": {},
     "output_type": "execute_result"
    }
   ],
   "source": [
    "a"
   ]
  },
  {
   "cell_type": "code",
   "execution_count": 22,
   "metadata": {
    "collapsed": false
   },
   "outputs": [
    {
     "data": {
      "text/plain": [
       "1"
      ]
     },
     "execution_count": 22,
     "metadata": {},
     "output_type": "execute_result"
    }
   ],
   "source": [
    "5 % 2"
   ]
  },
  {
   "cell_type": "code",
   "execution_count": 29,
   "metadata": {
    "collapsed": true
   },
   "outputs": [],
   "source": [
    "def reverse_index(l):\n",
    "    return {l[i]: i for i in range(len(l))}"
   ]
  },
  {
   "cell_type": "code",
   "execution_count": 30,
   "metadata": {
    "collapsed": false
   },
   "outputs": [
    {
     "data": {
      "text/plain": [
       "{1: 0, 2: 1, 3: 2}"
      ]
     },
     "execution_count": 30,
     "metadata": {},
     "output_type": "execute_result"
    }
   ],
   "source": [
    "reverse_index([1, 2, 3])"
   ]
  },
  {
   "cell_type": "code",
   "execution_count": null,
   "metadata": {
    "collapsed": true
   },
   "outputs": [],
   "source": [
    "def progress(lists, indices, index_index):\n",
    "    new_indice = \n",
    "    return (lists, new_indices)"
   ]
  },
  {
   "cell_type": "code",
   "execution_count": 9,
   "metadata": {
    "collapsed": true
   },
   "outputs": [],
   "source": []
  },
  {
   "cell_type": "code",
   "execution_count": 37,
   "metadata": {
    "collapsed": false
   },
   "outputs": [],
   "source": []
  },
  {
   "cell_type": "code",
   "execution_count": 38,
   "metadata": {
    "collapsed": false
   },
   "outputs": [
    {
     "name": "stdout",
     "output_type": "stream",
     "text": [
      "[(4, 0, 3), (6, 2, 5), (3, 6, 1)]\n",
      "K\n",
      "O\n"
     ]
    },
    {
     "data": {
      "text/plain": [
       "[(4, 4), (9, 5), (6, 6), (7, None), (8, None), (10, 2), (3, 3), (None, 19)]"
      ]
     },
     "execution_count": 38,
     "metadata": {},
     "output_type": "execute_result"
    }
   ],
   "source": [
    "common_cycle([4,9,6,7,8,10,3], [2,3,19,4,5,6])"
   ]
  },
  {
   "cell_type": "code",
   "execution_count": 39,
   "metadata": {
    "collapsed": false
   },
   "outputs": [
    {
     "name": "stdout",
     "output_type": "stream",
     "text": [
      "[(3, 1, 6), (4, 3, 0), (6, 5, 2)]\n",
      "O\n",
      "K\n"
     ]
    },
    {
     "data": {
      "text/plain": [
       "[(3, 3), (19, None), (4, 4), (5, 9), (6, 6), (None, 7), (None, 8), (2, 10)]"
      ]
     },
     "execution_count": 39,
     "metadata": {},
     "output_type": "execute_result"
    }
   ],
   "source": [
    "common_cycle([2,3,19, 4,5,6], [4,9,6,7,8,10,3])"
   ]
  },
  {
   "cell_type": "code",
   "execution_count": 1,
   "metadata": {
    "collapsed": true
   },
   "outputs": [],
   "source": [
    "from itertools import repeat"
   ]
  },
  {
   "cell_type": "code",
   "execution_count": 3,
   "metadata": {
    "collapsed": false
   },
   "outputs": [
    {
     "data": {
      "text/plain": [
       "[1, 1, 1, 1, 1]"
      ]
     },
     "execution_count": 3,
     "metadata": {},
     "output_type": "execute_result"
    }
   ],
   "source": [
    "list(repeat(1, 5))"
   ]
  },
  {
   "cell_type": "code",
   "execution_count": 24,
   "metadata": {
    "collapsed": false
   },
   "outputs": [
    {
     "data": {
      "text/plain": [
       "[2, 3]"
      ]
     },
     "execution_count": 24,
     "metadata": {},
     "output_type": "execute_result"
    }
   ],
   "source": [
    "range(2,4)"
   ]
  },
  {
   "cell_type": "code",
   "execution_count": 7,
   "metadata": {
    "collapsed": false
   },
   "outputs": [
    {
     "data": {
      "text/plain": [
       "[(1, 0, 1), (3, 2, 0)]"
      ]
     },
     "execution_count": 7,
     "metadata": {},
     "output_type": "execute_result"
    }
   ],
   "source": [
    "intersection_with_indices([1,2,3], [3,1])"
   ]
  },
  {
   "cell_type": "code",
   "execution_count": 8,
   "metadata": {
    "collapsed": false
   },
   "outputs": [
    {
     "data": {
      "text/plain": [
       "[(1, 0),\n",
       " (2, 1),\n",
       " (3, 2),\n",
       " (4, 3),\n",
       " (5, 4),\n",
       " (6, 5),\n",
       " (7, 6),\n",
       " (8, 7),\n",
       " (9, 8),\n",
       " (10, 9)]"
      ]
     },
     "execution_count": 8,
     "metadata": {},
     "output_type": "execute_result"
    }
   ],
   "source": [
    "list(enumerate(range(10), 1))"
   ]
  },
  {
   "cell_type": "code",
   "execution_count": null,
   "metadata": {
    "collapsed": true
   },
   "outputs": [],
   "source": []
  }
 ],
 "metadata": {
  "kernelspec": {
   "display_name": "Python 2",
   "language": "python",
   "name": "python2"
  },
  "language_info": {
   "codemirror_mode": {
    "name": "ipython",
    "version": 2
   },
   "file_extension": ".py",
   "mimetype": "text/x-python",
   "name": "python",
   "nbconvert_exporter": "python",
   "pygments_lexer": "ipython2",
   "version": "2.7.6"
  }
 },
 "nbformat": 4,
 "nbformat_minor": 1
}
