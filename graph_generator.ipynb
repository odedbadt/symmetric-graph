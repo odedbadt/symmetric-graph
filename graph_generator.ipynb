{
 "cells": [
  {
   "cell_type": "code",
   "execution_count": 458,
   "metadata": {
    "collapsed": true
   },
   "outputs": [],
   "source": [
    "def duplicate_and_transform_graph(graph, T):\n",
    "    l = len(graph)\n",
    "    new_graph = {}\n",
    "    offset = len(graph.keys())\n",
    "    for k, (formula, (mod, neighbours)) in graph.iteritems():\n",
    "        new_graph[k] = formula, (mod, neighbours)\n",
    "        new_graph[k + offset] = T + formula, (mod, neighbours)  \n",
    "    return new_graph"
   ]
  },
  {
   "cell_type": "code",
   "execution_count": 365,
   "metadata": {
    "collapsed": false
   },
   "outputs": [],
   "source": [
    "from copy import copy\n",
    "def clone_graph(graph):\n",
    "    return {k: (f, (m, copy(ns))) for k, (f, (m, ns)) in graph.iteritems()}"
   ]
  },
  {
   "cell_type": "code",
   "execution_count": null,
   "metadata": {
    "collapsed": true
   },
   "outputs": [],
   "source": [
    "def apply_prefix_rules(graph, rules):\n",
    "    new_graph = []\n",
    "    for formula, (mod, neighbours) in graph:\n",
    "        for (prefix, replacement) in rules:\n",
    "            if formula.startswith(rule):\n",
    "                new_formula = replacement + formula[len(prefix)+1:]\n",
    "            else:\n",
    "                new_formula = formula\n",
    "            new_graph.append((new_formula, (mod, neighbours)))"
   ]
  },
  {
   "cell_type": "code",
   "execution_count": null,
   "metadata": {
    "collapsed": true
   },
   "outputs": [],
   "source": [
    "def intersection_with_indices(l1, l2):\n",
    "    common_members = set(l1).intersection(l2)\n",
    "    return [(x, l1.index(x), l2.index(x)) for x in common_members]"
   ]
  },
  {
   "cell_type": "code",
   "execution_count": null,
   "metadata": {
    "collapsed": true
   },
   "outputs": [],
   "source": [
    "def pairwise_induction(pairs):\n",
    "    for (a, b) in pairs:\n",
    "        if a is not None and b is not None:\n",
    "            yield (a, b)\n",
    "        elif a is None:\n",
    "            yield (b, b)\n",
    "        else:\n",
    "            yield (a, a)\n",
    "            "
   ]
  },
  {
   "cell_type": "code",
   "execution_count": null,
   "metadata": {
    "collapsed": false
   },
   "outputs": [],
   "source": [
    "list(pairwise_induction([(None,1), (3, 4), (7, None)]))"
   ]
  },
  {
   "cell_type": "code",
   "execution_count": null,
   "metadata": {
    "collapsed": false
   },
   "outputs": [],
   "source": [
    "def pad(l, n, padding_direction=1, v=None):\n",
    "    from itertools import repeat\n",
    "    if len(l) > l:\n",
    "        return l\n",
    "    padding = list(repeat(v, n - len(l)))\n",
    "    if padding_direction > 0:\n",
    "        return l + padding\n",
    "    else:\n",
    "        return padding + l"
   ]
  },
  {
   "cell_type": "code",
   "execution_count": 213,
   "metadata": {
    "collapsed": false
   },
   "outputs": [],
   "source": [
    "def has_repeating_values(l):\n",
    "    without_nones = filter(lambda x: x is not None, l)\n",
    "    return len(l) > len(set(l))"
   ]
  },
  {
   "cell_type": "code",
   "execution_count": 214,
   "metadata": {
    "collapsed": false
   },
   "outputs": [],
   "source": [
    "def padding_zip(l1, l2, padding_direction=1):\n",
    "    length = max(len(l1), len(l2))\n",
    "    return zip(pad(l1, length, padding_direction),\n",
    "               pad(l2, length, padding_direction))"
   ]
  },
  {
   "cell_type": "code",
   "execution_count": 347,
   "metadata": {
    "collapsed": false
   },
   "outputs": [],
   "source": [
    "def common_cycle(s1, s2):\n",
    "    from itertools import repeat, chain\n",
    "    (c1, l1) = s1\n",
    "    (c2, l2) = s2\n",
    "    if c1 and c2 and len(l1) != len(l2):\n",
    "        raise Exception('Cannot combine closed cycles of different lengths')\n",
    "    if has_repeating_values(l1):\n",
    "        raise Exception('Non unique members in cycle 1')\n",
    "    if has_repeating_values(l2):\n",
    "        raise Exception('Non unique members in cycle 2')\n",
    "    tpls = sorted(intersection_with_indices(l1, l2), key= lambda x: x[1])\n",
    "    if len(tpls) == 0:\n",
    "        raise Exception('Cannot combine non intersecting sections')\n",
    "    result = []\n",
    "    overboard = False\n",
    "    for i, prv, tpl in zip(range(len(tpls)), tpls, tpls[1:]):\n",
    "        if tpl[2] < prv[2]:\n",
    "            ''' List 2 performed a whole cycle '''\n",
    "            if overboard:\n",
    "                raise Exception('Ordering is not cyclic')\n",
    "            overboard = True\n",
    "            gap = (tpl[1] - prv[1]) - (tpl[2] + len(l2) - prv[2])\n",
    "            if c2 and gap != 0:\n",
    "                raise Exception('Mismatch in common index {} (when reaching end of l2, sorted)'.format(i))\n",
    "            if gap < 0:\n",
    "                raise Exception('Cannot negative pad in index {} (when reaching end of l2, sorted)'.format(i))\n",
    "            s1 = [l1[i] for i in range(prv[1], tpl[1])]\n",
    "            s2 = [l2[i] for i in range(prv[2], len(l2))] + \\\n",
    "                 list(repeat(None, gap)) + \\\n",
    "                 [l2[i] for i in range(0, tpl[2])]\n",
    "            result = result + zip(s1, s2)\n",
    "        elif tpl[2] - prv[2] != tpl[1] - prv[1]:\n",
    "            raise Exception('Mismatch in index {} (sorted)'.format(i))\n",
    "        else:\n",
    "            s1 = [l1[i] for i in range(prv[1], tpl[1])]\n",
    "            s2 = [l2[i] for i in range(prv[2], tpl[2])]\n",
    "            result = result + zip(s1, s2)\n",
    "    result_is_closed = c1 or c2 or overboard\n",
    "    #result = result + \\\n",
    "             \n",
    "    if result_is_closed:\n",
    "        ''' List 1 must perform a whole cycle '''\n",
    "        prv = tpls[-1]\n",
    "        tpl = tpls[0]\n",
    "        gap = (tpl[2] - prv[2]) - (tpl[1] + len(l1) - prv[1])\n",
    "        if c1:\n",
    "            if gap != 0:\n",
    "                raise Exception('Mismatch in common index {} (when reaching end of l1, sorted)'.format(i))\n",
    "        if gap < 0:\n",
    "            raise Exception('Cannot negative pad in index {} (when reaching end of l1, sorted)'.format(i))\n",
    "        s2 = [l2[i] for i in range(prv[2], tpl[2])]\n",
    "        s1 = [l1[i] for i in range(prv[1], len(l1))] + \\\n",
    "             list(repeat(None, gap)) + \\\n",
    "             [l1[i] for i in range(0, tpl[1])]\n",
    "        result = result + zip(s1, s2)\n",
    "    else:\n",
    "        result = padding_zip(l1[0:tpls[0][1]], l2[0:tpls[0][2]], padding_direction=-1) + \\\n",
    "                 result + \\\n",
    "                 padding_zip(l1[tpls[-1][1]:], l2[tpls[-1][2]:])\n",
    "    return (result_is_closed, list(pairwise_induction(result)))\n",
    "                "
   ]
  },
  {
   "cell_type": "code",
   "execution_count": 259,
   "metadata": {
    "collapsed": true
   },
   "outputs": [],
   "source": [
    "def mirror(tpls):\n",
    "    (c, l) = tpls\n",
    "    return (c, [(b, a) for (a, b) in l])"
   ]
  },
  {
   "cell_type": "code",
   "execution_count": 278,
   "metadata": {
    "collapsed": false
   },
   "outputs": [],
   "source": [
    "def drop(n, it):\n",
    "    for i in range(n):\n",
    "        it.next()\n",
    "    while True:\n",
    "        yield it.next()"
   ]
  },
  {
   "cell_type": "code",
   "execution_count": 289,
   "metadata": {
    "collapsed": true
   },
   "outputs": [],
   "source": [
    "def compare_cyclic(l1, l2):\n",
    "    from collections import cycle\n",
    "    if set(l1) != set(l2) or len(l1) != len(l2):\n",
    "        return False\n",
    "    for a,b in zip(l1, drop(l2.index(l1[0]), cycle(l2))):\n",
    "        if a != b:\n",
    "            return False\n",
    "    return True"
   ]
  },
  {
   "cell_type": "code",
   "execution_count": 290,
   "metadata": {
    "collapsed": false
   },
   "outputs": [
    {
     "data": {
      "text/plain": [
       "False"
      ]
     },
     "execution_count": 290,
     "metadata": {},
     "output_type": "execute_result"
    }
   ],
   "source": [
    "compare_cyclic([1,2,3], [2,3,1,2,3,1])"
   ]
  },
  {
   "cell_type": "code",
   "execution_count": 293,
   "metadata": {
    "collapsed": true
   },
   "outputs": [],
   "source": [
    "def test(a, b, expected):\n",
    "    (c, result) = common_cycle(a, b)\n",
    "    (cm, mirrored_result) = common_cycle(b, a)\n",
    "    (cme, mirrored_expected) = mirror(expected)\n",
    "    if not compare_cyclic(result, expected[1]) or c != expected[0]:\n",
    "        print '{} and \\n{} resulted in \\n{} and did not result in \\n{}'.format(a, b, result, expected)\n",
    "    if not compare_cyclic(mirrored_result, mirrored_expected) or cm != cme:\n",
    "        print '{} and \\n{} resulted in \\n{} and did not result in \\n{}'.format(a, b, mirrored_result, mirror(expected))        "
   ]
  },
  {
   "cell_type": "code",
   "execution_count": 294,
   "metadata": {
    "collapsed": false
   },
   "outputs": [],
   "source": [
    "test((False, [0,1]), (False, [1,2]),(False, [(0,0), (1,1), (2, 2)]))\n",
    "test((False, [0,1,2,3]), (False, [2,3]),(False, [(0,0), (1,1), (2, 2), (3,3)]))\n",
    "test((False, [0,1,2,3]), (False, [1,2]),(False, [(0,0), (1,1), (2, 2), (3,3)]))\n",
    "test((False, [0,1,2,3]), (False, [1,None,3]),(False, [(0,0), (1,1), (2, 2), (3,3)]))\n",
    "test((False, [0,1,2,3]), (False, [2,None,0]),(True, [(0,0), (1,1), (2, 2), (3,3)]))\n",
    "test((False, [1,2]), (False, [2,3]),(False, [(1,1), (2,2), (3,3)]))"
   ]
  },
  {
   "cell_type": "code",
   "execution_count": 12,
   "metadata": {
    "collapsed": false
   },
   "outputs": [],
   "source": [
    "def common_member(l1, l2):    \n",
    "    for i1 in range(len(l1)):\n",
    "        x1 = l1[i1]\n",
    "        if x1 in l2:\n",
    "            return (i1, l2.index(l1[i1]))\n",
    "    return (-1, -1)"
   ]
  },
  {
   "cell_type": "code",
   "execution_count": 504,
   "metadata": {
    "collapsed": true
   },
   "outputs": [],
   "source": [
    "def index_or_identity(l, i):\n",
    "    return l[i] if i in l else i"
   ]
  },
  {
   "cell_type": "code",
   "execution_count": 387,
   "metadata": {
    "collapsed": true
   },
   "outputs": [],
   "source": [
    "def without(l, indices):\n",
    "    return [l[i] for i in range(len(l)) if i not in indices]\n",
    "\n",
    "def without_keys(d, keys):\n",
    "    return {k: v for k, v in d.iteritems() if k not in keys}"
   ]
  },
  {
   "cell_type": "code",
   "execution_count": 431,
   "metadata": {
    "collapsed": false
   },
   "outputs": [],
   "source": [
    "def replace(graph, i1, i2):\n",
    "    replacer = lambda x: i2 if x == i1 else x\n",
    "    return {\n",
    "        k: (f, (c, map(replacer, n))) for k, (f, (c, n)) in graph.iteritems()\n",
    "    }\n",
    "\n",
    "def scan_for_errors(graph):\n",
    "    for k, (f, (c, n)) in graph.iteritems():\n",
    "        if len(n) != len(set(n)):\n",
    "            print graph\n",
    "            raise Exception('Non unique members in node {}'.format(k))"
   ]
  },
  {
   "cell_type": "code",
   "execution_count": 506,
   "metadata": {
    "collapsed": false
   },
   "outputs": [],
   "source": [
    "from functools import partial\n",
    "def merge_vertices(graph, merging_table):\n",
    "    '''\n",
    "    vertex of index i1 is merged into i2\n",
    "    i1 - source index\n",
    "    i2 - destination index\n",
    "    '''\n",
    "    if i1 == i2:\n",
    "        return graph\n",
    "    f1, (c1, n1) = graph[i1]\n",
    "    f2, (c2, n2) = graph[i2]\n",
    "    mapper = partial(map, partial(index_or_identity_or_identity, merging_table))\n",
    "    cc = common_cycle((c1, mapper(n1)), (c2, mapper(n2)))\n",
    "    new_graph = replace(graph, i1, i2)\n",
    "    new_graph[i2] = (f2, (cc[0], [x[1] for x in cc[1]]))\n",
    "    new_graph = without_keys(new_graph, {i1})    \n",
    "    local_merging_table = {}\n",
    "    for src, dst in cc[1]:\n",
    "        if src != dst:\n",
    "            local_merging_table[src] = dst\n",
    "    for src, dst in local_merging_table.iteritems()\n",
    "    return new_graph"
   ]
  },
  {
   "cell_type": "code",
   "execution_count": 423,
   "metadata": {
    "collapsed": false
   },
   "outputs": [],
   "source": [
    "graph = {\n",
    "    0: ('P', (False, [1, 2, 3, 4])),\n",
    "    1: ('a', (False, [0, 2])),\n",
    "    2: ('b', (False, [1, 0, 3])),\n",
    "    3: ('c', (False, [2, 0, 4])),    \n",
    "    4: ('d', (False, [3, 0])),\n",
    "    9: ('9', (False, [5, 6, 7, 8])),\n",
    "    5: ('e', (False, [9, 6])),\n",
    "    6: ('f', (False, [5, 9, 7])),\n",
    "    7: ('g', (False, [6, 9, 8])),\n",
    "    8: ('h', (False, [7, 9])),\n",
    "}\n"
   ]
  },
  {
   "cell_type": "code",
   "execution_count": 502,
   "metadata": {
    "collapsed": false
   },
   "outputs": [],
   "source": [
    "actions = ['a', 'b']\n",
    "rules = [('ab', ''), \n",
    "         ('cd', ''),\n",
    "         ('aaa', ''),\n",
    "         ('bbb', ''),\n",
    "         ('aP', 'P'),\n",
    "         ('babP', 'P')]\n",
    "\n",
    "\n",
    "initial_graph = {\n",
    "    0: ('P', (False, [1, 2])),\n",
    "    1: ('bP', (False, [2, 0])),\n",
    "    2: ('bbP', (False, [0, 1]))\n",
    "}\n",
    "\n",
    "path = 'aaa'"
   ]
  },
  {
   "cell_type": "code",
   "execution_count": 503,
   "metadata": {
    "collapsed": false
   },
   "outputs": [
    {
     "name": "stdout",
     "output_type": "stream",
     "text": [
      "defaultdict(<type 'list'>, {'P': [0, 1], 'bP': [2]})\n",
      "{0: ('P', (False, [1, 2])), 1: ('P', (False, [2, 0])), 2: ('bP', (False, [0, 1])), 3: ('aP', (False, [1, 2])), 4: ('abP', (False, [2, 0])), 5: ('abbP', (False, [0, 1]))}\n",
      "[0, 1]\n",
      "merged {1: ('P', (False, [1, 2, 0])), 2: ('bP', (False, [1, 1])), 3: ('aP', (False, [1, 2])), 4: ('abP', (False, [2, 1])), 5: ('abbP', (False, [1, 1]))}\n",
      "defaultdict(<type 'list'>, {'aabP': [4], 'P': [1, 2], 'aaP': [3], 'aabbP': [5]})\n",
      "{1: ('P', (False, [1, 2, 0])), 2: ('P', (False, [1, 1])), 3: ('aaP', (False, [1, 2])), 4: ('aabP', (False, [2, 1])), 5: ('aabbP', (False, [1, 1])), 6: ('aP', (False, [1, 2, 0])), 7: ('abP', (False, [1, 1])), 8: ('aaP', (False, [1, 2])), 9: ('aabP', (False, [2, 1])), 10: ('aabbP', (False, [1, 1]))}\n",
      "[1, 2]\n"
     ]
    },
    {
     "ename": "Exception",
     "evalue": "Non unique members in cycle 2",
     "output_type": "error",
     "traceback": [
      "\u001b[1;31m---------------------------------------------------------------------------\u001b[0m",
      "\u001b[1;31mException\u001b[0m                                 Traceback (most recent call last)",
      "\u001b[1;32m<ipython-input-503-e977d1a67769>\u001b[0m in \u001b[0;36m<module>\u001b[1;34m()\u001b[0m\n\u001b[0;32m     16\u001b[0m             \u001b[1;32mprint\u001b[0m \u001b[0mnew_graph\u001b[0m\u001b[1;33m\u001b[0m\u001b[0m\n\u001b[0;32m     17\u001b[0m             \u001b[1;32mprint\u001b[0m \u001b[0mgroup\u001b[0m\u001b[1;33m\u001b[0m\u001b[0m\n\u001b[1;32m---> 18\u001b[1;33m             \u001b[0mnew_graph\u001b[0m \u001b[1;33m=\u001b[0m \u001b[0mmerge_vertices\u001b[0m\u001b[1;33m(\u001b[0m\u001b[0mnew_graph\u001b[0m\u001b[1;33m,\u001b[0m \u001b[0mgroup\u001b[0m\u001b[1;33m[\u001b[0m\u001b[1;36m0\u001b[0m\u001b[1;33m]\u001b[0m\u001b[1;33m,\u001b[0m \u001b[0mgroup\u001b[0m\u001b[1;33m[\u001b[0m\u001b[1;36m1\u001b[0m\u001b[1;33m]\u001b[0m\u001b[1;33m)\u001b[0m\u001b[1;33m\u001b[0m\u001b[0m\n\u001b[0m\u001b[0;32m     19\u001b[0m             \u001b[1;32mprint\u001b[0m \u001b[1;34m'merged'\u001b[0m\u001b[1;33m,\u001b[0m \u001b[0mnew_graph\u001b[0m\u001b[1;33m\u001b[0m\u001b[0m\n\u001b[0;32m     20\u001b[0m         \u001b[1;32melif\u001b[0m \u001b[0mlen\u001b[0m\u001b[1;33m(\u001b[0m\u001b[0mgroup\u001b[0m\u001b[1;33m)\u001b[0m \u001b[1;33m>\u001b[0m \u001b[1;36m2\u001b[0m\u001b[1;33m:\u001b[0m\u001b[1;33m\u001b[0m\u001b[0m\n",
      "\u001b[1;32m<ipython-input-466-07f35ed35d94>\u001b[0m in \u001b[0;36mmerge_vertices\u001b[1;34m(graph, i1, i2)\u001b[0m\n\u001b[0;32m     10\u001b[0m     \u001b[0mf1\u001b[0m\u001b[1;33m,\u001b[0m \u001b[1;33m(\u001b[0m\u001b[0mc1\u001b[0m\u001b[1;33m,\u001b[0m \u001b[0mn1\u001b[0m\u001b[1;33m)\u001b[0m \u001b[1;33m=\u001b[0m \u001b[0mgraph\u001b[0m\u001b[1;33m[\u001b[0m\u001b[0mi1\u001b[0m\u001b[1;33m]\u001b[0m\u001b[1;33m\u001b[0m\u001b[0m\n\u001b[0;32m     11\u001b[0m     \u001b[0mf2\u001b[0m\u001b[1;33m,\u001b[0m \u001b[1;33m(\u001b[0m\u001b[0mc2\u001b[0m\u001b[1;33m,\u001b[0m \u001b[0mn2\u001b[0m\u001b[1;33m)\u001b[0m \u001b[1;33m=\u001b[0m \u001b[0mgraph\u001b[0m\u001b[1;33m[\u001b[0m\u001b[0mi2\u001b[0m\u001b[1;33m]\u001b[0m\u001b[1;33m\u001b[0m\u001b[0m\n\u001b[1;32m---> 12\u001b[1;33m     \u001b[0mcc\u001b[0m \u001b[1;33m=\u001b[0m \u001b[0mcommon_cycle\u001b[0m\u001b[1;33m(\u001b[0m\u001b[1;33m(\u001b[0m\u001b[0mc1\u001b[0m\u001b[1;33m,\u001b[0m \u001b[0mn1\u001b[0m\u001b[1;33m)\u001b[0m\u001b[1;33m,\u001b[0m \u001b[1;33m(\u001b[0m\u001b[0mc2\u001b[0m\u001b[1;33m,\u001b[0m \u001b[0mn2\u001b[0m\u001b[1;33m)\u001b[0m\u001b[1;33m)\u001b[0m\u001b[1;33m\u001b[0m\u001b[0m\n\u001b[0m\u001b[0;32m     13\u001b[0m     \u001b[0mnew_graph\u001b[0m \u001b[1;33m=\u001b[0m \u001b[0mreplace\u001b[0m\u001b[1;33m(\u001b[0m\u001b[0mgraph\u001b[0m\u001b[1;33m,\u001b[0m \u001b[0mi1\u001b[0m\u001b[1;33m,\u001b[0m \u001b[0mi2\u001b[0m\u001b[1;33m)\u001b[0m\u001b[1;33m\u001b[0m\u001b[0m\n\u001b[0;32m     14\u001b[0m     \u001b[0mnew_graph\u001b[0m\u001b[1;33m[\u001b[0m\u001b[0mi2\u001b[0m\u001b[1;33m]\u001b[0m \u001b[1;33m=\u001b[0m \u001b[1;33m(\u001b[0m\u001b[0mf2\u001b[0m\u001b[1;33m,\u001b[0m \u001b[1;33m(\u001b[0m\u001b[0mcc\u001b[0m\u001b[1;33m[\u001b[0m\u001b[1;36m0\u001b[0m\u001b[1;33m]\u001b[0m\u001b[1;33m,\u001b[0m \u001b[1;33m[\u001b[0m\u001b[0mx\u001b[0m\u001b[1;33m[\u001b[0m\u001b[1;36m1\u001b[0m\u001b[1;33m]\u001b[0m \u001b[1;32mfor\u001b[0m \u001b[0mx\u001b[0m \u001b[1;32min\u001b[0m \u001b[0mcc\u001b[0m\u001b[1;33m[\u001b[0m\u001b[1;36m1\u001b[0m\u001b[1;33m]\u001b[0m\u001b[1;33m]\u001b[0m\u001b[1;33m)\u001b[0m\u001b[1;33m)\u001b[0m\u001b[1;33m\u001b[0m\u001b[0m\n",
      "\u001b[1;32m<ipython-input-347-74c03a91f5a2>\u001b[0m in \u001b[0;36mcommon_cycle\u001b[1;34m(s1, s2)\u001b[0m\n\u001b[0;32m      8\u001b[0m         \u001b[1;32mraise\u001b[0m \u001b[0mException\u001b[0m\u001b[1;33m(\u001b[0m\u001b[1;34m'Non unique members in cycle 1'\u001b[0m\u001b[1;33m)\u001b[0m\u001b[1;33m\u001b[0m\u001b[0m\n\u001b[0;32m      9\u001b[0m     \u001b[1;32mif\u001b[0m \u001b[0mhas_repeating_values\u001b[0m\u001b[1;33m(\u001b[0m\u001b[0ml2\u001b[0m\u001b[1;33m)\u001b[0m\u001b[1;33m:\u001b[0m\u001b[1;33m\u001b[0m\u001b[0m\n\u001b[1;32m---> 10\u001b[1;33m         \u001b[1;32mraise\u001b[0m \u001b[0mException\u001b[0m\u001b[1;33m(\u001b[0m\u001b[1;34m'Non unique members in cycle 2'\u001b[0m\u001b[1;33m)\u001b[0m\u001b[1;33m\u001b[0m\u001b[0m\n\u001b[0m\u001b[0;32m     11\u001b[0m     \u001b[0mtpls\u001b[0m \u001b[1;33m=\u001b[0m \u001b[0msorted\u001b[0m\u001b[1;33m(\u001b[0m\u001b[0mintersection_with_indices\u001b[0m\u001b[1;33m(\u001b[0m\u001b[0ml1\u001b[0m\u001b[1;33m,\u001b[0m \u001b[0ml2\u001b[0m\u001b[1;33m)\u001b[0m\u001b[1;33m,\u001b[0m \u001b[0mkey\u001b[0m\u001b[1;33m=\u001b[0m \u001b[1;32mlambda\u001b[0m \u001b[0mx\u001b[0m\u001b[1;33m:\u001b[0m \u001b[0mx\u001b[0m\u001b[1;33m[\u001b[0m\u001b[1;36m1\u001b[0m\u001b[1;33m]\u001b[0m\u001b[1;33m)\u001b[0m\u001b[1;33m\u001b[0m\u001b[0m\n\u001b[0;32m     12\u001b[0m     \u001b[1;32mif\u001b[0m \u001b[0mlen\u001b[0m\u001b[1;33m(\u001b[0m\u001b[0mtpls\u001b[0m\u001b[1;33m)\u001b[0m \u001b[1;33m==\u001b[0m \u001b[1;36m0\u001b[0m\u001b[1;33m:\u001b[0m\u001b[1;33m\u001b[0m\u001b[0m\n",
      "\u001b[1;31mException\u001b[0m: Non unique members in cycle 2"
     ]
    }
   ],
   "source": [
    "from collections import defaultdict\n",
    "graph = initial_graph\n",
    "for c in path:\n",
    "    grouped_by_formula = defaultdict(list)\n",
    "    new_graph = duplicate_and_transform_graph(graph, c)    \n",
    "    for k, (f, x) in graph.iteritems():\n",
    "        new_formula = c + f\n",
    "        for fr, to in rules:\n",
    "            if new_formula.startswith(fr):\n",
    "                new_formula = new_formula.replace(fr, to)\n",
    "        grouped_by_formula[new_formula].append(k)\n",
    "        new_graph[k] = (new_formula, x)    \n",
    "    print grouped_by_formula\n",
    "    for f, group in grouped_by_formula.iteritems():\n",
    "        if len(group) == 2:\n",
    "            print new_graph\n",
    "            print group\n",
    "            new_graph = merge_vertices(new_graph, group[0], group[1])\n",
    "            print 'merged', new_graph\n",
    "        elif len(group) > 2:\n",
    "            print f, group\n",
    "            raise Exception('A group larger than 2')\n",
    "    graph = new_graph"
   ]
  },
  {
   "cell_type": "code",
   "execution_count": 501,
   "metadata": {
    "collapsed": false
   },
   "outputs": [
    {
     "data": {
      "text/plain": [
       "{1: ('P', (False, [1, 2, 0])),\n",
       " 2: ('bP', (False, [1, 1])),\n",
       " 3: ('aP', (False, [1, 2])),\n",
       " 4: ('abP', (False, [2, 1])),\n",
       " 5: ('abbP', (False, [1, 1]))}"
      ]
     },
     "execution_count": 501,
     "metadata": {},
     "output_type": "execute_result"
    }
   ],
   "source": [
    "graph"
   ]
  },
  {
   "cell_type": "code",
   "execution_count": null,
   "metadata": {
    "collapsed": true
   },
   "outputs": [],
   "source": []
  }
 ],
 "metadata": {
  "kernelspec": {
   "display_name": "Python 2",
   "language": "python",
   "name": "python2"
  },
  "language_info": {
   "codemirror_mode": {
    "name": "ipython",
    "version": 2
   },
   "file_extension": ".py",
   "mimetype": "text/x-python",
   "name": "python",
   "nbconvert_exporter": "python",
   "pygments_lexer": "ipython2",
   "version": "2.7.6"
  }
 },
 "nbformat": 4,
 "nbformat_minor": 1
}
